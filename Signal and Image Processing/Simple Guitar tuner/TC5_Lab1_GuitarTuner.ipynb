{
 "cells": [
  {
   "cell_type": "markdown",
   "metadata": {},
   "source": [
    "# TC5: Signal and Image Processing; Assignment 1 Guitar tuner\n",
    "\n",
    "The aim of this assignment is to program a functional guitar tuner that can recognise the pitch of an input sound file."
   ]
  },
  {
   "cell_type": "markdown",
   "metadata": {},
   "source": [
    "First, let's import the necessary packages."
   ]
  },
  {
   "cell_type": "code",
   "execution_count": 1,
   "metadata": {},
   "outputs": [],
   "source": [
    "import matplotlib.pyplot as plt\n",
    "import numpy as np\n",
    "from scipy.io import wavfile\n",
    "from scipy.signal import find_peaks\n",
    "import seaborn as sns\n",
    "import wave\n",
    "sns.set()"
   ]
  },
  {
   "cell_type": "markdown",
   "metadata": {},
   "source": [
    "Now let's load the desired file. If the file is in stereo, only the sounddata for the left will be taken."
   ]
  },
  {
   "cell_type": "code",
   "execution_count": 2,
   "metadata": {},
   "outputs": [
    {
     "name": "stdout",
     "output_type": "stream",
     "text": [
      "File is already a mono file.\n"
     ]
    },
    {
     "name": "stderr",
     "output_type": "stream",
     "text": [
      "C:\\Development\\Anaconda3.7\\envs\\OPT4Image\\lib\\site-packages\\ipykernel_launcher.py:4: WavFileWarning: Chunk (non-data) not understood, skipping it.\n",
      "  after removing the cwd from sys.path.\n"
     ]
    }
   ],
   "source": [
    "filepath = './Data/string1mono.wav'\n",
    "\n",
    "try:\n",
    "    fs, data = wavfile.read(filepath)\n",
    "except:\n",
    "    print(\"ERROR: Please use a .wav file\")\n",
    "\n",
    "# From stereo to mono\n",
    "try:\n",
    "    if data.shape[1] > 1:\n",
    "        monodata = (data[:,0] / 2 + data[:,1] / 2)\n",
    "        print(\"File is transformed to a mono file.\")\n",
    "except:\n",
    "    monodata = data\n",
    "    print(\"File is already a mono file.\")"
   ]
  },
  {
   "cell_type": "markdown",
   "metadata": {},
   "source": [
    "Just to get an idea about the data, it is plotted through seaborn in the plot below."
   ]
  },
  {
   "cell_type": "code",
   "execution_count": 3,
   "metadata": {
    "scrolled": true
   },
   "outputs": [
    {
     "data": {
      "text/plain": [
       "[<matplotlib.lines.Line2D at 0x2ce705f1348>]"
      ]
     },
     "execution_count": 3,
     "metadata": {},
     "output_type": "execute_result"
    },
    {
     "data": {
      "image/png": "[encoded data removed]",
      "text/plain": [
       "<Figure size 432x288 with 1 Axes>"
      ]
     },
     "metadata": {},
     "output_type": "display_data"
    }
   ],
   "source": [
    "plt.plot(monodata)"
   ]
  },
  {
   "cell_type": "markdown",
   "metadata": {},
   "source": [
    "If you divide the number of observations by the sampling frequency, you get the duration of the clip, which in this case is 5.43 seconds."
   ]
  },
  {
   "cell_type": "code",
   "execution_count": 4,
   "metadata": {},
   "outputs": [
    {
     "data": {
      "text/plain": [
       "5.432979166666667"
      ]
     },
     "execution_count": 4,
     "metadata": {},
     "output_type": "execute_result"
    }
   ],
   "source": [
    "monodata.shape[0] / fs"
   ]
  },
  {
   "cell_type": "code",
   "execution_count": 5,
   "metadata": {},
   "outputs": [],
   "source": [
    "n = len(monodata)\n",
    "monodata_f = abs(np.fft.fft(monodata))\n",
    "freq = np.fft.fftfreq(len(monodata)) * fs\n",
    "#freq = np.where(freq)"
   ]
  },
  {
   "cell_type": "code",
   "execution_count": 6,
   "metadata": {
    "scrolled": true
   },
   "outputs": [
    {
     "data": {
      "image/png": "[encoded data removed]",
      "text/plain": [
       "<Figure size 432x288 with 1 Axes>"
      ]
     },
     "metadata": {
      "needs_background": "light"
     },
     "output_type": "display_data"
    }
   ],
   "source": [
    "%matplotlib inline\n",
    "plt.plot(freq, monodata_f)\n",
    "plt.xlim(0, 0.01*len(freq))\n",
    "plt.show()"
   ]
  },
  {
   "cell_type": "markdown",
   "metadata": {},
   "source": [
    "The first high peak in the frequency spectrum is chosen to be the value for the frequency of the string. This is, although not perfect, reasonable since the sinoid function with that frequency has a high similarity to the soundfile provided."
   ]
  },
  {
   "cell_type": "code",
   "execution_count": 7,
   "metadata": {},
   "outputs": [],
   "source": [
    "peaks = freq[find_peaks(monodata_f, distance = fs/50, \n",
    "                        height = max(monodata_f)/5)[0]]\n",
    "frequency = peaks[:1]"
   ]
  },
  {
   "cell_type": "markdown",
   "metadata": {},
   "source": [
    "In order to determine what string is being played, the frequency of the soundfile should be compared to the possible string frequencies of a guitar. Such an array should thus be made.\n",
    "\n",
    "An array is also made for the cent values per string in order to make the accuracy computation easier."
   ]
  },
  {
   "cell_type": "code",
   "execution_count": 8,
   "metadata": {},
   "outputs": [],
   "source": [
    "strings_dict = {\"E1\": 329.63, \"B2\": 246.94, \"G3\": 196.00, \n",
    "                \"D4\": 146.83, \"A5\": 110.00, \"E6\": 82.41}\n",
    "\n",
    "cent_scale = {\"E1\": 0.15, \"B2\": 0.15, \"G3\": 0.15, \n",
    "                \"D4\": 0.08, \"A5\": 0.08, \"E6\": 0.04}"
   ]
  },
  {
   "cell_type": "markdown",
   "metadata": {},
   "source": [
    "The following function will return the amount of cents the soundfile is off from the ideal value of the closest string. A positive outcome means that the string in the soundfile is too high pitched, and a negative number means the pitch is lower than the ideal value."
   ]
  },
  {
   "cell_type": "code",
   "execution_count": 9,
   "metadata": {},
   "outputs": [],
   "source": [
    "def calculateAccuracy(frequency, string_index, cent_scale):\n",
    "    tuned_freq = strings_dict[string_index]\n",
    "    cent_factor = cent_scale[string_index]\n",
    "        \n",
    "    diff = frequency - tuned_freq\n",
    "    accuracy = diff / cent_factor\n",
    "    accuracy = round(accuracy[0], 2)\n",
    "    \n",
    "    return accuracy"
   ]
  },
  {
   "cell_type": "code",
   "execution_count": 10,
   "metadata": {},
   "outputs": [
    {
     "name": "stdout",
     "output_type": "stream",
     "text": [
      "The string being played is a E1 and the pitch is 0.16 cents off from the ideal value.\n"
     ]
    }
   ],
   "source": [
    "distance = np.inf\n",
    "string_index = 0\n",
    "\n",
    "for key, value in strings_dict.items():\n",
    "    dis = abs(frequency - value)\n",
    "    if dis < distance:\n",
    "        distance = dis\n",
    "        string_index = key\n",
    "\n",
    "acc = calculateAccuracy(frequency, string_index, cent_scale)\n",
    "\n",
    "print(\"The string being played is a \" + string_index + \" and the pitch is \" + str(acc) + \" cents off from the ideal value.\")"
   ]
  }
 ],
 "metadata": {
  "kernelspec": {
   "display_name": "Python 3",
   "language": "python",
   "name": "python3"
  },
  "language_info": {
   "codemirror_mode": {
    "name": "ipython",
    "version": 3
   },
   "file_extension": ".py",
   "mimetype": "text/x-python",
   "name": "python",
   "nbconvert_exporter": "python",
   "pygments_lexer": "ipython3",
   "version": "3.7.6"
  }
 },
 "nbformat": 4,
 "nbformat_minor": 2
}
