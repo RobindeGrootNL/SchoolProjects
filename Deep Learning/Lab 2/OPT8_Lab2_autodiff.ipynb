{
 "cells": [
  {
   "cell_type": "markdown",
   "metadata": {
    "colab_type": "text",
    "id": "LlUFJ_uOTeT8"
   },
   "source": [
    "# Deep Learning - Lab Exercise 2\n",
    "\n",
    "**WARNING:** you must have finished the first exercise before this one as you will re-use parts of the code.\n",
    "\n",
    "In the first lab exercise, we built a simple linear classifier.\n",
    "Although it can give reasonable results on the MNIST dataset (~92.5% of accuracy), deeper neural networks can achieve more the 99% accuracy on this dataset.\n",
    "However, it can quickly become really impractical to explicitly code forward and backward passes.\n",
    "Hence, it is useful to rely on an auto-diff library where we specify the forward pass only, and the backward pass is automatically deduced from the computational graph structure.\n",
    "\n",
    "In this lab exercise, we will build a small and simple auto-diff lib that mimics the autograd mechanism from Pytorch (of course, we will simplify a lot!)\n",
    "There is two goal:\n",
    "- write the missing code\n",
    "- understand the general structure of an auto-diff lib by looking closely at the code. It will help you to understand how Pytorch works!"
   ]
  },
  {
   "cell_type": "code",
   "execution_count": 1,
   "metadata": {
    "colab": {},
    "colab_type": "code",
    "id": "VFxdFJH5TeUB"
   },
   "outputs": [],
   "source": [
    "# import libs that we will use\n",
    "import os\n",
    "import numpy as np\n",
    "import matplotlib.pyplot as plt\n",
    "import math\n",
    "import seaborn as sns\n",
    "\n",
    "sns.set()\n",
    "\n",
    "# To load the data we will use the script of Gaetan Marceau Caron\n",
    "# You can download it from the course webiste and move it to the same directory that contains this ipynb file\n",
    "import dataset_loader\n",
    "\n",
    "%matplotlib inline"
   ]
  },
  {
   "cell_type": "markdown",
   "metadata": {
    "colab_type": "text",
    "id": "5arbitK2TeUP"
   },
   "source": [
    "# Data"
   ]
  },
  {
   "cell_type": "code",
   "execution_count": 2,
   "metadata": {
    "colab": {},
    "colab_type": "code",
    "id": "-Hz1IFpATeUR"
   },
   "outputs": [],
   "source": [
    "# Download mnist dataset \n",
    "if(\"mnist.pkl.gz\" not in os.listdir(\".\")):\n",
    "    !wget http://deeplearning.net/data/mnist/mnist.pkl.gz\n",
    "\n",
    "# if you have it somewhere else, you can comment the lines above\n",
    "# and overwrite the path below\n",
    "mnist_path = \"./mnist.pkl.gz\""
   ]
  },
  {
   "cell_type": "code",
   "execution_count": 3,
   "metadata": {
    "colab": {},
    "colab_type": "code",
    "id": "7LtHLcGgTeUd"
   },
   "outputs": [],
   "source": [
    "# load the 3 splits\n",
    "train_data, dev_data, test_data = dataset_loader.load_mnist(mnist_path)"
   ]
  },
  {
   "cell_type": "code",
   "execution_count": 4,
   "metadata": {
    "colab": {
     "base_uri": "https://localhost:8080/",
     "height": 301
    },
    "colab_type": "code",
    "id": "bLCt1UXOTeUl",
    "outputId": "519af54c-986c-4191-91d2-a5f1a596ca7d"
   },
   "outputs": [
    {
     "name": "stdout",
     "output_type": "stream",
     "text": [
      "label: 4\n"
     ]
    },
    {
     "data": {
      "text/plain": [
       "<matplotlib.image.AxesImage at 0x296aa073b08>"
      ]
     },
     "execution_count": 4,
     "metadata": {},
     "output_type": "execute_result"
    },
    {
     "data": {
      "image/png": "[encoded data removed]",
      "text/plain": [
       "<Figure size 432x288 with 1 Axes>"
      ]
     },
     "metadata": {
      "needs_background": "light"
     },
     "output_type": "display_data"
    }
   ],
   "source": [
    "index = 900\n",
    "label = train_data[1][index]\n",
    "picture = train_data[0][index]\n",
    "\n",
    "print(\"label: %i\" % label)\n",
    "plt.imshow(picture.reshape(28,28), cmap='Greys')"
   ]
  },
  {
   "cell_type": "markdown",
   "metadata": {
    "colab_type": "text",
    "id": "Hc0Tb3D_TeUv"
   },
   "source": [
    "# Computation nodes\n",
    "\n",
    "1.   List item\n",
    "2.   List item\n",
    "\n",
    "\n",
    "\n",
    "Instead of directly manipulating numpy arrays, we will manipulate abstraction that contains:\n",
    "- a value (i.e. a numpy array)\n",
    "- a bool indicating if we wish to compute the gradient with respect to the value\n",
    "- the gradient with respect to the value\n",
    "- the operation to call during backpropagation\n",
    "\n",
    "There will be two kinds of nodes:\n",
    "- Tensor: a generic computation node\n",
    "- Parameter: a computation node that is used to store parameters of the network. Parameters are always leaf nodes, i.e. they cannot be build from other computation nodes.\n",
    "\n",
    "Our implementation of the backward pass will be really simple and inefficient in the general case.\n",
    "We will just apply the derivative function for a given tensor and then call the ones of its antecedents, recursively.\n",
    "This simple algorithm is good enough for this exercise.\n",
    "You may want to look at the implementation of the relu (given below) to understand what you have to do.\n",
    "\n",
    "Note that a real implementation of backprop will store temporary values during forward that can be used during backward to improve computation speed. We do not do that here.\n",
    "\n",
    "**Report bonus:** give an example of computation graph for which this simple backprop implementation will be inefficient."
   ]
  },
  {
   "cell_type": "code",
   "execution_count": 5,
   "metadata": {
    "colab": {},
    "colab_type": "code",
    "id": "xaXX3BxKTeUx"
   },
   "outputs": [],
   "source": [
    "class Tensor:\n",
    "    def __init__(self, data, require_grad=False):\n",
    "        # test type of data: should be np array\n",
    "        if isinstance(data, float):\n",
    "            data = np.array([data,])\n",
    "        if type(data) != np.ndarray:\n",
    "            raise RuntimeError(\"Input should be a numpy array\")\n",
    "\n",
    "        # store data for this tensor\n",
    "        self.data = data\n",
    "        self.require_grad = require_grad\n",
    "        \n",
    "        # this values should be set to enable autograd!\n",
    "        self.gradient = None\n",
    "        self.d = None\n",
    "        self.backptr = None\n",
    "        \n",
    "    def zero_grad(self):\n",
    "        \"\"\"\n",
    "        Set the gradient of thie tensor to 0\n",
    "        \"\"\"\n",
    "        if self.require_grad:\n",
    "            self.gradient = np.zeros_like(self.data)\n",
    "            \n",
    "    def accumulate_gradient(self, gradient):\n",
    "        \"\"\"\n",
    "        Accumulate gradient for this tensor\n",
    "        \"\"\"\n",
    "        if gradient.shape != self.data.shape:\n",
    "            raise RuntimeError(\"Invalid gradient dimension\")\n",
    "\n",
    "        if self.gradient is None:\n",
    "            self.gradient = np.copy(gradient)\n",
    "        else:\n",
    "            self.gradient += gradient\n",
    "            \n",
    "    def backward(self, g=None):\n",
    "        \"\"\"\n",
    "        The backward pass!\n",
    "        If g != None, then g is the gradient for the current node.\n",
    "        i.e. g will be != None only for the loss output.\n",
    "        \n",
    "        You should call the function stored in self.d with correct arguments,\n",
    "        and then recursively call the backward methods of tensors in the backptr list if:\n",
    "        1. they require a gradient\n",
    "        2. they are of type Tensor: check with isinstance(o, Tensor)\n",
    "        \"\"\"\n",
    "        if not self.require_grad:  # stop right now if this node does not require a gradient\n",
    "            return\n",
    "        \n",
    "        if g is not None:\n",
    "            if isinstance(g, float):\n",
    "                g = np.array([g])\n",
    "            if type(g) != np.ndarray:\n",
    "                raise RuntimeError(\"Gradient should be a numpy array\")\n",
    "            if g.shape != self.data.shape:\n",
    "                raise RuntimeError(\"Gradient of different size than the value!\")\n",
    "                \n",
    "            self.gradient = g\n",
    "\n",
    "        if self.d is not None:\n",
    "            self.d(self.backptr, self.gradient)\n",
    "        if self.backptr is not None:\n",
    "            for backprop in self.backptr:\n",
    "                if backprop.require_grad and not isinstance(backprop, Parameter):\n",
    "                    backprop.backward()\n",
    "\n",
    "        #raise RuntimeError(\"TODO!\")\n",
    "    \n",
    "    \n",
    "class Parameter(Tensor):\n",
    "    \"\"\"\n",
    "    This class will be used to store parameters of the network only!\n",
    "    \"\"\"\n",
    "    def __init__(self, data, name=\"unamed\"):\n",
    "        super().__init__(data, require_grad=True)\n",
    "        self.name = name\n",
    "        \n",
    "    def backward(self):\n",
    "        raise RuntimeError(\"You cannot backprop from a Parameter node\")"
   ]
  },
  {
   "cell_type": "markdown",
   "metadata": {
    "colab_type": "text",
    "id": "Oh_b4ps1TeU5"
   },
   "source": [
    "# Functions\n",
    "\n",
    "Functions manipulate tensors and build the required information for autograd.\n",
    "A function returns a Tensor that should have require_grad = True if at least of the arguments require a gradient."
   ]
  },
  {
   "cell_type": "code",
   "execution_count": 6,
   "metadata": {
    "colab": {},
    "colab_type": "code",
    "id": "AT10JcMSTeU7"
   },
   "outputs": [],
   "source": [
    "def any_require_grad(l):\n",
    "    \"\"\"\n",
    "    Input:\n",
    "    - l: an iterable (e.g. a list)\n",
    "    Ouput:\n",
    "    - True if any tensor in the input requires a gradient\n",
    "    \"\"\"\n",
    "    return any(t.require_grad for t in l)"
   ]
  },
  {
   "cell_type": "code",
   "execution_count": 7,
   "metadata": {
    "colab": {},
    "colab_type": "code",
    "id": "-zcuSN31TeVB"
   },
   "outputs": [],
   "source": [
    "# Here is an exemple with the ReLU\n",
    "def relu(x):\n",
    "    v = np.maximum(0, x.data)\n",
    "    \n",
    "    output = Tensor(v, require_grad=x.require_grad)\n",
    "    output.d = backward_relu\n",
    "    output.backptr = [x]\n",
    "    \n",
    "    return output\n",
    "\n",
    "def backward_relu(backptr, g):\n",
    "    x, = backptr\n",
    "    \n",
    "    # the gradient is accumulated in the arguments only if required\n",
    "    if x.require_grad:\n",
    "        x.accumulate_gradient(g * (x.data > 0))"
   ]
  },
  {
   "cell_type": "code",
   "execution_count": 8,
   "metadata": {
    "colab": {},
    "colab_type": "code",
    "id": "9LNA-OwwTeVJ"
   },
   "outputs": [],
   "source": [
    "def tanh(x):\n",
    "    v = np.tanh(x.data)\n",
    "    output = Tensor(v, require_grad=x.require_grad)\n",
    "    output.d = backward_tanh\n",
    "    output.backptr = [x]\n",
    "    return output\n",
    "\n",
    "def backward_tanh(backptr, g):\n",
    "    x, = backptr\n",
    "    \n",
    "    if x.require_grad:\n",
    "        x.accumulate_gradient(g * (x.data > 0))"
   ]
  },
  {
   "cell_type": "markdown",
   "metadata": {
    "colab_type": "text",
    "id": "Fh_SUTSgTeVQ"
   },
   "source": [
    "Next, we implement the affine transform operation.\n",
    "You can reuse the code from the first lab exercise, with one difference: you have to compute the gradient with respect to x too!"
   ]
  },
  {
   "cell_type": "code",
   "execution_count": 9,
   "metadata": {
    "colab": {},
    "colab_type": "code",
    "id": "0XIMJqImTeVS"
   },
   "outputs": [],
   "source": [
    "def affine_transform(W, b, x):\n",
    "    v = np.dot(W.data, x.data) + b.data\n",
    "    output = Tensor(v, require_grad=True)\n",
    "    output.backptr = [W, b, x]\n",
    "    output.d = backward_affine_transform\n",
    "    return output\n",
    "\n",
    "def backward_affine_transform(backptr, g):\n",
    "    # retrieve forward arguments\n",
    "    W, b, x = backptr\n",
    "    \n",
    "    # the gradient is accumulated in the arguments only if required\n",
    "    if W.require_grad:\n",
    "        W.accumulate_gradient(g.reshape((-1,1))@x.data.reshape((1,-1)))\n",
    "    if b.require_grad:\n",
    "        b.accumulate_gradient(g)\n",
    "    if x.require_grad:\n",
    "        #print(W.data.shape, b.data.shape, x.data.shape, g.shape)\n",
    "        #(10, 784) (10,) (784,) (10,)\n",
    "        x.accumulate_gradient(g@W.data)"
   ]
  },
  {
   "cell_type": "code",
   "execution_count": 10,
   "metadata": {
    "colab": {},
    "colab_type": "code",
    "id": "xawjcok_TeVa"
   },
   "outputs": [],
   "source": [
    "# we use an underscore because this function does not manipulate tensors:\n",
    "# it is exactly the same as in the previous exercise\n",
    "def _softmax(x):\n",
    "    outp_prob = np.exp(x - np.max(x))\n",
    "    return outp_prob / np.sum(outp_prob)\n",
    "\n",
    "def nll(x, gold):\n",
    "    return -x[gold] + np.log(np.sum(np.exp(x-np.max(x)))) + np.max(x)\n",
    "\n",
    "def backward_nll(backptr, gold):\n",
    "    temp = np.zeros(backptr.data.shape)\n",
    "    temp[gold] = -1\n",
    "    b = np.max(backptr.data)\n",
    "    p = 1/np.sum(np.exp(backptr.data-b))\n",
    "    g_x = p * np.exp(backptr.data-b) + temp\n",
    "    backptr.backward(g_x)"
   ]
  },
  {
   "cell_type": "markdown",
   "metadata": {
    "colab_type": "text",
    "id": "7uFAOWKqTeVg"
   },
   "source": [
    "# Module\n",
    "\n",
    "Neural networks or parts of neural networks will be stored in Modules.\n",
    "They implement method to retrieve all parameters of the network and subnetwork."
   ]
  },
  {
   "cell_type": "code",
   "execution_count": 11,
   "metadata": {
    "colab": {},
    "colab_type": "code",
    "id": "-BbNYrzWTeVi"
   },
   "outputs": [],
   "source": [
    "class Module:\n",
    "    def __init__(self):\n",
    "        raise NotImplemented(\"\")\n",
    "        \n",
    "    def parameters(self):\n",
    "        ret = []\n",
    "        for name in dir(self):\n",
    "            o = self.__getattribute__(name)\n",
    "\n",
    "            if type(o) is Parameter:\n",
    "                ret.append(o)\n",
    "            if isinstance(o, Module) or isinstance(o, ModuleList):\n",
    "                ret.extend(o.parameters())\n",
    "        return ret\n",
    "\n",
    "# if you want to store a list of Parameters or Module,\n",
    "# you must store them in a ModuleList instead of a python list,\n",
    "# in order to collect the parameters correctly\n",
    "class ModuleList(list):\n",
    "    def parameters(self):\n",
    "        ret = []\n",
    "        for m in self:\n",
    "            if type(m) is Parameter:\n",
    "                ret.append(m)\n",
    "            elif isinstance(m, Module) or isinstance(m, ModuleList):\n",
    "                ret.extend(m.parameters())\n",
    "        return ret"
   ]
  },
  {
   "cell_type": "markdown",
   "metadata": {
    "colab_type": "text",
    "id": "W7fkuX2jTeVm"
   },
   "source": [
    "# Initialization and optimization"
   ]
  },
  {
   "cell_type": "code",
   "execution_count": 12,
   "metadata": {
    "colab": {},
    "colab_type": "code",
    "id": "2h_KquTwTeVn"
   },
   "outputs": [],
   "source": [
    "def zero_init(b):\n",
    "    b[:] = 0.\n",
    "\n",
    "def glorot_init(W):\n",
    "    inp, out = W.shape\n",
    "    W[:] = np.random.uniform(-(np.sqrt(6)/np.sqrt(inp+out)),\n",
    "                             (np.sqrt(6)/np.sqrt(inp+out)), W.shape)\n",
    "# Look at slides for the formula!\n",
    "def kaiming_init(W):\n",
    "    inp, out = W.shape\n",
    "    W[:] = np.random.uniform(-(np.sqrt(6)/np.sqrt(out)),\n",
    "                             (np.sqrt(6)/np.sqrt(out)), W.shape)"
   ]
  },
  {
   "cell_type": "code",
   "execution_count": 13,
   "metadata": {
    "colab": {},
    "colab_type": "code",
    "id": "vUa4Jd0mTeVw"
   },
   "outputs": [],
   "source": [
    "# simple gradient descent optimizer\n",
    "class SGD:\n",
    "    def __init__(self, params, lr=0.1):\n",
    "        self.params = params\n",
    "        self.lr = lr\n",
    "        \n",
    "    def step(self):\n",
    "        for p in self.params:\n",
    "            p.data[:] = p.data - self.lr * p.gradient\n",
    "        \n",
    "    def zero_grad(self):\n",
    "        for p in self.params:\n",
    "            p.zero_grad()"
   ]
  },
  {
   "cell_type": "markdown",
   "metadata": {
    "colab_type": "text",
    "id": "75KvlJ4mTeV1"
   },
   "source": [
    "# Networks and training loop\n",
    "\n",
    "We first create a simple linear classifier, similar to the first lab exercise."
   ]
  },
  {
   "cell_type": "code",
   "execution_count": 14,
   "metadata": {
    "colab": {},
    "colab_type": "code",
    "id": "SNBeh8eXTeV2"
   },
   "outputs": [],
   "source": [
    "class LinearNetwork(Module):\n",
    "    def __init__(self, dim_input, dim_output):\n",
    "        # build the parameters\n",
    "        self.W = Parameter(np.ndarray((dim_output, dim_input)))\n",
    "        self.b = Parameter(np.ndarray((dim_output,)))\n",
    "        \n",
    "        self.init_parameters()\n",
    "        \n",
    "    def init_parameters(self):\n",
    "        # init parameters of the network (i.e W and b)\n",
    "        glorot_init(self.W.data)\n",
    "        zero_init(self.b.data)\n",
    "        \n",
    "    def forward(self, x):\n",
    "        return  affine_transform(self.W, self.b, x)"
   ]
  },
  {
   "cell_type": "markdown",
   "metadata": {
    "colab_type": "text",
    "id": "8RT_VREVTeV9"
   },
   "source": [
    "We will train several neural networks.\n",
    "Therefore, we encapsulate the training loop in a function.\n",
    "\n",
    "**warning**: you have to call optimizer.zero_grad() before each backward pass to reinitialize the gradient of the parameters!"
   ]
  },
  {
   "cell_type": "code",
   "execution_count": 15,
   "metadata": {
    "colab": {},
    "colab_type": "code",
    "id": "8t-i5NGhDhAP"
   },
   "outputs": [],
   "source": [
    "def accuracy(network, data):\n",
    "    total = 0\n",
    "    right = 0\n",
    "    for i,image in enumerate(data[0]):\n",
    "        label = data[1][i]\n",
    "        x = Tensor(image)\n",
    "        y = network.forward(x)\n",
    "        acti_y = _softmax(y.data)\n",
    "        if np.argmax(acti_y) == label:\n",
    "            right += 1\n",
    "        total += 1\n",
    "    accuracy = round(right/total,4)\n",
    "    return accuracy"
   ]
  },
  {
   "cell_type": "code",
   "execution_count": 16,
   "metadata": {
    "colab": {},
    "colab_type": "code",
    "id": "DWBW2ZypTeV_"
   },
   "outputs": [],
   "source": [
    "def training_loop(network, \n",
    "                  optimizer, \n",
    "                  train_data, \n",
    "                  dev_data, \n",
    "                  n_epochs=10, \n",
    "                  n_batches=20):\n",
    "    # TODO!\n",
    "    # almost the same as last week\n",
    "\n",
    "    train_acc_list = []\n",
    "    val_acc_list = []\n",
    "\n",
    "    for epoch in range(n_epochs):\n",
    "        print('Starting epoch {}'.format(epoch+1))\n",
    "        \n",
    "        indexes = np.arange(len(train_data[1]))\n",
    "        np.random.shuffle(indexes)\n",
    "        labels = train_data[1][indexes]\n",
    "        images = train_data[0][indexes]\n",
    "        eval_after_n_img = len(images)//n_batches\n",
    "\n",
    "        for i, image in enumerate(images):\n",
    "            label = labels[i]\n",
    "            x = Tensor(image)\n",
    "            y = network.forward(x)\n",
    "\n",
    "            optimizer.zero_grad()\n",
    "        \n",
    "            backward_nll(y, label)\n",
    "        \n",
    "            optimizer.step()\n",
    "\n",
    "            if not i % eval_after_n_img:\n",
    "                val_acc = accuracy(network, dev_data)*100\n",
    "                print('       accuracy on validation set: {}'.format(val_acc))\n",
    "\n",
    "        acc_train = accuracy(network, train_data)*100\n",
    "        train_acc_list.append(acc_train)\n",
    "\n",
    "        acc_val = accuracy(network, dev_data)*100\n",
    "        val_acc_list.append(acc_val)\n",
    "    return train_acc_list, val_acc_list"
   ]
  },
  {
   "cell_type": "code",
   "execution_count": 17,
   "metadata": {
    "colab": {},
    "colab_type": "code",
    "id": "SD3PelxiI4M4"
   },
   "outputs": [],
   "source": [
    "def visualize(train_acc, val_acc):\n",
    "    plt.plot(train_acc, label='Training accuracy')\n",
    "    plt.plot(val_acc, label='Validation accuracy')\n",
    "    plt.legend()\n",
    "    plt.xlabel('# epochs')\n",
    "    plt.ylabel('Accuracy')\n",
    "    plt.title('Accuracy over epochs')\n",
    "    plt.show()"
   ]
  },
  {
   "cell_type": "code",
   "execution_count": 18,
   "metadata": {
    "colab": {
     "base_uri": "https://localhost:8080/",
     "height": 1000
    },
    "colab_type": "code",
    "id": "SgUdSFWfTeWF",
    "outputId": "fce2c31e-dd47-4330-f211-6d32eb87f544"
   },
   "outputs": [
    {
     "name": "stdout",
     "output_type": "stream",
     "text": [
      "Starting epoch 1\n",
      "       accuracy on validation set: 5.41\n",
      "       accuracy on validation set: 86.33\n",
      "       accuracy on validation set: 88.19\n",
      "       accuracy on validation set: 89.05\n",
      "       accuracy on validation set: 90.22\n",
      "       accuracy on validation set: 90.86999999999999\n",
      "       accuracy on validation set: 90.09\n",
      "       accuracy on validation set: 90.9\n",
      "       accuracy on validation set: 91.28\n",
      "       accuracy on validation set: 90.86\n",
      "       accuracy on validation set: 91.14\n",
      "       accuracy on validation set: 91.58\n",
      "       accuracy on validation set: 91.53\n",
      "       accuracy on validation set: 91.38\n",
      "       accuracy on validation set: 91.55\n",
      "       accuracy on validation set: 91.58\n",
      "       accuracy on validation set: 91.79\n",
      "       accuracy on validation set: 91.67999999999999\n",
      "       accuracy on validation set: 91.79\n",
      "       accuracy on validation set: 91.81\n",
      "Starting epoch 2\n",
      "       accuracy on validation set: 91.39\n",
      "       accuracy on validation set: 91.75999999999999\n",
      "       accuracy on validation set: 91.64\n",
      "       accuracy on validation set: 91.47\n",
      "       accuracy on validation set: 91.28\n",
      "       accuracy on validation set: 92.05\n",
      "       accuracy on validation set: 92.04\n",
      "       accuracy on validation set: 91.91\n",
      "       accuracy on validation set: 92.25\n",
      "       accuracy on validation set: 92.12\n",
      "       accuracy on validation set: 91.33\n",
      "       accuracy on validation set: 91.99000000000001\n",
      "       accuracy on validation set: 91.46\n",
      "       accuracy on validation set: 91.7\n",
      "       accuracy on validation set: 92.19000000000001\n",
      "       accuracy on validation set: 91.74\n",
      "       accuracy on validation set: 91.93\n",
      "       accuracy on validation set: 92.0\n",
      "       accuracy on validation set: 92.07\n",
      "       accuracy on validation set: 92.10000000000001\n",
      "Starting epoch 3\n",
      "       accuracy on validation set: 91.93\n",
      "       accuracy on validation set: 91.92\n",
      "       accuracy on validation set: 92.08\n",
      "       accuracy on validation set: 92.23\n",
      "       accuracy on validation set: 92.0\n",
      "       accuracy on validation set: 91.73\n",
      "       accuracy on validation set: 92.17999999999999\n",
      "       accuracy on validation set: 92.23\n",
      "       accuracy on validation set: 92.0\n",
      "       accuracy on validation set: 91.66\n",
      "       accuracy on validation set: 91.8\n",
      "       accuracy on validation set: 92.16\n",
      "       accuracy on validation set: 92.25\n",
      "       accuracy on validation set: 91.96\n",
      "       accuracy on validation set: 91.79\n",
      "       accuracy on validation set: 92.17\n",
      "       accuracy on validation set: 92.27\n",
      "       accuracy on validation set: 92.16\n",
      "       accuracy on validation set: 91.81\n",
      "       accuracy on validation set: 92.03\n",
      "Starting epoch 4\n",
      "       accuracy on validation set: 91.97999999999999\n",
      "       accuracy on validation set: 92.07\n",
      "       accuracy on validation set: 92.16\n",
      "       accuracy on validation set: 91.93\n",
      "       accuracy on validation set: 92.13\n",
      "       accuracy on validation set: 92.32000000000001\n",
      "       accuracy on validation set: 92.04\n",
      "       accuracy on validation set: 91.79\n",
      "       accuracy on validation set: 92.16\n",
      "       accuracy on validation set: 92.25999999999999\n",
      "       accuracy on validation set: 92.51\n",
      "       accuracy on validation set: 91.8\n",
      "       accuracy on validation set: 91.23\n",
      "       accuracy on validation set: 92.21000000000001\n",
      "       accuracy on validation set: 92.09\n",
      "       accuracy on validation set: 91.93\n",
      "       accuracy on validation set: 92.01\n",
      "       accuracy on validation set: 91.86\n",
      "       accuracy on validation set: 92.13\n",
      "       accuracy on validation set: 92.36\n",
      "Starting epoch 5\n",
      "       accuracy on validation set: 92.58999999999999\n",
      "       accuracy on validation set: 91.99000000000001\n",
      "       accuracy on validation set: 92.75999999999999\n",
      "       accuracy on validation set: 92.64\n",
      "       accuracy on validation set: 92.28\n",
      "       accuracy on validation set: 92.52\n",
      "       accuracy on validation set: 92.25\n",
      "       accuracy on validation set: 91.51\n",
      "       accuracy on validation set: 92.35\n",
      "       accuracy on validation set: 92.38\n",
      "       accuracy on validation set: 92.42\n",
      "       accuracy on validation set: 92.58999999999999\n",
      "       accuracy on validation set: 92.67\n",
      "       accuracy on validation set: 92.7\n",
      "       accuracy on validation set: 92.41\n",
      "       accuracy on validation set: 92.60000000000001\n",
      "       accuracy on validation set: 92.2\n",
      "       accuracy on validation set: 92.92\n",
      "       accuracy on validation set: 92.05\n",
      "       accuracy on validation set: 92.36\n",
      "       accuracy on validation set: 92.02\n"
     ]
    },
    {
     "data": {
      "image/png": "[encoded data removed]",
      "text/plain": [
       "<Figure size 432x288 with 1 Axes>"
      ]
     },
     "metadata": {
      "needs_background": "light"
     },
     "output_type": "display_data"
    }
   ],
   "source": [
    "dim_input = 28*28\n",
    "dim_output = 10\n",
    "\n",
    "network = LinearNetwork(dim_input, dim_output)\n",
    "optimizer = SGD(network.parameters(), 0.01)\n",
    "\n",
    "train_acc, val_acc = training_loop(network, \n",
    "                                   optimizer, \n",
    "                                   train_data, \n",
    "                                   dev_data, \n",
    "                                   n_epochs=5)\n",
    "\n",
    "acc = accuracy(network, test_data)*100\n",
    "print('       accuracy on validation set: {}'.format(acc))\n",
    "\n",
    "visualize(train_acc, val_acc)"
   ]
  },
  {
   "cell_type": "markdown",
   "metadata": {
    "colab_type": "text",
    "id": "2pyOJP6vTeWJ"
   },
   "source": [
    "After you finished the linear network, you can move to a deep network!\n",
    "The tanh argument can be used to switch between relu or tanh. Warning: use the correct initialization for a given activation!"
   ]
  },
  {
   "cell_type": "code",
   "execution_count": 19,
   "metadata": {
    "colab": {},
    "colab_type": "code",
    "id": "TsLhNz8_TeWN"
   },
   "outputs": [],
   "source": [
    "class DeepNetwork(Module):\n",
    "    def __init__(self, dim_input, dim_output, hidden_dim, n_layers, tanh=False):\n",
    "        self.W = ModuleList()\n",
    "        self.b = ModuleList()\n",
    "\n",
    "        self.W.append(Parameter(np.zeros((hidden_dim, dim_input))))\n",
    "        self.b.append(Parameter(np.zeros((hidden_dim,))))\n",
    "        \n",
    "        for i in range(n_layers - 1):\n",
    "          self.W.append(Parameter(np.zeros((hidden_dim, hidden_dim))))\n",
    "          self.b.append(Parameter(np.zeros((hidden_dim,))))\n",
    "        \n",
    "        # TODO...\n",
    "        \n",
    "        self.output_proj = Parameter(np.zeros((dim_output, hidden_dim)))\n",
    "        self.output_bias = Parameter(np.zeros((dim_output,)))\n",
    "        \n",
    "        self.init_parameters()\n",
    "        \n",
    "    def init_parameters(self):\n",
    "        for paramW, paramb in zip(self.W, self.b):\n",
    "          glorot_init(paramW.data)\n",
    "          zero_init(paramb.data)\n",
    "\n",
    "    def forward(self, x):\n",
    "        for paramW, paramb in zip(self.W, self.b):\n",
    "            x = affine_transform(paramW, paramb, x)\n",
    "            if tanh:\n",
    "                x = tanh(x)\n",
    "            else:\n",
    "                x = relu(x)\n",
    "        return affine_transform(self.output_proj, self.output_bias, x)"
   ]
  },
  {
   "cell_type": "code",
   "execution_count": 20,
   "metadata": {
    "colab": {
     "base_uri": "https://localhost:8080/",
     "height": 1000
    },
    "colab_type": "code",
    "id": "O3-iWNZCTeWS",
    "outputId": "dfe540e0-4746-478b-b450-d0a0d39a5e10"
   },
   "outputs": [
    {
     "name": "stdout",
     "output_type": "stream",
     "text": [
      "Starting epoch 1\n",
      "       accuracy on validation set: 10.299999999999999\n",
      "       accuracy on validation set: 86.75\n",
      "       accuracy on validation set: 88.58\n",
      "       accuracy on validation set: 89.52\n",
      "       accuracy on validation set: 90.64\n",
      "       accuracy on validation set: 90.12\n",
      "       accuracy on validation set: 90.88000000000001\n",
      "       accuracy on validation set: 90.19\n",
      "       accuracy on validation set: 90.94\n",
      "       accuracy on validation set: 90.27\n",
      "       accuracy on validation set: 90.91\n",
      "       accuracy on validation set: 92.25999999999999\n",
      "       accuracy on validation set: 91.67\n",
      "       accuracy on validation set: 91.8\n",
      "       accuracy on validation set: 91.97999999999999\n",
      "       accuracy on validation set: 92.06\n",
      "       accuracy on validation set: 91.88\n",
      "       accuracy on validation set: 92.42\n",
      "       accuracy on validation set: 91.88\n",
      "       accuracy on validation set: 92.44\n",
      "Starting epoch 2\n",
      "       accuracy on validation set: 93.0\n",
      "       accuracy on validation set: 93.19\n",
      "       accuracy on validation set: 92.80000000000001\n",
      "       accuracy on validation set: 92.81\n",
      "       accuracy on validation set: 92.9\n",
      "       accuracy on validation set: 93.39\n",
      "       accuracy on validation set: 92.28\n",
      "       accuracy on validation set: 93.76\n",
      "       accuracy on validation set: 93.42\n",
      "       accuracy on validation set: 93.61\n",
      "       accuracy on validation set: 93.85\n",
      "       accuracy on validation set: 93.66\n",
      "       accuracy on validation set: 94.69999999999999\n",
      "       accuracy on validation set: 94.38\n",
      "       accuracy on validation set: 94.43\n",
      "       accuracy on validation set: 94.39999999999999\n",
      "       accuracy on validation set: 94.65\n",
      "       accuracy on validation set: 94.67999999999999\n",
      "       accuracy on validation set: 94.99\n",
      "       accuracy on validation set: 95.05\n",
      "Starting epoch 3\n",
      "       accuracy on validation set: 95.39\n",
      "       accuracy on validation set: 94.56\n",
      "       accuracy on validation set: 94.95\n",
      "       accuracy on validation set: 94.98\n",
      "       accuracy on validation set: 94.71000000000001\n",
      "       accuracy on validation set: 94.94\n",
      "       accuracy on validation set: 94.71000000000001\n",
      "       accuracy on validation set: 95.14\n",
      "       accuracy on validation set: 94.93\n",
      "       accuracy on validation set: 94.83\n",
      "       accuracy on validation set: 95.25\n",
      "       accuracy on validation set: 95.26\n",
      "       accuracy on validation set: 95.57\n",
      "       accuracy on validation set: 95.48\n",
      "       accuracy on validation set: 95.37\n",
      "       accuracy on validation set: 94.61\n",
      "       accuracy on validation set: 95.38\n",
      "       accuracy on validation set: 95.28999999999999\n",
      "       accuracy on validation set: 95.59\n",
      "       accuracy on validation set: 95.62\n",
      "Starting epoch 4\n",
      "       accuracy on validation set: 95.75\n",
      "       accuracy on validation set: 95.63000000000001\n",
      "       accuracy on validation set: 95.3\n",
      "       accuracy on validation set: 95.58\n",
      "       accuracy on validation set: 95.1\n",
      "       accuracy on validation set: 95.47\n",
      "       accuracy on validation set: 95.65\n",
      "       accuracy on validation set: 95.64\n",
      "       accuracy on validation set: 95.91\n",
      "       accuracy on validation set: 95.65\n",
      "       accuracy on validation set: 95.21\n",
      "       accuracy on validation set: 95.43\n",
      "       accuracy on validation set: 95.46\n",
      "       accuracy on validation set: 95.55\n",
      "       accuracy on validation set: 95.72\n",
      "       accuracy on validation set: 95.85000000000001\n",
      "       accuracy on validation set: 95.66\n",
      "       accuracy on validation set: 95.78999999999999\n",
      "       accuracy on validation set: 95.6\n",
      "       accuracy on validation set: 95.91\n",
      "Starting epoch 5\n",
      "       accuracy on validation set: 96.00999999999999\n",
      "       accuracy on validation set: 95.61\n",
      "       accuracy on validation set: 95.54\n",
      "       accuracy on validation set: 95.53\n",
      "       accuracy on validation set: 95.8\n",
      "       accuracy on validation set: 95.69\n",
      "       accuracy on validation set: 95.49\n",
      "       accuracy on validation set: 95.58\n",
      "       accuracy on validation set: 95.84\n",
      "       accuracy on validation set: 95.95\n",
      "       accuracy on validation set: 95.99\n",
      "       accuracy on validation set: 95.87\n",
      "       accuracy on validation set: 95.88\n",
      "       accuracy on validation set: 95.96000000000001\n",
      "       accuracy on validation set: 95.65\n",
      "       accuracy on validation set: 95.78999999999999\n",
      "       accuracy on validation set: 95.8\n",
      "       accuracy on validation set: 95.91\n",
      "       accuracy on validation set: 95.66\n",
      "       accuracy on validation set: 95.88\n",
      "       accuracy on validation set: 95.57\n"
     ]
    },
    {
     "data": {
      "image/png": "[encoded data removed]",
      "text/plain": [
       "<Figure size 432x288 with 1 Axes>"
      ]
     },
     "metadata": {
      "needs_background": "light"
     },
     "output_type": "display_data"
    }
   ],
   "source": [
    "dim_input = 28*28\n",
    "dim_output = 10\n",
    "\n",
    "network = DeepNetwork(dim_input, dim_output, 100, 1, tanh=False)\n",
    "optimizer = SGD(network.parameters(), 0.01)\n",
    "\n",
    "train_acc, val_acc = training_loop(network, \n",
    "                                   optimizer, \n",
    "                                   train_data, \n",
    "                                   dev_data, \n",
    "                                   n_epochs=5)\n",
    "\n",
    "acc = accuracy(network, test_data)*100\n",
    "print('       accuracy on validation set: {}'.format(acc))\n",
    "\n",
    "visualize(train_acc, val_acc)"
   ]
  },
  {
   "cell_type": "code",
   "execution_count": 21,
   "metadata": {
    "colab": {
     "base_uri": "https://localhost:8080/",
     "height": 1000
    },
    "colab_type": "code",
    "id": "T5Ys-RSwTeWX",
    "outputId": "a0a4b246-726f-44c5-898f-f45f0c040730"
   },
   "outputs": [
    {
     "name": "stdout",
     "output_type": "stream",
     "text": [
      "Starting epoch 1\n",
      "       accuracy on validation set: 10.09\n",
      "       accuracy on validation set: 86.45\n",
      "       accuracy on validation set: 88.35\n",
      "       accuracy on validation set: 89.17\n",
      "       accuracy on validation set: 90.05\n",
      "       accuracy on validation set: 90.11\n",
      "       accuracy on validation set: 91.59\n",
      "       accuracy on validation set: 90.10000000000001\n",
      "       accuracy on validation set: 91.43\n",
      "       accuracy on validation set: 91.89\n",
      "       accuracy on validation set: 91.14999999999999\n",
      "       accuracy on validation set: 91.53999999999999\n",
      "       accuracy on validation set: 92.33\n",
      "       accuracy on validation set: 92.84\n",
      "       accuracy on validation set: 91.44\n",
      "       accuracy on validation set: 92.2\n",
      "       accuracy on validation set: 91.12\n",
      "       accuracy on validation set: 91.95\n",
      "       accuracy on validation set: 92.19000000000001\n",
      "       accuracy on validation set: 93.01\n",
      "Starting epoch 2\n",
      "       accuracy on validation set: 93.45\n",
      "       accuracy on validation set: 92.53\n",
      "       accuracy on validation set: 92.92\n",
      "       accuracy on validation set: 93.42\n",
      "       accuracy on validation set: 93.38\n",
      "       accuracy on validation set: 93.87\n",
      "       accuracy on validation set: 94.05\n",
      "       accuracy on validation set: 93.28999999999999\n",
      "       accuracy on validation set: 93.60000000000001\n",
      "       accuracy on validation set: 93.25\n",
      "       accuracy on validation set: 93.7\n",
      "       accuracy on validation set: 93.97999999999999\n",
      "       accuracy on validation set: 93.58\n",
      "       accuracy on validation set: 93.86\n",
      "       accuracy on validation set: 94.17\n",
      "       accuracy on validation set: 94.25\n",
      "       accuracy on validation set: 93.87\n",
      "       accuracy on validation set: 94.45\n",
      "       accuracy on validation set: 94.12\n",
      "       accuracy on validation set: 94.3\n",
      "Starting epoch 3\n",
      "       accuracy on validation set: 94.69999999999999\n",
      "       accuracy on validation set: 94.87\n",
      "       accuracy on validation set: 94.69999999999999\n",
      "       accuracy on validation set: 94.95\n",
      "       accuracy on validation set: 94.22\n",
      "       accuracy on validation set: 94.83\n",
      "       accuracy on validation set: 94.66\n",
      "       accuracy on validation set: 94.74000000000001\n",
      "       accuracy on validation set: 94.72\n",
      "       accuracy on validation set: 95.15\n",
      "       accuracy on validation set: 95.1\n",
      "       accuracy on validation set: 94.69\n",
      "       accuracy on validation set: 95.19\n",
      "       accuracy on validation set: 95.09\n",
      "       accuracy on validation set: 94.93\n",
      "       accuracy on validation set: 95.17999999999999\n",
      "       accuracy on validation set: 94.97\n",
      "       accuracy on validation set: 95.33\n",
      "       accuracy on validation set: 95.25\n",
      "       accuracy on validation set: 95.45\n",
      "Starting epoch 4\n",
      "       accuracy on validation set: 95.32000000000001\n",
      "       accuracy on validation set: 95.21\n",
      "       accuracy on validation set: 94.65\n",
      "       accuracy on validation set: 94.73\n",
      "       accuracy on validation set: 95.04\n",
      "       accuracy on validation set: 95.3\n",
      "       accuracy on validation set: 94.69999999999999\n",
      "       accuracy on validation set: 94.97\n",
      "       accuracy on validation set: 95.02000000000001\n",
      "       accuracy on validation set: 95.06\n",
      "       accuracy on validation set: 95.59\n",
      "       accuracy on validation set: 95.62\n",
      "       accuracy on validation set: 95.46\n",
      "       accuracy on validation set: 95.44\n",
      "       accuracy on validation set: 95.3\n",
      "       accuracy on validation set: 95.73\n",
      "       accuracy on validation set: 95.59\n",
      "       accuracy on validation set: 95.89999999999999\n",
      "       accuracy on validation set: 95.87\n",
      "       accuracy on validation set: 95.6\n",
      "Starting epoch 5\n",
      "       accuracy on validation set: 95.81\n",
      "       accuracy on validation set: 95.66\n",
      "       accuracy on validation set: 95.71\n",
      "       accuracy on validation set: 95.54\n",
      "       accuracy on validation set: 95.85000000000001\n",
      "       accuracy on validation set: 95.81\n",
      "       accuracy on validation set: 96.12\n",
      "       accuracy on validation set: 95.72\n",
      "       accuracy on validation set: 95.72\n",
      "       accuracy on validation set: 95.82000000000001\n",
      "       accuracy on validation set: 95.78999999999999\n",
      "       accuracy on validation set: 95.71\n",
      "       accuracy on validation set: 95.96000000000001\n",
      "       accuracy on validation set: 95.89999999999999\n",
      "       accuracy on validation set: 95.96000000000001\n",
      "       accuracy on validation set: 95.6\n",
      "       accuracy on validation set: 95.66\n",
      "       accuracy on validation set: 95.84\n",
      "       accuracy on validation set: 96.05\n",
      "       accuracy on validation set: 96.03\n",
      "       accuracy on validation set: 95.63000000000001\n"
     ]
    },
    {
     "data": {
      "image/png": "[encoded data removed]",
      "text/plain": [
       "<Figure size 432x288 with 1 Axes>"
      ]
     },
     "metadata": {
      "needs_background": "light"
     },
     "output_type": "display_data"
    }
   ],
   "source": [
    "dim_input = 28*28\n",
    "dim_output = 10\n",
    "\n",
    "network = DeepNetwork(dim_input, dim_output, 100, 1, tanh=True)\n",
    "optimizer = SGD(network.parameters(), 0.01)\n",
    "\n",
    "train_acc, val_acc = training_loop(network, \n",
    "                                   optimizer, \n",
    "                                   train_data, \n",
    "                                   dev_data, \n",
    "                                   n_epochs=5)\n",
    "\n",
    "acc = accuracy(network, test_data)*100\n",
    "print('       accuracy on validation set: {}'.format(acc))\n",
    "\n",
    "visualize(train_acc, val_acc)"
   ]
  }
 ],
 "metadata": {
  "colab": {
   "collapsed_sections": [],
   "name": "opt8_lab_exercises_2.ipynb",
   "provenance": []
  },
  "kernelspec": {
   "display_name": "Python 3",
   "language": "python",
   "name": "python3"
  },
  "language_info": {
   "codemirror_mode": {
    "name": "ipython",
    "version": 3
   },
   "file_extension": ".py",
   "mimetype": "text/x-python",
   "name": "python",
   "nbconvert_exporter": "python",
   "pygments_lexer": "ipython3",
   "version": "3.7.4"
  }
 },
 "nbformat": 4,
 "nbformat_minor": 1
}
