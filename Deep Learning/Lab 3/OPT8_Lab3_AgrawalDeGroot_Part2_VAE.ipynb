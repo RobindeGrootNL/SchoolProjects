{
 "cells": [
  {
   "cell_type": "markdown",
   "metadata": {},
   "source": [
    "# Lab exercises 3 - Eva Agrawal & Robin de Groot Part 2\n",
    "\n",
    "For this lab exercises, please submit 2 notebooks / python script and 2 reports, one for each part. The deadline is 22 december.\n",
    "\n",
    "It is important the you **read the documentation** to understand how to use Pytorch functions, what kind of transformation they apply etc. You have to **take time to read it carefully** to understand what you are doing.\n",
    "\n",
    "- https://pytorch.org/docs/stable/nn.html\n",
    "- https://pytorch.org/docs/stable/torch.html\n"
   ]
  },
  {
   "cell_type": "markdown",
   "metadata": {},
   "source": [
    "The following libraries are necessary for this assignment."
   ]
  },
  {
   "cell_type": "code",
   "execution_count": 1,
   "metadata": {},
   "outputs": [],
   "source": [
    "import os\n",
    "import numpy as np\n",
    "import matplotlib.pyplot as plt\n",
    "import math\n",
    "import random\n",
    "import seaborn as sns\n",
    "from sklearn.utils import shuffle\n",
    "import torch\n",
    "import torch.nn as nn\n",
    "import torchvision\n",
    "from torchvision.datasets import MNIST\n",
    "from torchvision.transforms import ToTensor\n",
    "from torch.utils.data.sampler import SubsetRandomSampler\n",
    "from torch.utils.data.dataloader import DataLoader\n",
    "\n",
    "sns.set()\n",
    "\n",
    "import dataset_loader\n",
    "\n",
    "%matplotlib inline"
   ]
  },
  {
   "cell_type": "code",
   "execution_count": 2,
   "metadata": {
    "colab": {},
    "colab_type": "code",
    "id": "-Hz1IFpATeUR"
   },
   "outputs": [],
   "source": [
    "# Download mnist dataset \n",
    "if(\"mnist.pkl.gz\" not in os.listdir(\".\")):\n",
    "    !wget http://deeplearning.net/data/mnist/mnist.pkl.gz\n",
    "\n",
    "# if you have it somewhere else, you can comment the lines above\n",
    "# and overwrite the path below\n",
    "mnist_path = \"./mnist.pkl.gz\""
   ]
  },
  {
   "cell_type": "code",
   "execution_count": 3,
   "metadata": {
    "colab": {},
    "colab_type": "code",
    "id": "7LtHLcGgTeUd"
   },
   "outputs": [],
   "source": [
    "# load the 3 splits\n",
    "train_data, dev_data, test_data = dataset_loader.load_mnist(mnist_path)"
   ]
  },
  {
   "cell_type": "code",
   "execution_count": 4,
   "metadata": {},
   "outputs": [],
   "source": [
    "train_img = train_data[0]\n",
    "train_label = train_data[1]\n",
    "dev_img = dev_data[0]\n",
    "dev_label = dev_data[1]\n",
    "test_img = test_data[0]\n",
    "test_label = test_data[1]"
   ]
  },
  {
   "cell_type": "code",
   "execution_count": 5,
   "metadata": {
    "scrolled": true
   },
   "outputs": [
    {
     "data": {
      "text/plain": [
       "(784,)"
      ]
     },
     "execution_count": 5,
     "metadata": {},
     "output_type": "execute_result"
    }
   ],
   "source": [
    "train_img[1].shape"
   ]
  },
  {
   "cell_type": "code",
   "execution_count": 68,
   "metadata": {},
   "outputs": [],
   "source": [
    "def init_weights(m):\n",
    "    if type(m) == nn.Linear:\n",
    "        nn.init.kaiming_uniform_(m.weight.data)\n",
    "        nn.init.zeros_(m.bias.data)"
   ]
  },
  {
   "cell_type": "markdown",
   "metadata": {},
   "source": [
    "## Part 2: Variational Auto-Encoder\n",
    "\n",
    "To build a new Variational Auto-Encoder, you need two networks:\n",
    "\n",
    "- An encoder that will take as input an image and compute the parameters of list of Normal distributions\n",
    "- A decoder that will take a sample from each Normal distribution and will output an image\n",
    "\n",
    "For simplicity we will assume that:\n",
    "\n",
    "- each network as a single hidden layer of size 100\n",
    "- the latent space contains only 2 points\n",
    "\n",
    "To understand exactly what a VAE is, you can:\n",
    "\n",
    "- check the slides of Michèle Sebag\n",
    "- check this tutorial: https://arxiv.org/abs/1606.05908\n"
   ]
  },
  {
   "cell_type": "markdown",
   "metadata": {},
   "source": [
    "### 2.1. Encoder\n",
    "\n",
    "- Compute an hidden representation: $z=relu(W^1x+b^1)$\n",
    "- Compute the means of the normal distributions: $mu=W^2x+b^2$\n",
    "- Compute the log variance of the normal distributions: $log\\_sigma\\_squared=W^3x+b^3$"
   ]
  },
  {
   "cell_type": "markdown",
   "metadata": {},
   "source": [
    "### 2.2. Decoder\n",
    "\n",
    "This a simple MLP, nothing new here!"
   ]
  },
  {
   "cell_type": "markdown",
   "metadata": {},
   "source": [
    "### 1.3. Training loss\n",
    "\n",
    "To compute the training loss, you must compute two terms:\n",
    "\n",
    "- a Monte-Carlo estimation of the reconstruction loss\n",
    "- the KL divergence between the distributions computed by the encoder and the prior\n",
    "\n",
    "To sample values, you can use the reparameterization trick as follows:"
   ]
  },
  {
   "cell_type": "markdown",
   "metadata": {},
   "source": [
    "https://graviraja.github.io/vanillavae/#\n",
    "https://github.com/atinghosh/VAE-pytorch\n",
    "https://github.com/pytorch/examples/blob/master/vae/main.py\n",
    "https://github.com/altosaar/variational-autoencoder/blob/master/train_variational_autoencoder_pytorch.py\n",
    "https://vxlabs.com/2017/12/08/variational-autoencoder-in-pytorch-commented-and-annotated/\n",
    "https://arxiv.org/pdf/1606.05908.pdf"
   ]
  },
  {
   "cell_type": "code",
   "execution_count": 0,
   "metadata": {
    "colab": {},
    "colab_type": "code",
    "id": "BntcLaK1ns8a"
   },
   "outputs": [],
   "source": [
    "class VAE(nn.Module):\n",
    "    def __init__(self, input_dim, layer_dim, latent_dim):\n",
    "        super(VAE, self).__init__()\n",
    "        enc_layers = []\n",
    "        enc_layers.append(nn.Linear(input_dim, layer_dim))\n",
    "        enc_layers.append(nn.ReLU())\n",
    "        self.encoder = nn.Sequential(*enc_layers)\n",
    "        \n",
    "        self.mu_layer = nn.Linear(layer_dim, latent_dim)\n",
    "        self.logvar_layer = nn.Linear(layer_dim, latent_dim)\n",
    "        \n",
    "        dec_layers = []\n",
    "        dec_layers.append(nn.Linear(latent_dim, layer_dim))\n",
    "        dec_layers.append(nn.ReLU())\n",
    "        dec_layers.append(nn.Linear(layer_dim, input_dim))\n",
    "        dec_layers.append(nn.Sigmoid())\n",
    "        \n",
    "        self.decoder = nn.Sequential(*dec_layers)\n",
    "\n",
    "    def encode(self, x):\n",
    "        h1 = self.encoder(x)\n",
    "        return self.mu_layer(h1), self.logvar_layer(h1)\n",
    "    \n",
    "    def reparameterization(self, mu, logvar):\n",
    "        stddev = torch.exp(0.5*logvar)\n",
    "        e = torch.randn_like(stddev)\n",
    "        return mu + e*stddev\n",
    "    \n",
    "    def decode(self, z):\n",
    "        return self.decoder(z)\n",
    "    \n",
    "    def forward(self, x):\n",
    "        mu, logvar = self.encode(x.view(-1, 784))\n",
    "        z = self.reparameterization(mu, logvar)\n",
    "        return self.decode(z), mu, logvar"
   ]
  },
  {
   "cell_type": "code",
   "execution_count": 0,
   "metadata": {
    "colab": {},
    "colab_type": "code",
    "id": "u49uEm2xns8c"
   },
   "outputs": [],
   "source": [
    "def loss_function(output, x_orig, mu, logvar):\n",
    "    BCE = torch.nn.functional.binary_cross_entropy(output, x_orig.view(-1, 784), reduction='sum')\n",
    "    KLD = -0.5 * torch.sum(1 + logvar - mu.pow(2) - logvar.exp())\n",
    "    return BCE + KLD"
   ]
  },
  {
   "cell_type": "code",
   "execution_count": 0,
   "metadata": {
    "colab": {},
    "colab_type": "code",
    "id": "baN0aNkDns8g"
   },
   "outputs": [],
   "source": [
    "def training(model,\n",
    "            train_images,\n",
    "            loss_function,\n",
    "            optimizer,\n",
    "            dev_images,\n",
    "            n_epochs,\n",
    "            batch_size):\n",
    "    \n",
    "    loss_list = []\n",
    "    test_loss_list = []\n",
    "            \n",
    "    for epoch in range(n_epochs):\n",
    "        print('Starting epoch: {}'.format(epoch))\n",
    "        cost = 0\n",
    "        model.train()\n",
    "\n",
    "        for first in range(0, len(train_images), batch_size):\n",
    "            optimizer.zero_grad()\n",
    "            \n",
    "            batch_input = torch.cat(\n",
    "                [\n",
    "                    torch.from_numpy(image).reshape(1, -1)\n",
    "                    for image in train_images[first:first + batch_size]\n",
    "                    \n",
    "                ],\n",
    "                    dim=0\n",
    "            ).to(device)\n",
    "            batch_output, mu, logvar = model(batch_input)            \n",
    "            \n",
    "            loss = loss_function(batch_output, batch_input, mu, logvar)\n",
    "            loss.backward()\n",
    "            torch.nn.utils.clip_grad_value_(model.parameters(), 5.)\n",
    "            cost += loss.item()\n",
    "            optimizer.step()\n",
    "            \n",
    "        mean_loss = (cost//batch_size+1) / len(train_images)\n",
    "        print('mean loss: ', mean_loss)\n",
    "        \n",
    "        loss_list.append(mean_loss)\n",
    "\n",
    "        test_loss = testing(model,\n",
    "                            loss_function,\n",
    "                            optimizer,\n",
    "                            dev_images,\n",
    "                            n_epochs,\n",
    "                            batch_size)\n",
    "        test_loss_list.append(test_loss)\n",
    "    \n",
    "    return model, loss_list, test_loss_list"
   ]
  },
  {
   "cell_type": "code",
   "execution_count": 0,
   "metadata": {
    "colab": {},
    "colab_type": "code",
    "id": "rR6A3baZA1PT"
   },
   "outputs": [],
   "source": [
    "def testing(model,\n",
    "            loss_function,\n",
    "            optimizer,\n",
    "            dev_images,\n",
    "            n_epochs,\n",
    "            batch_size):\n",
    "    \n",
    "    model.eval()\n",
    "    loss = 0\n",
    "            \n",
    "    for first in range(0, len(dev_images), batch_size):\n",
    "        optimizer.zero_grad()\n",
    "        \n",
    "        batch_input = torch.cat(\n",
    "            [\n",
    "                torch.from_numpy(image).reshape(1, -1)\n",
    "                for image in dev_images[first:first + batch_size]\n",
    "                \n",
    "            ],\n",
    "                dim=0\n",
    "        ).to(device)\n",
    "        batch_output, mu, logvar = model(batch_input)            \n",
    "        \n",
    "        loss += loss_function(batch_output, batch_input, mu, logvar).item()\n",
    "        \n",
    "    test_loss = (loss//batch_size+1) / len(dev_images)\n",
    "    print('mean test loss: ', test_loss)\n",
    "        \n",
    "    return test_loss"
   ]
  },
  {
   "cell_type": "code",
   "execution_count": 31,
   "metadata": {
    "colab": {
     "base_uri": "https://localhost:8080/",
     "height": 1000
    },
    "colab_type": "code",
    "id": "QDJedacPns8j",
    "outputId": "238d0915-6570-4100-c84d-52bf43805711"
   },
   "outputs": [
    {
     "name": "stdout",
     "output_type": "stream",
     "text": [
      "Starting epoch: 0\n",
      "mean loss:  1.70412\n",
      "mean test loss:  1.4154\n",
      "Starting epoch: 1\n",
      "mean loss:  1.37732\n",
      "mean test loss:  1.3367\n",
      "Starting epoch: 2\n",
      "mean loss:  1.33062\n",
      "mean test loss:  1.3129\n",
      "Starting epoch: 3\n",
      "mean loss:  1.31398\n",
      "mean test loss:  1.302\n",
      "Starting epoch: 4\n",
      "mean loss:  1.30276\n",
      "mean test loss:  1.2907\n",
      "Starting epoch: 5\n",
      "mean loss:  1.29422\n",
      "mean test loss:  1.2847\n",
      "Starting epoch: 6\n",
      "mean loss:  1.28764\n",
      "mean test loss:  1.2769\n",
      "Starting epoch: 7\n",
      "mean loss:  1.2811\n",
      "mean test loss:  1.2707\n",
      "Starting epoch: 8\n",
      "mean loss:  1.27536\n",
      "mean test loss:  1.2652\n",
      "Starting epoch: 9\n",
      "mean loss:  1.26972\n",
      "mean test loss:  1.2637\n",
      "Starting epoch: 10\n",
      "mean loss:  1.26524\n",
      "mean test loss:  1.2534\n",
      "Starting epoch: 11\n",
      "mean loss:  1.26122\n",
      "mean test loss:  1.2552\n",
      "Starting epoch: 12\n",
      "mean loss:  1.2567\n",
      "mean test loss:  1.2507\n",
      "Starting epoch: 13\n",
      "mean loss:  1.25288\n",
      "mean test loss:  1.2456\n",
      "Starting epoch: 14\n",
      "mean loss:  1.24934\n",
      "mean test loss:  1.2422\n",
      "Starting epoch: 15\n",
      "mean loss:  1.24606\n",
      "mean test loss:  1.2375\n",
      "Starting epoch: 16\n",
      "mean loss:  1.24238\n",
      "mean test loss:  1.2355\n",
      "Starting epoch: 17\n",
      "mean loss:  1.23988\n",
      "mean test loss:  1.2316\n",
      "Starting epoch: 18\n",
      "mean loss:  1.2372\n",
      "mean test loss:  1.2299\n",
      "Starting epoch: 19\n",
      "mean loss:  1.2345\n",
      "mean test loss:  1.2266\n",
      "Starting epoch: 20\n",
      "mean loss:  1.23202\n",
      "mean test loss:  1.2246\n",
      "Starting epoch: 21\n",
      "mean loss:  1.23006\n",
      "mean test loss:  1.2274\n",
      "Starting epoch: 22\n",
      "mean loss:  1.22756\n",
      "mean test loss:  1.2204\n",
      "Starting epoch: 23\n",
      "mean loss:  1.2255\n",
      "mean test loss:  1.2191\n",
      "Starting epoch: 24\n",
      "mean loss:  1.22358\n",
      "mean test loss:  1.2169\n",
      "Starting epoch: 25\n",
      "mean loss:  1.22216\n",
      "mean test loss:  1.2174\n",
      "Starting epoch: 26\n",
      "mean loss:  1.2201\n",
      "mean test loss:  1.2148\n",
      "Starting epoch: 27\n",
      "mean loss:  1.21834\n",
      "mean test loss:  1.2154\n",
      "Starting epoch: 28\n",
      "mean loss:  1.2168\n",
      "mean test loss:  1.2135\n",
      "Starting epoch: 29\n",
      "mean loss:  1.21558\n",
      "mean test loss:  1.2123\n",
      "Starting epoch: 30\n",
      "mean loss:  1.21382\n",
      "mean test loss:  1.2138\n",
      "Starting epoch: 31\n",
      "mean loss:  1.21284\n",
      "mean test loss:  1.2141\n",
      "Starting epoch: 32\n",
      "mean loss:  1.21146\n",
      "mean test loss:  1.2078\n",
      "Starting epoch: 33\n",
      "mean loss:  1.21008\n",
      "mean test loss:  1.2097\n",
      "Starting epoch: 34\n",
      "mean loss:  1.2094\n",
      "mean test loss:  1.2087\n",
      "Starting epoch: 35\n",
      "mean loss:  1.2084\n",
      "mean test loss:  1.2052\n",
      "Starting epoch: 36\n",
      "mean loss:  1.20726\n",
      "mean test loss:  1.2046\n",
      "Starting epoch: 37\n",
      "mean loss:  1.20578\n",
      "mean test loss:  1.2037\n",
      "Starting epoch: 38\n",
      "mean loss:  1.2052\n",
      "mean test loss:  1.2035\n",
      "Starting epoch: 39\n",
      "mean loss:  1.20452\n",
      "mean test loss:  1.2019\n",
      "Starting epoch: 40\n",
      "mean loss:  1.2036\n",
      "mean test loss:  1.2015\n",
      "Starting epoch: 41\n",
      "mean loss:  1.20274\n",
      "mean test loss:  1.2022\n",
      "Starting epoch: 42\n",
      "mean loss:  1.20178\n",
      "mean test loss:  1.2041\n",
      "Starting epoch: 43\n",
      "mean loss:  1.20078\n",
      "mean test loss:  1.2032\n",
      "Starting epoch: 44\n",
      "mean loss:  1.20072\n",
      "mean test loss:  1.2024\n",
      "Starting epoch: 45\n",
      "mean loss:  1.19986\n",
      "mean test loss:  1.2023\n",
      "Starting epoch: 46\n",
      "mean loss:  1.1987\n",
      "mean test loss:  1.199\n",
      "Starting epoch: 47\n",
      "mean loss:  1.19744\n",
      "mean test loss:  1.1996\n",
      "Starting epoch: 48\n",
      "mean loss:  1.19754\n",
      "mean test loss:  1.1983\n",
      "Starting epoch: 49\n",
      "mean loss:  1.19664\n",
      "mean test loss:  1.1968\n"
     ]
    }
   ],
   "source": [
    "input_dim = len(train_img[0])\n",
    "layer_dim = 100\n",
    "latent_dim = 2\n",
    "models_list_VAE = []\n",
    "mean_loss_list_VAE = []\n",
    "test_mean_loss_list_VAE = []\n",
    "\n",
    "EPOCHS = 50\n",
    "batch_size = 128\n",
    "\n",
    "device = torch.device('cuda' if torch.cuda.is_available() else 'cpu')\n",
    "\n",
    "model = VAE(input_dim, layer_dim, latent_dim)\n",
    "model.apply(init_weights)\n",
    "model.to(device)\n",
    "optimizer = torch.optim.Adam(model.parameters(),lr=0.001)\n",
    "VAE_model, mean_losses, test_loss_list = training(model, train_img, loss_function, optimizer, dev_img, EPOCHS, batch_size)\n",
    "models_list_VAE.append(VAE_model)\n",
    "mean_loss_list_VAE.append(mean_losses)\n",
    "\n",
    "#plot_graphs(mean_loss_list, dev_accuracy_list, dropout_value, layerdim, lr, batch_size, \"Tanh\")"
   ]
  },
  {
   "cell_type": "code",
   "execution_count": 39,
   "metadata": {
    "colab": {
     "base_uri": "https://localhost:8080/",
     "height": 1000
    },
    "colab_type": "code",
    "id": "0r036puNAZ91",
    "outputId": "7c3d675c-58bc-48d1-dbd9-3f670fd2715a"
   },
   "outputs": [
    {
     "data": {
      "image/png": "[encoded data removed]",
      "text/plain": [
       "<Figure size 432x288 with 1 Axes>"
      ]
     },
     "metadata": {
      "tags": []
     },
     "output_type": "display_data"
    },
    {
     "data": {
      "image/png": "[encoded data removed]",
      "text/plain": [
       "<Figure size 432x288 with 1 Axes>"
      ]
     },
     "metadata": {
      "tags": []
     },
     "output_type": "display_data"
    },
    {
     "data": {
      "image/png": "[encoded data removed]",
      "text/plain": [
       "<Figure size 432x288 with 1 Axes>"
      ]
     },
     "metadata": {
      "tags": []
     },
     "output_type": "display_data"
    },
    {
     "data": {
      "image/png": "[encoded data removed]",
      "text/plain": [
       "<Figure size 432x288 with 1 Axes>"
      ]
     },
     "metadata": {
      "tags": []
     },
     "output_type": "display_data"
    },
    {
     "data": {
      "image/png": "[encoded data removed]",
      "text/plain": [
       "<Figure size 432x288 with 1 Axes>"
      ]
     },
     "metadata": {
      "tags": []
     },
     "output_type": "display_data"
    },
    {
     "data": {
      "image/png": "[encoded data removed]",
      "text/plain": [
       "<Figure size 432x288 with 1 Axes>"
      ]
     },
     "metadata": {
      "tags": []
     },
     "output_type": "display_data"
    },
    {
     "data": {
      "image/png": "[encoded data removed]",
      "text/plain": [
       "<Figure size 432x288 with 1 Axes>"
      ]
     },
     "metadata": {
      "tags": []
     },
     "output_type": "display_data"
    },
    {
     "data": {
      "image/png": "[encoded data removed]",
      "text/plain": [
       "<Figure size 432x288 with 1 Axes>"
      ]
     },
     "metadata": {
      "tags": []
     },
     "output_type": "display_data"
    },
    {
     "data": {
      "image/png": "[encoded data removed]",
      "text/plain": [
       "<Figure size 432x288 with 1 Axes>"
      ]
     },
     "metadata": {
      "tags": []
     },
     "output_type": "display_data"
    },
    {
     "data": {
      "image/png": "[encoded data removed]",
      "text/plain": [
       "<Figure size 432x288 with 1 Axes>"
      ]
     },
     "metadata": {
      "tags": []
     },
     "output_type": "display_data"
    }
   ],
   "source": [
    "e = torch.normal(0, 1., (10, 2)).to(device)\n",
    "images = model.decode(e)\n",
    "\n",
    "for i in range(10):\n",
    "    picture = images[i].clone().detach().cpu().numpy()\n",
    "    plt.imshow(picture.reshape(28,28), cmap='Greys')\n",
    "    plt.show()"
   ]
  }
 ],
 "metadata": {
  "kernelspec": {
   "display_name": "Python 3",
   "language": "python",
   "name": "python3"
  },
  "language_info": {
   "codemirror_mode": {
    "name": "ipython",
    "version": 3
   },
   "file_extension": ".py",
   "mimetype": "text/x-python",
   "name": "python",
   "nbconvert_exporter": "python",
   "pygments_lexer": "ipython3",
   "version": "3.7.6"
  }
 },
 "nbformat": 4,
 "nbformat_minor": 2
}
