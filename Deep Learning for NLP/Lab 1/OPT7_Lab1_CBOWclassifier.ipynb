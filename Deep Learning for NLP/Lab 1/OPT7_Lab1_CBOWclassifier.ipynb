{
 "cells": [
  {
   "cell_type": "code",
   "execution_count": 1,
   "metadata": {
    "colab": {},
    "colab_type": "code",
    "id": "528S9T9NoLMT"
   },
   "outputs": [],
   "source": [
    "import re\n",
    "import numpy as np\n",
    "import random\n",
    "import matplotlib.pyplot as plt\n",
    "import seaborn as sns\n",
    "from sklearn.model_selection import train_test_split\n",
    "from sklearn.utils import shuffle\n",
    "import torch as th\n",
    "import torch.autograd as ag\n",
    "import torch.nn.functional as F\n",
    "import torch.nn as nn"
   ]
  },
  {
   "cell_type": "markdown",
   "metadata": {
    "colab_type": "text",
    "id": "aV0mvCTtoLMX"
   },
   "source": [
    "# Deep Learning for NLP - lab exercise 1\n",
    "\n",
    "In this first lab exercise we will implement a simple bag-of-word classifier, i.e. a classifier that ignores the sequential structure of the sentence. The goal is to predict if a sentence is a positive or negative review of a movie. We will use a dataset constructed from IMDB.\n",
    "\n",
    "1. Load and clean the data\n",
    "2. Preprocess the data for the NN\n",
    "3. Module definition\n",
    "4. Train the network!\n",
    "\n",
    "We will implement this model with Pytorch, the most popular deep learning framework for Natural Language Processing. You can use the following links for help:\n",
    "* turorials: http://pytorch.org/tutorials/\n",
    "* documentation: http://pytorch.org/docs/master/ \n",
    "\n",
    "**Hard deadline**: December 3, 2019\n",
    "\n",
    "\n",
    "## Report\n",
    "\n",
    "On top of this notebook, you must submit a report explaining your neural network, it's training method and report+analyse results, for example with different hyper-parameters (number of hidden layers, different embedding size, different hidden representation size, w or w/o dropout...you choose what you want to explore!).\n",
    "You can also report results with different training dataset sizes (how does the number of training instances impact dev/test results? => *WARNING* obviously, here you change the training set size but you freeze the dev/test sets).\n",
    "\n",
    "Training with the full dataset may be slow depending on your computer.\n",
    "\n",
    "## Data\n",
    "\n",
    "The data can be download here: http://teaching.caio-corro.fr/2019-2020/OPT7/imdb.zip\n",
    "\n",
    "There are two files: one with positive reviews (imdb.pos) and one with negative reviews (imdb.neg). Each file contains 300000 reviews, one per line.\n",
    "\n",
    "\n",
    "The following functions can be used to load and clean the data."
   ]
  },
  {
   "cell_type": "code",
   "execution_count": 2,
   "metadata": {
    "colab": {},
    "colab_type": "code",
    "id": "40h2dzGIoLMY"
   },
   "outputs": [],
   "source": [
    "# Tokenize a sentence\n",
    "def clean_str(string, tolower=True):\n",
    "    \"\"\"\n",
    "    Tokenization/string cleaning.\n",
    "    Original taken from https://github.com/yoonkim/CNN_sentence/blob/master/process_data.py\n",
    "    \"\"\"\n",
    "    string = re.sub(r\"[^A-Za-z0-9(),!?\\'\\`]\", \" \", string)\n",
    "    string = re.sub(r\"\\'s\", \" \\'s\", string)\n",
    "    string = re.sub(r\"\\'ve\", \" \\'ve\", string)\n",
    "    string = re.sub(r\"n\\'t\", \" n\\'t\", string)\n",
    "    string = re.sub(r\"\\'re\", \" \\'re\", string)\n",
    "    string = re.sub(r\"\\'d\", \" \\'d\", string)\n",
    "    string = re.sub(r\"\\'ll\", \" \\'ll\", string)\n",
    "    string = re.sub(r\",\", \" , \", string)\n",
    "    string = re.sub(r\"!\", \" ! \", string)\n",
    "    string = re.sub(r\"\\(\", \" \\( \", string)\n",
    "    string = re.sub(r\"\\)\", \" \\) \", string)\n",
    "    string = re.sub(r\"\\?\", \" \\? \", string)\n",
    "    string = re.sub(r\"\\s{2,}\", \" \", string)\n",
    "    if tolower:\n",
    "        string = string.lower()\n",
    "    return string.strip()\n",
    "\n",
    "\n",
    "# reads the content of the file passed as an argument.\n",
    "# if limit > 0, this function will return only the first \"limit\" sentences in the file.\n",
    "def loadTexts(filename, limit=-1):\n",
    "    f = open(filename)\n",
    "    dataset=[]\n",
    "    line =  f.readline()\n",
    "    cpt=1\n",
    "    skip=0\n",
    "    while line :\n",
    "        cleanline = clean_str(f.readline()).split()\n",
    "        if cleanline: \n",
    "            dataset.append(cleanline)\n",
    "        else: \n",
    "            line = f.readline()\n",
    "            skip+=1\n",
    "            continue\n",
    "        if limit > 0 and cpt >= limit: \n",
    "            break\n",
    "        line = f.readline()\n",
    "        cpt+=1        \n",
    "        \n",
    "    f.close()\n",
    "    print(\"Load \", cpt, \" lines from \", filename , \" / \", skip ,\" lines discarded\")\n",
    "    return dataset\n"
   ]
  },
  {
   "cell_type": "markdown",
   "metadata": {
    "colab_type": "text",
    "id": "OD57n_U-oLMa"
   },
   "source": [
    "The following cell load the first 5000 sentences in each review set."
   ]
  },
  {
   "cell_type": "code",
   "execution_count": 3,
   "metadata": {
    "colab": {
     "base_uri": "https://localhost:8080/",
     "height": 86
    },
    "colab_type": "code",
    "id": "vW-R101uoLMb",
    "outputId": "82a8be34-1802-4e6c-e701-fd38c7dc8569"
   },
   "outputs": [
    {
     "name": "stdout",
     "output_type": "stream",
     "text": [
      "Load  5000  lines from  ./Data/imdb.pos  /  1  lines discarded\n",
      "Load  5000  lines from  ./Data/imdb.neg  /  1  lines discarded\n"
     ]
    }
   ],
   "source": [
    "LIM=5000\n",
    "txtfile = \"./Data/imdb.pos\"  # path of the file containing positive reviews\n",
    "postxt = loadTexts(txtfile,limit=LIM)\n",
    "\n",
    "txtfile = \"./Data/imdb.neg\"  # path of the file containing negative reviews\n",
    "negtxt = loadTexts(txtfile,limit=LIM)"
   ]
  },
  {
   "cell_type": "code",
   "execution_count": 4,
   "metadata": {},
   "outputs": [
    {
     "data": {
      "text/plain": [
       "[['do', \"n't\", 'miss', 'it', 'if', 'you', 'can'],\n",
       " ['dreams', 'of', 'a', 'young', 'girl'],\n",
       " ['funny', 'funny', 'movie', '!'],\n",
       " ['pride', 'and', 'prejudice', 'is', 'absolutely', 'amazing', '!', '!'],\n",
       " ['quirky', 'and', 'effective'],\n",
       " ['mike', 'leigh', \"'s\", 'best', 'and', 'the', 'best', 'of', '2010'],\n",
       " ['an', 'experience', 'unmatched', 'in', 'film'],\n",
       " ['if',\n",
       "  'john',\n",
       "  'woo',\n",
       "  'were',\n",
       "  'to',\n",
       "  'of',\n",
       "  'filmed',\n",
       "  'the',\n",
       "  'wizard',\n",
       "  'of',\n",
       "  'oz',\n",
       "  'on',\n",
       "  'the',\n",
       "  'set',\n",
       "  'of',\n",
       "  'the',\n",
       "  'wild',\n",
       "  'bunch'],\n",
       " ['it',\n",
       "  'has',\n",
       "  'its',\n",
       "  'shortcomings',\n",
       "  ',',\n",
       "  'and',\n",
       "  'i',\n",
       "  'presume',\n",
       "  'the',\n",
       "  'book',\n",
       "  'would',\n",
       "  'be',\n",
       "  'much',\n",
       "  'better',\n",
       "  'but',\n",
       "  'it',\n",
       "  'is',\n",
       "  'still',\n",
       "  'well',\n",
       "  'worth',\n",
       "  'watching'],\n",
       " ['csi', 'meets', 'the', 'x', 'files']]"
      ]
     },
     "execution_count": 4,
     "metadata": {},
     "output_type": "execute_result"
    }
   ],
   "source": [
    "postxt[:10]"
   ]
  },
  {
   "cell_type": "markdown",
   "metadata": {
    "colab_type": "text",
    "id": "uELwatrBoLMe"
   },
   "source": [
    "Split the data between train / dev / test, for example by creating lists txt_train, label_train, txt_dev, ... You should take care to keep a 50/50 ratio between positive and negative instances in each set."
   ]
  },
  {
   "cell_type": "code",
   "execution_count": 5,
   "metadata": {
    "colab": {
     "base_uri": "https://localhost:8080/",
     "height": 121
    },
    "colab_type": "code",
    "id": "rmhoi67FoLMe",
    "outputId": "0c423e5c-6318-443d-eb1f-4b471365ff31"
   },
   "outputs": [],
   "source": [
    "# A label of 1 means that the review is positive, 0 means negative\n",
    "\n",
    "label_pos = [1. for i in range(len(postxt))]\n",
    "label_neg = [0. for i in range(len(negtxt))]"
   ]
  },
  {
   "cell_type": "code",
   "execution_count": 6,
   "metadata": {},
   "outputs": [],
   "source": [
    "trainset = postxt + negtxt\n",
    "labels = label_pos + label_neg\n",
    "\n",
    "test_size = 0.2\n",
    "dev_size = 0.2\n",
    "\n",
    "X_traindev, X_test, y_traindev, y_test = train_test_split(trainset,\n",
    "                                                         labels,\n",
    "                                                         test_size=test_size,\n",
    "                                                         random_state=42,\n",
    "                                                         stratify=labels)\n",
    "\n",
    "X_train, X_dev, y_train, y_dev = train_test_split(X_traindev,\n",
    "                                                  y_traindev,\n",
    "                                                  test_size=dev_size/(1-test_size),\n",
    "                                                  random_state=42,\n",
    "                                                  stratify=y_traindev)    "
   ]
  },
  {
   "cell_type": "code",
   "execution_count": 7,
   "metadata": {},
   "outputs": [
    {
     "data": {
      "text/plain": [
       "[['far', 'and', 'away', ',', 'the', 'best', 'of', 'the', 'draculas', '!'],\n",
       " ['hg', 'wells', 'in', 'name', 'alone'],\n",
       " ['horrible'],\n",
       " ['what', 'the', 'hell', '!', '!', '!'],\n",
       " ['not',\n",
       "  'quite',\n",
       "  'a',\n",
       "  'classic',\n",
       "  ',',\n",
       "  'but',\n",
       "  'worth',\n",
       "  'the',\n",
       "  'watch',\n",
       "  'all',\n",
       "  'the',\n",
       "  'same'],\n",
       " ['avatar', 'pocahontas', 'in', 'space'],\n",
       " ['blah', 'fest', '2003'],\n",
       " ['worst', 'cooper', 'movie', 'ever'],\n",
       " ['boring', ',', 'inaccurate', ',', 'uninspired'],\n",
       " ['a', 'great', 'hammer', 'film', 'even', 'without', 'christopher', 'lee']]"
      ]
     },
     "execution_count": 7,
     "metadata": {},
     "output_type": "execute_result"
    }
   ],
   "source": [
    "X_train[:10]"
   ]
  },
  {
   "cell_type": "code",
   "execution_count": 8,
   "metadata": {},
   "outputs": [
    {
     "data": {
      "text/plain": [
       "[1.0, 0.0, 0.0, 0.0, 1.0, 0.0, 0.0, 0.0, 0.0, 1.0]"
      ]
     },
     "execution_count": 8,
     "metadata": {},
     "output_type": "execute_result"
    }
   ],
   "source": [
    "y_train[:10]"
   ]
  },
  {
   "cell_type": "markdown",
   "metadata": {
    "colab_type": "text",
    "id": "7KFVFcEHoLMh"
   },
   "source": [
    "# Converting data to Pytorch tensors\n",
    "\n",
    "We will first convert data to Pytorch tensors so they can be used in a neural network.\n",
    "To do that, you must first create a dictionnary that will map words to integers.\n",
    "Add to the dictionnary only words that are in the training set (be sure to understand why we do that!).\n",
    "\n",
    "Then, you can convert the data to tensors:\n",
    "- use tensors of longs: both the sentence and the label will be represented as integers, not floats!\n",
    "- these tensors do not require a gradient\n",
    "\n",
    "A tensor representing a sentence is composed of the integer representation of each word, e.g. [10, 256, 3, 4].\n",
    "Note that some words in the dev and test sets may not be in the dictionnary! (i.e. unknown words)\n",
    "You can just skip them."
   ]
  },
  {
   "cell_type": "code",
   "execution_count": 9,
   "metadata": {
    "colab": {},
    "colab_type": "code",
    "id": "gAOuLi1uoLMj"
   },
   "outputs": [],
   "source": [
    "vocab_size = 0\n",
    "dictionary = {}\n",
    "for i in range(len(X_train)):\n",
    "    for j in range(len(X_train[i])):\n",
    "        if X_train[i][j] not in dictionary:\n",
    "            dictionary[X_train[i][j]] = vocab_size\n",
    "            vocab_size += 1"
   ]
  },
  {
   "cell_type": "code",
   "execution_count": 10,
   "metadata": {
    "colab": {},
    "colab_type": "code",
    "id": "uc57HBaDoLMm"
   },
   "outputs": [],
   "source": [
    "def transform_to_tensor(data, dictionary):\n",
    "    Tnsr = []        \n",
    "    for item in data:\n",
    "        if item in dictionary.keys():\n",
    "            Tnsr.append(dictionary[item]) \n",
    "    return th.tensor(Tnsr)"
   ]
  },
  {
   "cell_type": "markdown",
   "metadata": {
    "colab_type": "text",
    "id": "amsFT3yroLMq"
   },
   "source": [
    "# Neural network definition\n",
    "\n",
    "The neural network should be defined as follows:\n",
    "- it takes as input a tensor that is a sequence of integers indexing word embeddings\n",
    "- it retrieves the word embeddings from an embedding table\n",
    "- it constructs the \"input\" of the MLP by summing over all embeddings (i.e. bag-of-word model)\n",
    "- it build a hidden represention using a MLP (1 layer? 2 layers? experiment! but maybe first try wihout any hidden layer...)\n",
    "- it project the hidden representation to the output space: it is a binary classification task, so the output space is a scalar where a negative (resp. positive) value means the review is negative (resp. positive)."
   ]
  },
  {
   "cell_type": "code",
   "execution_count": 11,
   "metadata": {
    "colab": {},
    "colab_type": "code",
    "id": "2-1hxTBFoLMr"
   },
   "outputs": [],
   "source": [
    "class CBOW_classifier(nn.Module):\n",
    "    def __init__(self, vocab_size, embedding_dim):\n",
    "        super(CBOW_classifier, self).__init__()\n",
    "        self.embeddings = nn.Embedding(vocab_size, embedding_dim)\n",
    "        self.linear1 = nn.Linear(embedding_dim, 1)\n",
    "        \n",
    "        # TODO\n",
    "        # To create an embedding table: https://pytorch.org/docs/stable/nn.html#torch.nn.Embedding\n",
    "        \n",
    "    def forward(self, inputs):\n",
    "        out = self.embeddings(inputs).sum(0)\n",
    "        out = self.linear1(out)\n",
    "        return out"
   ]
  },
  {
   "cell_type": "markdown",
   "metadata": {
    "colab_type": "text",
    "id": "rG4KAZ8hoLMt"
   },
   "source": [
    "## Loss function\n",
    "\n",
    "Create a loss function builder.\n",
    "\n",
    "- Pytorch loss functions are documented here: https://pytorch.org/docs/stable/nn.html#loss-functions\n",
    "- In our case, we are interested in *BCELoss* and *BCEWithLogitsLoss*. Read their documentation and choose the one that fits with your network output"
   ]
  },
  {
   "cell_type": "code",
   "execution_count": 12,
   "metadata": {
    "colab": {},
    "colab_type": "code",
    "id": "m0XVoEAaoLMt"
   },
   "outputs": [],
   "source": [
    "BCELogitLoss = th.nn.BCEWithLogitsLoss()"
   ]
  },
  {
   "cell_type": "markdown",
   "metadata": {
    "colab_type": "text",
    "id": "s-W4BaYHoLMw"
   },
   "source": [
    "## Training loop\n",
    "\n",
    "Write your training loop!\n",
    "\n",
    "- parameterizable number of epochs\n",
    "- at each epoch, print the mean loss and the dev accuracy"
   ]
  },
  {
   "cell_type": "code",
   "execution_count": 13,
   "metadata": {
    "colab": {},
    "colab_type": "code",
    "id": "fPeqz8SLoLMw"
   },
   "outputs": [],
   "source": [
    "def accuracy(model, \n",
    "             X, \n",
    "             y, \n",
    "             dictionary):\n",
    "    correct = 0\n",
    "    total = 0\n",
    "    for data, label in zip(X, y):\n",
    "        x = transform_to_tensor(data, dictionary)\n",
    "        if x.size()[0] <= 0:\n",
    "            continue\n",
    "        output = model(x)\n",
    "        total += 1\n",
    "        if (output >= 0) == (label == 1.):\n",
    "            correct += 1\n",
    "    return correct/total * 100\n",
    "\n",
    "def train(model, \n",
    "          optimizer, \n",
    "          loss_function, \n",
    "          X, \n",
    "          y, \n",
    "          X_val, \n",
    "          y_val, \n",
    "          dictionary):\n",
    "    cost = 0\n",
    "    data, label = shuffle(X, y)\n",
    "    for examp, target in zip(data, label):\n",
    "        model.zero_grad()\n",
    "        output = model(transform_to_tensor(examp, dictionary))\n",
    "        loss = loss_function(output, th.tensor([target]))\n",
    "        loss.backward()\n",
    "        optimizer.step()\n",
    "        cost += loss.item()\n",
    "    mean_loss = cost / len(y)\n",
    "    acc = accuracy(model, X_val, y_val, dictionary)\n",
    "    return mean_loss, acc, model\n",
    "\n",
    "def training_loop(model, \n",
    "                  optimizer, \n",
    "                  loss_function, \n",
    "                  n_epochs, \n",
    "                  X, \n",
    "                  y, \n",
    "                  X_val, \n",
    "                  y_val, \n",
    "                  dictionary):\n",
    "    loss_list = []\n",
    "    dev_acc_list = []\n",
    "    for epoch in range(n_epochs):\n",
    "        print(\"Starting epoch: {}\".format(epoch))\n",
    "        mean_loss, accuracy, model = train(model, optimizer, loss_function, X, y, X_val, y_val, dictionary)\n",
    "        \n",
    "        loss_list.append(mean_loss)\n",
    "        dev_acc_list.append(accuracy)  \n",
    "\n",
    "        print('mean loss : ', mean_loss)\n",
    "        print('accuracy on dev set : ', accuracy)\n",
    "    return model, loss_list, dev_acc_list"
   ]
  },
  {
   "cell_type": "code",
   "execution_count": 14,
   "metadata": {
    "colab": {
     "base_uri": "https://localhost:8080/",
     "height": 295
    },
    "colab_type": "code",
    "id": "U6Iz6WRVoLNL",
    "outputId": "f56ac937-ebd7-4d52-dfcc-fcb02326f19b"
   },
   "outputs": [],
   "source": [
    "def plot_graphs(mean_losss, \n",
    "                dev_accus, \n",
    "                embedding_size, \n",
    "                n_hidden_layers):\n",
    "    plt.plot([i for i in range(EPOCHS)],mean_losss, label='mean loss')\n",
    "    plt.plot([i for i in range(EPOCHS)],dev_accus, label='accuracy on dev')\n",
    "    plt.xlabel('Epochs')\n",
    "    plt.title('{} hidden layers, {} embedding_size'.format(n_hidden_layers,\n",
    "                                                          embedding_size))\n",
    "    plt.legend()\n",
    "    plt.savefig('{}HiddenLayer{}.png'.format(n_hidden_layers,\n",
    "                                            embedding_size))\n",
    "    plt.show()"
   ]
  },
  {
   "cell_type": "code",
   "execution_count": 17,
   "metadata": {
    "colab": {},
    "colab_type": "code",
    "id": "iPO985z3oLNO",
    "scrolled": true
   },
   "outputs": [
    {
     "name": "stdout",
     "output_type": "stream",
     "text": [
      "Starting epoch: 0\n",
      "mean loss :  0.6646446105143987\n",
      "accuracy on dev set :  68.38383838383838\n",
      "Starting epoch: 1\n",
      "mean loss :  0.5382456751227049\n",
      "accuracy on dev set :  71.6161616161616\n",
      "Starting epoch: 2\n",
      "mean loss :  0.4581092344222081\n",
      "accuracy on dev set :  73.98989898989899\n",
      "Starting epoch: 3\n",
      "mean loss :  0.40135041453863596\n",
      "accuracy on dev set :  75.45454545454545\n",
      "Starting epoch: 4\n",
      "mean loss :  0.35884676853172753\n",
      "accuracy on dev set :  76.01010101010101\n",
      "Starting epoch: 5\n",
      "mean loss :  0.32475718049379404\n",
      "accuracy on dev set :  76.61616161616162\n",
      "Starting epoch: 6\n",
      "mean loss :  0.29595484268409084\n",
      "accuracy on dev set :  76.36363636363637\n",
      "Starting epoch: 7\n",
      "mean loss :  0.27125733440915867\n",
      "accuracy on dev set :  76.36363636363637\n",
      "Starting epoch: 8\n",
      "mean loss :  0.24976445722179325\n",
      "accuracy on dev set :  76.66666666666667\n",
      "Starting epoch: 9\n",
      "mean loss :  0.23059173055032345\n",
      "accuracy on dev set :  76.36363636363637\n"
     ]
    },
    {
     "data": {
      "image/png": "[encoded data removed]",
      "text/plain": [
       "<Figure size 432x288 with 1 Axes>"
      ]
     },
     "metadata": {
      "needs_background": "light"
     },
     "output_type": "display_data"
    },
    {
     "name": "stdout",
     "output_type": "stream",
     "text": [
      "Starting epoch: 0\n",
      "mean loss :  0.6297645426977324\n",
      "accuracy on dev set :  73.38383838383838\n",
      "Starting epoch: 1\n",
      "mean loss :  0.44379275849375993\n",
      "accuracy on dev set :  75.75757575757575\n",
      "Starting epoch: 2\n",
      "mean loss :  0.3486594397912457\n",
      "accuracy on dev set :  76.81818181818181\n",
      "Starting epoch: 3\n",
      "mean loss :  0.28168389949944017\n",
      "accuracy on dev set :  76.81818181818181\n",
      "Starting epoch: 4\n",
      "mean loss :  0.23917107158562984\n",
      "accuracy on dev set :  77.62626262626262\n",
      "Starting epoch: 5\n",
      "mean loss :  0.20708451145802917\n",
      "accuracy on dev set :  77.07070707070707\n",
      "Starting epoch: 6\n",
      "mean loss :  0.18481955764707492\n",
      "accuracy on dev set :  77.72727272727272\n",
      "Starting epoch: 7\n",
      "mean loss :  0.16374620780162422\n",
      "accuracy on dev set :  76.76767676767676\n",
      "Starting epoch: 8\n",
      "mean loss :  0.14979140897145501\n",
      "accuracy on dev set :  77.72727272727272\n",
      "Starting epoch: 9\n",
      "mean loss :  0.13761190015789024\n",
      "accuracy on dev set :  76.11111111111111\n"
     ]
    },
    {
     "data": {
      "image/png": "[encoded data removed]",
      "text/plain": [
       "<Figure size 432x288 with 1 Axes>"
      ]
     },
     "metadata": {
      "needs_background": "light"
     },
     "output_type": "display_data"
    },
    {
     "name": "stdout",
     "output_type": "stream",
     "text": [
      "Starting epoch: 0\n",
      "mean loss :  0.9190783462620993\n",
      "accuracy on dev set :  74.74747474747475\n",
      "Starting epoch: 1\n",
      "mean loss :  0.6865965431835448\n",
      "accuracy on dev set :  75.35353535353535\n",
      "Starting epoch: 2\n",
      "mean loss :  0.5373626720624013\n",
      "accuracy on dev set :  74.04040404040404\n",
      "Starting epoch: 3\n",
      "mean loss :  0.4758327971146648\n",
      "accuracy on dev set :  77.22222222222223\n",
      "Starting epoch: 4\n",
      "mean loss :  0.3952512412659139\n",
      "accuracy on dev set :  75.80808080808082\n",
      "Starting epoch: 5\n",
      "mean loss :  0.382660696512508\n",
      "accuracy on dev set :  74.24242424242425\n",
      "Starting epoch: 6\n",
      "mean loss :  0.3865999062861651\n",
      "accuracy on dev set :  74.24242424242425\n",
      "Starting epoch: 7\n",
      "mean loss :  0.33929588599784477\n",
      "accuracy on dev set :  76.01010101010101\n",
      "Starting epoch: 8\n",
      "mean loss :  0.321762925847692\n",
      "accuracy on dev set :  75.95959595959596\n",
      "Starting epoch: 9\n",
      "mean loss :  0.3012839493939892\n",
      "accuracy on dev set :  76.01010101010101\n"
     ]
    },
    {
     "data": {
      "image/png": "[encoded data removed]",
      "text/plain": [
       "<Figure size 432x288 with 1 Axes>"
      ]
     },
     "metadata": {
      "needs_background": "light"
     },
     "output_type": "display_data"
    }
   ],
   "source": [
    "embedding_sizes = [10, 100, 1000]\n",
    "models_list = []\n",
    "mean_loss_list = []\n",
    "dev_accuracy_list = []\n",
    "\n",
    "EPOCHS = 10\n",
    "n_hidden_layers = 0\n",
    "\n",
    "for embedding_size in embedding_sizes:\n",
    "    model = CBOW_classifier(vocab_size, embedding_size)\n",
    "    optimizer = th.optim.Adam(model.parameters(),lr=0.001)\n",
    "    model, mean_losses, dev_accus = training_loop(model, optimizer, BCELogitLoss, EPOCHS, X_train, y_train, X_dev, y_dev, dictionary)\n",
    "    models_list.append(model)\n",
    "    mean_loss_list.append(mean_losses)\n",
    "    dev_accuracy_list.append(dev_accus)\n",
    "    plot_graphs(mean_losses, dev_accus, embedding_size, n_hidden_layers)"
   ]
  },
  {
   "cell_type": "markdown",
   "metadata": {},
   "source": [
    "## Layer testing\n",
    "\n",
    "Now that we have found a value for the embedding size that balances training time and performance (embedding_size = 10), we go on to test different numbers of hidden layers. We test adding one layer and adding two layers. More testing with more layers and a different number of nodes per hidden layer would of course be ideal, but due to time and computational limitations, only these tests are run"
   ]
  },
  {
   "cell_type": "code",
   "execution_count": 18,
   "metadata": {},
   "outputs": [],
   "source": [
    "class CBOW_classifier1layer(nn.Module):\n",
    "    def __init__(self, vocab_size, embedding_dim):\n",
    "        super(CBOW_classifier1layer, self).__init__()\n",
    "        self.embeddings = nn.Embedding(vocab_size, embedding_dim)\n",
    "        self.linear1 = nn.Linear(embedding_dim, int(embedding_dim/2))\n",
    "        self.activation_function1 = nn.ReLU()\n",
    "        self.linear2 = nn.Linear(int(embedding_dim/2), 1)\n",
    "        \n",
    "        # TODO\n",
    "        # To create an embedding table: https://pytorch.org/docs/stable/nn.html#torch.nn.Embedding\n",
    "        \n",
    "    def forward(self, inputs):\n",
    "        out = self.embeddings(inputs).sum(0)\n",
    "        out = self.linear1(out)\n",
    "        out = self.activation_function1(out)\n",
    "        out = self.linear2(out)\n",
    "        return out"
   ]
  },
  {
   "cell_type": "code",
   "execution_count": 19,
   "metadata": {
    "scrolled": true
   },
   "outputs": [
    {
     "name": "stdout",
     "output_type": "stream",
     "text": [
      "Starting epoch: 0\n",
      "mean loss :  0.686162488737454\n",
      "accuracy on dev set :  64.6969696969697\n",
      "Starting epoch: 1\n",
      "mean loss :  0.5867020655296316\n",
      "accuracy on dev set :  71.16161616161617\n",
      "Starting epoch: 2\n",
      "mean loss :  0.49460768099261637\n",
      "accuracy on dev set :  75.05050505050505\n",
      "Starting epoch: 3\n",
      "mean loss :  0.4261544833812325\n",
      "accuracy on dev set :  76.36363636363637\n",
      "Starting epoch: 4\n",
      "mean loss :  0.3732033907148538\n",
      "accuracy on dev set :  76.71717171717172\n",
      "Starting epoch: 5\n",
      "mean loss :  0.3284655638311042\n",
      "accuracy on dev set :  76.46464646464646\n",
      "Starting epoch: 6\n",
      "mean loss :  0.29264167626061494\n",
      "accuracy on dev set :  77.32323232323233\n",
      "Starting epoch: 7\n",
      "mean loss :  0.26019156650566\n",
      "accuracy on dev set :  77.82828282828282\n",
      "Starting epoch: 8\n",
      "mean loss :  0.23292821352146315\n",
      "accuracy on dev set :  77.52525252525253\n",
      "Starting epoch: 9\n",
      "mean loss :  0.2061912957417903\n",
      "accuracy on dev set :  77.72727272727272\n",
      "Starting epoch: 10\n",
      "mean loss :  0.18378292041682404\n",
      "accuracy on dev set :  77.77777777777779\n",
      "Starting epoch: 11\n",
      "mean loss :  0.16320617661921005\n",
      "accuracy on dev set :  77.97979797979798\n",
      "Starting epoch: 12\n",
      "mean loss :  0.147167418505594\n",
      "accuracy on dev set :  77.22222222222223\n",
      "Starting epoch: 13\n",
      "mean loss :  0.1297153069585887\n",
      "accuracy on dev set :  77.42424242424242\n",
      "Starting epoch: 14\n",
      "mean loss :  0.11473903562150452\n",
      "accuracy on dev set :  77.37373737373737\n",
      "Starting epoch: 15\n",
      "mean loss :  0.10182353163314926\n",
      "accuracy on dev set :  77.27272727272727\n",
      "Starting epoch: 16\n",
      "mean loss :  0.08937441573693103\n",
      "accuracy on dev set :  77.32323232323233\n",
      "Starting epoch: 17\n",
      "mean loss :  0.08077124534749425\n",
      "accuracy on dev set :  77.02020202020202\n",
      "Starting epoch: 18\n",
      "mean loss :  0.07113674091623116\n",
      "accuracy on dev set :  76.91919191919192\n",
      "Starting epoch: 19\n",
      "mean loss :  0.06483571204172589\n",
      "accuracy on dev set :  76.66666666666667\n"
     ]
    },
    {
     "data": {
      "image/png": "[encoded data removed]",
      "text/plain": [
       "<Figure size 432x288 with 1 Axes>"
      ]
     },
     "metadata": {
      "needs_background": "light"
     },
     "output_type": "display_data"
    }
   ],
   "source": [
    "embedding_size = 10\n",
    "models_list_layertest = []\n",
    "mean_loss_list_layertest = []\n",
    "dev_accuracy_list_layertest = []\n",
    "\n",
    "EPOCHS = 20\n",
    "n_hidden_layers = 1\n",
    "\n",
    "model = CBOW_classifier1layer(vocab_size, embedding_size)\n",
    "optimizer = th.optim.Adam(model.parameters(),lr=0.001)\n",
    "model, mean_losses, dev_accus = training_loop(model, optimizer, BCELogitLoss, EPOCHS, X_train, y_train, X_dev, y_dev, dictionary)\n",
    "models_list_layertest.append(model)\n",
    "mean_loss_list_layertest.append(mean_losses)\n",
    "dev_accuracy_list_layertest.append(dev_accus)\n",
    "plot_graphs(mean_losses, dev_accus, embedding_size, n_hidden_layers)"
   ]
  },
  {
   "cell_type": "code",
   "execution_count": 20,
   "metadata": {},
   "outputs": [],
   "source": [
    "class CBOW_classifier2layer(nn.Module):\n",
    "    def __init__(self, vocab_size, embedding_dim):\n",
    "        super(CBOW_classifier2layer, self).__init__()\n",
    "        self.embeddings = nn.Embedding(vocab_size, embedding_dim)\n",
    "        self.linear1 = nn.Linear(embedding_dim, int(embedding_dim*0.75))\n",
    "        self.activation_function1 = nn.ReLU()\n",
    "        self.linear2 = nn.Linear(int(embedding_dim*0.75), int(embedding_dim*0.25))\n",
    "        self.activation_function2 = nn.ReLU()\n",
    "        self.linear3 = nn.Linear(int(embedding_dim*0.25), 1)\n",
    "        \n",
    "        # TODO\n",
    "        # To create an embedding table: https://pytorch.org/docs/stable/nn.html#torch.nn.Embedding\n",
    "        \n",
    "    def forward(self, inputs):\n",
    "        out = self.embeddings(inputs).sum(0)\n",
    "        out = self.linear1(out)\n",
    "        out = self.activation_function1(out)\n",
    "        out = self.linear2(out)\n",
    "        out = self.activation_function2(out)\n",
    "        out = self.linear3(out)\n",
    "        return out"
   ]
  },
  {
   "cell_type": "code",
   "execution_count": 21,
   "metadata": {
    "scrolled": true
   },
   "outputs": [
    {
     "name": "stdout",
     "output_type": "stream",
     "text": [
      "Starting epoch: 0\n",
      "mean loss :  0.6845304183581223\n",
      "accuracy on dev set :  61.36363636363637\n",
      "Starting epoch: 1\n",
      "mean loss :  0.622616349538924\n",
      "accuracy on dev set :  68.38383838383838\n",
      "Starting epoch: 2\n",
      "mean loss :  0.5425428548220007\n",
      "accuracy on dev set :  71.36363636363636\n",
      "Starting epoch: 3\n",
      "mean loss :  0.48001552372827716\n",
      "accuracy on dev set :  72.32323232323232\n",
      "Starting epoch: 4\n",
      "mean loss :  0.43046294947734454\n",
      "accuracy on dev set :  72.72727272727273\n",
      "Starting epoch: 5\n",
      "mean loss :  0.3863574902740824\n",
      "accuracy on dev set :  73.53535353535354\n",
      "Starting epoch: 6\n",
      "mean loss :  0.34937995817082923\n",
      "accuracy on dev set :  73.68686868686869\n",
      "Starting epoch: 7\n",
      "mean loss :  0.31929953962364055\n",
      "accuracy on dev set :  74.0909090909091\n",
      "Starting epoch: 8\n",
      "mean loss :  0.291410885158216\n",
      "accuracy on dev set :  74.34343434343434\n",
      "Starting epoch: 9\n",
      "mean loss :  0.2683189293402826\n",
      "accuracy on dev set :  74.0909090909091\n",
      "Starting epoch: 10\n",
      "mean loss :  0.246297856174177\n",
      "accuracy on dev set :  73.83838383838383\n",
      "Starting epoch: 11\n",
      "mean loss :  0.23043122189857843\n",
      "accuracy on dev set :  73.73737373737373\n",
      "Starting epoch: 12\n",
      "mean loss :  0.21356924268725153\n",
      "accuracy on dev set :  74.5959595959596\n",
      "Starting epoch: 13\n",
      "mean loss :  0.20084910497663203\n",
      "accuracy on dev set :  74.34343434343434\n",
      "Starting epoch: 14\n",
      "mean loss :  0.18929256079130907\n",
      "accuracy on dev set :  74.14141414141415\n",
      "Starting epoch: 15\n",
      "mean loss :  0.17839214273027468\n",
      "accuracy on dev set :  74.69696969696969\n",
      "Starting epoch: 16\n",
      "mean loss :  0.16862989806423964\n",
      "accuracy on dev set :  74.8989898989899\n",
      "Starting epoch: 17\n",
      "mean loss :  0.16249661595096437\n",
      "accuracy on dev set :  74.94949494949495\n",
      "Starting epoch: 18\n",
      "mean loss :  0.15438760229414067\n",
      "accuracy on dev set :  74.54545454545455\n",
      "Starting epoch: 19\n",
      "mean loss :  0.150179812113408\n",
      "accuracy on dev set :  74.79797979797979\n"
     ]
    },
    {
     "data": {
      "image/png": "[encoded data removed]",
      "text/plain": [
       "<Figure size 432x288 with 1 Axes>"
      ]
     },
     "metadata": {
      "needs_background": "light"
     },
     "output_type": "display_data"
    }
   ],
   "source": [
    "embedding_sizes = 10\n",
    "\n",
    "EPOCHS = 20\n",
    "n_hidden_layers = 2\n",
    "\n",
    "model = CBOW_classifier2layer(vocab_size, embedding_size)\n",
    "optimizer = th.optim.Adam(model.parameters(),lr=0.001)\n",
    "model, mean_losses, dev_accus = training_loop(model, optimizer, BCELogitLoss, EPOCHS, X_train, y_train, X_dev, y_dev, dictionary)\n",
    "models_list_layertest.append(model)\n",
    "mean_loss_list_layertest.append(mean_losses)\n",
    "dev_accuracy_list_layertest.append(dev_accus)\n",
    "plot_graphs(mean_losses, dev_accus, embedding_size, n_hidden_layers)"
   ]
  },
  {
   "cell_type": "markdown",
   "metadata": {},
   "source": [
    "## Dropout testing\n",
    "\n",
    "Now that we have found a good number of layers (1) for the network, we can go on and test some dropout values."
   ]
  },
  {
   "cell_type": "code",
   "execution_count": 22,
   "metadata": {},
   "outputs": [],
   "source": [
    "class CBOW_classifier1layerdropout(nn.Module):\n",
    "    def __init__(self, vocab_size, embedding_dim, dropout_value):\n",
    "        super(CBOW_classifier1layerdropout, self).__init__()\n",
    "        self.embeddings = nn.Embedding(vocab_size, embedding_dim)\n",
    "        self.linear1 = nn.Linear(embedding_dim, int(embedding_dim/2))\n",
    "        self.activation_function1 = nn.ReLU()\n",
    "        self.dropout = nn.Dropout(dropout_value)\n",
    "        self.linear2 = nn.Linear(int(embedding_dim/2), 1)\n",
    "        \n",
    "        # TODO\n",
    "        # To create an embedding table: https://pytorch.org/docs/stable/nn.html#torch.nn.Embedding\n",
    "        \n",
    "    def forward(self, inputs):\n",
    "        out = self.embeddings(inputs).sum(0)\n",
    "        out = self.linear1(out)\n",
    "        out = self.activation_function1(out)\n",
    "        out = self.dropout(out)\n",
    "        out = self.linear2(out)\n",
    "        return out"
   ]
  },
  {
   "cell_type": "code",
   "execution_count": 23,
   "metadata": {},
   "outputs": [
    {
     "name": "stdout",
     "output_type": "stream",
     "text": [
      "Starting epoch: 0\n",
      "mean loss :  0.6876656130800645\n",
      "accuracy on dev set :  60.656565656565654\n",
      "Starting epoch: 1\n",
      "mean loss :  0.6089951889005024\n",
      "accuracy on dev set :  69.2929292929293\n",
      "Starting epoch: 2\n",
      "mean loss :  0.534057238081942\n",
      "accuracy on dev set :  71.81818181818181\n",
      "Starting epoch: 3\n",
      "mean loss :  0.47114302228410815\n",
      "accuracy on dev set :  72.42424242424242\n",
      "Starting epoch: 4\n",
      "mean loss :  0.4124414532142822\n",
      "accuracy on dev set :  73.48484848484848\n",
      "Starting epoch: 5\n",
      "mean loss :  0.3766396262040649\n",
      "accuracy on dev set :  75.60606060606061\n",
      "Starting epoch: 6\n",
      "mean loss :  0.34003117204773176\n",
      "accuracy on dev set :  75.35353535353535\n",
      "Starting epoch: 7\n",
      "mean loss :  0.31468458551655976\n",
      "accuracy on dev set :  75.4040404040404\n",
      "Starting epoch: 8\n",
      "mean loss :  0.28774452054329436\n",
      "accuracy on dev set :  75.0\n",
      "Starting epoch: 9\n",
      "mean loss :  0.2642974225202347\n",
      "accuracy on dev set :  75.60606060606061\n",
      "Starting epoch: 10\n",
      "mean loss :  0.24397442480029047\n",
      "accuracy on dev set :  75.9090909090909\n",
      "Starting epoch: 11\n",
      "mean loss :  0.2259370397860351\n",
      "accuracy on dev set :  76.16161616161617\n",
      "Starting epoch: 12\n",
      "mean loss :  0.21242186812149183\n",
      "accuracy on dev set :  75.60606060606061\n",
      "Starting epoch: 13\n",
      "mean loss :  0.19770245228318853\n",
      "accuracy on dev set :  75.95959595959596\n",
      "Starting epoch: 14\n",
      "mean loss :  0.18165955990594657\n",
      "accuracy on dev set :  76.11111111111111\n",
      "Starting epoch: 15\n",
      "mean loss :  0.169439979721766\n",
      "accuracy on dev set :  76.36363636363637\n",
      "Starting epoch: 16\n",
      "mean loss :  0.1638318514370341\n",
      "accuracy on dev set :  75.95959595959596\n",
      "Starting epoch: 17\n",
      "mean loss :  0.15682057140481948\n",
      "accuracy on dev set :  76.61616161616162\n",
      "Starting epoch: 18\n",
      "mean loss :  0.14649160912028011\n",
      "accuracy on dev set :  77.07070707070707\n",
      "Starting epoch: 19\n",
      "mean loss :  0.14255654695007514\n",
      "accuracy on dev set :  76.71717171717172\n"
     ]
    },
    {
     "data": {
      "image/png": "[encoded data removed]",
      "text/plain": [
       "<Figure size 432x288 with 1 Axes>"
      ]
     },
     "metadata": {
      "needs_background": "light"
     },
     "output_type": "display_data"
    },
    {
     "name": "stdout",
     "output_type": "stream",
     "text": [
      "Starting epoch: 0\n",
      "mean loss :  0.6901081515823801\n",
      "accuracy on dev set :  58.838383838383834\n",
      "Starting epoch: 1\n",
      "mean loss :  0.6317372729321257\n",
      "accuracy on dev set :  65.7070707070707\n",
      "Starting epoch: 2\n",
      "mean loss :  0.5692838327852364\n",
      "accuracy on dev set :  69.14141414141413\n",
      "Starting epoch: 3\n",
      "mean loss :  0.5202975800532841\n",
      "accuracy on dev set :  70.85858585858585\n",
      "Starting epoch: 4\n",
      "mean loss :  0.47448966384521857\n",
      "accuracy on dev set :  71.86868686868686\n",
      "Starting epoch: 5\n",
      "mean loss :  0.4463365314860854\n",
      "accuracy on dev set :  71.66666666666667\n",
      "Starting epoch: 6\n",
      "mean loss :  0.42087834558061543\n",
      "accuracy on dev set :  73.08080808080808\n",
      "Starting epoch: 7\n",
      "mean loss :  0.3984525867237058\n",
      "accuracy on dev set :  72.82828282828284\n",
      "Starting epoch: 8\n",
      "mean loss :  0.3799387746230348\n",
      "accuracy on dev set :  73.28282828282828\n",
      "Starting epoch: 9\n",
      "mean loss :  0.3748042736011274\n",
      "accuracy on dev set :  71.76767676767678\n",
      "Starting epoch: 10\n",
      "mean loss :  0.3513731205266373\n",
      "accuracy on dev set :  73.7878787878788\n",
      "Starting epoch: 11\n",
      "mean loss :  0.3390836802031906\n",
      "accuracy on dev set :  72.42424242424242\n",
      "Starting epoch: 12\n",
      "mean loss :  0.3221487190704026\n",
      "accuracy on dev set :  72.87878787878788\n",
      "Starting epoch: 13\n",
      "mean loss :  0.3185821490566246\n",
      "accuracy on dev set :  74.04040404040404\n",
      "Starting epoch: 14\n",
      "mean loss :  0.30085434123663346\n",
      "accuracy on dev set :  73.48484848484848\n",
      "Starting epoch: 15\n",
      "mean loss :  0.2958227352088969\n",
      "accuracy on dev set :  73.98989898989899\n",
      "Starting epoch: 16\n",
      "mean loss :  0.28989439889390745\n",
      "accuracy on dev set :  73.28282828282828\n",
      "Starting epoch: 17\n",
      "mean loss :  0.2720194306669939\n",
      "accuracy on dev set :  72.17171717171718\n",
      "Starting epoch: 18\n",
      "mean loss :  0.27050996161275576\n",
      "accuracy on dev set :  73.43434343434343\n",
      "Starting epoch: 19\n",
      "mean loss :  0.27022566775337953\n",
      "accuracy on dev set :  72.52525252525253\n"
     ]
    },
    {
     "data": {
      "image/png": "[encoded data removed]",
      "text/plain": [
       "<Figure size 432x288 with 1 Axes>"
      ]
     },
     "metadata": {
      "needs_background": "light"
     },
     "output_type": "display_data"
    },
    {
     "name": "stdout",
     "output_type": "stream",
     "text": [
      "Starting epoch: 0\n",
      "mean loss :  0.7021538026890096\n",
      "accuracy on dev set :  55.45454545454545\n",
      "Starting epoch: 1\n",
      "mean loss :  0.6716373601546123\n",
      "accuracy on dev set :  62.62626262626263\n",
      "Starting epoch: 2\n",
      "mean loss :  0.6344651420371508\n",
      "accuracy on dev set :  65.40404040404042\n",
      "Starting epoch: 3\n",
      "mean loss :  0.6008773621008576\n",
      "accuracy on dev set :  65.35353535353535\n",
      "Starting epoch: 4\n",
      "mean loss :  0.5777808742480116\n",
      "accuracy on dev set :  67.07070707070707\n",
      "Starting epoch: 5\n",
      "mean loss :  0.5545997766376176\n",
      "accuracy on dev set :  67.22222222222223\n",
      "Starting epoch: 6\n",
      "mean loss :  0.5321212852188367\n",
      "accuracy on dev set :  67.87878787878789\n",
      "Starting epoch: 7\n",
      "mean loss :  0.5216934387317173\n",
      "accuracy on dev set :  67.82828282828282\n",
      "Starting epoch: 8\n",
      "mean loss :  0.5064598542686471\n",
      "accuracy on dev set :  69.1919191919192\n",
      "Starting epoch: 9\n",
      "mean loss :  0.500711462474851\n",
      "accuracy on dev set :  69.24242424242424\n",
      "Starting epoch: 10\n",
      "mean loss :  0.47845397467164935\n",
      "accuracy on dev set :  68.73737373737374\n",
      "Starting epoch: 11\n",
      "mean loss :  0.4766455509152118\n",
      "accuracy on dev set :  68.73737373737374\n",
      "Starting epoch: 12\n",
      "mean loss :  0.47160698445922494\n",
      "accuracy on dev set :  69.14141414141413\n",
      "Starting epoch: 13\n",
      "mean loss :  0.4578050497348422\n",
      "accuracy on dev set :  68.63636363636364\n",
      "Starting epoch: 14\n",
      "mean loss :  0.45282927657148125\n",
      "accuracy on dev set :  68.83838383838385\n",
      "Starting epoch: 15\n",
      "mean loss :  0.45716207101840867\n",
      "accuracy on dev set :  69.74747474747474\n",
      "Starting epoch: 16\n",
      "mean loss :  0.43690405787084013\n",
      "accuracy on dev set :  69.2929292929293\n",
      "Starting epoch: 17\n",
      "mean loss :  0.4426214273470842\n",
      "accuracy on dev set :  69.39393939393939\n",
      "Starting epoch: 18\n",
      "mean loss :  0.43075532892942464\n",
      "accuracy on dev set :  69.34343434343434\n",
      "Starting epoch: 19\n",
      "mean loss :  0.42825335910768203\n",
      "accuracy on dev set :  69.04040404040404\n"
     ]
    },
    {
     "data": {
      "image/png": "[encoded data removed]",
      "text/plain": [
       "<Figure size 432x288 with 1 Axes>"
      ]
     },
     "metadata": {
      "needs_background": "light"
     },
     "output_type": "display_data"
    }
   ],
   "source": [
    "embedding_sizes = 10\n",
    "models_list_dropout = []\n",
    "mean_loss_list_dropout = []\n",
    "dev_accuracy_list_dropout = []\n",
    "dropout_list = [0.2, 0.5, 0.7]\n",
    "\n",
    "EPOCHS = 20\n",
    "n_hidden_layers = 1\n",
    "\n",
    "for dropout_value in dropout_list:\n",
    "    model = CBOW_classifier1layerdropout(vocab_size, embedding_size, dropout_value)\n",
    "    optimizer = th.optim.Adam(model.parameters(),lr=0.001)\n",
    "    model, mean_losses, dev_accus = training_loop(model, optimizer, BCELogitLoss, EPOCHS, X_train, y_train, X_dev, y_dev, dictionary)\n",
    "    models_list.append(model)\n",
    "    mean_loss_list.append(mean_losses)\n",
    "    dev_accuracy_list.append(dev_accus)\n",
    "    plot_graphs(mean_losses, dev_accus, embedding_size, n_hidden_layers)"
   ]
  }
 ],
 "metadata": {
  "colab": {
   "name": "opt7_lab_exercise_1_petit_devatine.ipynb",
   "provenance": [],
   "toc_visible": true
  },
  "kernelspec": {
   "display_name": "Python 3",
   "language": "python",
   "name": "python3"
  },
  "language_info": {
   "codemirror_mode": {
    "name": "ipython",
    "version": 3
   },
   "file_extension": ".py",
   "mimetype": "text/x-python",
   "name": "python",
   "nbconvert_exporter": "python",
   "pygments_lexer": "ipython3",
   "version": "3.7.5"
  }
 },
 "nbformat": 4,
 "nbformat_minor": 4
}
