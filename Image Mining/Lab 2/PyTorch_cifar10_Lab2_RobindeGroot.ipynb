{
 "cells": [
  {
   "cell_type": "markdown",
   "metadata": {
    "colab_type": "text",
    "id": "4zsDWUk5cavn"
   },
   "source": [
    "# Deep Learning for Image Classification\n",
    "\n",
    "Welcome to deep learning for image classification tutorial!\n",
    "**In this notebook, you will**:\n",
    "- Learn the basics of PyTorch, a powerful but easy to use package for scientific computing (and deep learning)\n",
    "- Learn how to build and train a convolutional neural network for image classification.\n",
    "\n",
    "\n",
    "## I. PyTorch Tutorial\n",
    "\n",
    "We will briefly go through the basics of the PyTorch package, playing with toy examples.\n",
    "\n",
    "If you know already how to use PyTorch, then you can directly go to the second part of this tutorial\n",
    "\n",
    "## II. Training a classifier\n",
    "\n",
    "In this part, we will train a Convolutional Neural Network to classify images of 10 different classes (dogs, cats, car, ...) and see how our model performs on the test set.\n",
    "\n",
    "## III. Exploring CNN Architectures\n",
    "\n",
    "This is the part where you get your hands dirty ;). Your mission is to experiment different CNN architectures and set hyperparameters in order to obtain the best accuracy on the test set!\n"
   ]
  },
  {
   "cell_type": "code",
   "execution_count": 0,
   "metadata": {
    "colab": {},
    "colab_type": "code",
    "id": "GkjN23FKt2D-"
   },
   "outputs": [],
   "source": [
    "%matplotlib inline"
   ]
  },
  {
   "cell_type": "markdown",
   "metadata": {
    "colab_type": "text",
    "id": "YAz-fhRRdFaR"
   },
   "source": [
    "### Plotting functions and useful imports\n",
    "\n",
    "Simply execute the cell below to define functions used later"
   ]
  },
  {
   "cell_type": "code",
   "execution_count": 0,
   "metadata": {
    "colab": {},
    "colab_type": "code",
    "id": "nnee2WPudA9K"
   },
   "outputs": [],
   "source": [
    "# Python 2/3 compatibility\n",
    "from __future__ import print_function, division\n",
    "\n",
    "import itertools\n",
    "import time\n",
    "\n",
    "\n",
    "import numpy as np\n",
    "import matplotlib.pyplot as plt\n",
    "\n",
    "# Colors from Colorbrewer Paired_12\n",
    "colors = [[31, 120, 180], [51, 160, 44]]\n",
    "colors = [(r / 255, g / 255, b / 255) for (r, g, b) in colors]\n",
    "\n",
    "# functions to show an image\n",
    "def imshow(img):\n",
    "    \"\"\"\n",
    "    :param img: (PyTorch Tensor)\n",
    "    \"\"\"\n",
    "    # unnormalize\n",
    "    img = img / 2 + 0.5     \n",
    "    # Convert tensor to numpy array\n",
    "    npimg = img.numpy()\n",
    "    # Color channel first -> color channel last\n",
    "    plt.imshow(np.transpose(npimg, (1, 2, 0)))\n",
    "\n",
    "\n",
    "\n",
    "def plot_losses(train_history, val_history):\n",
    "    x = np.arange(1, len(train_history) + 1)\n",
    "\n",
    "    plt.figure(figsize=(8, 6))\n",
    "    plt.plot(x, train_history, color=colors[0], label=\"Training loss\", linewidth=2)\n",
    "    plt.plot(x, val_history, color=colors[1], label=\"Validation loss\", linewidth=2)\n",
    "    plt.xlabel('Epoch')\n",
    "    plt.ylabel('Loss')\n",
    "    plt.legend(loc='upper right')\n",
    "    plt.title(\"Evolution of the training and validation loss\")\n",
    "    plt.show()\n",
    "\n",
    "def plot_confusion_matrix(cm, classes,\n",
    "                          normalize=False,\n",
    "                          title='Confusion matrix',\n",
    "                          cmap=plt.cm.Blues):\n",
    "    \"\"\"\n",
    "    This function prints and plots the confusion matrix.\n",
    "    Normalization can be applied by setting `normalize=True`.\n",
    "    from http://scikit-learn.org/stable/auto_examples/model_selection/plot_confusion_matrix.html\n",
    "    :param cm: (numpy matrix) confusion matrix\n",
    "    :param classes: [str]\n",
    "    :param normalize: (bool)\n",
    "    :param title: (str)\n",
    "    :param cmap: (matplotlib color map)\n",
    "    \"\"\"\n",
    "    if normalize:\n",
    "        cm = cm.astype('float') / cm.sum(axis=1)[:, np.newaxis]\n",
    "        \n",
    "    plt.figure(figsize=(8, 8))   \n",
    "    plt.imshow(cm, interpolation='nearest', cmap=cmap)\n",
    "    plt.title(title)\n",
    "    plt.colorbar()\n",
    "    tick_marks = np.arange(len(classes))\n",
    "    plt.xticks(tick_marks, classes, rotation=45)\n",
    "    plt.yticks(tick_marks, classes)\n",
    "\n",
    "    fmt = '.2f' if normalize else 'd'\n",
    "    thresh = cm.max() / 2.\n",
    "    for i, j in itertools.product(range(cm.shape[0]), range(cm.shape[1])):\n",
    "        plt.text(j, i, format(cm[i, j], fmt),\n",
    "                 horizontalalignment=\"center\",\n",
    "                 color=\"white\" if cm[i, j] > thresh else \"black\")\n",
    "\n",
    "    plt.tight_layout()\n",
    "    plt.ylabel('True label')\n",
    "    plt.xlabel('Predicted label')"
   ]
  },
  {
   "cell_type": "markdown",
   "metadata": {
    "colab_type": "text",
    "id": "aH_K9V7icav6"
   },
   "source": [
    "# I. What is PyTorch ?\n",
    "\n",
    "It’s a Python based scientific computing package targeted at two sets of audiences:\n",
    "\n",
    "- A replacement for numpy to use the power of GPUs\n",
    "- A deep learning research platform that provides maximum flexibility and speed\n",
    "\n",
    "\n",
    "## PyTorch Basics\n",
    "\n",
    "In the next steps, we will briefly see how to use PyTorch and exploits its power:\n",
    "\n",
    "1. PyTorch Installation\n",
    "2. PyTorch Tensors\n",
    "3. Numpy Bridge\n",
    "4. Automatic differentiation\n",
    "5. PyTorch and GPU (CUDA support)\n",
    "\n",
    "\n",
    "### 1. Install PyTorch and Torchvision\n",
    "\n"
   ]
  },
  {
   "cell_type": "code",
   "execution_count": 0,
   "metadata": {
    "colab": {
     "base_uri": "https://localhost:8080/",
     "height": 156
    },
    "colab_type": "code",
    "id": "e0y5PLM6ciB5",
    "outputId": "93d07269-987a-4a1e-db3a-5bc39ebd46f1"
   },
   "outputs": [
    {
     "name": "stdout",
     "output_type": "stream",
     "text": [
      "Requirement already satisfied: torch in /usr/local/lib/python3.6/dist-packages (1.3.1)\n",
      "Requirement already satisfied: numpy in /usr/local/lib/python3.6/dist-packages (from torch) (1.17.5)\n",
      "Requirement already satisfied: torchvision in /usr/local/lib/python3.6/dist-packages (0.4.2)\n",
      "Requirement already satisfied: torch==1.3.1 in /usr/local/lib/python3.6/dist-packages (from torchvision) (1.3.1)\n",
      "Requirement already satisfied: numpy in /usr/local/lib/python3.6/dist-packages (from torchvision) (1.17.5)\n",
      "Requirement already satisfied: six in /usr/local/lib/python3.6/dist-packages (from torchvision) (1.12.0)\n",
      "Requirement already satisfied: pillow>=4.1.1 in /usr/local/lib/python3.6/dist-packages (from torchvision) (6.2.2)\n"
     ]
    }
   ],
   "source": [
    "!pip install torch\n",
    "!pip install torchvision"
   ]
  },
  {
   "cell_type": "code",
   "execution_count": 0,
   "metadata": {
    "colab": {},
    "colab_type": "code",
    "id": "LcGVaagRcav8"
   },
   "outputs": [],
   "source": [
    "# Import torch and create the alias \"th\"\n",
    "# instead of writing torch.name_of_a_method() , we only need to write th.name_of_a_method()\n",
    "# (similarly to numpy imported as np)\n",
    "import torch as th\n",
    "import numpy as np\n",
    "import time\n",
    "import matplotlib.pyplot as plt"
   ]
  },
  {
   "cell_type": "code",
   "execution_count": 0,
   "metadata": {
    "colab": {
     "base_uri": "https://localhost:8080/",
     "height": 68
    },
    "colab_type": "code",
    "id": "g2-brDDHcawE",
    "outputId": "3ff96efe-a314-4129-a4c1-575c11a42441"
   },
   "outputs": [
    {
     "name": "stdout",
     "output_type": "stream",
     "text": [
      "tensor([[1., 1.],\n",
      "        [1., 1.],\n",
      "        [1., 1.]])\n"
     ]
    }
   ],
   "source": [
    "# Create tensor of ones (FloatTensor by default)\n",
    "ones = th.ones(3, 2)\n",
    "print(ones)"
   ]
  },
  {
   "cell_type": "markdown",
   "metadata": {
    "colab_type": "text",
    "id": "6RvPibnScawC"
   },
   "source": [
    "### 2. PyTorch Tensors\n",
    "\n",
    "A `torch.Tensor` is a multi-dimensional matrix containing elements of a single data type.\n",
    "\n",
    "Tensors are similar to numpy’s ndarrays, but they have a super-power: Tensors can also be used on a GPU to accelerate computing."
   ]
  },
  {
   "cell_type": "markdown",
   "metadata": {
    "colab_type": "text",
    "id": "QcJgJQERcawQ"
   },
   "source": [
    "#### Tensor Shape\n",
    "To know the shape of a given tensor, you can use the `.size()` method (the numpy equivalent is `.shape`)"
   ]
  },
  {
   "cell_type": "code",
   "execution_count": 0,
   "metadata": {
    "colab": {
     "base_uri": "https://localhost:8080/",
     "height": 34
    },
    "colab_type": "code",
    "id": "SI96-W9acawS",
    "outputId": "26b197f9-8a66-4beb-f817-f6f312448b71"
   },
   "outputs": [
    {
     "name": "stdout",
     "output_type": "stream",
     "text": [
      "Tensor Shape: torch.Size([3, 2])\n"
     ]
    }
   ],
   "source": [
    "# Display the shape of a tensor\n",
    "# it can be used as a tuple\n",
    "print(\"Tensor Shape: {}\".format(ones.size()))"
   ]
  },
  {
   "cell_type": "markdown",
   "metadata": {
    "colab_type": "text",
    "id": "pUPWrNarcawZ"
   },
   "source": [
    "#### Reshape tensors\n",
    "\n",
    "To reshape tensors (e.g. flatten a 3D tensor to a 1D array), you can use the `.view()` method:\n",
    "\n",
    "- **x.view(new_shape)**: Returns a new tensor with the same data but different size. It is the equivalent of numpy function *reshape* (Gives a new shape to an array without changing its data.). You can read the full documentation [here.](http://pytorch.org/docs/master/tensors.html#torch.Tensor.view)\n",
    "\n",
    "[WARNING] when precising a new shape, you have to make sure that the number of elements is constant\n",
    "For example, a 2D matrix of size 3x3 can only be viewed as a 1D array of size $3 \\cdot 3 = 9$"
   ]
  },
  {
   "cell_type": "code",
   "execution_count": 0,
   "metadata": {
    "colab": {
     "base_uri": "https://localhost:8080/",
     "height": 68
    },
    "colab_type": "code",
    "id": "vX-oxI6Vcawb",
    "outputId": "70ef34be-4312-45a4-e025-d320f995656a"
   },
   "outputs": [
    {
     "name": "stdout",
     "output_type": "stream",
     "text": [
      "Original size: torch.Size([3, 2, 2])\n",
      "Reshaped tensor: torch.Size([12])\n",
      "Matrix shape: torch.Size([3, 4])\n"
     ]
    }
   ],
   "source": [
    "# Create a 3D tensor of size 3x2x2\n",
    "zeros_3d_tensor = th.zeros(3, 2, 2)\n",
    "print(\"Original size:\", zeros_3d_tensor.size())\n",
    "\n",
    "# Reshape it to a 1D array of size 3*2*2 = 12\n",
    "zeros_1d_array = zeros_3d_tensor.view(3 * 2 * 2)\n",
    "print(\"Reshaped tensor:\", zeros_1d_array.size())\n",
    "\n",
    "\n",
    "# Let's view our original tensor as a 2D matrix\n",
    "# If you want PyTorch to guess one remaining dimension\n",
    "# you specify `-1` instead of the actual size\n",
    "zeros_2d_matrix = zeros_3d_tensor.view(-1, 2 * 2)\n",
    "\n",
    "print(\"Matrix shape:\", zeros_2d_matrix.size())"
   ]
  },
  {
   "cell_type": "markdown",
   "metadata": {
    "colab_type": "text",
    "id": "kTO_FFswcawj"
   },
   "source": [
    "#### Basic Operations on tensors\n",
    "\n",
    "Tensor support all basic linear algebra operations. You can read the full documentation [here](http://pytorch.org/docs/master/tensors.html)"
   ]
  },
  {
   "cell_type": "code",
   "execution_count": 0,
   "metadata": {
    "colab": {
     "base_uri": "https://localhost:8080/",
     "height": 68
    },
    "colab_type": "code",
    "id": "Ay7LvYeVcawl",
    "outputId": "95832be8-ceed-499d-ab0c-db091dfa70b3"
   },
   "outputs": [
    {
     "data": {
      "text/plain": [
       "tensor([[3., 3.],\n",
       "        [3., 3.],\n",
       "        [3., 3.]])"
      ]
     },
     "execution_count": 49,
     "metadata": {
      "tags": []
     },
     "output_type": "execute_result"
    }
   ],
   "source": [
    "2 * ones + 1"
   ]
  },
  {
   "cell_type": "markdown",
   "metadata": {
    "colab_type": "text",
    "id": "OD7ZOT4jcaws"
   },
   "source": [
    "PyTorch tensors also supports numpy indexing:"
   ]
  },
  {
   "cell_type": "code",
   "execution_count": 0,
   "metadata": {
    "colab": {
     "base_uri": "https://localhost:8080/",
     "height": 68
    },
    "colab_type": "code",
    "id": "srzDzj_ocawu",
    "outputId": "fd092ad7-b7a4-4d5a-f895-364dba619858"
   },
   "outputs": [
    {
     "name": "stdout",
     "output_type": "stream",
     "text": [
      "\n",
      " Indexing Demo:\n",
      "tensor([1., 1., 1.])\n"
     ]
    }
   ],
   "source": [
    "print(\"\\n Indexing Demo:\")\n",
    "print(ones[:, 1])"
   ]
  },
  {
   "cell_type": "markdown",
   "metadata": {
    "colab_type": "text",
    "id": "xrjqKguqcaw0"
   },
   "source": [
    "### 3. Numpy Bridge\n",
    "WARNING: PyTorch Tensors are different from numpy arrays\n",
    "even if they have a lot in common\n",
    "\n",
    "Though, it is **easy with PyTorch to tranform Tensors to Numpy arrays and vice versa**"
   ]
  },
  {
   "cell_type": "markdown",
   "metadata": {
    "colab_type": "text",
    "id": "gVAntrTVcaw3"
   },
   "source": [
    "#### Numpy <-> PyTorch\n",
    "\n",
    "Creating PyTorch tensors from numpy array is done via the `torch.from_numpy()` function\n",
    "\n",
    "(here `th.from_numpy()` because we renamed *torch* as *th*)\n",
    "\n",
    "To transform a PyTorch tensor to a numpy array, you can simply call `.numpy()` method."
   ]
  },
  {
   "cell_type": "code",
   "execution_count": 0,
   "metadata": {
    "colab": {
     "base_uri": "https://localhost:8080/",
     "height": 119
    },
    "colab_type": "code",
    "id": "t2ENcAKOcaw5",
    "outputId": "05b881b9-ed98-4ad9-cc95-47cbde0218b2"
   },
   "outputs": [
    {
     "name": "stdout",
     "output_type": "stream",
     "text": [
      "PyTorch Tensor:\n",
      "tensor([[1., 1.],\n",
      "        [1., 1.]])\n",
      "Numpy Matrix:\n",
      "[[1. 1.]\n",
      " [1. 1.]]\n"
     ]
    }
   ],
   "source": [
    "# np.float32 -> th.FloatTensor\n",
    "ones_matrix = np.ones((2, 2), dtype=np.float32)\n",
    "\n",
    "# the matrix is pass by reference:\n",
    "# if we modify the original numpy array, the tensor is also edited\n",
    "ones_tensor = th.from_numpy(ones_matrix)\n",
    "# Convert back to a numpy matrix\n",
    "numpy_matrix = ones_tensor.numpy()\n",
    "\n",
    "print(\"PyTorch Tensor:\")\n",
    "print(ones_tensor)\n",
    "\n",
    "print(\"Numpy Matrix:\")\n",
    "print(numpy_matrix)"
   ]
  },
  {
   "cell_type": "markdown",
   "metadata": {
    "colab_type": "text",
    "id": "Y0Itjyg-caxD"
   },
   "source": [
    "### 4. Automatic Differentiation\n",
    "\n",
    "Pytorch tensors allow to **automatically compute gradients**. That is particulary useful for backpropagation.\n",
    "\n",
    "Once you finish your computation you can call `.backward()` and have all the gradients computed automatically.\n",
    "\n",
    "You can access the gradient w.r.t. this variable using `.grad`.\n"
   ]
  },
  {
   "cell_type": "code",
   "execution_count": 0,
   "metadata": {
    "colab": {
     "base_uri": "https://localhost:8080/",
     "height": 51
    },
    "colab_type": "code",
    "id": "WrPNcIpYcaxK",
    "outputId": "3e5277ba-4718-487c-fa72-32d7b6b93344"
   },
   "outputs": [
    {
     "name": "stdout",
     "output_type": "stream",
     "text": [
      "tensor([[1., 1.],\n",
      "        [1., 1.]], requires_grad=True)\n"
     ]
    }
   ],
   "source": [
    "# We need to specify that we want to compute the gradient\n",
    "# as it requires extra memory and computation\n",
    "ones_tensor = th.ones(2,2, requires_grad=True)\n",
    "\n",
    "print(ones_tensor)"
   ]
  },
  {
   "cell_type": "markdown",
   "metadata": {
    "colab_type": "text",
    "id": "IEZDUibxcaxj"
   },
   "source": [
    "To demonstrate the use of PyTorch Variable,\n",
    "let's define a simple linear transformation of a variable $x$ :\n",
    "\n",
    "$$y = a \\cdot x + b$$\n",
    "\n",
    "PyTorch will allows us to automatically compute $$\\frac{dy}{dx} $$"
   ]
  },
  {
   "cell_type": "code",
   "execution_count": 0,
   "metadata": {
    "colab": {
     "base_uri": "https://localhost:8080/",
     "height": 34
    },
    "colab_type": "code",
    "id": "A4j85JjZcaxl",
    "outputId": "cbc6a863-b187-4743-c997-bde1d2f0286e"
   },
   "outputs": [
    {
     "name": "stdout",
     "output_type": "stream",
     "text": [
      "tensor([7.], grad_fn=<AddBackward0>)\n"
     ]
    }
   ],
   "source": [
    "# Create a tensor and tell PyTorch\n",
    "# that we want to compute the gradient\n",
    "x = th.ones(1, requires_grad=True)\n",
    "\n",
    "# Transformation constants\n",
    "a = 2\n",
    "b = 5\n",
    "\n",
    "# Define the tranformation and store the result\n",
    "# in a new variable\n",
    "y = a * x + b\n",
    "\n",
    "print(y)"
   ]
  },
  {
   "cell_type": "markdown",
   "metadata": {
    "colab_type": "text",
    "id": "_mxnlvwxcaxq"
   },
   "source": [
    "Let's backprop !"
   ]
  },
  {
   "cell_type": "code",
   "execution_count": 0,
   "metadata": {
    "colab": {},
    "colab_type": "code",
    "id": "X1i-pN-Fcaxs"
   },
   "outputs": [],
   "source": [
    "y.backward()"
   ]
  },
  {
   "cell_type": "markdown",
   "metadata": {
    "colab_type": "text",
    "id": "skgIGZdmcaxw"
   },
   "source": [
    "`x.grad` print gradient:\n",
    "\n",
    "$$\\frac{dy}{dx} = a$$\n",
    "\n",
    "because:\n",
    "\n",
    "$$y = a \\cdot x + b$$"
   ]
  },
  {
   "cell_type": "code",
   "execution_count": 0,
   "metadata": {
    "colab": {
     "base_uri": "https://localhost:8080/",
     "height": 34
    },
    "colab_type": "code",
    "id": "_TYbuwsXcaxx",
    "outputId": "54a13eca-8c63-41da-c7c6-510fc3159bb7"
   },
   "outputs": [
    {
     "data": {
      "text/plain": [
       "tensor([2.])"
      ]
     },
     "execution_count": 55,
     "metadata": {
      "tags": []
     },
     "output_type": "execute_result"
    }
   ],
   "source": [
    "x.grad"
   ]
  },
  {
   "cell_type": "markdown",
   "metadata": {
    "colab_type": "text",
    "id": "ggu-PBGvcax3"
   },
   "source": [
    "You can now change the values of $a$ and $b$ see their effects on the gradient\n",
    "(HINT: `x.grad` only depends on the value of `a`)"
   ]
  },
  {
   "cell_type": "markdown",
   "metadata": {
    "colab_type": "text",
    "id": "8iPn0C59cax5"
   },
   "source": [
    "### 5. PyTorch and GPU (CUDA support)\n",
    "\n",
    "Google colab provides a CUDA enabled GPU, so we are going to use its power. \n",
    "You can move tensor to the GPU by simply using the `to()` method.\n",
    "Otherwise, PyTorch will use the CPU.\n",
    "\n",
    "Here, we will demonstrate the usefulness of the GPU on a simple matrix multiplication"
   ]
  },
  {
   "cell_type": "code",
   "execution_count": 0,
   "metadata": {
    "colab": {
     "base_uri": "https://localhost:8080/",
     "height": 51
    },
    "colab_type": "code",
    "id": "EwF6ePTpeefQ",
    "outputId": "455fafff-b342-402c-8df8-a6390bf82d5b"
   },
   "outputs": [
    {
     "name": "stdout",
     "output_type": "stream",
     "text": [
      "Time on CPU: 0.04185s \t Time on GPU: 0.00053s\n",
      "Speed up: Computation was 79X faster on GPU!\n"
     ]
    }
   ],
   "source": [
    "if th.cuda.is_available():\n",
    "  # Create tensors\n",
    "  x = th.ones(1000, 1000)\n",
    "  y = 2 * x + 3\n",
    "  # Do the calculation on cpu (default)\n",
    "  start_time = time.time()\n",
    "  # Matrix multiplication (for benchmark purpose)\n",
    "  results = th.mm(x, y)\n",
    "  time_cpu = time.time() - start_time\n",
    "  \n",
    "  # Do the same calculation but on the gpu\n",
    "  # First move tensors to gpu\n",
    "  x = x.to(\"cuda\")\n",
    "  y = y.to(\"cuda\")\n",
    "  start_time = time.time()\n",
    "  # Matrix multiplication (for benchmark purpose)\n",
    "  results = th.mm(x, y)\n",
    "  time_gpu = time.time() - start_time\n",
    "  \n",
    "  print(\"Time on CPU: {:.5f}s \\t Time on GPU: {:.5f}s\".format(time_cpu, time_gpu))\n",
    "  print(\"Speed up: Computation was {:.0f}X faster on GPU!\".format(time_cpu / time_gpu))\n",
    "  \n",
    "else:\n",
    "  print(\"You need to enable GPU accelaration in colab (runtime->change runtime type)\")"
   ]
  },
  {
   "cell_type": "markdown",
   "metadata": {
    "colab_type": "text",
    "id": "E-AOzDy9lFwi"
   },
   "source": [
    "As expected, matrix multiplication is way faster on a GPU, so we'd better use it."
   ]
  },
  {
   "cell_type": "markdown",
   "metadata": {
    "colab_type": "text",
    "id": "0kqEBjG6t2Eh"
   },
   "source": [
    "\n",
    "# II. Training a classifier\n",
    "\n",
    "\n",
    "For this tutorial, we will use the CIFAR10 dataset.\n",
    "There are 10 classes: ‘airplane’, ‘automobile’, ‘bird’, ‘cat’, ‘deer’,\n",
    "‘dog’, ‘frog’, ‘horse’, ‘ship’, ‘truck’. The images in CIFAR-10 are of\n",
    "size 3x32x32, i.e. 3-channel color images of 32x32 pixels in size.\n",
    "\n",
    "\n",
    "![CIFAR10](http://pytorch.org/tutorials/_images/cifar10.png)\n",
    "\n",
    "\n",
    "Training an image classifier\n",
    "----------------------------\n",
    "\n",
    "We will do the following steps in order:\n",
    "\n",
    "1. Load and normalize the CIFAR10 training and test datasets using\n",
    "   ``torchvision``\n",
    "2. Define a Convolution Neural Network\n",
    "3. Define a loss function\n",
    "4. Train the network on the training data\n",
    "5. Test the network on the test data"
   ]
  },
  {
   "cell_type": "markdown",
   "metadata": {
    "colab_type": "text",
    "id": "UWTdj2uYcax7"
   },
   "source": [
    "### 1. Loading and normalizing CIFAR10\n",
    "\n",
    "Using ``torchvision``, it’s extremely easy to load CIFAR10."
   ]
  },
  {
   "cell_type": "code",
   "execution_count": 0,
   "metadata": {
    "colab": {},
    "colab_type": "code",
    "id": "KRrvrIi0t2Em"
   },
   "outputs": [],
   "source": [
    "import torch\n",
    "import torchvision\n",
    "import torchvision.transforms as transforms"
   ]
  },
  {
   "cell_type": "markdown",
   "metadata": {
    "colab_type": "text",
    "id": "iX2ltR_zcayA"
   },
   "source": [
    "Seed the random generator to have reproducible results:"
   ]
  },
  {
   "cell_type": "code",
   "execution_count": 0,
   "metadata": {
    "colab": {},
    "colab_type": "code",
    "id": "335xvR6acayB"
   },
   "outputs": [],
   "source": [
    "seed = 42\n",
    "np.random.seed(seed)\n",
    "torch.manual_seed(seed)\n",
    "\n",
    "if th.cuda.is_available():\n",
    "  # Make CuDNN Determinist\n",
    "  th.backends.cudnn.deterministic = True\n",
    "  th.cuda.manual_seed(seed)\n",
    "\n",
    "# Define default device, we should use the GPU (cuda) if available\n",
    "device = th.device(\"cuda\" if th.cuda.is_available() else \"cpu\")\n"
   ]
  },
  {
   "cell_type": "markdown",
   "metadata": {
    "colab_type": "text",
    "id": "7EzIeyD4cayG"
   },
   "source": [
    "### Define subset of the dataset (so it is faster to train)"
   ]
  },
  {
   "cell_type": "code",
   "execution_count": 0,
   "metadata": {
    "colab": {},
    "colab_type": "code",
    "id": "Nwu-wWh3cayI"
   },
   "outputs": [],
   "source": [
    "from torch.utils.data.sampler import SubsetRandomSampler\n",
    "\n",
    "n_training_samples = 20000 # Max: 50 000 - n_val_samples\n",
    "n_val_samples = 5000\n",
    "n_test_samples = 5000\n",
    "\n",
    "train_sampler = SubsetRandomSampler(np.arange(n_training_samples, dtype=np.int64))\n",
    "val_sampler = SubsetRandomSampler(np.arange(n_training_samples, n_training_samples + n_val_samples, dtype=np.int64))\n",
    "test_sampler = SubsetRandomSampler(np.arange(n_test_samples, dtype=np.int64))"
   ]
  },
  {
   "cell_type": "markdown",
   "metadata": {
    "colab_type": "text",
    "id": "evFXNmbst2Ez"
   },
   "source": [
    "The output of torchvision datasets are PILImage images of range [0, 1].\n",
    "We transform them to Tensors of normalized range [-1, 1]\n",
    "\n"
   ]
  },
  {
   "cell_type": "code",
   "execution_count": 0,
   "metadata": {
    "colab": {
     "base_uri": "https://localhost:8080/",
     "height": 51
    },
    "colab_type": "code",
    "id": "ZJ-hYN00t2E2",
    "outputId": "fa99ef86-341b-4528-d509-3f139b448650"
   },
   "outputs": [
    {
     "name": "stdout",
     "output_type": "stream",
     "text": [
      "Files already downloaded and verified\n",
      "Files already downloaded and verified\n"
     ]
    }
   ],
   "source": [
    "num_workers = 2\n",
    "test_batch_size = 4\n",
    "\n",
    "transform = transforms.Compose(\n",
    "    [transforms.ToTensor(),\n",
    "     transforms.Normalize((0.5, 0.5, 0.5), (0.5, 0.5, 0.5))])\n",
    "\n",
    "train_set = torchvision.datasets.CIFAR10(root='./data', train=True,\n",
    "                                        download=True, transform=transform)\n",
    "\n",
    "train_loader = torch.utils.data.DataLoader(train_set, batch_size=test_batch_size, sampler=train_sampler,\n",
    "                                          num_workers=num_workers)\n",
    "\n",
    "test_set = torchvision.datasets.CIFAR10(root='./data', train=False,\n",
    "                                       download=True, transform=transform)\n",
    "test_loader = torch.utils.data.DataLoader(test_set, batch_size=test_batch_size, sampler=test_sampler,\n",
    "                                         num_workers=num_workers)\n",
    "\n",
    "classes = ('plane', 'car', 'bird', 'cat',\n",
    "           'deer', 'dog', 'frog', 'horse', 'ship', 'truck')"
   ]
  },
  {
   "cell_type": "markdown",
   "metadata": {
    "colab_type": "text",
    "id": "cGWVnBOft2FI"
   },
   "source": [
    "Let us show some of the training images, for fun.\n",
    "\n"
   ]
  },
  {
   "cell_type": "code",
   "execution_count": 0,
   "metadata": {
    "colab": {},
    "colab_type": "code",
    "id": "68OfC35ut2FM"
   },
   "outputs": [],
   "source": [
    "# get some random training images\n",
    "dataiter = iter(train_loader)\n",
    "images, labels = dataiter.next()\n",
    "\n",
    "# show images\n",
    "#plt.imshow(torchvision.utils.make_grid(images))\n",
    "# print labels\n",
    "#print(' '.join('{:>10}'.format(classes[labels[j]]) for j in range(test_batch_size)))"
   ]
  },
  {
   "cell_type": "markdown",
   "metadata": {
    "colab_type": "text",
    "id": "8ULHEu5Zt2Fa"
   },
   "source": [
    "### 2. Define a Convolution Neural Network\n"
   ]
  },
  {
   "cell_type": "code",
   "execution_count": 0,
   "metadata": {
    "colab": {},
    "colab_type": "code",
    "id": "6k6rJyTTcayi"
   },
   "outputs": [],
   "source": [
    "# Useful imports\n",
    "import torch.nn as nn\n",
    "import torch.nn.functional as F"
   ]
  },
  {
   "cell_type": "markdown",
   "metadata": {
    "colab_type": "text",
    "id": "0JcmlEe8t2Fe"
   },
   "source": [
    "####  Forward propagation\n",
    "\n",
    "In PyTorch, there are built-in functions that carry out the convolution steps for you.\n",
    "\n",
    "- **nn.Conv2d(in_channels, out_channels, kernel_size, stride=1, padding=0):** Convolution layer. You can read the full documentation [here](http://pytorch.org/docs/master/nn.html#conv2d)\n",
    "\n",
    "- **nn.MaxPool2d(kernel_size, stride=None, padding=0):** Max pooling layer. You can read the full documentation [here](http://pytorch.org/docs/master/nn.html#maxpool2d)\n",
    "\n",
    "- **F.relu(Z1):** computes the elementwise ReLU of Z1 (which can be any shape). You can read the full documentation [here.](http://pytorch.org/docs/master/nn.html#torch.nn.ReLU)\n",
    "\n",
    "- **x.view(new_shape)**: Returns a new tensor with the same data but different size. It is the equivalent of numpy function *reshape* (Gives a new shape to an array without changing its data.). You can read the full documentation [here.](http://pytorch.org/docs/master/tensors.html#torch.Tensor.view)\n",
    "\n",
    "- **nn.Linear(in_features, out_features):** Applies a linear transformation to the incoming data: $y = Ax + b$, it is also called a fully connected layer. You can read the full documentation [here.](http://pytorch.org/docs/master/nn.html#linear-layers)"
   ]
  },
  {
   "cell_type": "markdown",
   "metadata": {
    "colab_type": "text",
    "id": "rbykSRDTcaym"
   },
   "source": [
    "#### Simple Convolutional Neural Network\n",
    "\n",
    "ConvNet with one convolution layer followed by a max pooling,\n",
    "one fully connected layer and the output layer"
   ]
  },
  {
   "cell_type": "code",
   "execution_count": 0,
   "metadata": {
    "colab": {},
    "colab_type": "code",
    "id": "X4pljAWycayn"
   },
   "outputs": [],
   "source": [
    "class SimpleConvolutionalNetwork(nn.Module):\n",
    "    def __init__(self):\n",
    "        super(SimpleConvolutionalNetwork, self).__init__()\n",
    "        \n",
    "        self.conv1 = nn.Conv2d(3, 18, kernel_size=3, stride=1, padding=1)\n",
    "        self.pool = nn.MaxPool2d(kernel_size=2, stride=2, padding=0)\n",
    "        \n",
    "        # cf comments in forward() to have step by step comments\n",
    "        # on the shape (how we pass from a 3x32x32 input image to a 18x16x16 volume)\n",
    "        self.fc1 = nn.Linear(18 * 16 * 16, 64) \n",
    "        self.fc2 = nn.Linear(64, 10)\n",
    "\n",
    "    def forward(self, x):\n",
    "        \"\"\"\n",
    "        Forward pass,\n",
    "        x shape is (batch_size, 3, 32, 32)\n",
    "        (color channel first)\n",
    "        in the comments, we omit the batch_size in the shape\n",
    "        \"\"\"\n",
    "        # shape : 3x32x32 -> 18x32x32\n",
    "        x = F.relu(self.conv1(x))\n",
    "        # 18x32x32 -> 18x16x16\n",
    "        x = self.pool(x)\n",
    "        # 18x16x16 -> 4608\n",
    "        x = x.view(-1, 18 * 16 * 16)\n",
    "        # 4608 -> 64\n",
    "        x = F.relu(self.fc1(x))\n",
    "        # 64 -> 10\n",
    "        # The softmax non-linearity is applied later (cf createLossAndOptimizer() fn)\n",
    "        x = self.fc2(x)\n",
    "        return x"
   ]
  },
  {
   "cell_type": "markdown",
   "metadata": {
    "colab_type": "text",
    "id": "2SQi9Xf-t2Fu"
   },
   "source": [
    "### 3. Define a Loss function and optimizer\n",
    "\n",
    "Let's use a Classification Cross-Entropy loss and ADAM (optionnaly SGD with momentum)\n",
    "\n"
   ]
  },
  {
   "cell_type": "code",
   "execution_count": 0,
   "metadata": {
    "colab": {},
    "colab_type": "code",
    "id": "DOUiPtZQt2Fx"
   },
   "outputs": [],
   "source": [
    "import torch.optim as optim\n",
    "\n",
    "def createLossAndOptimizer(net, learning_rate=0.001):\n",
    "    # it combines softmax with negative log likelihood loss\n",
    "    criterion = nn.CrossEntropyLoss()  \n",
    "    #optimizer = optim.SGD(net.parameters(), lr=learning_rate, momentum=0.9)\n",
    "    optimizer = optim.Adam(net.parameters(), lr=learning_rate)\n",
    "    return criterion, optimizer"
   ]
  },
  {
   "cell_type": "markdown",
   "metadata": {
    "colab_type": "text",
    "id": "saJW5bKRt2F9"
   },
   "source": [
    "### 4. Train the network\n",
    "\n",
    "\n",
    "This is when things start to get interesting.\n",
    "We simply have to loop over our data iterator, and feed the inputs to the\n",
    "network and optimize\n",
    "\n"
   ]
  },
  {
   "cell_type": "markdown",
   "metadata": {
    "colab_type": "text",
    "id": "mNf1e8QZcay1"
   },
   "source": [
    "#### Data loader"
   ]
  },
  {
   "cell_type": "code",
   "execution_count": 0,
   "metadata": {
    "colab": {},
    "colab_type": "code",
    "id": "EqDD8_z8cay2"
   },
   "outputs": [],
   "source": [
    "def get_train_loader(batch_size):\n",
    "    return torch.utils.data.DataLoader(train_set, batch_size=batch_size, sampler=train_sampler,\n",
    "                                              num_workers=num_workers)\n",
    "\n",
    "# Use larger batchsize for validation to speed up computation\n",
    "val_loader = torch.utils.data.DataLoader(train_set, batch_size=128, sampler=val_sampler,\n",
    "                                          num_workers=num_workers)"
   ]
  },
  {
   "cell_type": "markdown",
   "metadata": {
    "colab_type": "text",
    "id": "yTDHHbLpcay5"
   },
   "source": [
    "#### Training loop\n",
    "The training script: it takes ~10s per epoch with batch_size = 32"
   ]
  },
  {
   "cell_type": "code",
   "execution_count": 0,
   "metadata": {
    "colab": {},
    "colab_type": "code",
    "id": "dATbDR5pt2GE"
   },
   "outputs": [],
   "source": [
    "def train(net, batch_size, n_epochs, learning_rate):\n",
    "    \"\"\"\n",
    "    Train a neural network and print statistics of the training\n",
    "    \n",
    "    :param  net: (PyTorch Neural Network)\n",
    "    :param batch_size: (int)\n",
    "    :param n_epochs: (int)  Number of iterations on the training set\n",
    "    :param learning_rate: (float) learning rate used by the optimizer\n",
    "    \"\"\"\n",
    "    print(\"===== HYPERPARAMETERS =====\")\n",
    "    print(\"batch_size=\", batch_size)\n",
    "    print(\"n_epochs=\", n_epochs)\n",
    "    print(\"learning_rate=\", learning_rate)\n",
    "    print(\"=\" * 30)\n",
    "    \n",
    "    train_loader = get_train_loader(batch_size)\n",
    "    n_minibatches = len(train_loader)\n",
    "\n",
    "    criterion, optimizer = createLossAndOptimizer(net, learning_rate)\n",
    "    # Init variables used for plotting the loss\n",
    "    train_history = []\n",
    "    val_history = []\n",
    "\n",
    "    training_start_time = time.time()\n",
    "    best_error = np.inf\n",
    "    best_model_path = \"best_model.pth\"\n",
    "    \n",
    "    # Move model to gpu if possible\n",
    "    net = net.to(device)\n",
    "\n",
    "    for epoch in range(n_epochs):  # loop over the dataset multiple times\n",
    "\n",
    "        running_loss = 0.0\n",
    "        print_every = n_minibatches // 10\n",
    "        start_time = time.time()\n",
    "        total_train_loss = 0\n",
    "        \n",
    "        for i, (inputs, labels) in enumerate(train_loader):\n",
    "\n",
    "            # Move tensors to correct device\n",
    "            inputs, labels = inputs.to(device), labels.to(device)\n",
    "\n",
    "            # zero the parameter gradients\n",
    "            optimizer.zero_grad()\n",
    "\n",
    "            # forward + backward + optimize\n",
    "            outputs = net(inputs)\n",
    "            loss = criterion(outputs, labels)\n",
    "            loss.backward()\n",
    "            optimizer.step()\n",
    "\n",
    "            # print statistics\n",
    "            running_loss += loss.item()\n",
    "            total_train_loss += loss.item()\n",
    "\n",
    "            # print every 10th of epoch\n",
    "            if (i + 1) % (print_every + 1) == 0:    \n",
    "                print(\"Epoch {}, {:d}% \\t train_loss: {:.2f} took: {:.2f}s\".format(\n",
    "                      epoch + 1, int(100 * (i + 1) / n_minibatches), running_loss / print_every,\n",
    "                      time.time() - start_time))\n",
    "                running_loss = 0.0\n",
    "                start_time = time.time()\n",
    "\n",
    "        train_history.append(total_train_loss / len(train_loader))\n",
    "\n",
    "        total_val_loss = 0\n",
    "        # Do a pass on the validation set\n",
    "        # We don't need to compute gradient,\n",
    "        # we save memory and computation using th.no_grad()\n",
    "        with th.no_grad():\n",
    "          for inputs, labels in val_loader:\n",
    "              # Move tensors to correct device\n",
    "              inputs, labels = inputs.to(device), labels.to(device)\n",
    "              # Forward pass\n",
    "              predictions = net(inputs)\n",
    "              val_loss = criterion(predictions, labels)\n",
    "              total_val_loss += val_loss.item()\n",
    "            \n",
    "        val_history.append(total_val_loss / len(val_loader))\n",
    "        # Save model that performs best on validation set\n",
    "        if total_val_loss < best_error:\n",
    "            best_error = total_val_loss\n",
    "            th.save(net.state_dict(), best_model_path)\n",
    "\n",
    "        print(\"Validation loss = {:.2f}\".format(total_val_loss / len(val_loader)))\n",
    "\n",
    "    print(\"Training Finished, took {:.2f}s\".format(time.time() - training_start_time))\n",
    "    \n",
    "    # Load best model\n",
    "    net.load_state_dict(th.load(best_model_path))\n",
    "    \n",
    "    return train_history, val_history\n",
    "\n",
    "# functions to show an image\n",
    "def imshow(img):\n",
    "    \"\"\"\n",
    "    :param img: (PyTorch Tensor)\n",
    "    \"\"\"\n",
    "    # unnormalize\n",
    "    img = img / 2 + 0.5     \n",
    "    # Convert tensor to numpy array\n",
    "    npimg = img.numpy()\n",
    "    # Color channel first -> color channel last\n",
    "    plt.imshow(np.transpose(npimg, (1, 2, 0)))\n",
    "\n",
    "\n",
    "\n",
    "def plot_losses(train_history, val_history):\n",
    "    x = np.arange(1, len(train_history) + 1)\n",
    "\n",
    "    plt.figure(figsize=(8, 6))\n",
    "    plt.plot(x, train_history, color=colors[0], label=\"Training loss\", linewidth=2)\n",
    "    plt.plot(x, val_history, color=colors[1], label=\"Validation loss\", linewidth=2)\n",
    "    plt.xlabel('Epoch')\n",
    "    plt.ylabel('Loss')\n",
    "    plt.legend(loc='upper right')\n",
    "    plt.title(\"Evolution of the training and validation loss\")\n",
    "    plt.show()\n",
    "\n",
    "def plot_confusion_matrix(cm, classes,\n",
    "                          normalize=False,\n",
    "                          title='Confusion matrix',\n",
    "                          cmap=plt.cm.Blues):\n",
    "    \"\"\"\n",
    "    This function prints and plots the confusion matrix.\n",
    "    Normalization can be applied by setting `normalize=True`.\n",
    "    from http://scikit-learn.org/stable/auto_examples/model_selection/plot_confusion_matrix.html\n",
    "    :param cm: (numpy matrix) confusion matrix\n",
    "    :param classes: [str]\n",
    "    :param normalize: (bool)\n",
    "    :param title: (str)\n",
    "    :param cmap: (matplotlib color map)\n",
    "    \"\"\"\n",
    "    if normalize:\n",
    "        cm = cm.astype('float') / cm.sum(axis=1)[:, np.newaxis]\n",
    "        \n",
    "    plt.figure(figsize=(8, 8))   \n",
    "    plt.imshow(cm, interpolation='nearest', cmap=cmap)\n",
    "    plt.title(title)\n",
    "    plt.colorbar()\n",
    "    tick_marks = np.arange(len(classes))\n",
    "    plt.xticks(tick_marks, classes, rotation=45)\n",
    "    plt.yticks(tick_marks, classes)\n",
    "\n",
    "    fmt = '.2f' if normalize else 'd'\n",
    "    thresh = cm.max() / 2.\n",
    "    for i, j in itertools.product(range(cm.shape[0]), range(cm.shape[1])):\n",
    "        plt.text(j, i, format(cm[i, j], fmt),\n",
    "                 horizontalalignment=\"center\",\n",
    "                 color=\"white\" if cm[i, j] > thresh else \"black\")\n",
    "\n",
    "    plt.tight_layout()\n",
    "    plt.ylabel('True label')\n",
    "    plt.xlabel('Predicted label')"
   ]
  },
  {
   "cell_type": "code",
   "execution_count": 0,
   "metadata": {
    "colab": {
     "base_uri": "https://localhost:8080/",
     "height": 1000
    },
    "colab_type": "code",
    "id": "cJX2anB5cay_",
    "outputId": "b004661f-d9ad-4d7c-9bca-6d8f906fa4f4"
   },
   "outputs": [
    {
     "name": "stdout",
     "output_type": "stream",
     "text": [
      "===== HYPERPARAMETERS =====\n",
      "batch_size= 32\n",
      "n_epochs= 10\n",
      "learning_rate= 0.001\n",
      "==============================\n",
      "Epoch 1, 10% \t train_loss: 2.05 took: 0.61s\n",
      "Epoch 1, 20% \t train_loss: 1.86 took: 0.56s\n",
      "Epoch 1, 30% \t train_loss: 1.79 took: 0.54s\n",
      "Epoch 1, 40% \t train_loss: 1.70 took: 0.54s\n",
      "Epoch 1, 50% \t train_loss: 1.63 took: 0.52s\n",
      "Epoch 1, 60% \t train_loss: 1.58 took: 0.53s\n",
      "Epoch 1, 70% \t train_loss: 1.51 took: 0.51s\n",
      "Epoch 1, 80% \t train_loss: 1.47 took: 0.54s\n",
      "Epoch 1, 90% \t train_loss: 1.47 took: 0.50s\n",
      "Validation loss = 1.34\n",
      "Epoch 2, 10% \t train_loss: 1.40 took: 0.63s\n",
      "Epoch 2, 20% \t train_loss: 1.41 took: 0.54s\n",
      "Epoch 2, 30% \t train_loss: 1.31 took: 0.54s\n",
      "Epoch 2, 40% \t train_loss: 1.32 took: 0.55s\n",
      "Epoch 2, 50% \t train_loss: 1.35 took: 0.58s\n",
      "Epoch 2, 60% \t train_loss: 1.30 took: 0.54s\n",
      "Epoch 2, 70% \t train_loss: 1.29 took: 0.54s\n",
      "Epoch 2, 80% \t train_loss: 1.23 took: 0.52s\n",
      "Epoch 2, 90% \t train_loss: 1.31 took: 0.51s\n",
      "Validation loss = 1.29\n",
      "Epoch 3, 10% \t train_loss: 1.20 took: 0.60s\n",
      "Epoch 3, 20% \t train_loss: 1.16 took: 0.53s\n",
      "Epoch 3, 30% \t train_loss: 1.24 took: 0.50s\n",
      "Epoch 3, 40% \t train_loss: 1.23 took: 0.52s\n",
      "Epoch 3, 50% \t train_loss: 1.18 took: 0.52s\n",
      "Epoch 3, 60% \t train_loss: 1.18 took: 0.50s\n",
      "Epoch 3, 70% \t train_loss: 1.19 took: 0.53s\n",
      "Epoch 3, 80% \t train_loss: 1.18 took: 0.51s\n",
      "Epoch 3, 90% \t train_loss: 1.21 took: 0.50s\n",
      "Validation loss = 1.27\n",
      "Epoch 4, 10% \t train_loss: 1.11 took: 0.63s\n",
      "Epoch 4, 20% \t train_loss: 1.07 took: 0.52s\n",
      "Epoch 4, 30% \t train_loss: 1.09 took: 0.53s\n",
      "Epoch 4, 40% \t train_loss: 1.08 took: 0.52s\n",
      "Epoch 4, 50% \t train_loss: 1.13 took: 0.52s\n",
      "Epoch 4, 60% \t train_loss: 1.09 took: 0.51s\n",
      "Epoch 4, 70% \t train_loss: 1.14 took: 0.53s\n",
      "Epoch 4, 80% \t train_loss: 1.10 took: 0.52s\n",
      "Epoch 4, 90% \t train_loss: 1.06 took: 0.51s\n",
      "Validation loss = 1.20\n",
      "Epoch 5, 10% \t train_loss: 0.92 took: 0.59s\n",
      "Epoch 5, 20% \t train_loss: 1.00 took: 0.48s\n",
      "Epoch 5, 30% \t train_loss: 0.97 took: 0.53s\n",
      "Epoch 5, 40% \t train_loss: 1.02 took: 0.52s\n",
      "Epoch 5, 50% \t train_loss: 1.00 took: 0.53s\n",
      "Epoch 5, 60% \t train_loss: 1.05 took: 0.49s\n",
      "Epoch 5, 70% \t train_loss: 1.01 took: 0.52s\n",
      "Epoch 5, 80% \t train_loss: 1.02 took: 0.51s\n",
      "Epoch 5, 90% \t train_loss: 1.03 took: 0.51s\n",
      "Validation loss = 1.20\n",
      "Epoch 6, 10% \t train_loss: 0.92 took: 0.59s\n",
      "Epoch 6, 20% \t train_loss: 0.95 took: 0.48s\n",
      "Epoch 6, 30% \t train_loss: 0.92 took: 0.51s\n",
      "Epoch 6, 40% \t train_loss: 0.92 took: 0.49s\n",
      "Epoch 6, 50% \t train_loss: 0.89 took: 0.50s\n",
      "Epoch 6, 60% \t train_loss: 0.93 took: 0.51s\n",
      "Epoch 6, 70% \t train_loss: 0.95 took: 0.50s\n",
      "Epoch 6, 80% \t train_loss: 0.93 took: 0.52s\n",
      "Epoch 6, 90% \t train_loss: 0.96 took: 0.56s\n",
      "Validation loss = 1.18\n",
      "Epoch 7, 10% \t train_loss: 0.85 took: 0.60s\n",
      "Epoch 7, 20% \t train_loss: 0.82 took: 0.49s\n",
      "Epoch 7, 30% \t train_loss: 0.85 took: 0.50s\n",
      "Epoch 7, 40% \t train_loss: 0.84 took: 0.53s\n",
      "Epoch 7, 50% \t train_loss: 0.87 took: 0.51s\n",
      "Epoch 7, 60% \t train_loss: 0.88 took: 0.54s\n",
      "Epoch 7, 70% \t train_loss: 0.83 took: 0.51s\n",
      "Epoch 7, 80% \t train_loss: 0.85 took: 0.51s\n",
      "Epoch 7, 90% \t train_loss: 0.89 took: 0.51s\n",
      "Validation loss = 1.18\n",
      "Epoch 8, 10% \t train_loss: 0.73 took: 0.57s\n",
      "Epoch 8, 20% \t train_loss: 0.78 took: 0.53s\n",
      "Epoch 8, 30% \t train_loss: 0.77 took: 0.53s\n",
      "Epoch 8, 40% \t train_loss: 0.79 took: 0.54s\n",
      "Epoch 8, 50% \t train_loss: 0.83 took: 0.51s\n",
      "Epoch 8, 60% \t train_loss: 0.80 took: 0.50s\n",
      "Epoch 8, 70% \t train_loss: 0.80 took: 0.49s\n",
      "Epoch 8, 80% \t train_loss: 0.82 took: 0.52s\n",
      "Epoch 8, 90% \t train_loss: 0.81 took: 0.50s\n",
      "Validation loss = 1.25\n",
      "Epoch 9, 10% \t train_loss: 0.70 took: 0.59s\n",
      "Epoch 9, 20% \t train_loss: 0.70 took: 0.51s\n",
      "Epoch 9, 30% \t train_loss: 0.71 took: 0.50s\n",
      "Epoch 9, 40% \t train_loss: 0.76 took: 0.53s\n",
      "Epoch 9, 50% \t train_loss: 0.79 took: 0.51s\n",
      "Epoch 9, 60% \t train_loss: 0.72 took: 0.52s\n",
      "Epoch 9, 70% \t train_loss: 0.75 took: 0.50s\n",
      "Epoch 9, 80% \t train_loss: 0.72 took: 0.52s\n",
      "Epoch 9, 90% \t train_loss: 0.80 took: 0.52s\n",
      "Validation loss = 1.25\n",
      "Epoch 10, 10% \t train_loss: 0.64 took: 0.60s\n",
      "Epoch 10, 20% \t train_loss: 0.62 took: 0.51s\n",
      "Epoch 10, 30% \t train_loss: 0.68 took: 0.51s\n",
      "Epoch 10, 40% \t train_loss: 0.68 took: 0.51s\n",
      "Epoch 10, 50% \t train_loss: 0.68 took: 0.52s\n",
      "Epoch 10, 60% \t train_loss: 0.69 took: 0.51s\n",
      "Epoch 10, 70% \t train_loss: 0.70 took: 0.50s\n",
      "Epoch 10, 80% \t train_loss: 0.70 took: 0.50s\n",
      "Epoch 10, 90% \t train_loss: 0.71 took: 0.50s\n",
      "Validation loss = 1.25\n",
      "Training Finished, took 61.76s\n"
     ]
    }
   ],
   "source": [
    "net = SimpleConvolutionalNetwork()\n",
    "\n",
    "train_history, val_history = train(net, batch_size=32, n_epochs=10, learning_rate=0.001)"
   ]
  },
  {
   "cell_type": "markdown",
   "metadata": {
    "colab_type": "text",
    "id": "UkVKNPtccazC"
   },
   "source": [
    "Now, let's look at the evolution of the losses"
   ]
  },
  {
   "cell_type": "code",
   "execution_count": 0,
   "metadata": {
    "colab": {
     "base_uri": "https://localhost:8080/",
     "height": 404
    },
    "colab_type": "code",
    "id": "4CUQt-HJcazF",
    "outputId": "30b8c905-531f-459e-a85c-08d2a5813dba"
   },
   "outputs": [
    {
     "data": {
      "image/png": "[encoded data removed]",
      "text/plain": [
       "<Figure size 576x432 with 1 Axes>"
      ]
     },
     "metadata": {
      "tags": []
     },
     "output_type": "display_data"
    }
   ],
   "source": [
    "plot_losses(train_history, val_history)"
   ]
  },
  {
   "cell_type": "markdown",
   "metadata": {
    "colab_type": "text",
    "id": "O90WcUTwt2GU"
   },
   "source": [
    "### 5. Test the network on the test data\n",
    "\n",
    "\n",
    "We have trained the network for 2 passes over the training dataset.\n",
    "But we need to check if the network has learnt anything at all.\n",
    "\n",
    "We will check this by predicting the class label that the neural network\n",
    "outputs, and checking it against the ground-truth. If the prediction is\n",
    "correct, we add the sample to the list of correct predictions.\n",
    "\n",
    "Okay, first step. Let us display an image from the test set to get familiar.\n",
    "\n"
   ]
  },
  {
   "cell_type": "code",
   "execution_count": 0,
   "metadata": {
    "colab": {
     "base_uri": "https://localhost:8080/",
     "height": 189
    },
    "colab_type": "code",
    "id": "V4vljwBlt2GX",
    "outputId": "0129e06b-0434-4523-aa2c-0dbf98e2edd5"
   },
   "outputs": [
    {
     "name": "stdout",
     "output_type": "stream",
     "text": [
      "Ground truth:\n",
      "\n",
      "       cat      plane        car       frog\n"
     ]
    },
    {
     "data": {
      "image/png": "[encoded data removed]",
      "text/plain": [
       "<Figure size 432x288 with 1 Axes>"
      ]
     },
     "metadata": {
      "tags": []
     },
     "output_type": "display_data"
    }
   ],
   "source": [
    "try:\n",
    "  images, labels = next(iter(test_loader))\n",
    "except EOFError:\n",
    "  pass\n",
    "\n",
    "# print images\n",
    "imshow(torchvision.utils.make_grid(images))\n",
    "print(\"Ground truth:\\n\")\n",
    "\n",
    "print(' '.join('{:>10}'.format(classes[labels[j]]) for j in range(test_batch_size)))"
   ]
  },
  {
   "cell_type": "markdown",
   "metadata": {
    "colab_type": "text",
    "id": "KpmaQT4Zt2Gn"
   },
   "source": [
    "Okay, now let us see what the neural network thinks these examples above are:\n",
    "\n"
   ]
  },
  {
   "cell_type": "code",
   "execution_count": 0,
   "metadata": {
    "colab": {
     "base_uri": "https://localhost:8080/",
     "height": 34
    },
    "colab_type": "code",
    "id": "utIfocFrt2Gs",
    "outputId": "e956962c-86a7-4bc8-80d6-c7ec88c85705"
   },
   "outputs": [
    {
     "name": "stdout",
     "output_type": "stream",
     "text": [
      "torch.Size([4, 10])\n"
     ]
    }
   ],
   "source": [
    "outputs = net(images.to(device))\n",
    "print(outputs.size())"
   ]
  },
  {
   "cell_type": "markdown",
   "metadata": {
    "colab_type": "text",
    "id": "6mU42O0Gt2G2"
   },
   "source": [
    "The outputs are energies for the 10 classes.\n",
    "The higher the energy for a class, the more the network\n",
    "thinks that the image is from that particular class.\n",
    "So, let's get the index of the highest energy:\n",
    "\n"
   ]
  },
  {
   "cell_type": "code",
   "execution_count": 0,
   "metadata": {
    "colab": {
     "base_uri": "https://localhost:8080/",
     "height": 189
    },
    "colab_type": "code",
    "id": "IWTWHHs9t2G5",
    "outputId": "17db6a74-1571-4f3c-9902-e04d46ec3c60"
   },
   "outputs": [
    {
     "name": "stdout",
     "output_type": "stream",
     "text": [
      "Predicted:\n",
      "\n",
      "      frog      plane        car       frog\n"
     ]
    },
    {
     "data": {
      "image/png": "[encoded data removed]",
      "text/plain": [
       "<Figure size 432x288 with 1 Axes>"
      ]
     },
     "metadata": {
      "tags": []
     },
     "output_type": "display_data"
    }
   ],
   "source": [
    "_, predicted = torch.max(outputs, 1)\n",
    "\n",
    "print(\"Predicted:\\n\")\n",
    "imshow(torchvision.utils.make_grid(images))\n",
    "\n",
    "print(' '.join('{:>10}'.format(classes[predicted[j]]) for j in range(test_batch_size)))"
   ]
  },
  {
   "cell_type": "markdown",
   "metadata": {
    "colab_type": "text",
    "id": "AUpCEAOTt2HK"
   },
   "source": [
    "The results seem pretty good.\n",
    "\n",
    "Let us look at how the network performs on the whole test set.\n",
    "\n"
   ]
  },
  {
   "cell_type": "code",
   "execution_count": 0,
   "metadata": {
    "colab": {
     "base_uri": "https://localhost:8080/",
     "height": 85
    },
    "colab_type": "code",
    "id": "LI6JtYwTt2HM",
    "outputId": "47ea605f-3928-49cf-f971-1528644f8c07"
   },
   "outputs": [
    {
     "name": "stdout",
     "output_type": "stream",
     "text": [
      "Computing accuracy...\n",
      "Accuracy of the network on the 20000 train images: 75.10 %\n",
      "Accuracy of the network on the 5000 validation images: 59.62 %\n",
      "Accuracy of the network on the 5000 test images: 59.56 %\n"
     ]
    }
   ],
   "source": [
    "def dataset_accuracy(net, data_loader, name=\"\"):\n",
    "    net = net.to(device)\n",
    "    correct = 0\n",
    "    total = 0\n",
    "    for images, labels in data_loader:\n",
    "        images, labels = images.to(device), labels.to(device)\n",
    "        outputs = net(images)\n",
    "        _, predicted = torch.max(outputs, 1)\n",
    "        total += labels.size(0)\n",
    "        correct += (predicted == labels).sum()\n",
    "    accuracy = 100 * float(correct) / total\n",
    "    print('Accuracy of the network on the {} {} images: {:.2f} %'.format(total, name, accuracy))\n",
    "\n",
    "def train_set_accuracy(net):\n",
    "    dataset_accuracy(net, train_loader, \"train\")\n",
    "\n",
    "def val_set_accuracy(net):\n",
    "    dataset_accuracy(net, val_loader, \"validation\")  \n",
    "    \n",
    "def test_set_accuracy(net):\n",
    "    dataset_accuracy(net, test_loader, \"test\")\n",
    "\n",
    "def compute_accuracy(net):\n",
    "    train_set_accuracy(net)\n",
    "    val_set_accuracy(net)\n",
    "    test_set_accuracy(net)\n",
    "    \n",
    "print(\"Computing accuracy...\")\n",
    "compute_accuracy(net)"
   ]
  },
  {
   "cell_type": "markdown",
   "metadata": {
    "colab_type": "text",
    "id": "iGGyra-4t2HW"
   },
   "source": [
    "That looks waaay better than chance, which is 10% accuracy (randomly picking\n",
    "a class out of 10 classes).\n",
    "Seems like the network learnt something.\n",
    "As a baseline, a linear model achieves around 30% accuracy.\n",
    "\n",
    "What are the classes that performed well, and the classes that did\n",
    "not perform well?\n",
    "\n"
   ]
  },
  {
   "cell_type": "code",
   "execution_count": 0,
   "metadata": {
    "colab": {
     "base_uri": "https://localhost:8080/",
     "height": 204
    },
    "colab_type": "code",
    "id": "rkim9_INt2HY",
    "outputId": "881c8b6e-6bd8-4b11-918e-405feb933397"
   },
   "outputs": [
    {
     "name": "stdout",
     "output_type": "stream",
     "text": [
      "Class      Accuracy (%)\n",
      "plane        68.85   \n",
      "car          74.06   \n",
      "bird         48.63   \n",
      "cat          39.03   \n",
      "deer         58.38   \n",
      "dog          46.72   \n",
      "frog         69.65   \n",
      "horse        63.43   \n",
      "ship         66.67   \n",
      "truck        60.23   \n"
     ]
    }
   ],
   "source": [
    "def accuracy_per_class(net):\n",
    "    net = net.to(device)\n",
    "    n_classes = 10\n",
    "    # (real, predicted)\n",
    "    confusion_matrix = np.zeros((n_classes, n_classes), dtype=np.int64)\n",
    "\n",
    "    for images, labels in test_loader:\n",
    "        images, labels = images, labels = images.to(device), labels.to(device)\n",
    "        outputs = net(images)\n",
    "        _, predicted = torch.max(outputs.data, 1)\n",
    "        for i in range(test_batch_size):\n",
    "            confusion_matrix[labels[i], predicted[i]] += 1\n",
    "            label = labels[i]\n",
    "\n",
    "    print(\"{:<10} {:^10}\".format(\"Class\", \"Accuracy (%)\"))\n",
    "    for i in range(n_classes):\n",
    "        class_total = confusion_matrix[i, :].sum()\n",
    "        class_correct = confusion_matrix[i, i]\n",
    "        percentage_correct = 100.0 * float(class_correct) / class_total\n",
    "        \n",
    "        print('{:<10} {:^10.2f}'.format(classes[i], percentage_correct))\n",
    "    return confusion_matrix\n",
    "\n",
    "confusion_matrix = accuracy_per_class(net)"
   ]
  },
  {
   "cell_type": "markdown",
   "metadata": {
    "colab_type": "text",
    "id": "AZKLymOacazg"
   },
   "source": [
    "### Confusion Matrix"
   ]
  },
  {
   "cell_type": "markdown",
   "metadata": {
    "colab_type": "text",
    "id": "ekJHz3vpcazg"
   },
   "source": [
    "Let's look at what type of error our networks makes... \n",
    "It seems that our network is pretty good at classifying ships,\n",
    "but has some difficulties to differentiate cats and dogs.\n",
    "Also, it classifies a lot of trucks as cars."
   ]
  },
  {
   "cell_type": "code",
   "execution_count": 0,
   "metadata": {
    "colab": {
     "base_uri": "https://localhost:8080/",
     "height": 1000
    },
    "colab_type": "code",
    "id": "1aYMqD1Ocazi",
    "outputId": "c6008430-f916-47e9-eb3c-4797054d4a0e"
   },
   "outputs": [
    {
     "data": {
      "image/png": "[encoded data removed]",
      "text/plain": [
       "<Figure size 576x576 with 2 Axes>"
      ]
     },
     "metadata": {
      "tags": []
     },
     "output_type": "display_data"
    },
    {
     "data": {
      "image/png": "[encoded data removed]",
      "text/plain": [
       "<Figure size 576x576 with 2 Axes>"
      ]
     },
     "metadata": {
      "tags": []
     },
     "output_type": "display_data"
    }
   ],
   "source": [
    "# Plot normalized confusion matrix\n",
    "plot_confusion_matrix(confusion_matrix, classes, normalize=True,\n",
    "                      title='Normalized confusion matrix')\n",
    "\n",
    "# Plot non-normalized confusion matrix\n",
    "plot_confusion_matrix(confusion_matrix, classes,\n",
    "                      title='Confusion matrix, without normalization')"
   ]
  },
  {
   "cell_type": "markdown",
   "metadata": {
    "colab_type": "text",
    "id": "MVv-mV8Pt2Hs"
   },
   "source": [
    "# III. Exploring CNN Architectures\n",
    "\n",
    "Now, it is your turn to build a Convolutional Neural Network. The goal of this section is to explore different CNN architectures and setting hyperparameters in order to obtain the best accuracy on the test set!\n",
    "\n",
    "The network that you have to tweak is called **MyConvolutionalNetwork**.\n",
    "\n",
    "You can start changing the batch_size, number of epochs and then try adding more convolutional layers."
   ]
  },
  {
   "cell_type": "markdown",
   "metadata": {
    "colab_type": "text",
    "id": "h1blK9eicazo"
   },
   "source": [
    "### PyTorch functions to build the network\n",
    "- **nn.Conv2d(in_channels, out_channels, kernel_size, stride=1, padding=0):** Convolution layer. You can read the full documentation [here](http://pytorch.org/docs/master/nn.html#conv2d)\n",
    "\n",
    "- **nn.MaxPool2d(kernel_size, stride=None, padding=0):** Max pooling layer. You can read the full documentation [here](http://pytorch.org/docs/master/nn.html#maxpool2d)\n",
    "\n",
    "- **F.relu(Z1):** computes the element-wise ReLU of Z1 (which can be of any shape). You can read the full documentation [here.](http://pytorch.org/docs/master/nn.html#torch.nn.ReLU)\n",
    "\n",
    "- **x.view(new_shape)**: Returns a new tensor with the same data but different size. It is the equivalent of numpy function *reshape* (Gives a new shape to an array without changing its data.). You can read the full documentation [here.](http://pytorch.org/docs/master/tensors.html#torch.Tensor.view)\n",
    "\n",
    "- **nn.Linear(in_features, out_features):** Applies a linear transformation to the incoming data: $y = Ax + b$, it is also called a fully connected (fc) layer. You can read the full documentation [here.](http://pytorch.org/docs/master/nn.html#linear-layers)"
   ]
  },
  {
   "cell_type": "markdown",
   "metadata": {
    "colab_type": "text",
    "id": "a8-lKBaacazp"
   },
   "source": [
    "**Convolution Formulas**:\n",
    "\n",
    "The formulas relating the output shape $(C_2, H_2, W_2)$ of the convolution to the input shape $(C_1, H_1, W_1)$ are:\n",
    "\n",
    "\n",
    "$$ H_2 = \\lfloor \\frac{H_1 - kernel\\_size + 2 \\times padding}{stride} \\rfloor +1 $$\n",
    "\n",
    "$$ W_2 = \\lfloor \\frac{W_1 - kernel\\_size + 2 \\times padding}{stride} \\rfloor +1 $$\n",
    "\n",
    "$$ C_2 = \\text{number of filters used in the convolution}$$\n",
    "\n",
    "NOTE: $C_2 = C_1$ in the case of max pooling\n",
    "\n",
    "where:\n",
    "- $H_2$: height of the output volume  \n",
    "- $W_2$: width of the output volume  \n",
    "- $C_1$: in_channels, number of channels in the input volume\n",
    "- $C_2$: out_channels"
   ]
  },
  {
   "cell_type": "code",
   "execution_count": 0,
   "metadata": {
    "colab": {
     "base_uri": "https://localhost:8080/",
     "height": 51
    },
    "colab_type": "code",
    "id": "VknIhkqtk8Dr",
    "outputId": "a89a1516-41b0-4030-a125-71fc322ab0fe"
   },
   "outputs": [
    {
     "name": "stdout",
     "output_type": "stream",
     "text": [
      "Files already downloaded and verified\n",
      "Files already downloaded and verified\n"
     ]
    }
   ],
   "source": [
    "# All the imports needed for the assignment\n",
    "%matplotlib inline\n",
    "\n",
    "from __future__ import print_function, division\n",
    "\n",
    "import itertools\n",
    "import time\n",
    "\n",
    "\n",
    "import numpy as np\n",
    "import matplotlib.pyplot as plt\n",
    "\n",
    "import torch as th\n",
    "import numpy as np\n",
    "import time\n",
    "import matplotlib.pyplot as plt\n",
    "import torch\n",
    "import torchvision\n",
    "import torchvision.transforms as transforms\n",
    "\n",
    "import torch.nn as nn\n",
    "import torch.nn.functional as F\n",
    "\n",
    "import torch.optim as optim\n",
    "\n",
    "device = th.device(\"cuda\" if th.cuda.is_available() else \"cpu\")\n",
    "\n",
    "from torch.utils.data.sampler import SubsetRandomSampler\n",
    "\n",
    "n_training_samples = 20000 # Max: 50 000 - n_val_samples\n",
    "n_val_samples = 5000\n",
    "n_test_samples = 5000\n",
    "\n",
    "train_sampler = SubsetRandomSampler(np.arange(n_training_samples, dtype=np.int64))\n",
    "val_sampler = SubsetRandomSampler(np.arange(n_training_samples, n_training_samples + n_val_samples, dtype=np.int64))\n",
    "test_sampler = SubsetRandomSampler(np.arange(n_test_samples, dtype=np.int64))\n",
    "\n",
    "num_workers = 2\n",
    "test_batch_size = 4\n",
    "\n",
    "transform = transforms.Compose(\n",
    "    [transforms.ToTensor(),\n",
    "     transforms.Normalize((0.5, 0.5, 0.5), (0.5, 0.5, 0.5))])\n",
    "\n",
    "train_set = torchvision.datasets.CIFAR10(root='./data', train=True,\n",
    "                                        download=True, transform=transform)\n",
    "\n",
    "train_loader = torch.utils.data.DataLoader(train_set, batch_size=test_batch_size, sampler=train_sampler,\n",
    "                                          num_workers=num_workers)\n",
    "\n",
    "test_set = torchvision.datasets.CIFAR10(root='./data', train=False,\n",
    "                                       download=True, transform=transform)\n",
    "test_loader = torch.utils.data.DataLoader(test_set, batch_size=test_batch_size, sampler=test_sampler,\n",
    "                                         num_workers=num_workers)\n",
    "\n",
    "classes = ('plane', 'car', 'bird', 'cat',\n",
    "           'deer', 'dog', 'frog', 'horse', 'ship', 'truck')\n",
    "\n",
    "def train(net, batch_size, n_epochs, learning_rate):\n",
    "    \"\"\"\n",
    "    Train a neural network and print statistics of the training\n",
    "    \n",
    "    :param  net: (PyTorch Neural Network)\n",
    "    :param batch_size: (int)\n",
    "    :param n_epochs: (int)  Number of iterations on the training set\n",
    "    :param learning_rate: (float) learning rate used by the optimizer\n",
    "    \"\"\"\n",
    "    print(\"===== HYPERPARAMETERS =====\")\n",
    "    print(\"batch_size=\", batch_size)\n",
    "    print(\"n_epochs=\", n_epochs)\n",
    "    print(\"learning_rate=\", learning_rate)\n",
    "    print(\"=\" * 30)\n",
    "    \n",
    "    train_loader = get_train_loader(batch_size)\n",
    "    n_minibatches = len(train_loader)\n",
    "\n",
    "    criterion, optimizer = createLossAndOptimizer(net, learning_rate)\n",
    "    # Init variables used for plotting the loss\n",
    "    train_history = []\n",
    "    val_history = []\n",
    "\n",
    "    training_start_time = time.time()\n",
    "    best_error = np.inf\n",
    "    best_model_path = \"best_model.pth\"\n",
    "    \n",
    "    # Move model to gpu if possible\n",
    "    net = net.to(device)\n",
    "    net.train()\n",
    "\n",
    "    for epoch in range(n_epochs):  # loop over the dataset multiple times\n",
    "\n",
    "        running_loss = 0.0\n",
    "        print_every = n_minibatches // 10\n",
    "        start_time = time.time()\n",
    "        total_train_loss = 0\n",
    "        \n",
    "        for i, (inputs, labels) in enumerate(train_loader):\n",
    "\n",
    "            # Move tensors to correct device\n",
    "            inputs, labels = inputs.to(device), labels.to(device)\n",
    "\n",
    "            # zero the parameter gradients\n",
    "            optimizer.zero_grad()\n",
    "\n",
    "            # forward + backward + optimize\n",
    "            outputs = net(inputs)\n",
    "            loss = criterion(outputs, labels)\n",
    "            loss.backward()\n",
    "            optimizer.step()\n",
    "\n",
    "            # print statistics\n",
    "            running_loss += loss.item()\n",
    "            total_train_loss += loss.item()\n",
    "\n",
    "            # print every 10th of epoch\n",
    "            if (i + 1) % (print_every + 1) == 0:    \n",
    "                print(\"Epoch {}, {:d}% \\t train_loss: {:.2f} took: {:.2f}s\".format(\n",
    "                      epoch + 1, int(100 * (i + 1) / n_minibatches), running_loss / print_every,\n",
    "                      time.time() - start_time))\n",
    "                running_loss = 0.0\n",
    "                start_time = time.time()\n",
    "\n",
    "        train_history.append(total_train_loss / len(train_loader))\n",
    "\n",
    "        total_val_loss = 0\n",
    "        # Do a pass on the validation set\n",
    "        # We don't need to compute gradient,\n",
    "        # we save memory and computation using th.no_grad()\n",
    "        with th.no_grad():\n",
    "          for inputs, labels in val_loader:\n",
    "              # Move tensors to correct device\n",
    "              inputs, labels = inputs.to(device), labels.to(device)\n",
    "              # Forward pass\n",
    "              predictions = net(inputs)\n",
    "              val_loss = criterion(predictions, labels)\n",
    "              total_val_loss += val_loss.item()\n",
    "            \n",
    "        val_history.append(total_val_loss / len(val_loader))\n",
    "        # Save model that performs best on validation set\n",
    "        if total_val_loss < best_error:\n",
    "            best_error = total_val_loss\n",
    "            th.save(net.state_dict(), best_model_path)\n",
    "\n",
    "        print(\"Validation loss = {:.2f}\".format(total_val_loss / len(val_loader)))\n",
    "\n",
    "    print(\"Training Finished, took {:.2f}s\".format(time.time() - training_start_time))\n",
    "    \n",
    "    # Load best model\n",
    "    net.load_state_dict(th.load(best_model_path))\n",
    "    \n",
    "    return train_history, val_history\n",
    "\n",
    "def get_train_loader(batch_size):\n",
    "    return torch.utils.data.DataLoader(train_set, batch_size=batch_size, sampler=train_sampler,\n",
    "                                              num_workers=num_workers)\n",
    "\n",
    "# Use larger batchsize for validation to speed up computation\n",
    "val_loader = torch.utils.data.DataLoader(train_set, batch_size=128, sampler=val_sampler,\n",
    "                                          num_workers=num_workers)\n",
    "\n",
    "def createLossAndOptimizer(net, learning_rate=0.001):\n",
    "    # it combines softmax with negative log likelihood loss\n",
    "    criterion = nn.CrossEntropyLoss()  \n",
    "    #optimizer = optim.SGD(net.parameters(), lr=learning_rate, momentum=0.9)\n",
    "    optimizer = optim.Adam(net.parameters(), lr=learning_rate)\n",
    "    return criterion, optimizer\n",
    "\n",
    "def dataset_accuracy(net, data_loader, name=\"\"):\n",
    "    net = net.to(device)\n",
    "    correct = 0\n",
    "    total = 0\n",
    "    for images, labels in data_loader:\n",
    "        net.eval()\n",
    "        images, labels = images.to(device), labels.to(device)\n",
    "        outputs = net(images)\n",
    "        _, predicted = torch.max(outputs, 1)\n",
    "        total += labels.size(0)\n",
    "        correct += (predicted == labels).sum()\n",
    "    accuracy = 100 * float(correct) / total\n",
    "    print('Accuracy of the network on the {} {} images: {:.2f} %'.format(total, name, accuracy))\n",
    "\n",
    "def train_set_accuracy(net):\n",
    "    dataset_accuracy(net, train_loader, \"train\")\n",
    "\n",
    "def val_set_accuracy(net):\n",
    "    dataset_accuracy(net, val_loader, \"validation\")  \n",
    "    \n",
    "def test_set_accuracy(net):\n",
    "    dataset_accuracy(net, test_loader, \"test\")\n",
    "\n",
    "def compute_accuracy(net):\n",
    "    train_set_accuracy(net)\n",
    "    val_set_accuracy(net)\n",
    "    test_set_accuracy(net)\n",
    "    \n",
    "def accuracy_per_class(net):\n",
    "    net = net.to(device)\n",
    "    n_classes = 10\n",
    "    # (real, predicted)\n",
    "    confusion_matrix = np.zeros((n_classes, n_classes), dtype=np.int64)\n",
    "\n",
    "    for images, labels in test_loader:\n",
    "        images, labels = images, labels = images.to(device), labels.to(device)\n",
    "        outputs = net(images)\n",
    "        _, predicted = torch.max(outputs.data, 1)\n",
    "        for i in range(test_batch_size):\n",
    "            confusion_matrix[labels[i], predicted[i]] += 1\n",
    "            label = labels[i]\n",
    "\n",
    "    print(\"{:<10} {:^10}\".format(\"Class\", \"Accuracy (%)\"))\n",
    "    for i in range(n_classes):\n",
    "        class_total = confusion_matrix[i, :].sum()\n",
    "        class_correct = confusion_matrix[i, i]\n",
    "        percentage_correct = 100.0 * float(class_correct) / class_total\n",
    "        \n",
    "        print('{:<10} {:^10.2f}'.format(classes[i], percentage_correct))\n",
    "    return confusion_matrix\n",
    "\n",
    "\n",
    "colors = [[31, 120, 180], [51, 160, 44]]\n",
    "colors = [(r / 255, g / 255, b / 255) for (r, g, b) in colors]\n"
   ]
  },
  {
   "cell_type": "code",
   "execution_count": 0,
   "metadata": {
    "colab": {},
    "colab_type": "code",
    "id": "acppf3nkcazr"
   },
   "outputs": [],
   "source": [
    "def get_output_size(in_size, kernel_size, stride=1, padding=0):\n",
    "    \"\"\"\n",
    "    Get the output size given all the parameters of the convolution\n",
    "    :param in_size: (int) input size\n",
    "    :param kernel_size: (int)\n",
    "    :param stride: (int)\n",
    "    :param paddind: (int)\n",
    "    :return: (int)\n",
    "    \"\"\"\n",
    "    return int((in_size - kernel_size + 2 * padding) / stride) + 1"
   ]
  },
  {
   "cell_type": "markdown",
   "metadata": {
    "colab_type": "text",
    "id": "SEsbZoTOcazu"
   },
   "source": [
    "#### Example of use of helper method get_output_size() \n",
    "\n",
    "Let's assume you have an *input volume of size 3x32x32* (where 3 is the number of channels)\n",
    "and you use a 2D convolution with the following parameters:\n",
    "\n",
    "```python\n",
    "conv1 = nn.Conv2d(3, 18, kernel_size=7, stride=2, padding=1)\n",
    "```\n",
    "then, the size of the output volume is 18x?x? (because we have 18 filters) where ? is given by the convolution formulas (see above).\n",
    "\n",
    "**get_output_size()** function allows to compute that size:\n",
    "\n",
    "```\n",
    "out_size = get_output_size(in_size=32, kernel_size=7, stride=2, padding=1)\n",
    "print(out_size) # prints 14\n",
    "```\n",
    "\n",
    "That is to say, *the output volume is 18x14x14*"
   ]
  },
  {
   "cell_type": "code",
   "execution_count": 0,
   "metadata": {
    "colab": {
     "base_uri": "https://localhost:8080/",
     "height": 34
    },
    "colab_type": "code",
    "id": "2JFQ1wgKcazv",
    "outputId": "d0b9cdab-988d-433b-c301-291ae3d3512f"
   },
   "outputs": [
    {
     "name": "stdout",
     "output_type": "stream",
     "text": [
      "32\n"
     ]
    }
   ],
   "source": [
    "out_size = get_output_size(in_size=32, kernel_size=3, stride=1, padding=1)\n",
    "print(out_size)"
   ]
  },
  {
   "cell_type": "markdown",
   "metadata": {
    "colab_type": "text",
    "id": "wviV5iQIcazz"
   },
   "source": [
    "Below is the neural network you have to edit:"
   ]
  },
  {
   "cell_type": "code",
   "execution_count": 0,
   "metadata": {
    "colab": {},
    "colab_type": "code",
    "id": "fnKUPUDTcaz1"
   },
   "outputs": [],
   "source": [
    "class MyConvolutionalNetwork(nn.Module):\n",
    "    def __init__(self):\n",
    "        super(MyConvolutionalNetwork, self).__init__()\n",
    "        \n",
    "        self.conv1 = nn.Conv2d(3, 18, kernel_size=3, stride=1, padding=1)\n",
    "        self.pool = nn.MaxPool2d(kernel_size=2, stride=2, padding=0)\n",
    "\n",
    "        #### START CODE: ADD NEW LAYERS ####\n",
    "        # (do not forget to update `flattened_size`:\n",
    "        # the input size of the first fully connected layer self.fc1)\n",
    "        # self.conv2 = ...\n",
    "        \n",
    "        # Size of the output of the last convolution:\n",
    "        self.flattened_size = 18 * 16 * 16\n",
    "        ### END CODE ###\n",
    "        \n",
    "        self.fc1 = nn.Linear(self.flattened_size, 64)\n",
    "        self.fc2 = nn.Linear(64, 10)\n",
    "\n",
    "    def forward(self, x):\n",
    "        \"\"\"\n",
    "        Forward pass,\n",
    "        x shape is (batch_size, 3, 32, 32)\n",
    "        (color channel first)\n",
    "        in the comments, we omit the batch_size in the shape\n",
    "        \"\"\"\n",
    "        # shape : 3x32x32 -> 18x32x32\n",
    "        x = F.relu(self.conv1(x))\n",
    "        # 18x32x32 -> 18x16x16\n",
    "        x = self.pool(x)\n",
    "        \n",
    "        #### START CODE: USE YOUR NEW LAYERS HERE ####\n",
    "        # x = ...\n",
    "        \n",
    "        #### END CODE ####\n",
    "        \n",
    "        # Check the output size\n",
    "        output_size = np.prod(x.size()[1:])\n",
    "        assert output_size == self.flattened_size,\\\n",
    "                \"self.flattened_size is invalid {} != {}\".format(output_size, self.flattened_size)\n",
    "        \n",
    "        # 18x16x16 -> 4608\n",
    "        x = x.view(-1, self.flattened_size)\n",
    "        # 4608 -> 64\n",
    "        x = F.relu(self.fc1(x))\n",
    "        # 64 -> 10\n",
    "        x = self.fc2(x)\n",
    "        return x"
   ]
  },
  {
   "cell_type": "code",
   "execution_count": 0,
   "metadata": {
    "colab": {
     "base_uri": "https://localhost:8080/",
     "height": 647
    },
    "colab_type": "code",
    "id": "ruLWyTSocaz5",
    "outputId": "a9cc8ff4-72f7-45c5-dc83-5d9515b48d0a",
    "scrolled": false
   },
   "outputs": [
    {
     "name": "stdout",
     "output_type": "stream",
     "text": [
      "===== HYPERPARAMETERS =====\n",
      "batch_size= 128\n",
      "n_epochs= 20\n",
      "learning_rate= 0.001\n",
      "==============================\n",
      "Epoch 1, 10% \t train_loss: 2.30 took: 0.42s\n",
      "Epoch 1, 20% \t train_loss: 2.07 took: 0.35s\n",
      "Epoch 1, 30% \t train_loss: 1.93 took: 0.29s\n",
      "Epoch 1, 40% \t train_loss: 1.88 took: 0.30s\n",
      "Epoch 1, 50% \t train_loss: 1.81 took: 0.32s\n",
      "Epoch 1, 61% \t train_loss: 1.79 took: 0.30s\n",
      "Epoch 1, 71% \t train_loss: 1.77 took: 0.33s\n",
      "Epoch 1, 81% \t train_loss: 1.72 took: 0.31s\n",
      "Epoch 1, 91% \t train_loss: 1.70 took: 0.31s\n",
      "Validation loss = 1.49\n",
      "Epoch 2, 10% \t train_loss: 1.56 took: 0.39s\n",
      "Epoch 2, 20% \t train_loss: 1.54 took: 0.32s\n",
      "Epoch 2, 30% \t train_loss: 1.53 took: 0.32s\n",
      "Epoch 2, 40% \t train_loss: 1.52 took: 0.31s\n"
     ]
    },
    {
     "ename": "KeyboardInterrupt",
     "evalue": "ignored",
     "output_type": "error",
     "traceback": [
      "\u001b[0;31m---------------------------------------------------------------------------\u001b[0m",
      "\u001b[0;31mKeyboardInterrupt\u001b[0m                         Traceback (most recent call last)",
      "\u001b[0;32m<ipython-input-89-3fffb1bb00a3>\u001b[0m in \u001b[0;36m<module>\u001b[0;34m()\u001b[0m\n\u001b[1;32m      1\u001b[0m \u001b[0mnet\u001b[0m \u001b[0;34m=\u001b[0m \u001b[0mMyConvolutionalNetwork\u001b[0m\u001b[0;34m(\u001b[0m\u001b[0;34m)\u001b[0m\u001b[0;34m\u001b[0m\u001b[0;34m\u001b[0m\u001b[0m\n\u001b[0;32m----> 2\u001b[0;31m \u001b[0mtrain_history\u001b[0m\u001b[0;34m,\u001b[0m \u001b[0mval_history\u001b[0m \u001b[0;34m=\u001b[0m \u001b[0mtrain\u001b[0m\u001b[0;34m(\u001b[0m\u001b[0mnet\u001b[0m\u001b[0;34m,\u001b[0m \u001b[0mbatch_size\u001b[0m\u001b[0;34m=\u001b[0m\u001b[0;36m128\u001b[0m\u001b[0;34m,\u001b[0m \u001b[0mn_epochs\u001b[0m\u001b[0;34m=\u001b[0m\u001b[0;36m20\u001b[0m\u001b[0;34m,\u001b[0m \u001b[0mlearning_rate\u001b[0m\u001b[0;34m=\u001b[0m\u001b[0;36m0.001\u001b[0m\u001b[0;34m)\u001b[0m\u001b[0;34m\u001b[0m\u001b[0;34m\u001b[0m\u001b[0m\n\u001b[0m",
      "\u001b[0;32m<ipython-input-85-83c6a43fa8bf>\u001b[0m in \u001b[0;36mtrain\u001b[0;34m(net, batch_size, n_epochs, learning_rate)\u001b[0m\n\u001b[1;32m    106\u001b[0m             \u001b[0mloss\u001b[0m \u001b[0;34m=\u001b[0m \u001b[0mcriterion\u001b[0m\u001b[0;34m(\u001b[0m\u001b[0moutputs\u001b[0m\u001b[0;34m,\u001b[0m \u001b[0mlabels\u001b[0m\u001b[0;34m)\u001b[0m\u001b[0;34m\u001b[0m\u001b[0;34m\u001b[0m\u001b[0m\n\u001b[1;32m    107\u001b[0m             \u001b[0mloss\u001b[0m\u001b[0;34m.\u001b[0m\u001b[0mbackward\u001b[0m\u001b[0;34m(\u001b[0m\u001b[0;34m)\u001b[0m\u001b[0;34m\u001b[0m\u001b[0;34m\u001b[0m\u001b[0m\n\u001b[0;32m--> 108\u001b[0;31m             \u001b[0moptimizer\u001b[0m\u001b[0;34m.\u001b[0m\u001b[0mstep\u001b[0m\u001b[0;34m(\u001b[0m\u001b[0;34m)\u001b[0m\u001b[0;34m\u001b[0m\u001b[0;34m\u001b[0m\u001b[0m\n\u001b[0m\u001b[1;32m    109\u001b[0m \u001b[0;34m\u001b[0m\u001b[0m\n\u001b[1;32m    110\u001b[0m             \u001b[0;31m# print statistics\u001b[0m\u001b[0;34m\u001b[0m\u001b[0;34m\u001b[0m\u001b[0;34m\u001b[0m\u001b[0m\n",
      "\u001b[0;32m/usr/local/lib/python3.6/dist-packages/torch/optim/adam.py\u001b[0m in \u001b[0;36mstep\u001b[0;34m(self, closure)\u001b[0m\n\u001b[1;32m     94\u001b[0m                 \u001b[0;31m# Decay the first and second moment running average coefficient\u001b[0m\u001b[0;34m\u001b[0m\u001b[0;34m\u001b[0m\u001b[0;34m\u001b[0m\u001b[0m\n\u001b[1;32m     95\u001b[0m                 \u001b[0mexp_avg\u001b[0m\u001b[0;34m.\u001b[0m\u001b[0mmul_\u001b[0m\u001b[0;34m(\u001b[0m\u001b[0mbeta1\u001b[0m\u001b[0;34m)\u001b[0m\u001b[0;34m.\u001b[0m\u001b[0madd_\u001b[0m\u001b[0;34m(\u001b[0m\u001b[0;36m1\u001b[0m \u001b[0;34m-\u001b[0m \u001b[0mbeta1\u001b[0m\u001b[0;34m,\u001b[0m \u001b[0mgrad\u001b[0m\u001b[0;34m)\u001b[0m\u001b[0;34m\u001b[0m\u001b[0;34m\u001b[0m\u001b[0m\n\u001b[0;32m---> 96\u001b[0;31m                 \u001b[0mexp_avg_sq\u001b[0m\u001b[0;34m.\u001b[0m\u001b[0mmul_\u001b[0m\u001b[0;34m(\u001b[0m\u001b[0mbeta2\u001b[0m\u001b[0;34m)\u001b[0m\u001b[0;34m.\u001b[0m\u001b[0maddcmul_\u001b[0m\u001b[0;34m(\u001b[0m\u001b[0;36m1\u001b[0m \u001b[0;34m-\u001b[0m \u001b[0mbeta2\u001b[0m\u001b[0;34m,\u001b[0m \u001b[0mgrad\u001b[0m\u001b[0;34m,\u001b[0m \u001b[0mgrad\u001b[0m\u001b[0;34m)\u001b[0m\u001b[0;34m\u001b[0m\u001b[0;34m\u001b[0m\u001b[0m\n\u001b[0m\u001b[1;32m     97\u001b[0m                 \u001b[0;32mif\u001b[0m \u001b[0mamsgrad\u001b[0m\u001b[0;34m:\u001b[0m\u001b[0;34m\u001b[0m\u001b[0;34m\u001b[0m\u001b[0m\n\u001b[1;32m     98\u001b[0m                     \u001b[0;31m# Maintains the maximum of all 2nd moment running avg. till now\u001b[0m\u001b[0;34m\u001b[0m\u001b[0;34m\u001b[0m\u001b[0;34m\u001b[0m\u001b[0m\n",
      "\u001b[0;31mKeyboardInterrupt\u001b[0m: "
     ]
    }
   ],
   "source": [
    "net = MyConvolutionalNetwork()\n",
    "train_history, val_history = train(net, batch_size=128, n_epochs=20, learning_rate=0.001)"
   ]
  },
  {
   "cell_type": "markdown",
   "metadata": {
    "colab_type": "text",
    "id": "u7cgVbkDcaz9"
   },
   "source": [
    "### Losses Plot"
   ]
  },
  {
   "cell_type": "code",
   "execution_count": 0,
   "metadata": {
    "colab": {
     "base_uri": "https://localhost:8080/",
     "height": 404
    },
    "colab_type": "code",
    "id": "XtXu67qbcaz-",
    "outputId": "a181e2f8-a2c3-4a00-f6d4-8287fdf5f5a5"
   },
   "outputs": [
    {
     "data": {
      "image/png": "[encoded data removed]",
      "text/plain": [
       "<Figure size 576x432 with 1 Axes>"
      ]
     },
     "metadata": {
      "tags": []
     },
     "output_type": "display_data"
    }
   ],
   "source": [
    "plot_losses(train_history, val_history)"
   ]
  },
  {
   "cell_type": "markdown",
   "metadata": {
    "colab_type": "text",
    "id": "TuGKgAMWcaz_"
   },
   "source": [
    "### Accuracy of the trained model"
   ]
  },
  {
   "cell_type": "code",
   "execution_count": 0,
   "metadata": {
    "colab": {
     "base_uri": "https://localhost:8080/",
     "height": 68
    },
    "colab_type": "code",
    "id": "TWowqQhYca0B",
    "outputId": "704617fd-bb97-42c2-b34c-b2cc6893894a"
   },
   "outputs": [
    {
     "name": "stdout",
     "output_type": "stream",
     "text": [
      "Accuracy of the network on the 20000 train images: 71.57 %\n",
      "Accuracy of the network on the 5000 validation images: 60.74 %\n",
      "Accuracy of the network on the 5000 test images: 60.34 %\n"
     ]
    }
   ],
   "source": [
    "compute_accuracy(net)"
   ]
  },
  {
   "cell_type": "markdown",
   "metadata": {
    "colab_type": "text",
    "id": "WfIiHKoQa0Df"
   },
   "source": []
  },
  {
   "cell_type": "markdown",
   "metadata": {
    "colab_type": "text",
    "id": "st9f_4opca0F"
   },
   "source": [
    "**Baseline: Simple Convolutional Neural Network (form part II)**\n",
    "\n",
    "<table>\n",
    "<tr>\n",
    "    <td>Accuracy on the test set:</td>\n",
    "    <td>59.98 %</td>\n",
    "</tr>\n",
    "</table>"
   ]
  },
  {
   "cell_type": "code",
   "execution_count": 0,
   "metadata": {
    "colab": {},
    "colab_type": "code",
    "id": "OfMXb6kDca0G"
   },
   "outputs": [],
   "source": []
  },
  {
   "cell_type": "code",
   "execution_count": 0,
   "metadata": {
    "colab": {
     "base_uri": "https://localhost:8080/",
     "height": 164
    },
    "colab_type": "code",
    "id": "OKvmb4p-ca0I",
    "outputId": "a0b1ff65-8f02-40c1-fcd9-55ce71b8efcc"
   },
   "outputs": [
    {
     "ename": "NameError",
     "evalue": "ignored",
     "output_type": "error",
     "traceback": [
      "\u001b[0;31m---------------------------------------------------------------------------\u001b[0m",
      "\u001b[0;31mNameError\u001b[0m                                 Traceback (most recent call last)",
      "\u001b[0;32m<ipython-input-27-03050c5b5602>\u001b[0m in \u001b[0;36m<module>\u001b[0;34m()\u001b[0m\n\u001b[0;32m----> 1\u001b[0;31m \u001b[0mconfusion_matrix\u001b[0m \u001b[0;34m=\u001b[0m \u001b[0maccuracy_per_class\u001b[0m\u001b[0;34m(\u001b[0m\u001b[0mnet\u001b[0m\u001b[0;34m)\u001b[0m\u001b[0;34m\u001b[0m\u001b[0;34m\u001b[0m\u001b[0m\n\u001b[0m",
      "\u001b[0;31mNameError\u001b[0m: name 'accuracy_per_class' is not defined"
     ]
    }
   ],
   "source": [
    "confusion_matrix = accuracy_per_class(net)"
   ]
  },
  {
   "cell_type": "code",
   "execution_count": 0,
   "metadata": {
    "colab": {},
    "colab_type": "code",
    "id": "ih5Pj0WBca0L"
   },
   "outputs": [],
   "source": [
    "plot_confusion_matrix(confusion_matrix, classes,\n",
    "                      title='Confusion matrix, without normalization')"
   ]
  },
  {
   "cell_type": "code",
   "execution_count": 0,
   "metadata": {
    "colab": {},
    "colab_type": "code",
    "id": "mwl8_eOrVft6"
   },
   "outputs": [],
   "source": []
  },
  {
   "cell_type": "code",
   "execution_count": 0,
   "metadata": {
    "colab": {},
    "colab_type": "code",
    "id": "Cg4gyM2KVf94"
   },
   "outputs": [],
   "source": [
    "class MyConvolutionalNetwork(nn.Module):\n",
    "    def __init__(self):\n",
    "        super(MyConvolutionalNetwork, self).__init__()\n",
    "        \n",
    "        self.conv1 = nn.Conv2d(3, 18, kernel_size=3, stride=1, padding=1)\n",
    "        self.pool = nn.MaxPool2d(kernel_size=2, stride=2, padding=0)\n",
    "\n",
    "        #### START CODE: ADD NEW LAYERS ####\n",
    "        # (do not forget to update `flattened_size`:\n",
    "        # the input size of the first fully connected layer self.fc1)\n",
    "        # self.conv2 = ...\n",
    "        \n",
    "        # Size of the output of the last convolution:\n",
    "        self.flattened_size = 18 * 16 * 16\n",
    "        ### END CODE ###\n",
    "        \n",
    "        self.fc1 = nn.Linear(self.flattened_size, 64)\n",
    "        self.fc2 = nn.Linear(64, 10)\n",
    "\n",
    "    def forward(self, x):\n",
    "        \"\"\"\n",
    "        Forward pass,\n",
    "        x shape is (batch_size, 3, 32, 32)\n",
    "        (color channel first)\n",
    "        in the comments, we omit the batch_size in the shape\n",
    "        \"\"\"\n",
    "        # shape : 3x32x32 -> 18x32x32\n",
    "        x = F.relu(self.conv1(x))\n",
    "        # 18x32x32 -> 18x16x16\n",
    "        x = self.pool(x)\n",
    "        \n",
    "        #### START CODE: USE YOUR NEW LAYERS HERE ####\n",
    "        # x = ...\n",
    "        \n",
    "        #### END CODE ####\n",
    "        \n",
    "        # Check the output size\n",
    "        output_size = np.prod(x.size()[1:])\n",
    "        assert output_size == self.flattened_size,\\\n",
    "                \"self.flattened_size is invalid {} != {}\".format(output_size, self.flattened_size)\n",
    "        \n",
    "        # 18x16x16 -> 4608\n",
    "        x = x.view(-1, self.flattened_size)\n",
    "        # 4608 -> 64\n",
    "        x = F.relu(self.fc1(x))\n",
    "        # 64 -> 10\n",
    "        x = self.fc2(x)\n",
    "        return x"
   ]
  },
  {
   "cell_type": "code",
   "execution_count": 0,
   "metadata": {
    "colab": {
     "base_uri": "https://localhost:8080/",
     "height": 1000
    },
    "colab_type": "code",
    "id": "cTInOghNVf-L",
    "outputId": "70e340d2-9eaf-48f8-d2ad-58ec2e830d13",
    "scrolled": false
   },
   "outputs": [
    {
     "name": "stdout",
     "output_type": "stream",
     "text": [
      "===== HYPERPARAMETERS =====\n",
      "batch_size= 8\n",
      "n_epochs= 20\n",
      "learning_rate= 0.001\n",
      "==============================\n",
      "Epoch 1, 10% \t train_loss: 2.03 took: 1.22s\n",
      "Epoch 1, 20% \t train_loss: 1.84 took: 1.09s\n",
      "Epoch 1, 30% \t train_loss: 1.72 took: 1.06s\n",
      "Epoch 1, 40% \t train_loss: 1.63 took: 1.08s\n",
      "Epoch 1, 50% \t train_loss: 1.58 took: 1.10s\n",
      "Epoch 1, 60% \t train_loss: 1.55 took: 1.09s\n",
      "Epoch 1, 70% \t train_loss: 1.46 took: 1.12s\n",
      "Epoch 1, 80% \t train_loss: 1.52 took: 1.15s\n",
      "Epoch 1, 90% \t train_loss: 1.47 took: 1.15s\n",
      "Validation loss = 1.38\n",
      "Epoch 2, 10% \t train_loss: 1.36 took: 1.18s\n",
      "Epoch 2, 20% \t train_loss: 1.34 took: 1.08s\n",
      "Epoch 2, 30% \t train_loss: 1.29 took: 1.08s\n",
      "Epoch 2, 40% \t train_loss: 1.30 took: 1.11s\n",
      "Epoch 2, 50% \t train_loss: 1.34 took: 1.13s\n",
      "Epoch 2, 60% \t train_loss: 1.31 took: 1.15s\n",
      "Epoch 2, 70% \t train_loss: 1.32 took: 1.12s\n",
      "Epoch 2, 80% \t train_loss: 1.24 took: 1.12s\n",
      "Epoch 2, 90% \t train_loss: 1.27 took: 1.15s\n",
      "Validation loss = 1.23\n",
      "Epoch 3, 10% \t train_loss: 1.18 took: 1.14s\n",
      "Epoch 3, 20% \t train_loss: 1.15 took: 1.14s\n",
      "Epoch 3, 30% \t train_loss: 1.15 took: 1.14s\n",
      "Epoch 3, 40% \t train_loss: 1.18 took: 1.17s\n",
      "Epoch 3, 50% \t train_loss: 1.15 took: 1.05s\n",
      "Epoch 3, 60% \t train_loss: 1.16 took: 1.13s\n",
      "Epoch 3, 70% \t train_loss: 1.17 took: 1.12s\n",
      "Epoch 3, 80% \t train_loss: 1.12 took: 1.10s\n",
      "Epoch 3, 90% \t train_loss: 1.16 took: 1.13s\n",
      "Validation loss = 1.21\n",
      "Epoch 4, 10% \t train_loss: 1.03 took: 1.16s\n",
      "Epoch 4, 20% \t train_loss: 1.02 took: 1.14s\n",
      "Epoch 4, 30% \t train_loss: 1.10 took: 1.08s\n",
      "Epoch 4, 40% \t train_loss: 1.05 took: 1.14s\n",
      "Epoch 4, 50% \t train_loss: 1.06 took: 1.18s\n",
      "Epoch 4, 60% \t train_loss: 1.03 took: 1.12s\n",
      "Epoch 4, 70% \t train_loss: 1.06 took: 1.10s\n",
      "Epoch 4, 80% \t train_loss: 1.04 took: 1.13s\n",
      "Epoch 4, 90% \t train_loss: 1.05 took: 1.16s\n",
      "Validation loss = 1.17\n",
      "Epoch 5, 10% \t train_loss: 0.95 took: 1.15s\n",
      "Epoch 5, 20% \t train_loss: 0.90 took: 1.17s\n",
      "Epoch 5, 30% \t train_loss: 0.96 took: 1.12s\n",
      "Epoch 5, 40% \t train_loss: 0.96 took: 1.17s\n",
      "Epoch 5, 50% \t train_loss: 1.03 took: 1.19s\n",
      "Epoch 5, 60% \t train_loss: 0.96 took: 1.17s\n",
      "Epoch 5, 70% \t train_loss: 0.97 took: 1.23s\n",
      "Epoch 5, 80% \t train_loss: 0.96 took: 1.21s\n",
      "Epoch 5, 90% \t train_loss: 0.99 took: 1.14s\n",
      "Validation loss = 1.20\n",
      "Epoch 6, 10% \t train_loss: 0.81 took: 1.16s\n",
      "Epoch 6, 20% \t train_loss: 0.87 took: 1.14s\n",
      "Epoch 6, 30% \t train_loss: 0.89 took: 1.09s\n",
      "Epoch 6, 40% \t train_loss: 0.92 took: 1.13s\n",
      "Epoch 6, 50% \t train_loss: 0.86 took: 1.16s\n",
      "Epoch 6, 60% \t train_loss: 0.86 took: 1.15s\n",
      "Epoch 6, 70% \t train_loss: 0.97 took: 1.15s\n",
      "Epoch 6, 80% \t train_loss: 0.94 took: 1.09s\n",
      "Epoch 6, 90% \t train_loss: 0.93 took: 1.07s\n",
      "Validation loss = 1.23\n",
      "Epoch 7, 10% \t train_loss: 0.82 took: 1.18s\n",
      "Epoch 7, 20% \t train_loss: 0.79 took: 1.07s\n",
      "Epoch 7, 30% \t train_loss: 0.81 took: 1.12s\n",
      "Epoch 7, 40% \t train_loss: 0.84 took: 1.15s\n",
      "Epoch 7, 50% \t train_loss: 0.83 took: 1.11s\n",
      "Epoch 7, 60% \t train_loss: 0.79 took: 1.15s\n",
      "Epoch 7, 70% \t train_loss: 0.88 took: 1.14s\n",
      "Epoch 7, 80% \t train_loss: 0.82 took: 1.12s\n",
      "Epoch 7, 90% \t train_loss: 0.88 took: 1.15s\n",
      "Validation loss = 1.19\n",
      "Epoch 8, 10% \t train_loss: 0.70 took: 1.14s\n",
      "Epoch 8, 20% \t train_loss: 0.77 took: 1.13s\n",
      "Epoch 8, 30% \t train_loss: 0.74 took: 1.14s\n",
      "Epoch 8, 40% \t train_loss: 0.76 took: 1.10s\n",
      "Epoch 8, 50% \t train_loss: 0.83 took: 1.13s\n",
      "Epoch 8, 60% \t train_loss: 0.78 took: 1.11s\n",
      "Epoch 8, 70% \t train_loss: 0.77 took: 1.12s\n",
      "Epoch 8, 80% \t train_loss: 0.80 took: 1.09s\n",
      "Epoch 8, 90% \t train_loss: 0.83 took: 1.14s\n",
      "Validation loss = 1.27\n",
      "Epoch 9, 10% \t train_loss: 0.65 took: 1.23s\n",
      "Epoch 9, 20% \t train_loss: 0.67 took: 1.22s\n",
      "Epoch 9, 30% \t train_loss: 0.71 took: 1.13s\n",
      "Epoch 9, 40% \t train_loss: 0.66 took: 1.08s\n",
      "Epoch 9, 50% \t train_loss: 0.71 took: 1.14s\n",
      "Epoch 9, 60% \t train_loss: 0.77 took: 1.14s\n",
      "Epoch 9, 70% \t train_loss: 0.74 took: 1.14s\n",
      "Epoch 9, 80% \t train_loss: 0.78 took: 1.13s\n",
      "Epoch 9, 90% \t train_loss: 0.79 took: 1.16s\n",
      "Validation loss = 1.26\n",
      "Epoch 10, 10% \t train_loss: 0.61 took: 1.23s\n",
      "Epoch 10, 20% \t train_loss: 0.67 took: 1.12s\n",
      "Epoch 10, 30% \t train_loss: 0.60 took: 1.14s\n",
      "Epoch 10, 40% \t train_loss: 0.67 took: 1.15s\n",
      "Epoch 10, 50% \t train_loss: 0.69 took: 1.14s\n",
      "Epoch 10, 60% \t train_loss: 0.67 took: 1.11s\n",
      "Epoch 10, 70% \t train_loss: 0.73 took: 1.05s\n",
      "Epoch 10, 80% \t train_loss: 0.71 took: 1.12s\n",
      "Epoch 10, 90% \t train_loss: 0.69 took: 1.14s\n",
      "Validation loss = 1.35\n",
      "Epoch 11, 10% \t train_loss: 0.59 took: 1.18s\n",
      "Epoch 11, 20% \t train_loss: 0.58 took: 1.21s\n",
      "Epoch 11, 30% \t train_loss: 0.61 took: 1.13s\n",
      "Epoch 11, 40% \t train_loss: 0.60 took: 1.14s\n",
      "Epoch 11, 50% \t train_loss: 0.61 took: 1.15s\n",
      "Epoch 11, 60% \t train_loss: 0.65 took: 1.18s\n",
      "Epoch 11, 70% \t train_loss: 0.63 took: 1.12s\n",
      "Epoch 11, 80% \t train_loss: 0.66 took: 1.13s\n",
      "Epoch 11, 90% \t train_loss: 0.66 took: 1.11s\n",
      "Validation loss = 1.44\n",
      "Epoch 12, 10% \t train_loss: 0.54 took: 1.15s\n",
      "Epoch 12, 20% \t train_loss: 0.53 took: 1.13s\n",
      "Epoch 12, 30% \t train_loss: 0.56 took: 1.19s\n",
      "Epoch 12, 40% \t train_loss: 0.58 took: 1.14s\n",
      "Epoch 12, 50% \t train_loss: 0.58 took: 1.14s\n",
      "Epoch 12, 60% \t train_loss: 0.63 took: 1.11s\n",
      "Epoch 12, 70% \t train_loss: 0.61 took: 1.10s\n",
      "Epoch 12, 80% \t train_loss: 0.65 took: 1.10s\n",
      "Epoch 12, 90% \t train_loss: 0.60 took: 1.08s\n",
      "Validation loss = 1.46\n",
      "Epoch 13, 10% \t train_loss: 0.51 took: 1.19s\n",
      "Epoch 13, 20% \t train_loss: 0.50 took: 1.08s\n",
      "Epoch 13, 30% \t train_loss: 0.51 took: 1.07s\n",
      "Epoch 13, 40% \t train_loss: 0.51 took: 1.11s\n",
      "Epoch 13, 50% \t train_loss: 0.57 took: 1.18s\n",
      "Epoch 13, 60% \t train_loss: 0.54 took: 1.12s\n",
      "Epoch 13, 70% \t train_loss: 0.59 took: 1.15s\n",
      "Epoch 13, 80% \t train_loss: 0.60 took: 1.14s\n",
      "Epoch 13, 90% \t train_loss: 0.62 took: 1.09s\n",
      "Validation loss = 1.50\n",
      "Epoch 14, 10% \t train_loss: 0.44 took: 1.13s\n",
      "Epoch 14, 20% \t train_loss: 0.47 took: 1.08s\n",
      "Epoch 14, 30% \t train_loss: 0.49 took: 1.11s\n",
      "Epoch 14, 40% \t train_loss: 0.52 took: 1.05s\n",
      "Epoch 14, 50% \t train_loss: 0.52 took: 1.12s\n",
      "Epoch 14, 60% \t train_loss: 0.56 took: 1.10s\n",
      "Epoch 14, 70% \t train_loss: 0.57 took: 1.13s\n",
      "Epoch 14, 80% \t train_loss: 0.56 took: 1.17s\n",
      "Epoch 14, 90% \t train_loss: 0.54 took: 1.14s\n",
      "Validation loss = 1.59\n",
      "Epoch 15, 10% \t train_loss: 0.39 took: 1.16s\n",
      "Epoch 15, 20% \t train_loss: 0.45 took: 1.08s\n",
      "Epoch 15, 30% \t train_loss: 0.45 took: 1.09s\n",
      "Epoch 15, 40% \t train_loss: 0.48 took: 1.08s\n",
      "Epoch 15, 50% \t train_loss: 0.48 took: 1.12s\n",
      "Epoch 15, 60% \t train_loss: 0.49 took: 1.14s\n",
      "Epoch 15, 70% \t train_loss: 0.47 took: 1.13s\n",
      "Epoch 15, 80% \t train_loss: 0.53 took: 1.15s\n",
      "Epoch 15, 90% \t train_loss: 0.55 took: 1.11s\n",
      "Validation loss = 1.66\n",
      "Epoch 16, 10% \t train_loss: 0.37 took: 1.17s\n",
      "Epoch 16, 20% \t train_loss: 0.40 took: 1.14s\n",
      "Epoch 16, 30% \t train_loss: 0.42 took: 1.15s\n",
      "Epoch 16, 40% \t train_loss: 0.47 took: 1.12s\n",
      "Epoch 16, 50% \t train_loss: 0.45 took: 1.15s\n",
      "Epoch 16, 60% \t train_loss: 0.51 took: 1.16s\n",
      "Epoch 16, 70% \t train_loss: 0.46 took: 1.14s\n",
      "Epoch 16, 80% \t train_loss: 0.46 took: 1.11s\n",
      "Epoch 16, 90% \t train_loss: 0.46 took: 1.17s\n",
      "Validation loss = 1.78\n",
      "Epoch 17, 10% \t train_loss: 0.35 took: 1.17s\n",
      "Epoch 17, 20% \t train_loss: 0.38 took: 1.17s\n",
      "Epoch 17, 30% \t train_loss: 0.39 took: 1.14s\n",
      "Epoch 17, 40% \t train_loss: 0.44 took: 1.21s\n",
      "Epoch 17, 50% \t train_loss: 0.41 took: 1.21s\n",
      "Epoch 17, 60% \t train_loss: 0.42 took: 1.13s\n",
      "Epoch 17, 70% \t train_loss: 0.43 took: 1.17s\n",
      "Epoch 17, 80% \t train_loss: 0.46 took: 1.16s\n",
      "Epoch 17, 90% \t train_loss: 0.49 took: 1.18s\n",
      "Validation loss = 1.85\n",
      "Epoch 18, 10% \t train_loss: 0.35 took: 1.19s\n",
      "Epoch 18, 20% \t train_loss: 0.32 took: 1.12s\n",
      "Epoch 18, 30% \t train_loss: 0.37 took: 1.09s\n",
      "Epoch 18, 40% \t train_loss: 0.35 took: 1.08s\n",
      "Epoch 18, 50% \t train_loss: 0.39 took: 1.12s\n",
      "Epoch 18, 60% \t train_loss: 0.43 took: 1.11s\n",
      "Epoch 18, 70% \t train_loss: 0.40 took: 1.14s\n",
      "Epoch 18, 80% \t train_loss: 0.41 took: 1.10s\n",
      "Epoch 18, 90% \t train_loss: 0.44 took: 1.11s\n",
      "Validation loss = 2.04\n",
      "Epoch 19, 10% \t train_loss: 0.33 took: 1.15s\n",
      "Epoch 19, 20% \t train_loss: 0.29 took: 1.07s\n",
      "Epoch 19, 30% \t train_loss: 0.34 took: 1.10s\n",
      "Epoch 19, 40% \t train_loss: 0.38 took: 1.09s\n",
      "Epoch 19, 50% \t train_loss: 0.36 took: 1.08s\n",
      "Epoch 19, 60% \t train_loss: 0.41 took: 1.12s\n",
      "Epoch 19, 70% \t train_loss: 0.38 took: 1.15s\n",
      "Epoch 19, 80% \t train_loss: 0.40 took: 1.09s\n",
      "Epoch 19, 90% \t train_loss: 0.41 took: 1.10s\n",
      "Validation loss = 2.04\n",
      "Epoch 20, 10% \t train_loss: 0.28 took: 1.16s\n",
      "Epoch 20, 20% \t train_loss: 0.25 took: 1.13s\n",
      "Epoch 20, 30% \t train_loss: 0.30 took: 1.09s\n",
      "Epoch 20, 40% \t train_loss: 0.36 took: 1.10s\n",
      "Epoch 20, 50% \t train_loss: 0.33 took: 1.13s\n",
      "Epoch 20, 60% \t train_loss: 0.33 took: 1.13s\n",
      "Epoch 20, 70% \t train_loss: 0.43 took: 1.16s\n",
      "Epoch 20, 80% \t train_loss: 0.35 took: 1.18s\n",
      "Epoch 20, 90% \t train_loss: 0.36 took: 1.11s\n",
      "Validation loss = 2.13\n",
      "Training Finished, took 245.12s\n"
     ]
    }
   ],
   "source": [
    "net = MyConvolutionalNetwork()\n",
    "train_history, val_history = train(net, batch_size=8, n_epochs=20, learning_rate=0.001)"
   ]
  },
  {
   "cell_type": "markdown",
   "metadata": {
    "colab_type": "text",
    "id": "kRTgsR7zVf-X"
   },
   "source": [
    "### Losses Plot"
   ]
  },
  {
   "cell_type": "code",
   "execution_count": 0,
   "metadata": {
    "colab": {
     "base_uri": "https://localhost:8080/",
     "height": 404
    },
    "colab_type": "code",
    "id": "1UcJNFoFVf-Z",
    "outputId": "06b86a46-13dd-4bdf-857c-db651e699165"
   },
   "outputs": [
    {
     "data": {
      "image/png": "[encoded data removed]",
      "text/plain": [
       "<Figure size 576x432 with 1 Axes>"
      ]
     },
     "metadata": {
      "tags": []
     },
     "output_type": "display_data"
    }
   ],
   "source": [
    "plot_losses(train_history, val_history)"
   ]
  },
  {
   "cell_type": "markdown",
   "metadata": {
    "colab_type": "text",
    "id": "VFetAu0RVf-i"
   },
   "source": [
    "### Accuracy of the trained model"
   ]
  },
  {
   "cell_type": "code",
   "execution_count": 0,
   "metadata": {
    "colab": {
     "base_uri": "https://localhost:8080/",
     "height": 68
    },
    "colab_type": "code",
    "id": "Hk3C1A4pVf-l",
    "outputId": "8ce53550-380c-4c8b-e021-d73f317cd110"
   },
   "outputs": [
    {
     "name": "stdout",
     "output_type": "stream",
     "text": [
      "Accuracy of the network on the 20000 train images: 68.70 %\n",
      "Accuracy of the network on the 5000 validation images: 59.36 %\n",
      "Accuracy of the network on the 5000 test images: 60.06 %\n"
     ]
    }
   ],
   "source": [
    "compute_accuracy(net)"
   ]
  },
  {
   "cell_type": "markdown",
   "metadata": {
    "colab_type": "text",
    "id": "6NR-jeKdVf-s"
   },
   "source": [
    "**Baseline: Simple Convolutional Neural Network (form part II)**\n",
    "\n",
    "<table>\n",
    "<tr>\n",
    "    <td>Accuracy on the test set:</td>\n",
    "    <td>59.98 %</td>\n",
    "</tr>\n",
    "</table>"
   ]
  },
  {
   "cell_type": "code",
   "execution_count": 0,
   "metadata": {
    "colab": {},
    "colab_type": "code",
    "id": "B9NEffFCVf-u"
   },
   "outputs": [],
   "source": []
  },
  {
   "cell_type": "code",
   "execution_count": 0,
   "metadata": {
    "colab": {
     "base_uri": "https://localhost:8080/",
     "height": 204
    },
    "colab_type": "code",
    "id": "nwpjzlObVf-z",
    "outputId": "1c9b989e-97e6-4239-b989-4142d7d5d69c"
   },
   "outputs": [
    {
     "name": "stdout",
     "output_type": "stream",
     "text": [
      "Class      Accuracy (%)\n",
      "plane        64.75   \n",
      "car          77.03   \n",
      "bird         36.52   \n",
      "cat          42.66   \n",
      "deer         56.41   \n",
      "dog          37.09   \n",
      "frog         75.97   \n",
      "horse        73.13   \n",
      "ship         73.21   \n",
      "truck        63.94   \n"
     ]
    }
   ],
   "source": [
    "confusion_matrix = accuracy_per_class(net)"
   ]
  },
  {
   "cell_type": "code",
   "execution_count": 0,
   "metadata": {
    "colab": {
     "base_uri": "https://localhost:8080/",
     "height": 585
    },
    "colab_type": "code",
    "id": "kMhBb2Z2Vf-5",
    "outputId": "d6472fa8-1943-4df2-a6b2-fcb0433363ac"
   },
   "outputs": [
    {
     "data": {
      "image/png": "[encoded data removed]",
      "text/plain": [
       "<Figure size 576x576 with 2 Axes>"
      ]
     },
     "metadata": {
      "tags": []
     },
     "output_type": "display_data"
    }
   ],
   "source": [
    "plot_confusion_matrix(confusion_matrix, classes,\n",
    "                      title='Confusion matrix, without normalization')"
   ]
  },
  {
   "cell_type": "code",
   "execution_count": 0,
   "metadata": {
    "colab": {},
    "colab_type": "code",
    "id": "6riQU0OlVhel"
   },
   "outputs": [],
   "source": []
  },
  {
   "cell_type": "code",
   "execution_count": 0,
   "metadata": {
    "colab": {},
    "colab_type": "code",
    "id": "XC4yyW78Vhrm"
   },
   "outputs": [],
   "source": [
    "class MyConvolutionalNetwork(nn.Module):\n",
    "    def __init__(self):\n",
    "        super(MyConvolutionalNetwork, self).__init__()\n",
    "        \n",
    "        self.conv1 = nn.Conv2d(3, 18, kernel_size=3, stride=1, padding=1)\n",
    "        self.pool = nn.MaxPool2d(kernel_size=2, stride=2, padding=0)\n",
    "\n",
    "        #### START CODE: ADD NEW LAYERS ####\n",
    "        # (do not forget to update `flattened_size`:\n",
    "        # the input size of the first fully connected layer self.fc1)\n",
    "        self.conv2 = nn.Conv2d(18, 18, kernel_size=3, stride=1, padding=1)\n",
    "        self.pool2 = nn.MaxPool2d(kernel_size=2, stride = 2, padding = 0)\n",
    "        \n",
    "        # Size of the output of the last convolution:\n",
    "        self.flattened_size = 18 * 8 * 8\n",
    "        ### END CODE ###\n",
    "        \n",
    "        self.fc1 = nn.Linear(self.flattened_size, 64)\n",
    "        self.fc2 = nn.Linear(64, 10)\n",
    "\n",
    "    def forward(self, x):\n",
    "        \"\"\"\n",
    "        Forward pass,\n",
    "        x shape is (batch_size, 3, 32, 32)\n",
    "        (color channel first)\n",
    "        in the comments, we omit the batch_size in the shape\n",
    "        \"\"\"\n",
    "        # shape : 3x32x32 -> 18x32x32\n",
    "        x = F.relu(self.conv1(x))\n",
    "        # 18x32x32 -> 18x16x16\n",
    "        x = self.pool(x)\n",
    "        \n",
    "        #### START CODE: USE YOUR NEW LAYERS HERE ####\n",
    "        # x = ...\n",
    "        x = F.relu(self.conv2(x))\n",
    "        x = self.pool2(x)\n",
    "        #### END CODE ####\n",
    "        \n",
    "        # Check the output size\n",
    "        output_size = np.prod(x.size()[1:])\n",
    "        assert output_size == self.flattened_size,\\\n",
    "                \"self.flattened_size is invalid {} != {}\".format(output_size, self.flattened_size)\n",
    "        \n",
    "        # 18x16x16 -> 4608\n",
    "        x = x.view(-1, self.flattened_size)\n",
    "        # 4608 -> 64\n",
    "        x = F.relu(self.fc1(x))\n",
    "        # 64 -> 10\n",
    "        x = self.fc2(x)\n",
    "        return x"
   ]
  },
  {
   "cell_type": "code",
   "execution_count": 0,
   "metadata": {
    "colab": {
     "base_uri": "https://localhost:8080/",
     "height": 1000
    },
    "colab_type": "code",
    "id": "Wa3Yti0vVhru",
    "outputId": "c58bef17-a521-421e-e7a0-847351cc6913",
    "scrolled": false
   },
   "outputs": [
    {
     "name": "stdout",
     "output_type": "stream",
     "text": [
      "===== HYPERPARAMETERS =====\n",
      "batch_size= 32\n",
      "n_epochs= 20\n",
      "learning_rate= 0.001\n",
      "==============================\n",
      "Epoch 1, 10% \t train_loss: 2.14 took: 0.69s\n",
      "Epoch 1, 20% \t train_loss: 1.96 took: 0.48s\n",
      "Epoch 1, 30% \t train_loss: 1.86 took: 0.48s\n",
      "Epoch 1, 40% \t train_loss: 1.73 took: 0.48s\n",
      "Epoch 1, 50% \t train_loss: 1.62 took: 0.52s\n",
      "Epoch 1, 60% \t train_loss: 1.58 took: 0.48s\n",
      "Epoch 1, 70% \t train_loss: 1.54 took: 0.51s\n",
      "Epoch 1, 80% \t train_loss: 1.57 took: 0.51s\n",
      "Epoch 1, 90% \t train_loss: 1.50 took: 0.53s\n",
      "Validation loss = 1.38\n",
      "Epoch 2, 10% \t train_loss: 1.40 took: 0.55s\n",
      "Epoch 2, 20% \t train_loss: 1.43 took: 0.51s\n",
      "Epoch 2, 30% \t train_loss: 1.41 took: 0.47s\n",
      "Epoch 2, 40% \t train_loss: 1.35 took: 0.50s\n",
      "Epoch 2, 50% \t train_loss: 1.37 took: 0.48s\n",
      "Epoch 2, 60% \t train_loss: 1.30 took: 0.49s\n",
      "Epoch 2, 70% \t train_loss: 1.36 took: 0.48s\n",
      "Epoch 2, 80% \t train_loss: 1.34 took: 0.52s\n",
      "Epoch 2, 90% \t train_loss: 1.32 took: 0.50s\n",
      "Validation loss = 1.28\n",
      "Epoch 3, 10% \t train_loss: 1.26 took: 0.53s\n",
      "Epoch 3, 20% \t train_loss: 1.27 took: 0.53s\n",
      "Epoch 3, 30% \t train_loss: 1.22 took: 0.49s\n",
      "Epoch 3, 40% \t train_loss: 1.20 took: 0.51s\n",
      "Epoch 3, 50% \t train_loss: 1.26 took: 0.49s\n",
      "Epoch 3, 60% \t train_loss: 1.20 took: 0.49s\n",
      "Epoch 3, 70% \t train_loss: 1.19 took: 0.51s\n",
      "Epoch 3, 80% \t train_loss: 1.23 took: 0.50s\n",
      "Epoch 3, 90% \t train_loss: 1.21 took: 0.50s\n",
      "Validation loss = 1.20\n",
      "Epoch 4, 10% \t train_loss: 1.11 took: 0.54s\n",
      "Epoch 4, 20% \t train_loss: 1.14 took: 0.50s\n",
      "Epoch 4, 30% \t train_loss: 1.13 took: 0.48s\n",
      "Epoch 4, 40% \t train_loss: 1.11 took: 0.50s\n",
      "Epoch 4, 50% \t train_loss: 1.15 took: 0.49s\n",
      "Epoch 4, 60% \t train_loss: 1.11 took: 0.50s\n",
      "Epoch 4, 70% \t train_loss: 1.10 took: 0.51s\n",
      "Epoch 4, 80% \t train_loss: 1.13 took: 0.49s\n",
      "Epoch 4, 90% \t train_loss: 1.11 took: 0.49s\n",
      "Validation loss = 1.16\n",
      "Epoch 5, 10% \t train_loss: 1.07 took: 0.56s\n",
      "Epoch 5, 20% \t train_loss: 1.04 took: 0.49s\n",
      "Epoch 5, 30% \t train_loss: 1.04 took: 0.50s\n",
      "Epoch 5, 40% \t train_loss: 1.04 took: 0.50s\n",
      "Epoch 5, 50% \t train_loss: 1.05 took: 0.50s\n",
      "Epoch 5, 60% \t train_loss: 1.03 took: 0.48s\n",
      "Epoch 5, 70% \t train_loss: 1.01 took: 0.50s\n",
      "Epoch 5, 80% \t train_loss: 1.00 took: 0.49s\n",
      "Epoch 5, 90% \t train_loss: 1.00 took: 0.52s\n",
      "Validation loss = 1.12\n",
      "Epoch 6, 10% \t train_loss: 0.97 took: 0.54s\n",
      "Epoch 6, 20% \t train_loss: 0.95 took: 0.48s\n",
      "Epoch 6, 30% \t train_loss: 0.97 took: 0.49s\n",
      "Epoch 6, 40% \t train_loss: 0.93 took: 0.52s\n",
      "Epoch 6, 50% \t train_loss: 0.97 took: 0.50s\n",
      "Epoch 6, 60% \t train_loss: 0.96 took: 0.48s\n",
      "Epoch 6, 70% \t train_loss: 0.98 took: 0.51s\n",
      "Epoch 6, 80% \t train_loss: 0.96 took: 0.49s\n",
      "Epoch 6, 90% \t train_loss: 1.00 took: 0.52s\n",
      "Validation loss = 1.05\n",
      "Epoch 7, 10% \t train_loss: 0.87 took: 0.56s\n",
      "Epoch 7, 20% \t train_loss: 0.84 took: 0.48s\n",
      "Epoch 7, 30% \t train_loss: 0.94 took: 0.54s\n",
      "Epoch 7, 40% \t train_loss: 0.89 took: 0.48s\n",
      "Epoch 7, 50% \t train_loss: 0.93 took: 0.52s\n",
      "Epoch 7, 60% \t train_loss: 0.91 took: 0.50s\n",
      "Epoch 7, 70% \t train_loss: 0.98 took: 0.51s\n",
      "Epoch 7, 80% \t train_loss: 0.87 took: 0.49s\n",
      "Epoch 7, 90% \t train_loss: 0.91 took: 0.53s\n",
      "Validation loss = 1.03\n",
      "Epoch 8, 10% \t train_loss: 0.83 took: 0.54s\n",
      "Epoch 8, 20% \t train_loss: 0.83 took: 0.51s\n",
      "Epoch 8, 30% \t train_loss: 0.86 took: 0.54s\n",
      "Epoch 8, 40% \t train_loss: 0.83 took: 0.49s\n",
      "Epoch 8, 50% \t train_loss: 0.85 took: 0.52s\n",
      "Epoch 8, 60% \t train_loss: 0.88 took: 0.52s\n",
      "Epoch 8, 70% \t train_loss: 0.85 took: 0.51s\n",
      "Epoch 8, 80% \t train_loss: 0.86 took: 0.49s\n",
      "Epoch 8, 90% \t train_loss: 0.85 took: 0.47s\n",
      "Validation loss = 1.06\n",
      "Epoch 9, 10% \t train_loss: 0.81 took: 0.55s\n",
      "Epoch 9, 20% \t train_loss: 0.78 took: 0.49s\n",
      "Epoch 9, 30% \t train_loss: 0.78 took: 0.51s\n",
      "Epoch 9, 40% \t train_loss: 0.80 took: 0.48s\n",
      "Epoch 9, 50% \t train_loss: 0.78 took: 0.53s\n",
      "Epoch 9, 60% \t train_loss: 0.81 took: 0.52s\n",
      "Epoch 9, 70% \t train_loss: 0.83 took: 0.50s\n",
      "Epoch 9, 80% \t train_loss: 0.81 took: 0.51s\n",
      "Epoch 9, 90% \t train_loss: 0.79 took: 0.51s\n",
      "Validation loss = 1.04\n",
      "Epoch 10, 10% \t train_loss: 0.74 took: 0.55s\n",
      "Epoch 10, 20% \t train_loss: 0.71 took: 0.48s\n",
      "Epoch 10, 30% \t train_loss: 0.74 took: 0.46s\n",
      "Epoch 10, 40% \t train_loss: 0.73 took: 0.51s\n",
      "Epoch 10, 50% \t train_loss: 0.74 took: 0.51s\n",
      "Epoch 10, 60% \t train_loss: 0.77 took: 0.49s\n",
      "Epoch 10, 70% \t train_loss: 0.77 took: 0.48s\n",
      "Epoch 10, 80% \t train_loss: 0.83 took: 0.50s\n",
      "Epoch 10, 90% \t train_loss: 0.80 took: 0.47s\n",
      "Validation loss = 1.07\n",
      "Epoch 11, 10% \t train_loss: 0.66 took: 0.56s\n",
      "Epoch 11, 20% \t train_loss: 0.68 took: 0.47s\n",
      "Epoch 11, 30% \t train_loss: 0.72 took: 0.51s\n",
      "Epoch 11, 40% \t train_loss: 0.70 took: 0.49s\n",
      "Epoch 11, 50% \t train_loss: 0.74 took: 0.51s\n",
      "Epoch 11, 60% \t train_loss: 0.68 took: 0.48s\n",
      "Epoch 11, 70% \t train_loss: 0.73 took: 0.52s\n",
      "Epoch 11, 80% \t train_loss: 0.73 took: 0.48s\n",
      "Epoch 11, 90% \t train_loss: 0.78 took: 0.53s\n",
      "Validation loss = 1.09\n",
      "Epoch 12, 10% \t train_loss: 0.63 took: 0.54s\n",
      "Epoch 12, 20% \t train_loss: 0.67 took: 0.50s\n",
      "Epoch 12, 30% \t train_loss: 0.69 took: 0.50s\n",
      "Epoch 12, 40% \t train_loss: 0.68 took: 0.50s\n",
      "Epoch 12, 50% \t train_loss: 0.66 took: 0.47s\n",
      "Epoch 12, 60% \t train_loss: 0.63 took: 0.49s\n",
      "Epoch 12, 70% \t train_loss: 0.75 took: 0.49s\n",
      "Epoch 12, 80% \t train_loss: 0.69 took: 0.50s\n",
      "Epoch 12, 90% \t train_loss: 0.73 took: 0.50s\n",
      "Validation loss = 1.10\n",
      "Epoch 13, 10% \t train_loss: 0.60 took: 0.55s\n",
      "Epoch 13, 20% \t train_loss: 0.64 took: 0.47s\n",
      "Epoch 13, 30% \t train_loss: 0.59 took: 0.50s\n",
      "Epoch 13, 40% \t train_loss: 0.64 took: 0.48s\n",
      "Epoch 13, 50% \t train_loss: 0.64 took: 0.54s\n",
      "Epoch 13, 60% \t train_loss: 0.64 took: 0.48s\n",
      "Epoch 13, 70% \t train_loss: 0.70 took: 0.52s\n",
      "Epoch 13, 80% \t train_loss: 0.63 took: 0.48s\n",
      "Epoch 13, 90% \t train_loss: 0.66 took: 0.50s\n",
      "Validation loss = 1.13\n",
      "Epoch 14, 10% \t train_loss: 0.59 took: 0.55s\n",
      "Epoch 14, 20% \t train_loss: 0.57 took: 0.53s\n",
      "Epoch 14, 30% \t train_loss: 0.58 took: 0.49s\n",
      "Epoch 14, 40% \t train_loss: 0.60 took: 0.49s\n",
      "Epoch 14, 50% \t train_loss: 0.59 took: 0.49s\n",
      "Epoch 14, 60% \t train_loss: 0.57 took: 0.50s\n",
      "Epoch 14, 70% \t train_loss: 0.59 took: 0.50s\n",
      "Epoch 14, 80% \t train_loss: 0.62 took: 0.52s\n",
      "Epoch 14, 90% \t train_loss: 0.66 took: 0.50s\n",
      "Validation loss = 1.16\n",
      "Epoch 15, 10% \t train_loss: 0.49 took: 0.63s\n",
      "Epoch 15, 20% \t train_loss: 0.52 took: 0.47s\n",
      "Epoch 15, 30% \t train_loss: 0.55 took: 0.49s\n",
      "Epoch 15, 40% \t train_loss: 0.55 took: 0.47s\n",
      "Epoch 15, 50% \t train_loss: 0.54 took: 0.49s\n",
      "Epoch 15, 60% \t train_loss: 0.58 took: 0.50s\n",
      "Epoch 15, 70% \t train_loss: 0.61 took: 0.51s\n",
      "Epoch 15, 80% \t train_loss: 0.53 took: 0.51s\n",
      "Epoch 15, 90% \t train_loss: 0.62 took: 0.50s\n",
      "Validation loss = 1.17\n",
      "Epoch 16, 10% \t train_loss: 0.48 took: 0.54s\n",
      "Epoch 16, 20% \t train_loss: 0.52 took: 0.49s\n",
      "Epoch 16, 30% \t train_loss: 0.49 took: 0.50s\n",
      "Epoch 16, 40% \t train_loss: 0.55 took: 0.51s\n",
      "Epoch 16, 50% \t train_loss: 0.55 took: 0.48s\n",
      "Epoch 16, 60% \t train_loss: 0.52 took: 0.51s\n",
      "Epoch 16, 70% \t train_loss: 0.57 took: 0.51s\n",
      "Epoch 16, 80% \t train_loss: 0.58 took: 0.52s\n",
      "Epoch 16, 90% \t train_loss: 0.58 took: 0.52s\n",
      "Validation loss = 1.26\n",
      "Epoch 17, 10% \t train_loss: 0.47 took: 0.60s\n",
      "Epoch 17, 20% \t train_loss: 0.47 took: 0.51s\n",
      "Epoch 17, 30% \t train_loss: 0.50 took: 0.50s\n",
      "Epoch 17, 40% \t train_loss: 0.50 took: 0.50s\n",
      "Epoch 17, 50% \t train_loss: 0.49 took: 0.51s\n",
      "Epoch 17, 60% \t train_loss: 0.52 took: 0.52s\n",
      "Epoch 17, 70% \t train_loss: 0.52 took: 0.50s\n",
      "Epoch 17, 80% \t train_loss: 0.55 took: 0.51s\n",
      "Epoch 17, 90% \t train_loss: 0.61 took: 0.49s\n",
      "Validation loss = 1.24\n",
      "Epoch 18, 10% \t train_loss: 0.43 took: 0.57s\n",
      "Epoch 18, 20% \t train_loss: 0.43 took: 0.47s\n",
      "Epoch 18, 30% \t train_loss: 0.46 took: 0.51s\n",
      "Epoch 18, 40% \t train_loss: 0.44 took: 0.47s\n",
      "Epoch 18, 50% \t train_loss: 0.48 took: 0.49s\n",
      "Epoch 18, 60% \t train_loss: 0.50 took: 0.54s\n",
      "Epoch 18, 70% \t train_loss: 0.52 took: 0.50s\n",
      "Epoch 18, 80% \t train_loss: 0.49 took: 0.54s\n",
      "Epoch 18, 90% \t train_loss: 0.54 took: 0.50s\n",
      "Validation loss = 1.30\n",
      "Epoch 19, 10% \t train_loss: 0.39 took: 0.54s\n",
      "Epoch 19, 20% \t train_loss: 0.42 took: 0.53s\n",
      "Epoch 19, 30% \t train_loss: 0.43 took: 0.53s\n",
      "Epoch 19, 40% \t train_loss: 0.42 took: 0.50s\n",
      "Epoch 19, 50% \t train_loss: 0.46 took: 0.49s\n",
      "Epoch 19, 60% \t train_loss: 0.46 took: 0.51s\n",
      "Epoch 19, 70% \t train_loss: 0.45 took: 0.48s\n",
      "Epoch 19, 80% \t train_loss: 0.47 took: 0.50s\n",
      "Epoch 19, 90% \t train_loss: 0.53 took: 0.51s\n",
      "Validation loss = 1.35\n",
      "Epoch 20, 10% \t train_loss: 0.39 took: 0.54s\n",
      "Epoch 20, 20% \t train_loss: 0.40 took: 0.59s\n",
      "Epoch 20, 30% \t train_loss: 0.43 took: 0.51s\n",
      "Epoch 20, 40% \t train_loss: 0.42 took: 0.49s\n",
      "Epoch 20, 50% \t train_loss: 0.44 took: 0.48s\n",
      "Epoch 20, 60% \t train_loss: 0.44 took: 0.50s\n",
      "Epoch 20, 70% \t train_loss: 0.42 took: 0.50s\n",
      "Epoch 20, 80% \t train_loss: 0.45 took: 0.53s\n",
      "Epoch 20, 90% \t train_loss: 0.44 took: 0.50s\n",
      "Validation loss = 1.40\n",
      "Training Finished, took 117.28s\n"
     ]
    }
   ],
   "source": [
    "net = MyConvolutionalNetwork()\n",
    "train_history, val_history = train(net, batch_size=32, n_epochs=20, learning_rate=0.001)"
   ]
  },
  {
   "cell_type": "markdown",
   "metadata": {
    "colab_type": "text",
    "id": "hi3Sc2q4Vhr2"
   },
   "source": [
    "### Losses Plot"
   ]
  },
  {
   "cell_type": "code",
   "execution_count": 0,
   "metadata": {
    "colab": {
     "base_uri": "https://localhost:8080/",
     "height": 404
    },
    "colab_type": "code",
    "id": "_g65g8GOVhr4",
    "outputId": "a5a83b01-3499-48c4-dbfa-0a109761de42"
   },
   "outputs": [
    {
     "data": {
      "image/png": "[encoded data removed]",
      "text/plain": [
       "<Figure size 576x432 with 1 Axes>"
      ]
     },
     "metadata": {
      "tags": []
     },
     "output_type": "display_data"
    }
   ],
   "source": [
    "plot_losses(train_history, val_history)"
   ]
  },
  {
   "cell_type": "markdown",
   "metadata": {
    "colab_type": "text",
    "id": "R9Gd58_-VhsA"
   },
   "source": [
    "### Accuracy of the trained model"
   ]
  },
  {
   "cell_type": "code",
   "execution_count": 0,
   "metadata": {
    "colab": {
     "base_uri": "https://localhost:8080/",
     "height": 68
    },
    "colab_type": "code",
    "id": "buCei1tgVhsC",
    "outputId": "fb5c883b-b470-40aa-9a8d-bcfb99e68a58"
   },
   "outputs": [
    {
     "name": "stdout",
     "output_type": "stream",
     "text": [
      "Accuracy of the network on the 20000 train images: 72.08 %\n",
      "Accuracy of the network on the 5000 validation images: 63.58 %\n",
      "Accuracy of the network on the 5000 test images: 63.84 %\n"
     ]
    }
   ],
   "source": [
    "compute_accuracy(net)"
   ]
  },
  {
   "cell_type": "markdown",
   "metadata": {
    "colab_type": "text",
    "id": "8tobhNL3VhsI"
   },
   "source": [
    "**Baseline: Simple Convolutional Neural Network (form part II)**\n",
    "\n",
    "<table>\n",
    "<tr>\n",
    "    <td>Accuracy on the test set:</td>\n",
    "    <td>59.98 %</td>\n",
    "</tr>\n",
    "</table>"
   ]
  },
  {
   "cell_type": "code",
   "execution_count": 0,
   "metadata": {
    "colab": {},
    "colab_type": "code",
    "id": "m5UgMa2EVhsO"
   },
   "outputs": [],
   "source": []
  },
  {
   "cell_type": "code",
   "execution_count": 0,
   "metadata": {
    "colab": {
     "base_uri": "https://localhost:8080/",
     "height": 204
    },
    "colab_type": "code",
    "id": "K7No-F64VhsT",
    "outputId": "1f44841a-c69f-4a07-a4d3-eb421c2c4166"
   },
   "outputs": [
    {
     "name": "stdout",
     "output_type": "stream",
     "text": [
      "Class      Accuracy (%)\n",
      "plane        69.06   \n",
      "car          82.38   \n",
      "bird         57.81   \n",
      "cat          40.64   \n",
      "deer         48.72   \n",
      "dog          44.67   \n",
      "frog         75.97   \n",
      "horse        75.35   \n",
      "ship         74.80   \n",
      "truck        68.81   \n"
     ]
    }
   ],
   "source": [
    "confusion_matrix = accuracy_per_class(net)"
   ]
  },
  {
   "cell_type": "code",
   "execution_count": 0,
   "metadata": {
    "colab": {
     "base_uri": "https://localhost:8080/",
     "height": 585
    },
    "colab_type": "code",
    "id": "xtzfNDljVhsZ",
    "outputId": "b04378a8-979e-4c61-b7ef-cf1e5df3aa3f"
   },
   "outputs": [
    {
     "data": {
      "image/png": "[encoded data removed]",
      "text/plain": [
       "<Figure size 576x576 with 2 Axes>"
      ]
     },
     "metadata": {
      "tags": []
     },
     "output_type": "display_data"
    }
   ],
   "source": [
    "plot_confusion_matrix(confusion_matrix, classes,\n",
    "                      title='Confusion matrix, without normalization')"
   ]
  },
  {
   "cell_type": "code",
   "execution_count": 0,
   "metadata": {
    "colab": {},
    "colab_type": "code",
    "id": "5IM2nCdvVjET"
   },
   "outputs": [],
   "source": []
  },
  {
   "cell_type": "code",
   "execution_count": 0,
   "metadata": {
    "colab": {},
    "colab_type": "code",
    "id": "hE2DvmG-VjT0"
   },
   "outputs": [],
   "source": [
    "class MyConvolutionalNetwork(nn.Module):\n",
    "    def __init__(self):\n",
    "        super(MyConvolutionalNetwork, self).__init__()\n",
    "        \n",
    "        self.conv1 = nn.Conv2d(3, 18, kernel_size=3, stride=1, padding=1)\n",
    "        self.pool = nn.MaxPool2d(kernel_size=2, stride=2, padding=0)\n",
    "\n",
    "        #### START CODE: ADD NEW LAYERS ####\n",
    "        # (do not forget to update `flattened_size`:\n",
    "        # the input size of the first fully connected layer self.fc1)\n",
    "        # self.conv2 = ...\n",
    "        self.conv2 = nn.Conv2d(18, 18, kernel_size=3, stride=1, padding=1)\n",
    "        self.conv3 = nn.Conv2d(18, 18, kernel_size=3, stride=1, padding=1)\n",
    "        self.pool2 = nn.MaxPool2d(kernel_size=2, stride = 2, padding = 0)\n",
    "\n",
    "        # Size of the output of the last convolution:\n",
    "        self.flattened_size = 18 * 8 * 8\n",
    "        ### END CODE ###\n",
    "        \n",
    "        self.fc1 = nn.Linear(self.flattened_size, 64)\n",
    "        self.fc2 = nn.Linear(64, 10)\n",
    "\n",
    "    def forward(self, x):\n",
    "        \"\"\"\n",
    "        Forward pass,\n",
    "        x shape is (batch_size, 3, 32, 32)\n",
    "        (color channel first)\n",
    "        in the comments, we omit the batch_size in the shape\n",
    "        \"\"\"\n",
    "        # shape : 3x32x32 -> 18x32x32\n",
    "        x = F.relu(self.conv1(x))\n",
    "        # 18x32x32 -> 18x16x16\n",
    "        x = self.pool(x)\n",
    "        \n",
    "        #### START CODE: USE YOUR NEW LAYERS HERE ####\n",
    "        # x = ...\n",
    "        x = F.relu(self.conv2(x))\n",
    "        x = F.relu(self.conv3(x))\n",
    "        x = self.pool2(x)\n",
    "        \n",
    "        #### END CODE ####\n",
    "        \n",
    "        # Check the output size\n",
    "        output_size = np.prod(x.size()[1:])\n",
    "        assert output_size == self.flattened_size,\\\n",
    "                \"self.flattened_size is invalid {} != {}\".format(output_size, self.flattened_size)\n",
    "        \n",
    "        # 18x16x16 -> 4608\n",
    "        x = x.view(-1, self.flattened_size)\n",
    "        # 4608 -> 64\n",
    "        x = F.relu(self.fc1(x))\n",
    "        # 64 -> 10\n",
    "        x = self.fc2(x)\n",
    "        return x"
   ]
  },
  {
   "cell_type": "code",
   "execution_count": 0,
   "metadata": {
    "colab": {
     "base_uri": "https://localhost:8080/",
     "height": 1000
    },
    "colab_type": "code",
    "id": "8w8xM2zsVjT7",
    "outputId": "c640420b-2905-4161-8645-738e6795ce86",
    "scrolled": false
   },
   "outputs": [
    {
     "name": "stdout",
     "output_type": "stream",
     "text": [
      "===== HYPERPARAMETERS =====\n",
      "batch_size= 32\n",
      "n_epochs= 20\n",
      "learning_rate= 0.001\n",
      "==============================\n",
      "Epoch 1, 10% \t train_loss: 2.21 took: 0.61s\n",
      "Epoch 1, 20% \t train_loss: 1.95 took: 0.52s\n",
      "Epoch 1, 30% \t train_loss: 1.77 took: 0.58s\n",
      "Epoch 1, 40% \t train_loss: 1.70 took: 0.52s\n",
      "Epoch 1, 50% \t train_loss: 1.64 took: 0.51s\n",
      "Epoch 1, 60% \t train_loss: 1.58 took: 0.54s\n",
      "Epoch 1, 70% \t train_loss: 1.57 took: 0.53s\n",
      "Epoch 1, 80% \t train_loss: 1.50 took: 0.53s\n",
      "Epoch 1, 90% \t train_loss: 1.52 took: 0.53s\n",
      "Validation loss = 1.40\n",
      "Epoch 2, 10% \t train_loss: 1.42 took: 0.59s\n",
      "Epoch 2, 20% \t train_loss: 1.42 took: 0.49s\n",
      "Epoch 2, 30% \t train_loss: 1.37 took: 0.52s\n",
      "Epoch 2, 40% \t train_loss: 1.39 took: 0.50s\n",
      "Epoch 2, 50% \t train_loss: 1.37 took: 0.52s\n",
      "Epoch 2, 60% \t train_loss: 1.35 took: 0.50s\n",
      "Epoch 2, 70% \t train_loss: 1.35 took: 0.53s\n",
      "Epoch 2, 80% \t train_loss: 1.36 took: 0.51s\n",
      "Epoch 2, 90% \t train_loss: 1.30 took: 0.53s\n",
      "Validation loss = 1.26\n",
      "Epoch 3, 10% \t train_loss: 1.28 took: 0.60s\n",
      "Epoch 3, 20% \t train_loss: 1.24 took: 0.52s\n",
      "Epoch 3, 30% \t train_loss: 1.21 took: 0.59s\n",
      "Epoch 3, 40% \t train_loss: 1.30 took: 0.52s\n",
      "Epoch 3, 50% \t train_loss: 1.24 took: 0.52s\n",
      "Epoch 3, 60% \t train_loss: 1.20 took: 0.52s\n",
      "Epoch 3, 70% \t train_loss: 1.21 took: 0.52s\n",
      "Epoch 3, 80% \t train_loss: 1.18 took: 0.51s\n",
      "Epoch 3, 90% \t train_loss: 1.19 took: 0.54s\n",
      "Validation loss = 1.16\n",
      "Epoch 4, 10% \t train_loss: 1.10 took: 0.60s\n",
      "Epoch 4, 20% \t train_loss: 1.10 took: 0.50s\n",
      "Epoch 4, 30% \t train_loss: 1.13 took: 0.53s\n",
      "Epoch 4, 40% \t train_loss: 1.13 took: 0.50s\n",
      "Epoch 4, 50% \t train_loss: 1.11 took: 0.51s\n",
      "Epoch 4, 60% \t train_loss: 1.11 took: 0.54s\n",
      "Epoch 4, 70% \t train_loss: 1.12 took: 0.54s\n",
      "Epoch 4, 80% \t train_loss: 1.09 took: 0.52s\n",
      "Epoch 4, 90% \t train_loss: 1.09 took: 0.54s\n",
      "Validation loss = 1.10\n",
      "Epoch 5, 10% \t train_loss: 1.02 took: 0.62s\n",
      "Epoch 5, 20% \t train_loss: 1.03 took: 0.52s\n",
      "Epoch 5, 30% \t train_loss: 1.02 took: 0.58s\n",
      "Epoch 5, 40% \t train_loss: 1.01 took: 0.53s\n",
      "Epoch 5, 50% \t train_loss: 1.01 took: 0.53s\n",
      "Epoch 5, 60% \t train_loss: 1.04 took: 0.52s\n",
      "Epoch 5, 70% \t train_loss: 1.00 took: 0.53s\n",
      "Epoch 5, 80% \t train_loss: 1.07 took: 0.54s\n",
      "Epoch 5, 90% \t train_loss: 1.00 took: 0.53s\n",
      "Validation loss = 1.08\n",
      "Epoch 6, 10% \t train_loss: 0.97 took: 0.58s\n",
      "Epoch 6, 20% \t train_loss: 0.93 took: 0.60s\n",
      "Epoch 6, 30% \t train_loss: 0.94 took: 0.53s\n",
      "Epoch 6, 40% \t train_loss: 0.97 took: 0.53s\n",
      "Epoch 6, 50% \t train_loss: 0.98 took: 0.52s\n",
      "Epoch 6, 60% \t train_loss: 1.00 took: 0.55s\n",
      "Epoch 6, 70% \t train_loss: 0.98 took: 0.58s\n",
      "Epoch 6, 80% \t train_loss: 0.97 took: 0.54s\n",
      "Epoch 6, 90% \t train_loss: 0.95 took: 0.52s\n",
      "Validation loss = 1.04\n",
      "Epoch 7, 10% \t train_loss: 0.89 took: 0.57s\n",
      "Epoch 7, 20% \t train_loss: 0.90 took: 0.52s\n",
      "Epoch 7, 30% \t train_loss: 0.88 took: 0.51s\n",
      "Epoch 7, 40% \t train_loss: 0.93 took: 0.52s\n",
      "Epoch 7, 50% \t train_loss: 0.93 took: 0.50s\n",
      "Epoch 7, 60% \t train_loss: 0.88 took: 0.53s\n",
      "Epoch 7, 70% \t train_loss: 0.92 took: 0.52s\n",
      "Epoch 7, 80% \t train_loss: 0.92 took: 0.51s\n",
      "Epoch 7, 90% \t train_loss: 0.91 took: 0.51s\n",
      "Validation loss = 1.13\n",
      "Epoch 8, 10% \t train_loss: 0.81 took: 0.63s\n",
      "Epoch 8, 20% \t train_loss: 0.84 took: 0.48s\n",
      "Epoch 8, 30% \t train_loss: 0.84 took: 0.55s\n",
      "Epoch 8, 40% \t train_loss: 0.81 took: 0.53s\n",
      "Epoch 8, 50% \t train_loss: 0.82 took: 0.53s\n",
      "Epoch 8, 60% \t train_loss: 0.86 took: 0.51s\n",
      "Epoch 8, 70% \t train_loss: 0.87 took: 0.53s\n",
      "Epoch 8, 80% \t train_loss: 0.84 took: 0.52s\n",
      "Epoch 8, 90% \t train_loss: 0.86 took: 0.52s\n",
      "Validation loss = 1.05\n",
      "Epoch 9, 10% \t train_loss: 0.72 took: 0.59s\n",
      "Epoch 9, 20% \t train_loss: 0.77 took: 0.50s\n",
      "Epoch 9, 30% \t train_loss: 0.78 took: 0.54s\n",
      "Epoch 9, 40% \t train_loss: 0.83 took: 0.50s\n",
      "Epoch 9, 50% \t train_loss: 0.81 took: 0.59s\n",
      "Epoch 9, 60% \t train_loss: 0.80 took: 0.52s\n",
      "Epoch 9, 70% \t train_loss: 0.78 took: 0.61s\n",
      "Epoch 9, 80% \t train_loss: 0.81 took: 0.52s\n",
      "Epoch 9, 90% \t train_loss: 0.79 took: 0.54s\n",
      "Validation loss = 1.11\n",
      "Epoch 10, 10% \t train_loss: 0.69 took: 0.65s\n",
      "Epoch 10, 20% \t train_loss: 0.68 took: 0.53s\n",
      "Epoch 10, 30% \t train_loss: 0.79 took: 0.55s\n",
      "Epoch 10, 40% \t train_loss: 0.74 took: 0.52s\n",
      "Epoch 10, 50% \t train_loss: 0.69 took: 0.55s\n",
      "Epoch 10, 60% \t train_loss: 0.75 took: 0.53s\n",
      "Epoch 10, 70% \t train_loss: 0.73 took: 0.56s\n",
      "Epoch 10, 80% \t train_loss: 0.81 took: 0.54s\n",
      "Epoch 10, 90% \t train_loss: 0.73 took: 0.53s\n",
      "Validation loss = 1.08\n",
      "Epoch 11, 10% \t train_loss: 0.64 took: 0.57s\n",
      "Epoch 11, 20% \t train_loss: 0.65 took: 0.50s\n",
      "Epoch 11, 30% \t train_loss: 0.66 took: 0.51s\n",
      "Epoch 11, 40% \t train_loss: 0.70 took: 0.51s\n",
      "Epoch 11, 50% \t train_loss: 0.68 took: 0.52s\n",
      "Epoch 11, 60% \t train_loss: 0.66 took: 0.52s\n",
      "Epoch 11, 70% \t train_loss: 0.70 took: 0.52s\n",
      "Epoch 11, 80% \t train_loss: 0.72 took: 0.53s\n",
      "Epoch 11, 90% \t train_loss: 0.74 took: 0.53s\n",
      "Validation loss = 1.13\n",
      "Epoch 12, 10% \t train_loss: 0.61 took: 0.57s\n",
      "Epoch 12, 20% \t train_loss: 0.62 took: 0.49s\n",
      "Epoch 12, 30% \t train_loss: 0.61 took: 0.52s\n",
      "Epoch 12, 40% \t train_loss: 0.63 took: 0.52s\n",
      "Epoch 12, 50% \t train_loss: 0.61 took: 0.52s\n",
      "Epoch 12, 60% \t train_loss: 0.69 took: 0.51s\n",
      "Epoch 12, 70% \t train_loss: 0.64 took: 0.51s\n",
      "Epoch 12, 80% \t train_loss: 0.67 took: 0.51s\n",
      "Epoch 12, 90% \t train_loss: 0.68 took: 0.51s\n",
      "Validation loss = 1.13\n",
      "Epoch 13, 10% \t train_loss: 0.57 took: 0.61s\n",
      "Epoch 13, 20% \t train_loss: 0.53 took: 0.50s\n",
      "Epoch 13, 30% \t train_loss: 0.56 took: 0.53s\n",
      "Epoch 13, 40% \t train_loss: 0.57 took: 0.51s\n",
      "Epoch 13, 50% \t train_loss: 0.61 took: 0.54s\n",
      "Epoch 13, 60% \t train_loss: 0.58 took: 0.52s\n",
      "Epoch 13, 70% \t train_loss: 0.60 took: 0.53s\n",
      "Epoch 13, 80% \t train_loss: 0.62 took: 0.50s\n",
      "Epoch 13, 90% \t train_loss: 0.63 took: 0.53s\n",
      "Validation loss = 1.17\n",
      "Epoch 14, 10% \t train_loss: 0.51 took: 0.59s\n",
      "Epoch 14, 20% \t train_loss: 0.54 took: 0.53s\n",
      "Epoch 14, 30% \t train_loss: 0.55 took: 0.53s\n",
      "Epoch 14, 40% \t train_loss: 0.55 took: 0.53s\n",
      "Epoch 14, 50% \t train_loss: 0.53 took: 0.53s\n",
      "Epoch 14, 60% \t train_loss: 0.52 took: 0.55s\n",
      "Epoch 14, 70% \t train_loss: 0.59 took: 0.52s\n",
      "Epoch 14, 80% \t train_loss: 0.59 took: 0.52s\n",
      "Epoch 14, 90% \t train_loss: 0.63 took: 0.53s\n",
      "Validation loss = 1.26\n",
      "Epoch 15, 10% \t train_loss: 0.44 took: 0.58s\n",
      "Epoch 15, 20% \t train_loss: 0.47 took: 0.52s\n",
      "Epoch 15, 30% \t train_loss: 0.50 took: 0.53s\n",
      "Epoch 15, 40% \t train_loss: 0.51 took: 0.53s\n",
      "Epoch 15, 50% \t train_loss: 0.51 took: 0.55s\n",
      "Epoch 15, 60% \t train_loss: 0.53 took: 0.52s\n",
      "Epoch 15, 70% \t train_loss: 0.50 took: 0.53s\n",
      "Epoch 15, 80% \t train_loss: 0.53 took: 0.53s\n",
      "Epoch 15, 90% \t train_loss: 0.56 took: 0.53s\n",
      "Validation loss = 1.27\n",
      "Epoch 16, 10% \t train_loss: 0.41 took: 0.58s\n",
      "Epoch 16, 20% \t train_loss: 0.42 took: 0.49s\n",
      "Epoch 16, 30% \t train_loss: 0.44 took: 0.52s\n",
      "Epoch 16, 40% \t train_loss: 0.47 took: 0.53s\n",
      "Epoch 16, 50% \t train_loss: 0.45 took: 0.51s\n",
      "Epoch 16, 60% \t train_loss: 0.50 took: 0.53s\n",
      "Epoch 16, 70% \t train_loss: 0.48 took: 0.51s\n",
      "Epoch 16, 80% \t train_loss: 0.48 took: 0.52s\n",
      "Epoch 16, 90% \t train_loss: 0.50 took: 0.53s\n",
      "Validation loss = 1.36\n",
      "Epoch 17, 10% \t train_loss: 0.40 took: 0.57s\n",
      "Epoch 17, 20% \t train_loss: 0.40 took: 0.51s\n",
      "Epoch 17, 30% \t train_loss: 0.38 took: 0.51s\n",
      "Epoch 17, 40% \t train_loss: 0.46 took: 0.53s\n",
      "Epoch 17, 50% \t train_loss: 0.41 took: 0.52s\n",
      "Epoch 17, 60% \t train_loss: 0.44 took: 0.51s\n",
      "Epoch 17, 70% \t train_loss: 0.45 took: 0.51s\n",
      "Epoch 17, 80% \t train_loss: 0.48 took: 0.53s\n",
      "Epoch 17, 90% \t train_loss: 0.49 took: 0.55s\n",
      "Validation loss = 1.36\n",
      "Epoch 18, 10% \t train_loss: 0.35 took: 0.60s\n",
      "Epoch 18, 20% \t train_loss: 0.35 took: 0.54s\n",
      "Epoch 18, 30% \t train_loss: 0.36 took: 0.51s\n",
      "Epoch 18, 40% \t train_loss: 0.40 took: 0.50s\n",
      "Epoch 18, 50% \t train_loss: 0.42 took: 0.55s\n",
      "Epoch 18, 60% \t train_loss: 0.39 took: 0.50s\n",
      "Epoch 18, 70% \t train_loss: 0.44 took: 0.53s\n",
      "Epoch 18, 80% \t train_loss: 0.40 took: 0.55s\n",
      "Epoch 18, 90% \t train_loss: 0.46 took: 0.54s\n",
      "Validation loss = 1.51\n",
      "Epoch 19, 10% \t train_loss: 0.32 took: 0.62s\n",
      "Epoch 19, 20% \t train_loss: 0.32 took: 0.55s\n",
      "Epoch 19, 30% \t train_loss: 0.32 took: 0.52s\n",
      "Epoch 19, 40% \t train_loss: 0.35 took: 0.54s\n",
      "Epoch 19, 50% \t train_loss: 0.37 took: 0.54s\n",
      "Epoch 19, 60% \t train_loss: 0.39 took: 0.51s\n",
      "Epoch 19, 70% \t train_loss: 0.39 took: 0.52s\n",
      "Epoch 19, 80% \t train_loss: 0.41 took: 0.53s\n",
      "Epoch 19, 90% \t train_loss: 0.41 took: 0.54s\n",
      "Validation loss = 1.55\n",
      "Epoch 20, 10% \t train_loss: 0.31 took: 0.58s\n",
      "Epoch 20, 20% \t train_loss: 0.32 took: 0.51s\n",
      "Epoch 20, 30% \t train_loss: 0.31 took: 0.52s\n",
      "Epoch 20, 40% \t train_loss: 0.33 took: 0.55s\n",
      "Epoch 20, 50% \t train_loss: 0.32 took: 0.54s\n",
      "Epoch 20, 60% \t train_loss: 0.32 took: 0.54s\n",
      "Epoch 20, 70% \t train_loss: 0.35 took: 0.54s\n",
      "Epoch 20, 80% \t train_loss: 0.35 took: 0.55s\n",
      "Epoch 20, 90% \t train_loss: 0.35 took: 0.62s\n",
      "Validation loss = 1.77\n",
      "Training Finished, took 123.03s\n"
     ]
    }
   ],
   "source": [
    "net = MyConvolutionalNetwork()\n",
    "train_history, val_history = train(net, batch_size=32, n_epochs=20, learning_rate=0.001)"
   ]
  },
  {
   "cell_type": "markdown",
   "metadata": {
    "colab_type": "text",
    "id": "SG0ZtbCPVjUB"
   },
   "source": [
    "### Losses Plot"
   ]
  },
  {
   "cell_type": "code",
   "execution_count": 0,
   "metadata": {
    "colab": {
     "base_uri": "https://localhost:8080/",
     "height": 404
    },
    "colab_type": "code",
    "id": "WFQPoPqXVjUG",
    "outputId": "69a44172-3563-4fdc-bf39-f7c1c9b051a3"
   },
   "outputs": [
    {
     "data": {
      "image/png": "[encoded data removed]",
      "text/plain": [
       "<Figure size 576x432 with 1 Axes>"
      ]
     },
     "metadata": {
      "tags": []
     },
     "output_type": "display_data"
    }
   ],
   "source": [
    "plot_losses(train_history, val_history)"
   ]
  },
  {
   "cell_type": "markdown",
   "metadata": {
    "colab_type": "text",
    "id": "_VfWMRufVjUM"
   },
   "source": [
    "### Accuracy of the trained model"
   ]
  },
  {
   "cell_type": "code",
   "execution_count": 0,
   "metadata": {
    "colab": {
     "base_uri": "https://localhost:8080/",
     "height": 68
    },
    "colab_type": "code",
    "id": "fvVVDkChVjUO",
    "outputId": "ff764e3e-1602-42ca-f560-ab64dacf63be"
   },
   "outputs": [
    {
     "name": "stdout",
     "output_type": "stream",
     "text": [
      "Accuracy of the network on the 20000 train images: 70.23 %\n",
      "Accuracy of the network on the 5000 validation images: 62.76 %\n",
      "Accuracy of the network on the 5000 test images: 62.86 %\n"
     ]
    }
   ],
   "source": [
    "compute_accuracy(net)"
   ]
  },
  {
   "cell_type": "markdown",
   "metadata": {
    "colab_type": "text",
    "id": "4PyyogxSVjUV"
   },
   "source": [
    "**Baseline: Simple Convolutional Neural Network (form part II)**\n",
    "\n",
    "<table>\n",
    "<tr>\n",
    "    <td>Accuracy on the test set:</td>\n",
    "    <td>59.98 %</td>\n",
    "</tr>\n",
    "</table>"
   ]
  },
  {
   "cell_type": "code",
   "execution_count": 0,
   "metadata": {
    "colab": {},
    "colab_type": "code",
    "id": "Idy5PZXYVjUW"
   },
   "outputs": [],
   "source": []
  },
  {
   "cell_type": "code",
   "execution_count": 0,
   "metadata": {
    "colab": {
     "base_uri": "https://localhost:8080/",
     "height": 204
    },
    "colab_type": "code",
    "id": "QrmawZR4VjUc",
    "outputId": "cb2fbfdd-9da4-418d-9ab9-28884fbb7d86"
   },
   "outputs": [
    {
     "name": "stdout",
     "output_type": "stream",
     "text": [
      "Class      Accuracy (%)\n",
      "plane        66.19   \n",
      "car          82.77   \n",
      "bird         39.65   \n",
      "cat          40.24   \n",
      "deer         63.51   \n",
      "dog          51.43   \n",
      "frog         70.26   \n",
      "horse        72.32   \n",
      "ship         72.22   \n",
      "truck        69.98   \n"
     ]
    }
   ],
   "source": [
    "confusion_matrix = accuracy_per_class(net)"
   ]
  },
  {
   "cell_type": "code",
   "execution_count": 0,
   "metadata": {
    "colab": {
     "base_uri": "https://localhost:8080/",
     "height": 585
    },
    "colab_type": "code",
    "id": "7pnB7s0RVjUh",
    "outputId": "93c9c81c-0fce-43e3-d9d9-b5074dee4f16"
   },
   "outputs": [
    {
     "data": {
      "image/png": "[encoded data removed]",
      "text/plain": [
       "<Figure size 576x576 with 2 Axes>"
      ]
     },
     "metadata": {
      "tags": []
     },
     "output_type": "display_data"
    }
   ],
   "source": [
    "plot_confusion_matrix(confusion_matrix, classes,\n",
    "                      title='Confusion matrix, without normalization')"
   ]
  },
  {
   "cell_type": "code",
   "execution_count": 0,
   "metadata": {
    "colab": {},
    "colab_type": "code",
    "id": "8IfgKeeeLwaz"
   },
   "outputs": [],
   "source": []
  },
  {
   "cell_type": "code",
   "execution_count": 0,
   "metadata": {
    "colab": {},
    "colab_type": "code",
    "id": "Ns6poISqLw4I"
   },
   "outputs": [],
   "source": [
    "class MyConvolutionalNetwork(nn.Module):\n",
    "    def __init__(self):\n",
    "        super(MyConvolutionalNetwork, self).__init__()\n",
    "        \n",
    "        self.conv1 = nn.Conv2d(3, 18, kernel_size=3, stride=1, padding=1)\n",
    "        self.pool = nn.MaxPool2d(kernel_size=2, stride=2, padding=0)\n",
    "\n",
    "        #### START CODE: ADD NEW LAYERS ####\n",
    "        # (do not forget to update `flattened_size`:\n",
    "        # the input size of the first fully connected layer self.fc1)\n",
    "        # self.conv2 = ...\n",
    "        self.conv2 = nn.Conv2d(18, 18, kernel_size=3, stride=1, padding=1)\n",
    "        self.pool2 = nn.MaxPool2d(kernel_size=2, stride = 2, padding = 0)\n",
    "        self.conv3 = nn.Conv2d(18, 8, kernel_size=3, stride=1, padding = 1)\n",
    "        self.pool3 = nn.MaxPool2d(kernel_size=2, stride = 2, padding = 0)\n",
    "\n",
    "        # Size of the output of the last convolution:\n",
    "        self.flattened_size = 8 * 4 * 4\n",
    "        ### END CODE ###\n",
    "        \n",
    "        self.fc1 = nn.Linear(self.flattened_size, 64)\n",
    "        self.fc2 = nn.Linear(64, 10)\n",
    "\n",
    "    def forward(self, x):\n",
    "        \"\"\"\n",
    "        Forward pass,\n",
    "        x shape is (batch_size, 3, 32, 32)\n",
    "        (color channel first)\n",
    "        in the comments, we omit the batch_size in the shape\n",
    "        \"\"\"\n",
    "        # shape : 3x32x32 -> 18x32x32\n",
    "        x = F.relu(self.conv1(x))\n",
    "        # 18x32x32 -> 18x16x16\n",
    "        x = self.pool(x)\n",
    "        \n",
    "        #### START CODE: USE YOUR NEW LAYERS HERE ####\n",
    "        # x = ...\n",
    "        x = F.relu(self.conv2(x))\n",
    "        x = self.pool2(x)\n",
    "        x = F.relu(self.conv3(x))\n",
    "        x = self.pool3(x)\n",
    "        \n",
    "        #### END CODE ####\n",
    "        \n",
    "        # Check the output size\n",
    "        output_size = np.prod(x.size()[1:])\n",
    "        assert output_size == self.flattened_size,\\\n",
    "                \"self.flattened_size is invalid {} != {}\".format(output_size, self.flattened_size)\n",
    "        \n",
    "        # 18x16x16 -> 4608\n",
    "        x = x.view(-1, self.flattened_size)\n",
    "        # 4608 -> 64\n",
    "        x = F.relu(self.fc1(x))\n",
    "        # 64 -> 10\n",
    "        x = self.fc2(x)\n",
    "        return x"
   ]
  },
  {
   "cell_type": "code",
   "execution_count": 0,
   "metadata": {
    "colab": {
     "base_uri": "https://localhost:8080/",
     "height": 1000
    },
    "colab_type": "code",
    "id": "NnqG7F-MLw4N",
    "outputId": "aee60710-8552-4ca7-b5fb-17787dde73f0",
    "scrolled": false
   },
   "outputs": [
    {
     "name": "stdout",
     "output_type": "stream",
     "text": [
      "===== HYPERPARAMETERS =====\n",
      "batch_size= 32\n",
      "n_epochs= 40\n",
      "learning_rate= 0.001\n",
      "==============================\n",
      "Epoch 1, 10% \t train_loss: 2.28 took: 0.62s\n",
      "Epoch 1, 20% \t train_loss: 2.07 took: 0.54s\n",
      "Epoch 1, 30% \t train_loss: 1.96 took: 0.54s\n",
      "Epoch 1, 40% \t train_loss: 1.88 took: 0.60s\n",
      "Epoch 1, 50% \t train_loss: 1.80 took: 0.55s\n",
      "Epoch 1, 60% \t train_loss: 1.76 took: 0.56s\n",
      "Epoch 1, 70% \t train_loss: 1.70 took: 0.53s\n",
      "Epoch 1, 80% \t train_loss: 1.67 took: 0.57s\n",
      "Epoch 1, 90% \t train_loss: 1.69 took: 0.52s\n",
      "Validation loss = 1.58\n",
      "Epoch 2, 10% \t train_loss: 1.57 took: 0.64s\n",
      "Epoch 2, 20% \t train_loss: 1.62 took: 0.56s\n",
      "Epoch 2, 30% \t train_loss: 1.60 took: 0.58s\n",
      "Epoch 2, 40% \t train_loss: 1.54 took: 0.54s\n",
      "Epoch 2, 50% \t train_loss: 1.56 took: 0.53s\n",
      "Epoch 2, 60% \t train_loss: 1.56 took: 0.56s\n",
      "Epoch 2, 70% \t train_loss: 1.52 took: 0.53s\n",
      "Epoch 2, 80% \t train_loss: 1.53 took: 0.59s\n",
      "Epoch 2, 90% \t train_loss: 1.48 took: 0.52s\n",
      "Validation loss = 1.45\n",
      "Epoch 3, 10% \t train_loss: 1.49 took: 0.57s\n",
      "Epoch 3, 20% \t train_loss: 1.43 took: 0.56s\n",
      "Epoch 3, 30% \t train_loss: 1.48 took: 0.51s\n",
      "Epoch 3, 40% \t train_loss: 1.45 took: 0.57s\n",
      "Epoch 3, 50% \t train_loss: 1.37 took: 0.53s\n",
      "Epoch 3, 60% \t train_loss: 1.44 took: 0.57s\n",
      "Epoch 3, 70% \t train_loss: 1.46 took: 0.53s\n",
      "Epoch 3, 80% \t train_loss: 1.41 took: 0.58s\n",
      "Epoch 3, 90% \t train_loss: 1.37 took: 0.53s\n",
      "Validation loss = 1.35\n",
      "Epoch 4, 10% \t train_loss: 1.42 took: 0.65s\n",
      "Epoch 4, 20% \t train_loss: 1.38 took: 0.53s\n",
      "Epoch 4, 30% \t train_loss: 1.36 took: 0.56s\n",
      "Epoch 4, 40% \t train_loss: 1.38 took: 0.54s\n",
      "Epoch 4, 50% \t train_loss: 1.35 took: 0.59s\n",
      "Epoch 4, 60% \t train_loss: 1.39 took: 0.54s\n",
      "Epoch 4, 70% \t train_loss: 1.32 took: 0.57s\n",
      "Epoch 4, 80% \t train_loss: 1.30 took: 0.54s\n",
      "Epoch 4, 90% \t train_loss: 1.33 took: 0.55s\n",
      "Validation loss = 1.27\n",
      "Epoch 5, 10% \t train_loss: 1.32 took: 0.60s\n",
      "Epoch 5, 20% \t train_loss: 1.26 took: 0.54s\n",
      "Epoch 5, 30% \t train_loss: 1.31 took: 0.52s\n",
      "Epoch 5, 40% \t train_loss: 1.29 took: 0.57s\n",
      "Epoch 5, 50% \t train_loss: 1.29 took: 0.59s\n",
      "Epoch 5, 60% \t train_loss: 1.27 took: 0.55s\n",
      "Epoch 5, 70% \t train_loss: 1.27 took: 0.58s\n",
      "Epoch 5, 80% \t train_loss: 1.28 took: 0.53s\n",
      "Epoch 5, 90% \t train_loss: 1.33 took: 0.52s\n",
      "Validation loss = 1.25\n",
      "Epoch 6, 10% \t train_loss: 1.23 took: 0.64s\n",
      "Epoch 6, 20% \t train_loss: 1.25 took: 0.54s\n",
      "Epoch 6, 30% \t train_loss: 1.30 took: 0.52s\n",
      "Epoch 6, 40% \t train_loss: 1.27 took: 0.57s\n",
      "Epoch 6, 50% \t train_loss: 1.27 took: 0.55s\n",
      "Epoch 6, 60% \t train_loss: 1.24 took: 0.56s\n",
      "Epoch 6, 70% \t train_loss: 1.17 took: 0.56s\n",
      "Epoch 6, 80% \t train_loss: 1.22 took: 0.56s\n",
      "Epoch 6, 90% \t train_loss: 1.23 took: 0.53s\n",
      "Validation loss = 1.21\n",
      "Epoch 7, 10% \t train_loss: 1.19 took: 0.59s\n",
      "Epoch 7, 20% \t train_loss: 1.23 took: 0.55s\n",
      "Epoch 7, 30% \t train_loss: 1.15 took: 0.54s\n",
      "Epoch 7, 40% \t train_loss: 1.25 took: 0.55s\n",
      "Epoch 7, 50% \t train_loss: 1.16 took: 0.55s\n",
      "Epoch 7, 60% \t train_loss: 1.18 took: 0.52s\n",
      "Epoch 7, 70% \t train_loss: 1.12 took: 0.57s\n",
      "Epoch 7, 80% \t train_loss: 1.20 took: 0.53s\n",
      "Epoch 7, 90% \t train_loss: 1.14 took: 0.56s\n",
      "Validation loss = 1.19\n",
      "Epoch 8, 10% \t train_loss: 1.16 took: 0.63s\n",
      "Epoch 8, 20% \t train_loss: 1.18 took: 0.54s\n",
      "Epoch 8, 30% \t train_loss: 1.16 took: 0.58s\n",
      "Epoch 8, 40% \t train_loss: 1.13 took: 0.52s\n",
      "Epoch 8, 50% \t train_loss: 1.17 took: 0.55s\n",
      "Epoch 8, 60% \t train_loss: 1.11 took: 0.54s\n",
      "Epoch 8, 70% \t train_loss: 1.12 took: 0.57s\n",
      "Epoch 8, 80% \t train_loss: 1.16 took: 0.58s\n",
      "Epoch 8, 90% \t train_loss: 1.10 took: 0.59s\n",
      "Validation loss = 1.14\n",
      "Epoch 9, 10% \t train_loss: 1.06 took: 0.64s\n",
      "Epoch 9, 20% \t train_loss: 1.07 took: 0.52s\n",
      "Epoch 9, 30% \t train_loss: 1.14 took: 0.57s\n",
      "Epoch 9, 40% \t train_loss: 1.13 took: 0.52s\n",
      "Epoch 9, 50% \t train_loss: 1.06 took: 0.58s\n",
      "Epoch 9, 60% \t train_loss: 1.07 took: 0.53s\n",
      "Epoch 9, 70% \t train_loss: 1.10 took: 0.56s\n",
      "Epoch 9, 80% \t train_loss: 1.15 took: 0.53s\n",
      "Epoch 9, 90% \t train_loss: 1.09 took: 0.58s\n",
      "Validation loss = 1.10\n",
      "Epoch 10, 10% \t train_loss: 1.04 took: 0.68s\n",
      "Epoch 10, 20% \t train_loss: 1.02 took: 0.52s\n",
      "Epoch 10, 30% \t train_loss: 1.07 took: 0.59s\n",
      "Epoch 10, 40% \t train_loss: 1.09 took: 0.53s\n",
      "Epoch 10, 50% \t train_loss: 1.05 took: 0.56s\n",
      "Epoch 10, 60% \t train_loss: 1.08 took: 0.55s\n",
      "Epoch 10, 70% \t train_loss: 1.08 took: 0.56s\n",
      "Epoch 10, 80% \t train_loss: 1.11 took: 0.58s\n",
      "Epoch 10, 90% \t train_loss: 1.08 took: 0.57s\n",
      "Validation loss = 1.13\n",
      "Epoch 11, 10% \t train_loss: 1.00 took: 0.60s\n",
      "Epoch 11, 20% \t train_loss: 1.03 took: 0.53s\n",
      "Epoch 11, 30% \t train_loss: 1.00 took: 0.54s\n",
      "Epoch 11, 40% \t train_loss: 1.04 took: 0.53s\n",
      "Epoch 11, 50% \t train_loss: 1.04 took: 0.60s\n",
      "Epoch 11, 60% \t train_loss: 1.06 took: 0.56s\n",
      "Epoch 11, 70% \t train_loss: 1.05 took: 0.62s\n",
      "Epoch 11, 80% \t train_loss: 1.03 took: 0.56s\n",
      "Epoch 11, 90% \t train_loss: 1.03 took: 0.58s\n",
      "Validation loss = 1.09\n",
      "Epoch 12, 10% \t train_loss: 1.01 took: 0.63s\n",
      "Epoch 12, 20% \t train_loss: 0.99 took: 0.54s\n",
      "Epoch 12, 30% \t train_loss: 1.01 took: 0.58s\n",
      "Epoch 12, 40% \t train_loss: 1.01 took: 0.54s\n",
      "Epoch 12, 50% \t train_loss: 1.00 took: 0.56s\n",
      "Epoch 12, 60% \t train_loss: 1.05 took: 0.58s\n",
      "Epoch 12, 70% \t train_loss: 0.98 took: 0.56s\n",
      "Epoch 12, 80% \t train_loss: 1.03 took: 0.58s\n",
      "Epoch 12, 90% \t train_loss: 1.05 took: 0.55s\n",
      "Validation loss = 1.08\n",
      "Epoch 13, 10% \t train_loss: 0.97 took: 0.60s\n",
      "Epoch 13, 20% \t train_loss: 0.96 took: 0.56s\n",
      "Epoch 13, 30% \t train_loss: 0.96 took: 0.54s\n",
      "Epoch 13, 40% \t train_loss: 0.98 took: 0.60s\n",
      "Epoch 13, 50% \t train_loss: 0.98 took: 0.55s\n",
      "Epoch 13, 60% \t train_loss: 1.00 took: 0.58s\n",
      "Epoch 13, 70% \t train_loss: 1.00 took: 0.55s\n",
      "Epoch 13, 80% \t train_loss: 1.02 took: 0.58s\n",
      "Epoch 13, 90% \t train_loss: 1.01 took: 0.54s\n",
      "Validation loss = 1.07\n",
      "Epoch 14, 10% \t train_loss: 0.95 took: 0.59s\n",
      "Epoch 14, 20% \t train_loss: 0.92 took: 0.57s\n",
      "Epoch 14, 30% \t train_loss: 0.95 took: 0.53s\n",
      "Epoch 14, 40% \t train_loss: 0.95 took: 0.60s\n",
      "Epoch 14, 50% \t train_loss: 1.02 took: 0.54s\n",
      "Epoch 14, 60% \t train_loss: 1.00 took: 0.57s\n",
      "Epoch 14, 70% \t train_loss: 0.94 took: 0.55s\n",
      "Epoch 14, 80% \t train_loss: 1.02 took: 0.59s\n",
      "Epoch 14, 90% \t train_loss: 0.99 took: 0.54s\n",
      "Validation loss = 1.09\n",
      "Epoch 15, 10% \t train_loss: 0.93 took: 0.60s\n",
      "Epoch 15, 20% \t train_loss: 0.98 took: 0.55s\n",
      "Epoch 15, 30% \t train_loss: 0.96 took: 0.52s\n",
      "Epoch 15, 40% \t train_loss: 0.95 took: 0.58s\n",
      "Epoch 15, 50% \t train_loss: 0.97 took: 0.54s\n",
      "Epoch 15, 60% \t train_loss: 0.93 took: 0.52s\n",
      "Epoch 15, 70% \t train_loss: 0.93 took: 0.54s\n",
      "Epoch 15, 80% \t train_loss: 0.94 took: 0.55s\n",
      "Epoch 15, 90% \t train_loss: 0.94 took: 0.56s\n",
      "Validation loss = 1.14\n",
      "Epoch 16, 10% \t train_loss: 0.93 took: 0.60s\n",
      "Epoch 16, 20% \t train_loss: 0.93 took: 0.52s\n",
      "Epoch 16, 30% \t train_loss: 0.92 took: 0.60s\n",
      "Epoch 16, 40% \t train_loss: 0.93 took: 0.57s\n",
      "Epoch 16, 50% \t train_loss: 0.91 took: 0.57s\n",
      "Epoch 16, 60% \t train_loss: 0.95 took: 0.54s\n",
      "Epoch 16, 70% \t train_loss: 0.94 took: 0.55s\n",
      "Epoch 16, 80% \t train_loss: 0.90 took: 0.56s\n",
      "Epoch 16, 90% \t train_loss: 0.96 took: 0.56s\n",
      "Validation loss = 1.13\n",
      "Epoch 17, 10% \t train_loss: 0.89 took: 0.61s\n",
      "Epoch 17, 20% \t train_loss: 0.87 took: 0.57s\n",
      "Epoch 17, 30% \t train_loss: 0.93 took: 0.53s\n",
      "Epoch 17, 40% \t train_loss: 0.90 took: 0.56s\n",
      "Epoch 17, 50% \t train_loss: 0.95 took: 0.55s\n",
      "Epoch 17, 60% \t train_loss: 0.86 took: 0.54s\n",
      "Epoch 17, 70% \t train_loss: 0.88 took: 0.56s\n",
      "Epoch 17, 80% \t train_loss: 0.96 took: 0.53s\n",
      "Epoch 17, 90% \t train_loss: 0.95 took: 0.56s\n",
      "Validation loss = 1.11\n",
      "Epoch 18, 10% \t train_loss: 0.84 took: 0.65s\n",
      "Epoch 18, 20% \t train_loss: 0.92 took: 0.52s\n",
      "Epoch 18, 30% \t train_loss: 0.89 took: 0.55s\n",
      "Epoch 18, 40% \t train_loss: 0.92 took: 0.54s\n",
      "Epoch 18, 50% \t train_loss: 0.88 took: 0.57s\n",
      "Epoch 18, 60% \t train_loss: 0.90 took: 0.54s\n",
      "Epoch 18, 70% \t train_loss: 0.92 took: 0.58s\n",
      "Epoch 18, 80% \t train_loss: 0.87 took: 0.52s\n",
      "Epoch 18, 90% \t train_loss: 0.89 took: 0.55s\n",
      "Validation loss = 1.10\n",
      "Epoch 19, 10% \t train_loss: 0.87 took: 0.64s\n",
      "Epoch 19, 20% \t train_loss: 0.91 took: 0.53s\n",
      "Epoch 19, 30% \t train_loss: 0.90 took: 0.56s\n",
      "Epoch 19, 40% \t train_loss: 0.86 took: 0.57s\n",
      "Epoch 19, 50% \t train_loss: 0.89 took: 0.58s\n",
      "Epoch 19, 60% \t train_loss: 0.85 took: 0.64s\n",
      "Epoch 19, 70% \t train_loss: 0.91 took: 0.56s\n",
      "Epoch 19, 80% \t train_loss: 0.88 took: 0.57s\n",
      "Epoch 19, 90% \t train_loss: 0.86 took: 0.54s\n",
      "Validation loss = 1.06\n",
      "Epoch 20, 10% \t train_loss: 0.85 took: 0.61s\n",
      "Epoch 20, 20% \t train_loss: 0.84 took: 0.55s\n",
      "Epoch 20, 30% \t train_loss: 0.86 took: 0.54s\n",
      "Epoch 20, 40% \t train_loss: 0.86 took: 0.54s\n",
      "Epoch 20, 50% \t train_loss: 0.86 took: 0.54s\n",
      "Epoch 20, 60% \t train_loss: 0.89 took: 0.56s\n",
      "Epoch 20, 70% \t train_loss: 0.86 took: 0.54s\n",
      "Epoch 20, 80% \t train_loss: 0.90 took: 0.57s\n",
      "Epoch 20, 90% \t train_loss: 0.87 took: 0.54s\n",
      "Validation loss = 1.04\n",
      "Epoch 21, 10% \t train_loss: 0.83 took: 0.59s\n",
      "Epoch 21, 20% \t train_loss: 0.84 took: 0.54s\n",
      "Epoch 21, 30% \t train_loss: 0.85 took: 0.56s\n",
      "Epoch 21, 40% \t train_loss: 0.86 took: 0.56s\n",
      "Epoch 21, 50% \t train_loss: 0.85 took: 0.56s\n",
      "Epoch 21, 60% \t train_loss: 0.85 took: 0.53s\n",
      "Epoch 21, 70% \t train_loss: 0.83 took: 0.56s\n",
      "Epoch 21, 80% \t train_loss: 0.84 took: 0.54s\n",
      "Epoch 21, 90% \t train_loss: 0.87 took: 0.55s\n",
      "Validation loss = 1.06\n",
      "Epoch 22, 10% \t train_loss: 0.83 took: 0.61s\n",
      "Epoch 22, 20% \t train_loss: 0.85 took: 0.54s\n",
      "Epoch 22, 30% \t train_loss: 0.83 took: 0.55s\n",
      "Epoch 22, 40% \t train_loss: 0.83 took: 0.54s\n",
      "Epoch 22, 50% \t train_loss: 0.85 took: 0.57s\n",
      "Epoch 22, 60% \t train_loss: 0.87 took: 0.55s\n",
      "Epoch 22, 70% \t train_loss: 0.83 took: 0.55s\n",
      "Epoch 22, 80% \t train_loss: 0.81 took: 0.57s\n",
      "Epoch 22, 90% \t train_loss: 0.90 took: 0.57s\n",
      "Validation loss = 1.09\n",
      "Epoch 23, 10% \t train_loss: 0.79 took: 0.64s\n",
      "Epoch 23, 20% \t train_loss: 0.80 took: 0.52s\n",
      "Epoch 23, 30% \t train_loss: 0.85 took: 0.55s\n",
      "Epoch 23, 40% \t train_loss: 0.84 took: 0.54s\n",
      "Epoch 23, 50% \t train_loss: 0.83 took: 0.56s\n",
      "Epoch 23, 60% \t train_loss: 0.83 took: 0.56s\n",
      "Epoch 23, 70% \t train_loss: 0.80 took: 0.53s\n",
      "Epoch 23, 80% \t train_loss: 0.80 took: 0.58s\n",
      "Epoch 23, 90% \t train_loss: 0.80 took: 0.54s\n",
      "Validation loss = 1.09\n",
      "Epoch 24, 10% \t train_loss: 0.84 took: 0.61s\n",
      "Epoch 24, 20% \t train_loss: 0.80 took: 0.62s\n",
      "Epoch 24, 30% \t train_loss: 0.84 took: 0.56s\n",
      "Epoch 24, 40% \t train_loss: 0.79 took: 0.57s\n",
      "Epoch 24, 50% \t train_loss: 0.80 took: 0.56s\n",
      "Epoch 24, 60% \t train_loss: 0.85 took: 0.55s\n",
      "Epoch 24, 70% \t train_loss: 0.79 took: 0.56s\n",
      "Epoch 24, 80% \t train_loss: 0.80 took: 0.56s\n",
      "Epoch 24, 90% \t train_loss: 0.80 took: 0.55s\n",
      "Validation loss = 1.10\n",
      "Epoch 25, 10% \t train_loss: 0.78 took: 0.61s\n",
      "Epoch 25, 20% \t train_loss: 0.78 took: 0.53s\n",
      "Epoch 25, 30% \t train_loss: 0.77 took: 0.59s\n",
      "Epoch 25, 40% \t train_loss: 0.78 took: 0.54s\n",
      "Epoch 25, 50% \t train_loss: 0.80 took: 0.54s\n",
      "Epoch 25, 60% \t train_loss: 0.80 took: 0.59s\n",
      "Epoch 25, 70% \t train_loss: 0.84 took: 0.55s\n",
      "Epoch 25, 80% \t train_loss: 0.79 took: 0.53s\n",
      "Epoch 25, 90% \t train_loss: 0.82 took: 0.57s\n",
      "Validation loss = 1.12\n",
      "Epoch 26, 10% \t train_loss: 0.74 took: 0.59s\n",
      "Epoch 26, 20% \t train_loss: 0.79 took: 0.55s\n",
      "Epoch 26, 30% \t train_loss: 0.75 took: 0.54s\n",
      "Epoch 26, 40% \t train_loss: 0.79 took: 0.54s\n",
      "Epoch 26, 50% \t train_loss: 0.80 took: 0.55s\n",
      "Epoch 26, 60% \t train_loss: 0.75 took: 0.53s\n",
      "Epoch 26, 70% \t train_loss: 0.81 took: 0.57s\n",
      "Epoch 26, 80% \t train_loss: 0.82 took: 0.55s\n",
      "Epoch 26, 90% \t train_loss: 0.82 took: 0.53s\n",
      "Validation loss = 1.10\n",
      "Epoch 27, 10% \t train_loss: 0.73 took: 0.60s\n",
      "Epoch 27, 20% \t train_loss: 0.78 took: 0.53s\n",
      "Epoch 27, 30% \t train_loss: 0.75 took: 0.53s\n",
      "Epoch 27, 40% \t train_loss: 0.77 took: 0.57s\n",
      "Epoch 27, 50% \t train_loss: 0.79 took: 0.56s\n",
      "Epoch 27, 60% \t train_loss: 0.76 took: 0.55s\n",
      "Epoch 27, 70% \t train_loss: 0.82 took: 0.53s\n",
      "Epoch 27, 80% \t train_loss: 0.78 took: 0.58s\n",
      "Epoch 27, 90% \t train_loss: 0.81 took: 0.54s\n",
      "Validation loss = 1.06\n",
      "Epoch 28, 10% \t train_loss: 0.75 took: 0.61s\n",
      "Epoch 28, 20% \t train_loss: 0.75 took: 0.53s\n",
      "Epoch 28, 30% \t train_loss: 0.80 took: 0.57s\n",
      "Epoch 28, 40% \t train_loss: 0.73 took: 0.54s\n",
      "Epoch 28, 50% \t train_loss: 0.74 took: 0.53s\n",
      "Epoch 28, 60% \t train_loss: 0.78 took: 0.55s\n",
      "Epoch 28, 70% \t train_loss: 0.79 took: 0.53s\n",
      "Epoch 28, 80% \t train_loss: 0.78 took: 0.61s\n",
      "Epoch 28, 90% \t train_loss: 0.80 took: 0.55s\n",
      "Validation loss = 1.08\n",
      "Epoch 29, 10% \t train_loss: 0.72 took: 0.62s\n",
      "Epoch 29, 20% \t train_loss: 0.72 took: 0.57s\n",
      "Epoch 29, 30% \t train_loss: 0.71 took: 0.58s\n",
      "Epoch 29, 40% \t train_loss: 0.78 took: 0.63s\n",
      "Epoch 29, 50% \t train_loss: 0.80 took: 0.55s\n",
      "Epoch 29, 60% \t train_loss: 0.78 took: 0.52s\n",
      "Epoch 29, 70% \t train_loss: 0.75 took: 0.54s\n",
      "Epoch 29, 80% \t train_loss: 0.73 took: 0.54s\n",
      "Epoch 29, 90% \t train_loss: 0.82 took: 0.60s\n",
      "Validation loss = 1.08\n",
      "Epoch 30, 10% \t train_loss: 0.76 took: 0.62s\n",
      "Epoch 30, 20% \t train_loss: 0.71 took: 0.57s\n",
      "Epoch 30, 30% \t train_loss: 0.74 took: 0.57s\n",
      "Epoch 30, 40% \t train_loss: 0.78 took: 0.53s\n",
      "Epoch 30, 50% \t train_loss: 0.77 took: 0.54s\n",
      "Epoch 30, 60% \t train_loss: 0.70 took: 0.55s\n",
      "Epoch 30, 70% \t train_loss: 0.75 took: 0.52s\n",
      "Epoch 30, 80% \t train_loss: 0.73 took: 0.56s\n",
      "Epoch 30, 90% \t train_loss: 0.75 took: 0.54s\n",
      "Validation loss = 1.09\n",
      "Epoch 31, 10% \t train_loss: 0.73 took: 0.61s\n",
      "Epoch 31, 20% \t train_loss: 0.74 took: 0.53s\n",
      "Epoch 31, 30% \t train_loss: 0.71 took: 0.54s\n",
      "Epoch 31, 40% \t train_loss: 0.72 took: 0.52s\n",
      "Epoch 31, 50% \t train_loss: 0.72 took: 0.55s\n",
      "Epoch 31, 60% \t train_loss: 0.72 took: 0.54s\n",
      "Epoch 31, 70% \t train_loss: 0.78 took: 0.55s\n",
      "Epoch 31, 80% \t train_loss: 0.75 took: 0.53s\n",
      "Epoch 31, 90% \t train_loss: 0.80 took: 0.56s\n",
      "Validation loss = 1.11\n",
      "Epoch 32, 10% \t train_loss: 0.72 took: 0.64s\n",
      "Epoch 32, 20% \t train_loss: 0.72 took: 0.53s\n",
      "Epoch 32, 30% \t train_loss: 0.71 took: 0.56s\n",
      "Epoch 32, 40% \t train_loss: 0.75 took: 0.53s\n",
      "Epoch 32, 50% \t train_loss: 0.75 took: 0.54s\n",
      "Epoch 32, 60% \t train_loss: 0.75 took: 0.54s\n",
      "Epoch 32, 70% \t train_loss: 0.71 took: 0.55s\n",
      "Epoch 32, 80% \t train_loss: 0.74 took: 0.53s\n",
      "Epoch 32, 90% \t train_loss: 0.73 took: 0.55s\n",
      "Validation loss = 1.09\n",
      "Epoch 33, 10% \t train_loss: 0.67 took: 0.62s\n",
      "Epoch 33, 20% \t train_loss: 0.72 took: 0.53s\n",
      "Epoch 33, 30% \t train_loss: 0.73 took: 0.56s\n",
      "Epoch 33, 40% \t train_loss: 0.69 took: 0.58s\n",
      "Epoch 33, 50% \t train_loss: 0.76 took: 0.57s\n",
      "Epoch 33, 60% \t train_loss: 0.71 took: 0.58s\n",
      "Epoch 33, 70% \t train_loss: 0.73 took: 0.56s\n",
      "Epoch 33, 80% \t train_loss: 0.73 took: 0.57s\n",
      "Epoch 33, 90% \t train_loss: 0.72 took: 0.56s\n",
      "Validation loss = 1.12\n",
      "Epoch 34, 10% \t train_loss: 0.68 took: 0.69s\n",
      "Epoch 34, 20% \t train_loss: 0.69 took: 0.54s\n",
      "Epoch 34, 30% \t train_loss: 0.70 took: 0.56s\n",
      "Epoch 34, 40% \t train_loss: 0.72 took: 0.58s\n",
      "Epoch 34, 50% \t train_loss: 0.69 took: 0.56s\n",
      "Epoch 34, 60% \t train_loss: 0.70 took: 0.55s\n",
      "Epoch 34, 70% \t train_loss: 0.74 took: 0.55s\n",
      "Epoch 34, 80% \t train_loss: 0.73 took: 0.60s\n",
      "Epoch 34, 90% \t train_loss: 0.73 took: 0.58s\n",
      "Validation loss = 1.10\n",
      "Epoch 35, 10% \t train_loss: 0.69 took: 0.61s\n",
      "Epoch 35, 20% \t train_loss: 0.68 took: 0.56s\n",
      "Epoch 35, 30% \t train_loss: 0.66 took: 0.54s\n",
      "Epoch 35, 40% \t train_loss: 0.70 took: 0.59s\n",
      "Epoch 35, 50% \t train_loss: 0.69 took: 0.55s\n",
      "Epoch 35, 60% \t train_loss: 0.68 took: 0.58s\n",
      "Epoch 35, 70% \t train_loss: 0.69 took: 0.55s\n",
      "Epoch 35, 80% \t train_loss: 0.74 took: 0.55s\n",
      "Epoch 35, 90% \t train_loss: 0.75 took: 0.55s\n",
      "Validation loss = 1.11\n",
      "Epoch 36, 10% \t train_loss: 0.63 took: 0.60s\n",
      "Epoch 36, 20% \t train_loss: 0.70 took: 0.55s\n",
      "Epoch 36, 30% \t train_loss: 0.68 took: 0.53s\n",
      "Epoch 36, 40% \t train_loss: 0.69 took: 0.55s\n",
      "Epoch 36, 50% \t train_loss: 0.73 took: 0.56s\n",
      "Epoch 36, 60% \t train_loss: 0.66 took: 0.55s\n",
      "Epoch 36, 70% \t train_loss: 0.67 took: 0.56s\n",
      "Epoch 36, 80% \t train_loss: 0.71 took: 0.59s\n",
      "Epoch 36, 90% \t train_loss: 0.74 took: 0.54s\n",
      "Validation loss = 1.12\n",
      "Epoch 37, 10% \t train_loss: 0.67 took: 0.63s\n",
      "Epoch 37, 20% \t train_loss: 0.64 took: 0.55s\n",
      "Epoch 37, 30% \t train_loss: 0.65 took: 0.57s\n",
      "Epoch 37, 40% \t train_loss: 0.68 took: 0.55s\n",
      "Epoch 37, 50% \t train_loss: 0.67 took: 0.56s\n",
      "Epoch 37, 60% \t train_loss: 0.71 took: 0.56s\n",
      "Epoch 37, 70% \t train_loss: 0.72 took: 0.59s\n",
      "Epoch 37, 80% \t train_loss: 0.72 took: 0.56s\n",
      "Epoch 37, 90% \t train_loss: 0.64 took: 0.56s\n",
      "Validation loss = 1.13\n",
      "Epoch 38, 10% \t train_loss: 0.67 took: 0.65s\n",
      "Epoch 38, 20% \t train_loss: 0.61 took: 0.54s\n",
      "Epoch 38, 30% \t train_loss: 0.66 took: 0.55s\n",
      "Epoch 38, 40% \t train_loss: 0.65 took: 0.54s\n",
      "Epoch 38, 50% \t train_loss: 0.68 took: 0.56s\n",
      "Epoch 38, 60% \t train_loss: 0.65 took: 0.54s\n",
      "Epoch 38, 70% \t train_loss: 0.70 took: 0.61s\n",
      "Epoch 38, 80% \t train_loss: 0.71 took: 0.54s\n",
      "Epoch 38, 90% \t train_loss: 0.74 took: 0.56s\n",
      "Validation loss = 1.13\n",
      "Epoch 39, 10% \t train_loss: 0.64 took: 0.61s\n",
      "Epoch 39, 20% \t train_loss: 0.61 took: 0.54s\n",
      "Epoch 39, 30% \t train_loss: 0.66 took: 0.57s\n",
      "Epoch 39, 40% \t train_loss: 0.65 took: 0.53s\n",
      "Epoch 39, 50% \t train_loss: 0.66 took: 0.57s\n",
      "Epoch 39, 60% \t train_loss: 0.65 took: 0.57s\n",
      "Epoch 39, 70% \t train_loss: 0.66 took: 0.55s\n",
      "Epoch 39, 80% \t train_loss: 0.70 took: 0.56s\n",
      "Epoch 39, 90% \t train_loss: 0.72 took: 0.55s\n",
      "Validation loss = 1.14\n",
      "Epoch 40, 10% \t train_loss: 0.61 took: 0.63s\n",
      "Epoch 40, 20% \t train_loss: 0.60 took: 0.53s\n",
      "Epoch 40, 30% \t train_loss: 0.69 took: 0.54s\n",
      "Epoch 40, 40% \t train_loss: 0.61 took: 0.56s\n",
      "Epoch 40, 50% \t train_loss: 0.64 took: 0.56s\n",
      "Epoch 40, 60% \t train_loss: 0.65 took: 0.56s\n",
      "Epoch 40, 70% \t train_loss: 0.69 took: 0.54s\n",
      "Epoch 40, 80% \t train_loss: 0.67 took: 0.54s\n",
      "Epoch 40, 90% \t train_loss: 0.72 took: 0.56s\n",
      "Validation loss = 1.15\n",
      "Training Finished, took 257.90s\n"
     ]
    }
   ],
   "source": [
    "net = MyConvolutionalNetwork()\n",
    "train_history, val_history = train(net, batch_size=32, n_epochs=40, learning_rate=0.001)"
   ]
  },
  {
   "cell_type": "markdown",
   "metadata": {
    "colab_type": "text",
    "id": "55Yr--gDLw4R"
   },
   "source": [
    "### Losses Plot"
   ]
  },
  {
   "cell_type": "code",
   "execution_count": 0,
   "metadata": {
    "colab": {
     "base_uri": "https://localhost:8080/",
     "height": 404
    },
    "colab_type": "code",
    "id": "N0_QpZNfLw4S",
    "outputId": "68f571ad-c1ef-4cc5-e9ec-c523eb353dbd"
   },
   "outputs": [
    {
     "data": {
      "image/png": "[encoded data removed]",
      "text/plain": [
       "<Figure size 576x432 with 1 Axes>"
      ]
     },
     "metadata": {
      "tags": []
     },
     "output_type": "display_data"
    }
   ],
   "source": [
    "plot_losses(train_history, val_history)"
   ]
  },
  {
   "cell_type": "markdown",
   "metadata": {
    "colab_type": "text",
    "id": "aBPE7Yf4Lw4V"
   },
   "source": [
    "### Accuracy of the trained model"
   ]
  },
  {
   "cell_type": "code",
   "execution_count": 0,
   "metadata": {
    "colab": {
     "base_uri": "https://localhost:8080/",
     "height": 68
    },
    "colab_type": "code",
    "id": "i4T2Di22Lw4X",
    "outputId": "f9286b1b-d657-4ee2-baeb-10f3ece25f95"
   },
   "outputs": [
    {
     "name": "stdout",
     "output_type": "stream",
     "text": [
      "Accuracy of the network on the 20000 train images: 71.24 %\n",
      "Accuracy of the network on the 5000 validation images: 62.66 %\n",
      "Accuracy of the network on the 5000 test images: 63.12 %\n"
     ]
    }
   ],
   "source": [
    "compute_accuracy(net)"
   ]
  },
  {
   "cell_type": "markdown",
   "metadata": {
    "colab_type": "text",
    "id": "NtwY7OWdLw4a"
   },
   "source": [
    "**Baseline: Simple Convolutional Neural Network (form part II)**\n",
    "\n",
    "<table>\n",
    "<tr>\n",
    "    <td>Accuracy on the test set:</td>\n",
    "    <td>59.98 %</td>\n",
    "</tr>\n",
    "</table>"
   ]
  },
  {
   "cell_type": "code",
   "execution_count": 0,
   "metadata": {
    "colab": {},
    "colab_type": "code",
    "id": "f3_wO6QZLw4a"
   },
   "outputs": [],
   "source": []
  },
  {
   "cell_type": "code",
   "execution_count": 0,
   "metadata": {
    "colab": {},
    "colab_type": "code",
    "id": "yG9PGJwTMJ5D"
   },
   "outputs": [],
   "source": []
  },
  {
   "cell_type": "code",
   "execution_count": 0,
   "metadata": {
    "colab": {
     "base_uri": "https://localhost:8080/",
     "height": 204
    },
    "colab_type": "code",
    "id": "lsf6lwwfLw4c",
    "outputId": "9dbbaba1-4d79-45ec-85d0-81417e0dae1e"
   },
   "outputs": [
    {
     "name": "stdout",
     "output_type": "stream",
     "text": [
      "Class      Accuracy (%)\n",
      "plane        73.57   \n",
      "car          81.39   \n",
      "bird         56.25   \n",
      "cat          39.84   \n",
      "deer         48.52   \n",
      "dog          44.88   \n",
      "frog         78.00   \n",
      "horse        70.91   \n",
      "ship         72.02   \n",
      "truck        65.89   \n"
     ]
    }
   ],
   "source": [
    "confusion_matrix = accuracy_per_class(net)"
   ]
  },
  {
   "cell_type": "code",
   "execution_count": 0,
   "metadata": {
    "colab": {
     "base_uri": "https://localhost:8080/",
     "height": 585
    },
    "colab_type": "code",
    "id": "1NRBPJ32Lw4f",
    "outputId": "d5ef087c-5a30-47dd-c54d-71ad2410c537"
   },
   "outputs": [
    {
     "data": {
      "image/png": "[encoded data removed]",
      "text/plain": [
       "<Figure size 576x576 with 2 Axes>"
      ]
     },
     "metadata": {
      "tags": []
     },
     "output_type": "display_data"
    }
   ],
   "source": [
    "plot_confusion_matrix(confusion_matrix, classes,\n",
    "                      title='Confusion matrix, without normalization')"
   ]
  },
  {
   "cell_type": "code",
   "execution_count": 0,
   "metadata": {
    "colab": {},
    "colab_type": "code",
    "id": "wrVaeXUvMMbr"
   },
   "outputs": [],
   "source": []
  },
  {
   "cell_type": "code",
   "execution_count": 0,
   "metadata": {
    "colab": {},
    "colab_type": "code",
    "id": "KB4jS_xtMPzR"
   },
   "outputs": [],
   "source": [
    "class MyConvolutionalNetwork(nn.Module):\n",
    "    def __init__(self):\n",
    "        super(MyConvolutionalNetwork, self).__init__()\n",
    "        \n",
    "        self.conv1 = nn.Conv2d(3, 18, kernel_size=3, stride=1, padding=1)\n",
    "        self.pool = nn.MaxPool2d(kernel_size=2, stride=2, padding=0)\n",
    "\n",
    "        #### START CODE: ADD NEW LAYERS ####\n",
    "        # (do not forget to update `flattened_size`:\n",
    "        # the input size of the first fully connected layer self.fc1)\n",
    "        # self.conv2 = ...\n",
    "        self.conv2 = nn.Conv2d(18, 18, kernel_size=3, stride=1, padding=1)\n",
    "        self.conv3 = nn.Conv2d(18, 18, kernel_size=3, stride=1, padding=1)\n",
    "        self.pool2 = nn.MaxPool2d(kernel_size=2, stride = 2, padding = 0)\n",
    "        self.conv4 = nn.Conv2d(18, 8, kernel_size=3, stride=1, padding = 1)\n",
    "        self.conv5 = nn.Conv2d(8, 8, kernel_size=3, stride=1, padding = 1)\n",
    "        self.pool3 = nn.MaxPool2d(kernel_size=2, stride = 2, padding = 0)\n",
    "\n",
    "        # Size of the output of the last convolution:\n",
    "        self.flattened_size = 8 * 4 * 4\n",
    "        ### END CODE ###\n",
    "        \n",
    "        self.fc1 = nn.Linear(self.flattened_size, 64)\n",
    "        self.fc2 = nn.Linear(64, 10)\n",
    "\n",
    "    def forward(self, x):\n",
    "        \"\"\"\n",
    "        Forward pass,\n",
    "        x shape is (batch_size, 3, 32, 32)\n",
    "        (color channel first)\n",
    "        in the comments, we omit the batch_size in the shape\n",
    "        \"\"\"\n",
    "        # shape : 3x32x32 -> 18x32x32\n",
    "        x = F.relu(self.conv1(x))\n",
    "        # 18x32x32 -> 18x16x16\n",
    "        x = self.pool(x)\n",
    "        \n",
    "        #### START CODE: USE YOUR NEW LAYERS HERE ####\n",
    "        # x = ...\n",
    "        x = F.relu(self.conv2(x))\n",
    "        x = F.relu(self.conv3(x))\n",
    "        x = self.pool2(x)\n",
    "        x = F.relu(self.conv4(x))\n",
    "        x = F.relu(self.conv5(x))\n",
    "        x = self.pool3(x)\n",
    "        \n",
    "        #### END CODE ####\n",
    "        \n",
    "        # Check the output size\n",
    "        output_size = np.prod(x.size()[1:])\n",
    "        assert output_size == self.flattened_size,\\\n",
    "                \"self.flattened_size is invalid {} != {}\".format(output_size, self.flattened_size)\n",
    "        \n",
    "        # 18x16x16 -> 4608\n",
    "        x = x.view(-1, self.flattened_size)\n",
    "        # 4608 -> 64\n",
    "        x = F.relu(self.fc1(x))\n",
    "        # 64 -> 10\n",
    "        x = self.fc2(x)\n",
    "        return x"
   ]
  },
  {
   "cell_type": "code",
   "execution_count": 0,
   "metadata": {
    "colab": {
     "base_uri": "https://localhost:8080/",
     "height": 1000
    },
    "colab_type": "code",
    "id": "oeaog4UzMPzb",
    "outputId": "cda5c0d1-2c57-4f3f-80a0-59d739b7868b",
    "scrolled": false
   },
   "outputs": [
    {
     "name": "stdout",
     "output_type": "stream",
     "text": [
      "===== HYPERPARAMETERS =====\n",
      "batch_size= 32\n",
      "n_epochs= 40\n",
      "learning_rate= 0.001\n",
      "==============================\n",
      "Epoch 1, 10% \t train_loss: 2.30 took: 0.73s\n",
      "Epoch 1, 20% \t train_loss: 2.11 took: 0.65s\n",
      "Epoch 1, 30% \t train_loss: 2.01 took: 0.62s\n",
      "Epoch 1, 40% \t train_loss: 1.96 took: 0.61s\n",
      "Epoch 1, 50% \t train_loss: 1.88 took: 0.63s\n",
      "Epoch 1, 60% \t train_loss: 1.86 took: 0.63s\n",
      "Epoch 1, 70% \t train_loss: 1.81 took: 0.67s\n",
      "Epoch 1, 80% \t train_loss: 1.76 took: 0.62s\n",
      "Epoch 1, 90% \t train_loss: 1.73 took: 0.63s\n",
      "Validation loss = 1.61\n",
      "Epoch 2, 10% \t train_loss: 1.67 took: 0.66s\n",
      "Epoch 2, 20% \t train_loss: 1.61 took: 0.63s\n",
      "Epoch 2, 30% \t train_loss: 1.66 took: 0.62s\n",
      "Epoch 2, 40% \t train_loss: 1.65 took: 0.67s\n",
      "Epoch 2, 50% \t train_loss: 1.59 took: 0.62s\n",
      "Epoch 2, 60% \t train_loss: 1.60 took: 0.61s\n",
      "Epoch 2, 70% \t train_loss: 1.50 took: 0.67s\n",
      "Epoch 2, 80% \t train_loss: 1.56 took: 0.62s\n",
      "Epoch 2, 90% \t train_loss: 1.55 took: 0.61s\n",
      "Validation loss = 1.46\n",
      "Epoch 3, 10% \t train_loss: 1.46 took: 0.72s\n",
      "Epoch 3, 20% \t train_loss: 1.48 took: 0.61s\n",
      "Epoch 3, 30% \t train_loss: 1.50 took: 0.62s\n",
      "Epoch 3, 40% \t train_loss: 1.44 took: 0.63s\n",
      "Epoch 3, 50% \t train_loss: 1.47 took: 0.64s\n",
      "Epoch 3, 60% \t train_loss: 1.47 took: 0.64s\n",
      "Epoch 3, 70% \t train_loss: 1.42 took: 0.66s\n",
      "Epoch 3, 80% \t train_loss: 1.44 took: 0.60s\n",
      "Epoch 3, 90% \t train_loss: 1.41 took: 0.62s\n",
      "Validation loss = 1.38\n",
      "Epoch 4, 10% \t train_loss: 1.40 took: 0.75s\n",
      "Epoch 4, 20% \t train_loss: 1.39 took: 0.60s\n",
      "Epoch 4, 30% \t train_loss: 1.33 took: 0.61s\n",
      "Epoch 4, 40% \t train_loss: 1.32 took: 0.62s\n",
      "Epoch 4, 50% \t train_loss: 1.35 took: 0.64s\n",
      "Epoch 4, 60% \t train_loss: 1.35 took: 0.61s\n",
      "Epoch 4, 70% \t train_loss: 1.35 took: 0.64s\n",
      "Epoch 4, 80% \t train_loss: 1.38 took: 0.65s\n",
      "Epoch 4, 90% \t train_loss: 1.35 took: 0.64s\n",
      "Validation loss = 1.31\n",
      "Epoch 5, 10% \t train_loss: 1.31 took: 0.69s\n",
      "Epoch 5, 20% \t train_loss: 1.29 took: 0.64s\n",
      "Epoch 5, 30% \t train_loss: 1.32 took: 0.64s\n",
      "Epoch 5, 40% \t train_loss: 1.23 took: 0.60s\n",
      "Epoch 5, 50% \t train_loss: 1.28 took: 0.64s\n",
      "Epoch 5, 60% \t train_loss: 1.30 took: 0.63s\n",
      "Epoch 5, 70% \t train_loss: 1.27 took: 0.63s\n",
      "Epoch 5, 80% \t train_loss: 1.31 took: 0.65s\n",
      "Epoch 5, 90% \t train_loss: 1.27 took: 0.65s\n",
      "Validation loss = 1.28\n",
      "Epoch 6, 10% \t train_loss: 1.23 took: 0.68s\n",
      "Epoch 6, 20% \t train_loss: 1.21 took: 0.63s\n",
      "Epoch 6, 30% \t train_loss: 1.21 took: 0.60s\n",
      "Epoch 6, 40% \t train_loss: 1.22 took: 0.60s\n",
      "Epoch 6, 50% \t train_loss: 1.25 took: 0.64s\n",
      "Epoch 6, 60% \t train_loss: 1.22 took: 0.63s\n",
      "Epoch 6, 70% \t train_loss: 1.23 took: 0.65s\n",
      "Epoch 6, 80% \t train_loss: 1.22 took: 0.64s\n",
      "Epoch 6, 90% \t train_loss: 1.26 took: 0.62s\n",
      "Validation loss = 1.21\n",
      "Epoch 7, 10% \t train_loss: 1.16 took: 0.68s\n",
      "Epoch 7, 20% \t train_loss: 1.15 took: 0.62s\n",
      "Epoch 7, 30% \t train_loss: 1.18 took: 0.62s\n",
      "Epoch 7, 40% \t train_loss: 1.20 took: 0.62s\n",
      "Epoch 7, 50% \t train_loss: 1.21 took: 0.63s\n",
      "Epoch 7, 60% \t train_loss: 1.21 took: 0.61s\n",
      "Epoch 7, 70% \t train_loss: 1.17 took: 0.67s\n",
      "Epoch 7, 80% \t train_loss: 1.19 took: 0.62s\n",
      "Epoch 7, 90% \t train_loss: 1.16 took: 0.64s\n",
      "Validation loss = 1.16\n",
      "Epoch 8, 10% \t train_loss: 1.12 took: 0.67s\n",
      "Epoch 8, 20% \t train_loss: 1.13 took: 0.61s\n",
      "Epoch 8, 30% \t train_loss: 1.14 took: 0.65s\n",
      "Epoch 8, 40% \t train_loss: 1.14 took: 0.63s\n",
      "Epoch 8, 50% \t train_loss: 1.15 took: 0.63s\n",
      "Epoch 8, 60% \t train_loss: 1.11 took: 0.60s\n",
      "Epoch 8, 70% \t train_loss: 1.09 took: 0.65s\n",
      "Epoch 8, 80% \t train_loss: 1.12 took: 0.69s\n",
      "Epoch 8, 90% \t train_loss: 1.14 took: 0.63s\n",
      "Validation loss = 1.13\n",
      "Epoch 9, 10% \t train_loss: 1.07 took: 0.70s\n",
      "Epoch 9, 20% \t train_loss: 1.12 took: 0.62s\n",
      "Epoch 9, 30% \t train_loss: 1.10 took: 0.62s\n",
      "Epoch 9, 40% \t train_loss: 1.07 took: 0.64s\n",
      "Epoch 9, 50% \t train_loss: 1.12 took: 0.63s\n",
      "Epoch 9, 60% \t train_loss: 1.08 took: 0.62s\n",
      "Epoch 9, 70% \t train_loss: 1.07 took: 0.61s\n",
      "Epoch 9, 80% \t train_loss: 1.07 took: 0.62s\n",
      "Epoch 9, 90% \t train_loss: 1.15 took: 0.63s\n",
      "Validation loss = 1.14\n",
      "Epoch 10, 10% \t train_loss: 1.05 took: 0.70s\n",
      "Epoch 10, 20% \t train_loss: 1.02 took: 0.64s\n",
      "Epoch 10, 30% \t train_loss: 1.09 took: 0.62s\n",
      "Epoch 10, 40% \t train_loss: 1.06 took: 0.61s\n",
      "Epoch 10, 50% \t train_loss: 1.06 took: 0.62s\n",
      "Epoch 10, 60% \t train_loss: 1.05 took: 0.63s\n",
      "Epoch 10, 70% \t train_loss: 1.07 took: 0.66s\n",
      "Epoch 10, 80% \t train_loss: 1.06 took: 0.63s\n",
      "Epoch 10, 90% \t train_loss: 1.04 took: 0.65s\n",
      "Validation loss = 1.12\n",
      "Epoch 11, 10% \t train_loss: 1.04 took: 0.69s\n",
      "Epoch 11, 20% \t train_loss: 0.99 took: 0.59s\n",
      "Epoch 11, 30% \t train_loss: 1.06 took: 0.62s\n",
      "Epoch 11, 40% \t train_loss: 1.01 took: 0.61s\n",
      "Epoch 11, 50% \t train_loss: 1.04 took: 0.63s\n",
      "Epoch 11, 60% \t train_loss: 1.05 took: 0.63s\n",
      "Epoch 11, 70% \t train_loss: 1.02 took: 0.63s\n",
      "Epoch 11, 80% \t train_loss: 1.04 took: 0.63s\n",
      "Epoch 11, 90% \t train_loss: 1.03 took: 0.67s\n",
      "Validation loss = 1.12\n",
      "Epoch 12, 10% \t train_loss: 1.01 took: 0.70s\n",
      "Epoch 12, 20% \t train_loss: 0.97 took: 0.60s\n",
      "Epoch 12, 30% \t train_loss: 1.00 took: 0.62s\n",
      "Epoch 12, 40% \t train_loss: 0.96 took: 0.67s\n",
      "Epoch 12, 50% \t train_loss: 0.98 took: 0.62s\n",
      "Epoch 12, 60% \t train_loss: 0.96 took: 0.61s\n",
      "Epoch 12, 70% \t train_loss: 1.02 took: 0.60s\n",
      "Epoch 12, 80% \t train_loss: 1.01 took: 0.62s\n",
      "Epoch 12, 90% \t train_loss: 1.05 took: 0.60s\n",
      "Validation loss = 1.06\n",
      "Epoch 13, 10% \t train_loss: 0.92 took: 0.67s\n",
      "Epoch 13, 20% \t train_loss: 0.96 took: 0.67s\n",
      "Epoch 13, 30% \t train_loss: 1.00 took: 0.60s\n",
      "Epoch 13, 40% \t train_loss: 0.95 took: 0.60s\n",
      "Epoch 13, 50% \t train_loss: 0.95 took: 0.62s\n",
      "Epoch 13, 60% \t train_loss: 1.01 took: 0.66s\n",
      "Epoch 13, 70% \t train_loss: 0.96 took: 0.63s\n",
      "Epoch 13, 80% \t train_loss: 1.00 took: 0.64s\n",
      "Epoch 13, 90% \t train_loss: 0.99 took: 0.59s\n",
      "Validation loss = 1.13\n",
      "Epoch 14, 10% \t train_loss: 0.94 took: 0.68s\n",
      "Epoch 14, 20% \t train_loss: 0.94 took: 0.59s\n",
      "Epoch 14, 30% \t train_loss: 0.97 took: 0.61s\n",
      "Epoch 14, 40% \t train_loss: 0.95 took: 0.62s\n",
      "Epoch 14, 50% \t train_loss: 0.98 took: 0.63s\n",
      "Epoch 14, 60% \t train_loss: 0.93 took: 0.60s\n",
      "Epoch 14, 70% \t train_loss: 0.91 took: 0.66s\n",
      "Epoch 14, 80% \t train_loss: 0.95 took: 0.62s\n",
      "Epoch 14, 90% \t train_loss: 0.94 took: 0.65s\n",
      "Validation loss = 1.02\n",
      "Epoch 15, 10% \t train_loss: 0.88 took: 0.69s\n",
      "Epoch 15, 20% \t train_loss: 0.94 took: 0.59s\n",
      "Epoch 15, 30% \t train_loss: 0.89 took: 0.61s\n",
      "Epoch 15, 40% \t train_loss: 0.95 took: 0.60s\n",
      "Epoch 15, 50% \t train_loss: 0.95 took: 0.60s\n",
      "Epoch 15, 60% \t train_loss: 0.90 took: 0.60s\n",
      "Epoch 15, 70% \t train_loss: 0.93 took: 0.61s\n",
      "Epoch 15, 80% \t train_loss: 0.94 took: 0.63s\n",
      "Epoch 15, 90% \t train_loss: 0.94 took: 0.59s\n",
      "Validation loss = 1.03\n",
      "Epoch 16, 10% \t train_loss: 0.90 took: 0.71s\n",
      "Epoch 16, 20% \t train_loss: 0.90 took: 0.64s\n",
      "Epoch 16, 30% \t train_loss: 0.87 took: 0.61s\n",
      "Epoch 16, 40% \t train_loss: 0.86 took: 0.61s\n",
      "Epoch 16, 50% \t train_loss: 0.91 took: 0.62s\n",
      "Epoch 16, 60% \t train_loss: 0.95 took: 0.60s\n",
      "Epoch 16, 70% \t train_loss: 0.96 took: 0.66s\n",
      "Epoch 16, 80% \t train_loss: 0.89 took: 0.63s\n",
      "Epoch 16, 90% \t train_loss: 0.94 took: 0.61s\n",
      "Validation loss = 1.09\n",
      "Epoch 17, 10% \t train_loss: 0.87 took: 0.69s\n",
      "Epoch 17, 20% \t train_loss: 0.86 took: 0.64s\n",
      "Epoch 17, 30% \t train_loss: 0.88 took: 0.62s\n",
      "Epoch 17, 40% \t train_loss: 0.89 took: 0.70s\n",
      "Epoch 17, 50% \t train_loss: 0.82 took: 0.65s\n",
      "Epoch 17, 60% \t train_loss: 0.92 took: 0.61s\n",
      "Epoch 17, 70% \t train_loss: 0.89 took: 0.63s\n",
      "Epoch 17, 80% \t train_loss: 0.92 took: 0.63s\n",
      "Epoch 17, 90% \t train_loss: 0.93 took: 0.64s\n",
      "Validation loss = 1.03\n",
      "Epoch 18, 10% \t train_loss: 0.81 took: 0.68s\n",
      "Epoch 18, 20% \t train_loss: 0.87 took: 0.61s\n",
      "Epoch 18, 30% \t train_loss: 0.91 took: 0.60s\n",
      "Epoch 18, 40% \t train_loss: 0.87 took: 0.62s\n",
      "Epoch 18, 50% \t train_loss: 0.84 took: 0.61s\n",
      "Epoch 18, 60% \t train_loss: 0.87 took: 0.63s\n",
      "Epoch 18, 70% \t train_loss: 0.90 took: 0.59s\n",
      "Epoch 18, 80% \t train_loss: 0.89 took: 0.60s\n",
      "Epoch 18, 90% \t train_loss: 0.88 took: 0.63s\n",
      "Validation loss = 1.04\n",
      "Epoch 19, 10% \t train_loss: 0.80 took: 0.68s\n",
      "Epoch 19, 20% \t train_loss: 0.81 took: 0.60s\n",
      "Epoch 19, 30% \t train_loss: 0.84 took: 0.62s\n",
      "Epoch 19, 40% \t train_loss: 0.82 took: 0.63s\n",
      "Epoch 19, 50% \t train_loss: 0.88 took: 0.63s\n",
      "Epoch 19, 60% \t train_loss: 0.87 took: 0.60s\n",
      "Epoch 19, 70% \t train_loss: 0.85 took: 0.60s\n",
      "Epoch 19, 80% \t train_loss: 0.86 took: 0.62s\n",
      "Epoch 19, 90% \t train_loss: 0.85 took: 0.63s\n",
      "Validation loss = 1.02\n",
      "Epoch 20, 10% \t train_loss: 0.85 took: 0.66s\n",
      "Epoch 20, 20% \t train_loss: 0.81 took: 0.66s\n",
      "Epoch 20, 30% \t train_loss: 0.83 took: 0.59s\n",
      "Epoch 20, 40% \t train_loss: 0.83 took: 0.66s\n",
      "Epoch 20, 50% \t train_loss: 0.81 took: 0.62s\n",
      "Epoch 20, 60% \t train_loss: 0.88 took: 0.60s\n",
      "Epoch 20, 70% \t train_loss: 0.83 took: 0.61s\n",
      "Epoch 20, 80% \t train_loss: 0.82 took: 0.60s\n",
      "Epoch 20, 90% \t train_loss: 0.83 took: 0.66s\n",
      "Validation loss = 1.09\n",
      "Epoch 21, 10% \t train_loss: 0.83 took: 0.68s\n",
      "Epoch 21, 20% \t train_loss: 0.78 took: 0.63s\n",
      "Epoch 21, 30% \t train_loss: 0.80 took: 0.61s\n",
      "Epoch 21, 40% \t train_loss: 0.86 took: 0.63s\n",
      "Epoch 21, 50% \t train_loss: 0.84 took: 0.61s\n",
      "Epoch 21, 60% \t train_loss: 0.81 took: 0.62s\n",
      "Epoch 21, 70% \t train_loss: 0.86 took: 0.70s\n",
      "Epoch 21, 80% \t train_loss: 0.80 took: 0.59s\n",
      "Epoch 21, 90% \t train_loss: 0.82 took: 0.63s\n",
      "Validation loss = 1.07\n",
      "Epoch 22, 10% \t train_loss: 0.77 took: 0.69s\n",
      "Epoch 22, 20% \t train_loss: 0.77 took: 0.61s\n",
      "Epoch 22, 30% \t train_loss: 0.85 took: 0.60s\n",
      "Epoch 22, 40% \t train_loss: 0.81 took: 0.61s\n",
      "Epoch 22, 50% \t train_loss: 0.78 took: 0.61s\n",
      "Epoch 22, 60% \t train_loss: 0.82 took: 0.63s\n",
      "Epoch 22, 70% \t train_loss: 0.76 took: 0.61s\n",
      "Epoch 22, 80% \t train_loss: 0.81 took: 0.60s\n",
      "Epoch 22, 90% \t train_loss: 0.84 took: 0.61s\n",
      "Validation loss = 1.02\n",
      "Epoch 23, 10% \t train_loss: 0.76 took: 0.71s\n",
      "Epoch 23, 20% \t train_loss: 0.79 took: 0.63s\n",
      "Epoch 23, 30% \t train_loss: 0.76 took: 0.64s\n",
      "Epoch 23, 40% \t train_loss: 0.79 took: 0.62s\n",
      "Epoch 23, 50% \t train_loss: 0.83 took: 0.63s\n",
      "Epoch 23, 60% \t train_loss: 0.77 took: 0.64s\n",
      "Epoch 23, 70% \t train_loss: 0.76 took: 0.62s\n",
      "Epoch 23, 80% \t train_loss: 0.87 took: 0.59s\n",
      "Epoch 23, 90% \t train_loss: 0.83 took: 0.59s\n",
      "Validation loss = 1.08\n",
      "Epoch 24, 10% \t train_loss: 0.74 took: 0.71s\n",
      "Epoch 24, 20% \t train_loss: 0.74 took: 0.63s\n",
      "Epoch 24, 30% \t train_loss: 0.78 took: 0.62s\n",
      "Epoch 24, 40% \t train_loss: 0.78 took: 0.65s\n",
      "Epoch 24, 50% \t train_loss: 0.79 took: 0.64s\n",
      "Epoch 24, 60% \t train_loss: 0.78 took: 0.68s\n",
      "Epoch 24, 70% \t train_loss: 0.82 took: 0.61s\n",
      "Epoch 24, 80% \t train_loss: 0.79 took: 0.60s\n",
      "Epoch 24, 90% \t train_loss: 0.79 took: 0.63s\n",
      "Validation loss = 1.06\n",
      "Epoch 25, 10% \t train_loss: 0.74 took: 0.67s\n",
      "Epoch 25, 20% \t train_loss: 0.74 took: 0.61s\n",
      "Epoch 25, 30% \t train_loss: 0.81 took: 0.64s\n",
      "Epoch 25, 40% \t train_loss: 0.78 took: 0.62s\n",
      "Epoch 25, 50% \t train_loss: 0.77 took: 0.62s\n",
      "Epoch 25, 60% \t train_loss: 0.77 took: 0.65s\n",
      "Epoch 25, 70% \t train_loss: 0.76 took: 0.62s\n",
      "Epoch 25, 80% \t train_loss: 0.77 took: 0.60s\n",
      "Epoch 25, 90% \t train_loss: 0.79 took: 0.68s\n",
      "Validation loss = 1.09\n",
      "Epoch 26, 10% \t train_loss: 0.70 took: 0.69s\n",
      "Epoch 26, 20% \t train_loss: 0.74 took: 0.63s\n",
      "Epoch 26, 30% \t train_loss: 0.75 took: 0.62s\n",
      "Epoch 26, 40% \t train_loss: 0.76 took: 0.63s\n",
      "Epoch 26, 50% \t train_loss: 0.74 took: 0.62s\n",
      "Epoch 26, 60% \t train_loss: 0.77 took: 0.60s\n",
      "Epoch 26, 70% \t train_loss: 0.79 took: 0.66s\n",
      "Epoch 26, 80% \t train_loss: 0.77 took: 0.64s\n",
      "Epoch 26, 90% \t train_loss: 0.78 took: 0.67s\n",
      "Validation loss = 1.05\n",
      "Epoch 27, 10% \t train_loss: 0.72 took: 0.71s\n",
      "Epoch 27, 20% \t train_loss: 0.72 took: 0.65s\n",
      "Epoch 27, 30% \t train_loss: 0.71 took: 0.62s\n",
      "Epoch 27, 40% \t train_loss: 0.72 took: 0.68s\n",
      "Epoch 27, 50% \t train_loss: 0.74 took: 0.71s\n",
      "Epoch 27, 60% \t train_loss: 0.77 took: 0.65s\n",
      "Epoch 27, 70% \t train_loss: 0.76 took: 0.66s\n",
      "Epoch 27, 80% \t train_loss: 0.79 took: 0.64s\n",
      "Epoch 27, 90% \t train_loss: 0.79 took: 0.62s\n",
      "Validation loss = 1.13\n",
      "Epoch 28, 10% \t train_loss: 0.70 took: 0.74s\n",
      "Epoch 28, 20% \t train_loss: 0.74 took: 0.65s\n",
      "Epoch 28, 30% \t train_loss: 0.72 took: 0.62s\n",
      "Epoch 28, 40% \t train_loss: 0.73 took: 0.65s\n",
      "Epoch 28, 50% \t train_loss: 0.70 took: 0.64s\n",
      "Epoch 28, 60% \t train_loss: 0.71 took: 0.67s\n",
      "Epoch 28, 70% \t train_loss: 0.74 took: 0.66s\n",
      "Epoch 28, 80% \t train_loss: 0.74 took: 0.62s\n",
      "Epoch 28, 90% \t train_loss: 0.73 took: 0.66s\n",
      "Validation loss = 1.12\n",
      "Epoch 29, 10% \t train_loss: 0.68 took: 0.81s\n",
      "Epoch 29, 20% \t train_loss: 0.66 took: 0.67s\n",
      "Epoch 29, 30% \t train_loss: 0.74 took: 0.62s\n",
      "Epoch 29, 40% \t train_loss: 0.74 took: 0.68s\n",
      "Epoch 29, 50% \t train_loss: 0.71 took: 0.64s\n",
      "Epoch 29, 60% \t train_loss: 0.72 took: 0.68s\n",
      "Epoch 29, 70% \t train_loss: 0.77 took: 0.64s\n",
      "Epoch 29, 80% \t train_loss: 0.72 took: 0.65s\n",
      "Epoch 29, 90% \t train_loss: 0.76 took: 0.69s\n",
      "Validation loss = 1.11\n",
      "Epoch 30, 10% \t train_loss: 0.69 took: 0.71s\n",
      "Epoch 30, 20% \t train_loss: 0.70 took: 0.63s\n",
      "Epoch 30, 30% \t train_loss: 0.72 took: 0.60s\n",
      "Epoch 30, 40% \t train_loss: 0.66 took: 0.62s\n",
      "Epoch 30, 50% \t train_loss: 0.76 took: 0.60s\n",
      "Epoch 30, 60% \t train_loss: 0.73 took: 0.65s\n",
      "Epoch 30, 70% \t train_loss: 0.74 took: 0.61s\n",
      "Epoch 30, 80% \t train_loss: 0.74 took: 0.66s\n",
      "Epoch 30, 90% \t train_loss: 0.73 took: 0.65s\n",
      "Validation loss = 1.11\n",
      "Epoch 31, 10% \t train_loss: 0.66 took: 0.72s\n",
      "Epoch 31, 20% \t train_loss: 0.67 took: 0.61s\n",
      "Epoch 31, 30% \t train_loss: 0.68 took: 0.61s\n",
      "Epoch 31, 40% \t train_loss: 0.72 took: 0.64s\n",
      "Epoch 31, 50% \t train_loss: 0.71 took: 0.63s\n",
      "Epoch 31, 60% \t train_loss: 0.69 took: 0.66s\n",
      "Epoch 31, 70% \t train_loss: 0.71 took: 0.65s\n",
      "Epoch 31, 80% \t train_loss: 0.70 took: 0.66s\n",
      "Epoch 31, 90% \t train_loss: 0.69 took: 0.62s\n",
      "Validation loss = 1.10\n",
      "Epoch 32, 10% \t train_loss: 0.66 took: 0.70s\n",
      "Epoch 32, 20% \t train_loss: 0.67 took: 0.63s\n",
      "Epoch 32, 30% \t train_loss: 0.66 took: 0.66s\n",
      "Epoch 32, 40% \t train_loss: 0.61 took: 0.65s\n",
      "Epoch 32, 50% \t train_loss: 0.71 took: 0.64s\n",
      "Epoch 32, 60% \t train_loss: 0.68 took: 0.63s\n",
      "Epoch 32, 70% \t train_loss: 0.70 took: 0.67s\n",
      "Epoch 32, 80% \t train_loss: 0.71 took: 0.69s\n",
      "Epoch 32, 90% \t train_loss: 0.72 took: 0.62s\n",
      "Validation loss = 1.08\n",
      "Epoch 33, 10% \t train_loss: 0.63 took: 0.69s\n",
      "Epoch 33, 20% \t train_loss: 0.64 took: 0.63s\n",
      "Epoch 33, 30% \t train_loss: 0.72 took: 0.61s\n",
      "Epoch 33, 40% \t train_loss: 0.68 took: 0.60s\n",
      "Epoch 33, 50% \t train_loss: 0.67 took: 0.64s\n",
      "Epoch 33, 60% \t train_loss: 0.71 took: 0.63s\n",
      "Epoch 33, 70% \t train_loss: 0.70 took: 0.63s\n",
      "Epoch 33, 80% \t train_loss: 0.68 took: 0.67s\n",
      "Epoch 33, 90% \t train_loss: 0.67 took: 0.64s\n",
      "Validation loss = 1.17\n",
      "Epoch 34, 10% \t train_loss: 0.58 took: 0.71s\n",
      "Epoch 34, 20% \t train_loss: 0.65 took: 0.61s\n",
      "Epoch 34, 30% \t train_loss: 0.65 took: 0.65s\n",
      "Epoch 34, 40% \t train_loss: 0.66 took: 0.65s\n",
      "Epoch 34, 50% \t train_loss: 0.66 took: 0.65s\n",
      "Epoch 34, 60% \t train_loss: 0.70 took: 0.66s\n",
      "Epoch 34, 70% \t train_loss: 0.67 took: 0.62s\n",
      "Epoch 34, 80% \t train_loss: 0.68 took: 0.66s\n",
      "Epoch 34, 90% \t train_loss: 0.74 took: 0.65s\n",
      "Validation loss = 1.14\n",
      "Epoch 35, 10% \t train_loss: 0.62 took: 0.72s\n",
      "Epoch 35, 20% \t train_loss: 0.63 took: 0.64s\n",
      "Epoch 35, 30% \t train_loss: 0.64 took: 0.69s\n",
      "Epoch 35, 40% \t train_loss: 0.65 took: 0.64s\n",
      "Epoch 35, 50% \t train_loss: 0.66 took: 0.70s\n",
      "Epoch 35, 60% \t train_loss: 0.67 took: 0.68s\n",
      "Epoch 35, 70% \t train_loss: 0.67 took: 0.64s\n",
      "Epoch 35, 80% \t train_loss: 0.67 took: 0.71s\n",
      "Epoch 35, 90% \t train_loss: 0.66 took: 0.68s\n",
      "Validation loss = 1.19\n",
      "Epoch 36, 10% \t train_loss: 0.63 took: 0.71s\n",
      "Epoch 36, 20% \t train_loss: 0.61 took: 0.64s\n",
      "Epoch 36, 30% \t train_loss: 0.64 took: 0.61s\n",
      "Epoch 36, 40% \t train_loss: 0.64 took: 0.62s\n",
      "Epoch 36, 50% \t train_loss: 0.64 took: 0.61s\n",
      "Epoch 36, 60% \t train_loss: 0.66 took: 0.62s\n",
      "Epoch 36, 70% \t train_loss: 0.69 took: 0.66s\n",
      "Epoch 36, 80% \t train_loss: 0.68 took: 0.63s\n",
      "Epoch 36, 90% \t train_loss: 0.62 took: 0.66s\n",
      "Validation loss = 1.16\n",
      "Epoch 37, 10% \t train_loss: 0.59 took: 0.72s\n",
      "Epoch 37, 20% \t train_loss: 0.62 took: 0.69s\n",
      "Epoch 37, 30% \t train_loss: 0.60 took: 0.62s\n",
      "Epoch 37, 40% \t train_loss: 0.62 took: 0.60s\n",
      "Epoch 37, 50% \t train_loss: 0.63 took: 0.62s\n",
      "Epoch 37, 60% \t train_loss: 0.69 took: 0.62s\n",
      "Epoch 37, 70% \t train_loss: 0.71 took: 0.61s\n",
      "Epoch 37, 80% \t train_loss: 0.68 took: 0.62s\n",
      "Epoch 37, 90% \t train_loss: 0.64 took: 0.63s\n",
      "Validation loss = 1.17\n",
      "Epoch 38, 10% \t train_loss: 0.56 took: 0.68s\n",
      "Epoch 38, 20% \t train_loss: 0.63 took: 0.63s\n",
      "Epoch 38, 30% \t train_loss: 0.61 took: 0.63s\n",
      "Epoch 38, 40% \t train_loss: 0.61 took: 0.63s\n",
      "Epoch 38, 50% \t train_loss: 0.62 took: 0.64s\n",
      "Epoch 38, 60% \t train_loss: 0.64 took: 0.65s\n",
      "Epoch 38, 70% \t train_loss: 0.65 took: 0.62s\n",
      "Epoch 38, 80% \t train_loss: 0.70 took: 0.65s\n",
      "Epoch 38, 90% \t train_loss: 0.67 took: 0.63s\n",
      "Validation loss = 1.13\n",
      "Epoch 39, 10% \t train_loss: 0.55 took: 0.68s\n",
      "Epoch 39, 20% \t train_loss: 0.60 took: 0.63s\n",
      "Epoch 39, 30% \t train_loss: 0.60 took: 0.63s\n",
      "Epoch 39, 40% \t train_loss: 0.65 took: 0.65s\n",
      "Epoch 39, 50% \t train_loss: 0.62 took: 0.64s\n",
      "Epoch 39, 60% \t train_loss: 0.61 took: 0.67s\n",
      "Epoch 39, 70% \t train_loss: 0.63 took: 0.70s\n",
      "Epoch 39, 80% \t train_loss: 0.64 took: 0.64s\n",
      "Epoch 39, 90% \t train_loss: 0.62 took: 0.60s\n",
      "Validation loss = 1.16\n",
      "Epoch 40, 10% \t train_loss: 0.58 took: 0.67s\n",
      "Epoch 40, 20% \t train_loss: 0.60 took: 0.63s\n",
      "Epoch 40, 30% \t train_loss: 0.58 took: 0.63s\n",
      "Epoch 40, 40% \t train_loss: 0.62 took: 0.61s\n",
      "Epoch 40, 50% \t train_loss: 0.61 took: 0.62s\n",
      "Epoch 40, 60% \t train_loss: 0.62 took: 0.62s\n",
      "Epoch 40, 70% \t train_loss: 0.61 took: 0.63s\n",
      "Epoch 40, 80% \t train_loss: 0.66 took: 0.65s\n",
      "Epoch 40, 90% \t train_loss: 0.67 took: 0.64s\n",
      "Validation loss = 1.21\n",
      "Training Finished, took 289.86s\n"
     ]
    }
   ],
   "source": [
    "net = MyConvolutionalNetwork()\n",
    "train_history, val_history = train(net, batch_size=32, n_epochs=40, learning_rate=0.001)"
   ]
  },
  {
   "cell_type": "markdown",
   "metadata": {
    "colab_type": "text",
    "id": "G8-79AdZMPzf"
   },
   "source": [
    "### Losses Plot"
   ]
  },
  {
   "cell_type": "code",
   "execution_count": 0,
   "metadata": {
    "colab": {
     "base_uri": "https://localhost:8080/",
     "height": 404
    },
    "colab_type": "code",
    "id": "qwunVtJuMPzg",
    "outputId": "37644953-cc08-442b-834a-086c8a1d04a8"
   },
   "outputs": [
    {
     "data": {
      "image/png": "[encoded data removed]",
      "text/plain": [
       "<Figure size 576x432 with 1 Axes>"
      ]
     },
     "metadata": {
      "tags": []
     },
     "output_type": "display_data"
    }
   ],
   "source": [
    "plot_losses(train_history, val_history)"
   ]
  },
  {
   "cell_type": "markdown",
   "metadata": {
    "colab_type": "text",
    "id": "ES36-jxSMPzj"
   },
   "source": [
    "### Accuracy of the trained model"
   ]
  },
  {
   "cell_type": "code",
   "execution_count": 0,
   "metadata": {
    "colab": {
     "base_uri": "https://localhost:8080/",
     "height": 68
    },
    "colab_type": "code",
    "id": "rbsKaJe0MPzk",
    "outputId": "e49a3a46-cd9c-40a0-9001-b43f22134bb2"
   },
   "outputs": [
    {
     "name": "stdout",
     "output_type": "stream",
     "text": [
      "Accuracy of the network on the 20000 train images: 68.57 %\n",
      "Accuracy of the network on the 5000 validation images: 63.12 %\n",
      "Accuracy of the network on the 5000 test images: 63.58 %\n"
     ]
    }
   ],
   "source": [
    "compute_accuracy(net)"
   ]
  },
  {
   "cell_type": "markdown",
   "metadata": {
    "colab_type": "text",
    "id": "j4XHQM6xMPzn"
   },
   "source": [
    "**Baseline: Simple Convolutional Neural Network (form part II)**\n",
    "\n",
    "<table>\n",
    "<tr>\n",
    "    <td>Accuracy on the test set:</td>\n",
    "    <td>59.98 %</td>\n",
    "</tr>\n",
    "</table>"
   ]
  },
  {
   "cell_type": "code",
   "execution_count": 0,
   "metadata": {
    "colab": {},
    "colab_type": "code",
    "id": "E2_2HCk_MPzo"
   },
   "outputs": [],
   "source": []
  },
  {
   "cell_type": "code",
   "execution_count": 0,
   "metadata": {
    "colab": {},
    "colab_type": "code",
    "id": "0K5s4UlnMPzq"
   },
   "outputs": [],
   "source": []
  },
  {
   "cell_type": "code",
   "execution_count": 0,
   "metadata": {
    "colab": {
     "base_uri": "https://localhost:8080/",
     "height": 204
    },
    "colab_type": "code",
    "id": "3gc_Nb5NMPzs",
    "outputId": "5137ebf8-1703-4244-bee6-2dfb0e52fec2"
   },
   "outputs": [
    {
     "name": "stdout",
     "output_type": "stream",
     "text": [
      "Class      Accuracy (%)\n",
      "plane        70.70   \n",
      "car          77.82   \n",
      "bird         38.28   \n",
      "cat          44.47   \n",
      "deer         58.19   \n",
      "dog          53.48   \n",
      "frog         74.95   \n",
      "horse        70.71   \n",
      "ship         77.98   \n",
      "truck        69.59   \n"
     ]
    }
   ],
   "source": [
    "confusion_matrix = accuracy_per_class(net)"
   ]
  },
  {
   "cell_type": "code",
   "execution_count": 0,
   "metadata": {
    "colab": {
     "base_uri": "https://localhost:8080/",
     "height": 585
    },
    "colab_type": "code",
    "id": "bhyFzS4vMPzv",
    "outputId": "f586d8f3-2c78-4938-d9f6-ad6c3b5aa733"
   },
   "outputs": [
    {
     "data": {
      "image/png": "[encoded data removed]",
      "text/plain": [
       "<Figure size 576x576 with 2 Axes>"
      ]
     },
     "metadata": {
      "tags": []
     },
     "output_type": "display_data"
    }
   ],
   "source": [
    "plot_confusion_matrix(confusion_matrix, classes,\n",
    "                      title='Confusion matrix, without normalization')"
   ]
  },
  {
   "cell_type": "code",
   "execution_count": 0,
   "metadata": {
    "colab": {},
    "colab_type": "code",
    "id": "fkmJJow6Urt9"
   },
   "outputs": [],
   "source": []
  },
  {
   "cell_type": "code",
   "execution_count": 0,
   "metadata": {
    "colab": {},
    "colab_type": "code",
    "id": "8K4wBxOmUr94"
   },
   "outputs": [],
   "source": [
    "class MyConvolutionalNetwork(nn.Module):\n",
    "    def __init__(self):\n",
    "        super(MyConvolutionalNetwork, self).__init__()\n",
    "        \n",
    "        self.conv1 = nn.Conv2d(3, 18, kernel_size=3, stride=1, padding=1)\n",
    "        self.pool = nn.MaxPool2d(kernel_size=2, stride=2, padding=0)\n",
    "\n",
    "        #### START CODE: ADD NEW LAYERS ####\n",
    "        # (do not forget to update `flattened_size`:\n",
    "        # the input size of the first fully connected layer self.fc1)\n",
    "        # self.conv2 = ...\n",
    "        self.conv2 = nn.Conv2d(18, 32, kernel_size=3, stride=1, padding=1)\n",
    "        self.conv3 = nn.Conv2d(32, 32, kernel_size=3, stride=1, padding=1)\n",
    "        self.pool2 = nn.MaxPool2d(kernel_size=2, stride = 2, padding = 0)\n",
    "        self.dropout1 = nn.Dropout2d(0.25)\n",
    "        self.conv4 = nn.Conv2d(32, 64, kernel_size=3, stride=1, padding = 1)\n",
    "        self.conv5 = nn.Conv2d(64, 64, kernel_size=3, stride=1, padding = 1)\n",
    "        self.pool3 = nn.MaxPool2d(kernel_size=2, stride = 2, padding = 0)\n",
    "        self.dropout2 = nn.Dropout2d(0.25)\n",
    "        self.conv6 = nn.Conv2d(64, 128, kernel_size=3, stride=1, padding = 1)\n",
    "        self.conv7 = nn.Conv2d(128, 128, kernel_size=3, stride=1, padding = 1)\n",
    "        self.pool4 = nn.MaxPool2d(kernel_size=2, stride = 2, padding = 0)\n",
    "        self.dropout3 = nn.Dropout2d(0.25)\n",
    "\n",
    "        # Size of the output of the last convolution:\n",
    "        self.flattened_size = 128 * 2 * 2\n",
    "        ### END CODE ###\n",
    "        \n",
    "        self.fc1 = nn.Linear(self.flattened_size, 64)\n",
    "        self.fc2 = nn.Linear(64, 10)\n",
    "\n",
    "    def forward(self, x):\n",
    "        \"\"\"\n",
    "        Forward pass,\n",
    "        x shape is (batch_size, 3, 32, 32)\n",
    "        (color channel first)\n",
    "        in the comments, we omit the batch_size in the shape\n",
    "        \"\"\"\n",
    "        # shape : 3x32x32 -> 18x32x32\n",
    "        x = F.relu(self.conv1(x))\n",
    "        # 18x32x32 -> 18x16x16\n",
    "        x = self.pool(x)\n",
    "        \n",
    "        #### START CODE: USE YOUR NEW LAYERS HERE ####\n",
    "        # x = ...\n",
    "        x = F.relu(self.conv2(x))\n",
    "        x = F.relu(self.conv3(x))\n",
    "        x = self.pool2(x)\n",
    "        x = self.dropout1(x)\n",
    "        x = F.relu(self.conv4(x))\n",
    "        x = F.relu(self.conv5(x))\n",
    "        x = self.pool3(x)\n",
    "        x = self.dropout2(x)\n",
    "        x = F.relu(self.conv6(x))\n",
    "        x = F.relu(self.conv7(x))\n",
    "        x = self.pool4(x)\n",
    "        x = self.dropout2(x)\n",
    "        \n",
    "        #### END CODE ####\n",
    "        \n",
    "        # Check the output size\n",
    "        output_size = np.prod(x.size()[1:])\n",
    "        assert output_size == self.flattened_size,\\\n",
    "                \"self.flattened_size is invalid {} != {}\".format(output_size, self.flattened_size)\n",
    "        \n",
    "        # 18x16x16 -> 4608\n",
    "        x = x.view(-1, self.flattened_size)\n",
    "        # 4608 -> 64\n",
    "        x = F.relu(self.fc1(x))\n",
    "        # 64 -> 10\n",
    "        x = self.fc2(x)\n",
    "        return x"
   ]
  },
  {
   "cell_type": "code",
   "execution_count": 0,
   "metadata": {
    "colab": {
     "base_uri": "https://localhost:8080/",
     "height": 1000
    },
    "colab_type": "code",
    "id": "CSf_tbDaUr99",
    "outputId": "96c399e4-3508-4985-ffc2-7348fe7e6d27",
    "scrolled": false
   },
   "outputs": [
    {
     "name": "stdout",
     "output_type": "stream",
     "text": [
      "===== HYPERPARAMETERS =====\n",
      "batch_size= 128\n",
      "n_epochs= 40\n",
      "learning_rate= 0.001\n",
      "==============================\n",
      "Epoch 1, 10% \t train_loss: 2.46 took: 0.50s\n",
      "Epoch 1, 20% \t train_loss: 2.43 took: 0.37s\n",
      "Epoch 1, 30% \t train_loss: 2.36 took: 0.36s\n",
      "Epoch 1, 40% \t train_loss: 2.27 took: 0.37s\n",
      "Epoch 1, 50% \t train_loss: 2.19 took: 0.38s\n",
      "Epoch 1, 61% \t train_loss: 2.11 took: 0.34s\n",
      "Epoch 1, 71% \t train_loss: 2.06 took: 0.36s\n",
      "Epoch 1, 81% \t train_loss: 2.04 took: 0.37s\n",
      "Epoch 1, 91% \t train_loss: 2.05 took: 0.41s\n",
      "Validation loss = 1.78\n",
      "Epoch 2, 10% \t train_loss: 1.94 took: 0.47s\n",
      "Epoch 2, 20% \t train_loss: 1.96 took: 0.36s\n",
      "Epoch 2, 30% \t train_loss: 1.90 took: 0.35s\n",
      "Epoch 2, 40% \t train_loss: 1.86 took: 0.38s\n",
      "Epoch 2, 50% \t train_loss: 1.84 took: 0.35s\n",
      "Epoch 2, 61% \t train_loss: 1.79 took: 0.34s\n",
      "Epoch 2, 71% \t train_loss: 1.81 took: 0.35s\n",
      "Epoch 2, 81% \t train_loss: 1.79 took: 0.46s\n",
      "Epoch 2, 91% \t train_loss: 1.74 took: 0.35s\n",
      "Validation loss = 1.68\n",
      "Epoch 3, 10% \t train_loss: 1.77 took: 0.46s\n",
      "Epoch 3, 20% \t train_loss: 1.71 took: 0.36s\n",
      "Epoch 3, 30% \t train_loss: 1.72 took: 0.36s\n",
      "Epoch 3, 40% \t train_loss: 1.70 took: 0.38s\n",
      "Epoch 3, 50% \t train_loss: 1.67 took: 0.33s\n",
      "Epoch 3, 61% \t train_loss: 1.64 took: 0.36s\n",
      "Epoch 3, 71% \t train_loss: 1.63 took: 0.38s\n",
      "Epoch 3, 81% \t train_loss: 1.67 took: 0.36s\n",
      "Epoch 3, 91% \t train_loss: 1.67 took: 0.36s\n",
      "Validation loss = 1.54\n",
      "Epoch 4, 10% \t train_loss: 1.64 took: 0.44s\n",
      "Epoch 4, 20% \t train_loss: 1.62 took: 0.37s\n",
      "Epoch 4, 30% \t train_loss: 1.56 took: 0.36s\n",
      "Epoch 4, 40% \t train_loss: 1.61 took: 0.37s\n",
      "Epoch 4, 50% \t train_loss: 1.58 took: 0.40s\n",
      "Epoch 4, 61% \t train_loss: 1.57 took: 0.36s\n",
      "Epoch 4, 71% \t train_loss: 1.56 took: 0.34s\n",
      "Epoch 4, 81% \t train_loss: 1.56 took: 0.38s\n",
      "Epoch 4, 91% \t train_loss: 1.54 took: 0.35s\n",
      "Validation loss = 1.42\n",
      "Epoch 5, 10% \t train_loss: 1.55 took: 0.47s\n",
      "Epoch 5, 20% \t train_loss: 1.53 took: 0.37s\n",
      "Epoch 5, 30% \t train_loss: 1.49 took: 0.36s\n",
      "Epoch 5, 40% \t train_loss: 1.47 took: 0.35s\n",
      "Epoch 5, 50% \t train_loss: 1.50 took: 0.36s\n",
      "Epoch 5, 61% \t train_loss: 1.55 took: 0.34s\n",
      "Epoch 5, 71% \t train_loss: 1.54 took: 0.43s\n",
      "Epoch 5, 81% \t train_loss: 1.48 took: 0.34s\n",
      "Epoch 5, 91% \t train_loss: 1.51 took: 0.38s\n",
      "Validation loss = 1.42\n",
      "Epoch 6, 10% \t train_loss: 1.43 took: 0.46s\n",
      "Epoch 6, 20% \t train_loss: 1.42 took: 0.36s\n",
      "Epoch 6, 30% \t train_loss: 1.44 took: 0.36s\n",
      "Epoch 6, 40% \t train_loss: 1.45 took: 0.33s\n",
      "Epoch 6, 50% \t train_loss: 1.46 took: 0.39s\n",
      "Epoch 6, 61% \t train_loss: 1.43 took: 0.41s\n",
      "Epoch 6, 71% \t train_loss: 1.42 took: 0.34s\n",
      "Epoch 6, 81% \t train_loss: 1.46 took: 0.35s\n",
      "Epoch 6, 91% \t train_loss: 1.40 took: 0.41s\n",
      "Validation loss = 1.31\n",
      "Epoch 7, 10% \t train_loss: 1.40 took: 0.45s\n",
      "Epoch 7, 20% \t train_loss: 1.38 took: 0.39s\n",
      "Epoch 7, 30% \t train_loss: 1.41 took: 0.36s\n",
      "Epoch 7, 40% \t train_loss: 1.38 took: 0.37s\n",
      "Epoch 7, 50% \t train_loss: 1.35 took: 0.38s\n",
      "Epoch 7, 61% \t train_loss: 1.37 took: 0.38s\n",
      "Epoch 7, 71% \t train_loss: 1.38 took: 0.36s\n",
      "Epoch 7, 81% \t train_loss: 1.36 took: 0.37s\n",
      "Epoch 7, 91% \t train_loss: 1.34 took: 0.37s\n",
      "Validation loss = 1.27\n",
      "Epoch 8, 10% \t train_loss: 1.37 took: 0.46s\n",
      "Epoch 8, 20% \t train_loss: 1.35 took: 0.36s\n",
      "Epoch 8, 30% \t train_loss: 1.34 took: 0.41s\n",
      "Epoch 8, 40% \t train_loss: 1.29 took: 0.37s\n",
      "Epoch 8, 50% \t train_loss: 1.29 took: 0.37s\n",
      "Epoch 8, 61% \t train_loss: 1.34 took: 0.41s\n",
      "Epoch 8, 71% \t train_loss: 1.33 took: 0.38s\n",
      "Epoch 8, 81% \t train_loss: 1.30 took: 0.38s\n",
      "Epoch 8, 91% \t train_loss: 1.34 took: 0.37s\n",
      "Validation loss = 1.22\n",
      "Epoch 9, 10% \t train_loss: 1.26 took: 0.49s\n",
      "Epoch 9, 20% \t train_loss: 1.27 took: 0.38s\n",
      "Epoch 9, 30% \t train_loss: 1.33 took: 0.40s\n",
      "Epoch 9, 40% \t train_loss: 1.28 took: 0.36s\n",
      "Epoch 9, 50% \t train_loss: 1.33 took: 0.36s\n",
      "Epoch 9, 61% \t train_loss: 1.22 took: 0.35s\n",
      "Epoch 9, 71% \t train_loss: 1.28 took: 0.35s\n",
      "Epoch 9, 81% \t train_loss: 1.26 took: 0.37s\n",
      "Epoch 9, 91% \t train_loss: 1.26 took: 0.35s\n",
      "Validation loss = 1.21\n",
      "Epoch 10, 10% \t train_loss: 1.21 took: 0.48s\n",
      "Epoch 10, 20% \t train_loss: 1.18 took: 0.36s\n",
      "Epoch 10, 30% \t train_loss: 1.25 took: 0.36s\n",
      "Epoch 10, 40% \t train_loss: 1.24 took: 0.33s\n",
      "Epoch 10, 50% \t train_loss: 1.22 took: 0.43s\n",
      "Epoch 10, 61% \t train_loss: 1.26 took: 0.37s\n",
      "Epoch 10, 71% \t train_loss: 1.18 took: 0.36s\n",
      "Epoch 10, 81% \t train_loss: 1.20 took: 0.35s\n",
      "Epoch 10, 91% \t train_loss: 1.24 took: 0.37s\n",
      "Validation loss = 1.20\n",
      "Epoch 11, 10% \t train_loss: 1.17 took: 0.46s\n",
      "Epoch 11, 20% \t train_loss: 1.19 took: 0.36s\n",
      "Epoch 11, 30% \t train_loss: 1.19 took: 0.33s\n",
      "Epoch 11, 40% \t train_loss: 1.13 took: 0.36s\n",
      "Epoch 11, 50% \t train_loss: 1.17 took: 0.37s\n",
      "Epoch 11, 61% \t train_loss: 1.17 took: 0.35s\n",
      "Epoch 11, 71% \t train_loss: 1.19 took: 0.38s\n",
      "Epoch 11, 81% \t train_loss: 1.21 took: 0.35s\n",
      "Epoch 11, 91% \t train_loss: 1.20 took: 0.36s\n",
      "Validation loss = 1.19\n",
      "Epoch 12, 10% \t train_loss: 1.17 took: 0.48s\n",
      "Epoch 12, 20% \t train_loss: 1.14 took: 0.36s\n",
      "Epoch 12, 30% \t train_loss: 1.12 took: 0.41s\n",
      "Epoch 12, 40% \t train_loss: 1.13 took: 0.38s\n",
      "Epoch 12, 50% \t train_loss: 1.16 took: 0.35s\n",
      "Epoch 12, 61% \t train_loss: 1.14 took: 0.39s\n",
      "Epoch 12, 71% \t train_loss: 1.17 took: 0.36s\n",
      "Epoch 12, 81% \t train_loss: 1.14 took: 0.35s\n",
      "Epoch 12, 91% \t train_loss: 1.18 took: 0.39s\n",
      "Validation loss = 1.15\n",
      "Epoch 13, 10% \t train_loss: 1.10 took: 0.46s\n",
      "Epoch 13, 20% \t train_loss: 1.13 took: 0.43s\n",
      "Epoch 13, 30% \t train_loss: 1.13 took: 0.38s\n",
      "Epoch 13, 40% \t train_loss: 1.11 took: 0.37s\n",
      "Epoch 13, 50% \t train_loss: 1.08 took: 0.37s\n",
      "Epoch 13, 61% \t train_loss: 1.10 took: 0.37s\n",
      "Epoch 13, 71% \t train_loss: 1.06 took: 0.38s\n",
      "Epoch 13, 81% \t train_loss: 1.09 took: 0.35s\n",
      "Epoch 13, 91% \t train_loss: 1.14 took: 0.38s\n",
      "Validation loss = 1.14\n",
      "Epoch 14, 10% \t train_loss: 1.12 took: 0.47s\n",
      "Epoch 14, 20% \t train_loss: 1.07 took: 0.37s\n",
      "Epoch 14, 30% \t train_loss: 1.06 took: 0.37s\n",
      "Epoch 14, 40% \t train_loss: 1.08 took: 0.38s\n",
      "Epoch 14, 50% \t train_loss: 1.06 took: 0.33s\n",
      "Epoch 14, 61% \t train_loss: 1.08 took: 0.39s\n",
      "Epoch 14, 71% \t train_loss: 1.06 took: 0.36s\n",
      "Epoch 14, 81% \t train_loss: 1.09 took: 0.36s\n",
      "Epoch 14, 91% \t train_loss: 1.07 took: 0.43s\n",
      "Validation loss = 1.14\n",
      "Epoch 15, 10% \t train_loss: 1.07 took: 0.43s\n",
      "Epoch 15, 20% \t train_loss: 1.08 took: 0.39s\n",
      "Epoch 15, 30% \t train_loss: 1.02 took: 0.36s\n",
      "Epoch 15, 40% \t train_loss: 1.04 took: 0.39s\n",
      "Epoch 15, 50% \t train_loss: 1.02 took: 0.36s\n",
      "Epoch 15, 61% \t train_loss: 1.04 took: 0.34s\n",
      "Epoch 15, 71% \t train_loss: 1.04 took: 0.37s\n",
      "Epoch 15, 81% \t train_loss: 1.03 took: 0.43s\n",
      "Epoch 15, 91% \t train_loss: 1.07 took: 0.35s\n",
      "Validation loss = 1.09\n",
      "Epoch 16, 10% \t train_loss: 1.02 took: 0.47s\n",
      "Epoch 16, 20% \t train_loss: 1.00 took: 0.34s\n",
      "Epoch 16, 30% \t train_loss: 0.99 took: 0.36s\n",
      "Epoch 16, 40% \t train_loss: 0.99 took: 0.38s\n",
      "Epoch 16, 50% \t train_loss: 0.97 took: 0.38s\n",
      "Epoch 16, 61% \t train_loss: 1.00 took: 0.34s\n",
      "Epoch 16, 71% \t train_loss: 1.06 took: 0.39s\n",
      "Epoch 16, 81% \t train_loss: 1.02 took: 0.38s\n",
      "Epoch 16, 91% \t train_loss: 1.06 took: 0.35s\n",
      "Validation loss = 1.09\n",
      "Epoch 17, 10% \t train_loss: 1.00 took: 0.45s\n",
      "Epoch 17, 20% \t train_loss: 0.99 took: 0.34s\n",
      "Epoch 17, 30% \t train_loss: 1.00 took: 0.37s\n",
      "Epoch 17, 40% \t train_loss: 0.98 took: 0.36s\n",
      "Epoch 17, 50% \t train_loss: 0.97 took: 0.35s\n",
      "Epoch 17, 61% \t train_loss: 1.02 took: 0.37s\n",
      "Epoch 17, 71% \t train_loss: 1.02 took: 0.36s\n",
      "Epoch 17, 81% \t train_loss: 1.00 took: 0.35s\n",
      "Epoch 17, 91% \t train_loss: 0.98 took: 0.35s\n",
      "Validation loss = 1.10\n",
      "Epoch 18, 10% \t train_loss: 0.95 took: 0.46s\n",
      "Epoch 18, 20% \t train_loss: 0.98 took: 0.37s\n",
      "Epoch 18, 30% \t train_loss: 0.99 took: 0.35s\n",
      "Epoch 18, 40% \t train_loss: 0.97 took: 0.35s\n",
      "Epoch 18, 50% \t train_loss: 0.92 took: 0.37s\n",
      "Epoch 18, 61% \t train_loss: 0.92 took: 0.37s\n",
      "Epoch 18, 71% \t train_loss: 0.97 took: 0.38s\n",
      "Epoch 18, 81% \t train_loss: 1.00 took: 0.35s\n",
      "Epoch 18, 91% \t train_loss: 0.96 took: 0.38s\n",
      "Validation loss = 1.08\n",
      "Epoch 19, 10% \t train_loss: 0.91 took: 0.47s\n",
      "Epoch 19, 20% \t train_loss: 0.95 took: 0.36s\n",
      "Epoch 19, 30% \t train_loss: 0.91 took: 0.35s\n",
      "Epoch 19, 40% \t train_loss: 0.92 took: 0.40s\n",
      "Epoch 19, 50% \t train_loss: 0.93 took: 0.42s\n",
      "Epoch 19, 61% \t train_loss: 0.97 took: 0.40s\n",
      "Epoch 19, 71% \t train_loss: 0.93 took: 0.40s\n",
      "Epoch 19, 81% \t train_loss: 0.95 took: 0.39s\n",
      "Epoch 19, 91% \t train_loss: 0.92 took: 0.41s\n",
      "Validation loss = 1.04\n",
      "Epoch 20, 10% \t train_loss: 0.92 took: 0.45s\n",
      "Epoch 20, 20% \t train_loss: 0.91 took: 0.33s\n",
      "Epoch 20, 30% \t train_loss: 0.90 took: 0.40s\n",
      "Epoch 20, 40% \t train_loss: 0.92 took: 0.36s\n",
      "Epoch 20, 50% \t train_loss: 0.91 took: 0.35s\n",
      "Epoch 20, 61% \t train_loss: 0.88 took: 0.37s\n",
      "Epoch 20, 71% \t train_loss: 0.94 took: 0.35s\n",
      "Epoch 20, 81% \t train_loss: 0.94 took: 0.39s\n",
      "Epoch 20, 91% \t train_loss: 0.90 took: 0.42s\n",
      "Validation loss = 1.06\n",
      "Epoch 21, 10% \t train_loss: 0.89 took: 0.45s\n",
      "Epoch 21, 20% \t train_loss: 0.85 took: 0.42s\n",
      "Epoch 21, 30% \t train_loss: 0.84 took: 0.41s\n",
      "Epoch 21, 40% \t train_loss: 0.88 took: 0.38s\n",
      "Epoch 21, 50% \t train_loss: 0.93 took: 0.40s\n",
      "Epoch 21, 61% \t train_loss: 0.83 took: 0.38s\n",
      "Epoch 21, 71% \t train_loss: 0.88 took: 0.39s\n",
      "Epoch 21, 81% \t train_loss: 0.89 took: 0.35s\n",
      "Epoch 21, 91% \t train_loss: 0.87 took: 0.36s\n",
      "Validation loss = 1.04\n",
      "Epoch 22, 10% \t train_loss: 0.84 took: 0.45s\n",
      "Epoch 22, 20% \t train_loss: 0.79 took: 0.40s\n",
      "Epoch 22, 30% \t train_loss: 0.87 took: 0.38s\n",
      "Epoch 22, 40% \t train_loss: 0.86 took: 0.38s\n",
      "Epoch 22, 50% \t train_loss: 0.93 took: 0.40s\n",
      "Epoch 22, 61% \t train_loss: 0.84 took: 0.37s\n",
      "Epoch 22, 71% \t train_loss: 0.85 took: 0.36s\n",
      "Epoch 22, 81% \t train_loss: 0.85 took: 0.39s\n",
      "Epoch 22, 91% \t train_loss: 0.86 took: 0.40s\n",
      "Validation loss = 1.03\n",
      "Epoch 23, 10% \t train_loss: 0.82 took: 0.45s\n",
      "Epoch 23, 20% \t train_loss: 0.83 took: 0.38s\n",
      "Epoch 23, 30% \t train_loss: 0.81 took: 0.35s\n",
      "Epoch 23, 40% \t train_loss: 0.85 took: 0.49s\n",
      "Epoch 23, 50% \t train_loss: 0.88 took: 0.36s\n",
      "Epoch 23, 61% \t train_loss: 0.83 took: 0.38s\n",
      "Epoch 23, 71% \t train_loss: 0.88 took: 0.36s\n",
      "Epoch 23, 81% \t train_loss: 0.86 took: 0.35s\n",
      "Epoch 23, 91% \t train_loss: 0.84 took: 0.35s\n",
      "Validation loss = 1.05\n",
      "Epoch 24, 10% \t train_loss: 0.83 took: 0.44s\n",
      "Epoch 24, 20% \t train_loss: 0.79 took: 0.37s\n",
      "Epoch 24, 30% \t train_loss: 0.83 took: 0.37s\n",
      "Epoch 24, 40% \t train_loss: 0.88 took: 0.36s\n",
      "Epoch 24, 50% \t train_loss: 0.81 took: 0.35s\n",
      "Epoch 24, 61% \t train_loss: 0.78 took: 0.37s\n",
      "Epoch 24, 71% \t train_loss: 0.82 took: 0.35s\n",
      "Epoch 24, 81% \t train_loss: 0.83 took: 0.37s\n",
      "Epoch 24, 91% \t train_loss: 0.79 took: 0.36s\n",
      "Validation loss = 1.03\n",
      "Epoch 25, 10% \t train_loss: 0.77 took: 0.46s\n",
      "Epoch 25, 20% \t train_loss: 0.76 took: 0.37s\n",
      "Epoch 25, 30% \t train_loss: 0.81 took: 0.35s\n",
      "Epoch 25, 40% \t train_loss: 0.78 took: 0.37s\n",
      "Epoch 25, 50% \t train_loss: 0.83 took: 0.36s\n",
      "Epoch 25, 61% \t train_loss: 0.82 took: 0.33s\n",
      "Epoch 25, 71% \t train_loss: 0.84 took: 0.38s\n",
      "Epoch 25, 81% \t train_loss: 0.81 took: 0.35s\n",
      "Epoch 25, 91% \t train_loss: 0.74 took: 0.37s\n",
      "Validation loss = 1.03\n",
      "Epoch 26, 10% \t train_loss: 0.77 took: 0.49s\n",
      "Epoch 26, 20% \t train_loss: 0.76 took: 0.36s\n",
      "Epoch 26, 30% \t train_loss: 0.74 took: 0.36s\n",
      "Epoch 26, 40% \t train_loss: 0.77 took: 0.37s\n",
      "Epoch 26, 50% \t train_loss: 0.77 took: 0.35s\n",
      "Epoch 26, 61% \t train_loss: 0.82 took: 0.35s\n",
      "Epoch 26, 71% \t train_loss: 0.76 took: 0.37s\n",
      "Epoch 26, 81% \t train_loss: 0.79 took: 0.36s\n",
      "Epoch 26, 91% \t train_loss: 0.81 took: 0.36s\n",
      "Validation loss = 1.05\n",
      "Epoch 27, 10% \t train_loss: 0.72 took: 0.49s\n",
      "Epoch 27, 20% \t train_loss: 0.77 took: 0.39s\n",
      "Epoch 27, 30% \t train_loss: 0.71 took: 0.36s\n",
      "Epoch 27, 40% \t train_loss: 0.75 took: 0.36s\n",
      "Epoch 27, 50% \t train_loss: 0.73 took: 0.35s\n",
      "Epoch 27, 61% \t train_loss: 0.74 took: 0.35s\n",
      "Epoch 27, 71% \t train_loss: 0.72 took: 0.37s\n",
      "Epoch 27, 81% \t train_loss: 0.80 took: 0.36s\n",
      "Epoch 27, 91% \t train_loss: 0.80 took: 0.41s\n",
      "Validation loss = 1.02\n",
      "Epoch 28, 10% \t train_loss: 0.78 took: 0.45s\n",
      "Epoch 28, 20% \t train_loss: 0.73 took: 0.38s\n",
      "Epoch 28, 30% \t train_loss: 0.75 took: 0.34s\n",
      "Epoch 28, 40% \t train_loss: 0.74 took: 0.35s\n",
      "Epoch 28, 50% \t train_loss: 0.70 took: 0.37s\n",
      "Epoch 28, 61% \t train_loss: 0.74 took: 0.36s\n",
      "Epoch 28, 71% \t train_loss: 0.75 took: 0.41s\n",
      "Epoch 28, 81% \t train_loss: 0.76 took: 0.41s\n",
      "Epoch 28, 91% \t train_loss: 0.72 took: 0.35s\n",
      "Validation loss = 1.03\n",
      "Epoch 29, 10% \t train_loss: 0.74 took: 0.46s\n",
      "Epoch 29, 20% \t train_loss: 0.69 took: 0.37s\n",
      "Epoch 29, 30% \t train_loss: 0.74 took: 0.34s\n",
      "Epoch 29, 40% \t train_loss: 0.68 took: 0.43s\n",
      "Epoch 29, 50% \t train_loss: 0.72 took: 0.39s\n",
      "Epoch 29, 61% \t train_loss: 0.71 took: 0.39s\n",
      "Epoch 29, 71% \t train_loss: 0.73 took: 0.39s\n",
      "Epoch 29, 81% \t train_loss: 0.73 took: 0.37s\n",
      "Epoch 29, 91% \t train_loss: 0.75 took: 0.37s\n",
      "Validation loss = 1.04\n",
      "Epoch 30, 10% \t train_loss: 0.74 took: 0.46s\n",
      "Epoch 30, 20% \t train_loss: 0.71 took: 0.37s\n",
      "Epoch 30, 30% \t train_loss: 0.70 took: 0.37s\n",
      "Epoch 30, 40% \t train_loss: 0.70 took: 0.40s\n",
      "Epoch 30, 50% \t train_loss: 0.72 took: 0.37s\n",
      "Epoch 30, 61% \t train_loss: 0.67 took: 0.38s\n",
      "Epoch 30, 71% \t train_loss: 0.70 took: 0.37s\n",
      "Epoch 30, 81% \t train_loss: 0.70 took: 0.35s\n",
      "Epoch 30, 91% \t train_loss: 0.68 took: 0.35s\n",
      "Validation loss = 1.04\n",
      "Epoch 31, 10% \t train_loss: 0.65 took: 0.46s\n",
      "Epoch 31, 20% \t train_loss: 0.70 took: 0.38s\n",
      "Epoch 31, 30% \t train_loss: 0.69 took: 0.38s\n",
      "Epoch 31, 40% \t train_loss: 0.65 took: 0.36s\n",
      "Epoch 31, 50% \t train_loss: 0.69 took: 0.36s\n",
      "Epoch 31, 61% \t train_loss: 0.70 took: 0.35s\n",
      "Epoch 31, 71% \t train_loss: 0.69 took: 0.37s\n",
      "Epoch 31, 81% \t train_loss: 0.66 took: 0.36s\n",
      "Epoch 31, 91% \t train_loss: 0.68 took: 0.37s\n",
      "Validation loss = 1.05\n",
      "Epoch 32, 10% \t train_loss: 0.64 took: 0.51s\n",
      "Epoch 32, 20% \t train_loss: 0.63 took: 0.36s\n",
      "Epoch 32, 30% \t train_loss: 0.62 took: 0.42s\n",
      "Epoch 32, 40% \t train_loss: 0.65 took: 0.39s\n",
      "Epoch 32, 50% \t train_loss: 0.68 took: 0.37s\n",
      "Epoch 32, 61% \t train_loss: 0.66 took: 0.35s\n",
      "Epoch 32, 71% \t train_loss: 0.66 took: 0.39s\n",
      "Epoch 32, 81% \t train_loss: 0.70 took: 0.35s\n",
      "Epoch 32, 91% \t train_loss: 0.69 took: 0.40s\n",
      "Validation loss = 1.04\n",
      "Epoch 33, 10% \t train_loss: 0.61 took: 0.45s\n",
      "Epoch 33, 20% \t train_loss: 0.63 took: 0.37s\n",
      "Epoch 33, 30% \t train_loss: 0.63 took: 0.34s\n",
      "Epoch 33, 40% \t train_loss: 0.63 took: 0.40s\n",
      "Epoch 33, 50% \t train_loss: 0.68 took: 0.36s\n",
      "Epoch 33, 61% \t train_loss: 0.68 took: 0.37s\n",
      "Epoch 33, 71% \t train_loss: 0.63 took: 0.35s\n",
      "Epoch 33, 81% \t train_loss: 0.62 took: 0.36s\n",
      "Epoch 33, 91% \t train_loss: 0.67 took: 0.36s\n",
      "Validation loss = 1.10\n",
      "Epoch 34, 10% \t train_loss: 0.63 took: 0.44s\n",
      "Epoch 34, 20% \t train_loss: 0.64 took: 0.43s\n",
      "Epoch 34, 30% \t train_loss: 0.62 took: 0.34s\n",
      "Epoch 34, 40% \t train_loss: 0.63 took: 0.36s\n",
      "Epoch 34, 50% \t train_loss: 0.69 took: 0.44s\n",
      "Epoch 34, 61% \t train_loss: 0.65 took: 0.37s\n",
      "Epoch 34, 71% \t train_loss: 0.65 took: 0.34s\n",
      "Epoch 34, 81% \t train_loss: 0.65 took: 0.37s\n",
      "Epoch 34, 91% \t train_loss: 0.61 took: 0.36s\n",
      "Validation loss = 1.13\n",
      "Epoch 35, 10% \t train_loss: 0.56 took: 0.53s\n",
      "Epoch 35, 20% \t train_loss: 0.61 took: 0.36s\n",
      "Epoch 35, 30% \t train_loss: 0.63 took: 0.37s\n",
      "Epoch 35, 40% \t train_loss: 0.63 took: 0.35s\n",
      "Epoch 35, 50% \t train_loss: 0.58 took: 0.36s\n",
      "Epoch 35, 61% \t train_loss: 0.66 took: 0.38s\n",
      "Epoch 35, 71% \t train_loss: 0.62 took: 0.37s\n",
      "Epoch 35, 81% \t train_loss: 0.64 took: 0.38s\n",
      "Epoch 35, 91% \t train_loss: 0.63 took: 0.40s\n",
      "Validation loss = 1.11\n",
      "Epoch 36, 10% \t train_loss: 0.58 took: 0.45s\n",
      "Epoch 36, 20% \t train_loss: 0.62 took: 0.39s\n",
      "Epoch 36, 30% \t train_loss: 0.60 took: 0.42s\n",
      "Epoch 36, 40% \t train_loss: 0.59 took: 0.42s\n",
      "Epoch 36, 50% \t train_loss: 0.61 took: 0.35s\n",
      "Epoch 36, 61% \t train_loss: 0.63 took: 0.36s\n",
      "Epoch 36, 71% \t train_loss: 0.60 took: 0.39s\n",
      "Epoch 36, 81% \t train_loss: 0.63 took: 0.35s\n",
      "Epoch 36, 91% \t train_loss: 0.62 took: 0.35s\n",
      "Validation loss = 1.08\n",
      "Epoch 37, 10% \t train_loss: 0.58 took: 0.49s\n",
      "Epoch 37, 20% \t train_loss: 0.60 took: 0.34s\n",
      "Epoch 37, 30% \t train_loss: 0.56 took: 0.34s\n",
      "Epoch 37, 40% \t train_loss: 0.57 took: 0.35s\n",
      "Epoch 37, 50% \t train_loss: 0.61 took: 0.36s\n",
      "Epoch 37, 61% \t train_loss: 0.59 took: 0.36s\n",
      "Epoch 37, 71% \t train_loss: 0.63 took: 0.36s\n",
      "Epoch 37, 81% \t train_loss: 0.58 took: 0.35s\n",
      "Epoch 37, 91% \t train_loss: 0.59 took: 0.37s\n",
      "Validation loss = 1.08\n",
      "Epoch 38, 10% \t train_loss: 0.54 took: 0.46s\n",
      "Epoch 38, 20% \t train_loss: 0.53 took: 0.37s\n",
      "Epoch 38, 30% \t train_loss: 0.53 took: 0.35s\n",
      "Epoch 38, 40% \t train_loss: 0.55 took: 0.36s\n",
      "Epoch 38, 50% \t train_loss: 0.60 took: 0.35s\n",
      "Epoch 38, 61% \t train_loss: 0.57 took: 0.37s\n",
      "Epoch 38, 71% \t train_loss: 0.58 took: 0.36s\n",
      "Epoch 38, 81% \t train_loss: 0.66 took: 0.38s\n",
      "Epoch 38, 91% \t train_loss: 0.57 took: 0.38s\n",
      "Validation loss = 1.09\n",
      "Epoch 39, 10% \t train_loss: 0.56 took: 0.48s\n",
      "Epoch 39, 20% \t train_loss: 0.56 took: 0.38s\n",
      "Epoch 39, 30% \t train_loss: 0.61 took: 0.37s\n",
      "Epoch 39, 40% \t train_loss: 0.57 took: 0.37s\n",
      "Epoch 39, 50% \t train_loss: 0.57 took: 0.38s\n",
      "Epoch 39, 61% \t train_loss: 0.54 took: 0.34s\n",
      "Epoch 39, 71% \t train_loss: 0.61 took: 0.35s\n",
      "Epoch 39, 81% \t train_loss: 0.60 took: 0.39s\n",
      "Epoch 39, 91% \t train_loss: 0.58 took: 0.36s\n",
      "Validation loss = 1.20\n",
      "Epoch 40, 10% \t train_loss: 0.55 took: 0.45s\n",
      "Epoch 40, 20% \t train_loss: 0.56 took: 0.39s\n",
      "Epoch 40, 30% \t train_loss: 0.54 took: 0.39s\n",
      "Epoch 40, 40% \t train_loss: 0.57 took: 0.34s\n",
      "Epoch 40, 50% \t train_loss: 0.57 took: 0.38s\n",
      "Epoch 40, 61% \t train_loss: 0.52 took: 0.36s\n",
      "Epoch 40, 71% \t train_loss: 0.55 took: 0.35s\n",
      "Epoch 40, 81% \t train_loss: 0.54 took: 0.42s\n",
      "Epoch 40, 91% \t train_loss: 0.58 took: 0.36s\n",
      "Validation loss = 1.13\n",
      "Training Finished, took 184.98s\n"
     ]
    }
   ],
   "source": [
    "net = MyConvolutionalNetwork()\n",
    "train_history, val_history = train(net, batch_size=128, n_epochs=40, learning_rate=0.001)"
   ]
  },
  {
   "cell_type": "markdown",
   "metadata": {
    "colab_type": "text",
    "id": "QG7oinsZUr-A"
   },
   "source": [
    "### Losses Plot"
   ]
  },
  {
   "cell_type": "code",
   "execution_count": 0,
   "metadata": {
    "colab": {
     "base_uri": "https://localhost:8080/",
     "height": 404
    },
    "colab_type": "code",
    "id": "6jfSyO7BUr-B",
    "outputId": "b1c91d90-43b4-4191-8e44-38ac5a9435df"
   },
   "outputs": [
    {
     "data": {
      "image/png": "[encoded data removed]",
      "text/plain": [
       "<Figure size 576x432 with 1 Axes>"
      ]
     },
     "metadata": {
      "tags": []
     },
     "output_type": "display_data"
    }
   ],
   "source": [
    "plot_losses(train_history, val_history)"
   ]
  },
  {
   "cell_type": "markdown",
   "metadata": {
    "colab_type": "text",
    "id": "4i1yFeR6Ur-D"
   },
   "source": [
    "### Accuracy of the trained model"
   ]
  },
  {
   "cell_type": "code",
   "execution_count": 0,
   "metadata": {
    "colab": {
     "base_uri": "https://localhost:8080/",
     "height": 68
    },
    "colab_type": "code",
    "id": "KM4kyQLjUr-E",
    "outputId": "9e60873a-4b6e-420f-e580-327dec6598d3"
   },
   "outputs": [
    {
     "name": "stdout",
     "output_type": "stream",
     "text": [
      "Accuracy of the network on the 20000 train images: 82.95 %\n",
      "Accuracy of the network on the 5000 validation images: 69.18 %\n",
      "Accuracy of the network on the 5000 test images: 68.84 %\n"
     ]
    }
   ],
   "source": [
    "compute_accuracy(net)"
   ]
  },
  {
   "cell_type": "markdown",
   "metadata": {
    "colab_type": "text",
    "id": "qcsSN0tnUr-G"
   },
   "source": [
    "**Baseline: Simple Convolutional Neural Network (form part II)**\n",
    "\n",
    "<table>\n",
    "<tr>\n",
    "    <td>Accuracy on the test set:</td>\n",
    "    <td>59.98 %</td>\n",
    "</tr>\n",
    "</table>"
   ]
  },
  {
   "cell_type": "code",
   "execution_count": 0,
   "metadata": {
    "colab": {},
    "colab_type": "code",
    "id": "mRtR0xd0Ur-H"
   },
   "outputs": [],
   "source": []
  },
  {
   "cell_type": "code",
   "execution_count": 0,
   "metadata": {
    "colab": {},
    "colab_type": "code",
    "id": "4d4_-z-dUr-J"
   },
   "outputs": [],
   "source": []
  },
  {
   "cell_type": "code",
   "execution_count": 0,
   "metadata": {
    "colab": {
     "base_uri": "https://localhost:8080/",
     "height": 204
    },
    "colab_type": "code",
    "id": "i86jw--bUr-M",
    "outputId": "4ec1b84d-e034-49ff-8f28-15630f2bb0d4"
   },
   "outputs": [
    {
     "name": "stdout",
     "output_type": "stream",
     "text": [
      "Class      Accuracy (%)\n",
      "plane        70.49   \n",
      "car          87.52   \n",
      "bird         46.68   \n",
      "cat          54.33   \n",
      "deer         58.78   \n",
      "dog          60.04   \n",
      "frog         71.49   \n",
      "horse        76.77   \n",
      "ship         84.13   \n",
      "truck        78.17   \n"
     ]
    }
   ],
   "source": [
    "confusion_matrix = accuracy_per_class(net)"
   ]
  },
  {
   "cell_type": "code",
   "execution_count": 0,
   "metadata": {
    "colab": {
     "base_uri": "https://localhost:8080/",
     "height": 585
    },
    "colab_type": "code",
    "id": "506pQnQnUr-O",
    "outputId": "e87a38b5-6efe-4204-9e86-25a1bec80808"
   },
   "outputs": [
    {
     "data": {
      "image/png": "[encoded data removed]",
      "text/plain": [
       "<Figure size 576x576 with 2 Axes>"
      ]
     },
     "metadata": {
      "tags": []
     },
     "output_type": "display_data"
    }
   ],
   "source": [
    "plot_confusion_matrix(confusion_matrix, classes,\n",
    "                      title='Confusion matrix, without normalization')"
   ]
  },
  {
   "cell_type": "markdown",
   "metadata": {
    "colab_type": "text",
    "id": "7xzIkZqit2IA"
   },
   "source": [
    "### Going further\n",
    "\n",
    "- [Coursera Course on CNN](https://www.coursera.org/learn/convolutional-neural-networks)\n",
    "- [Standford Course](http://cs231n.stanford.edu/syllabus.html)\n",
    "- [PyTorch Tutorial](http://pytorch.org/tutorials/beginner/blitz/cifar10_tutorial.html)\n",
    "\n",
    "\n",
    "Note: This tutorial is based on the [original pytorch tutorial](https://pytorch.org/tutorials/beginner/blitz/cifar10_tutorial.html) and was adapted by [Antonin Raffin](http://araffin.github.io/) for the ROB313 course at ENSTA"
   ]
  }
 ],
 "metadata": {
  "accelerator": "GPU",
  "colab": {
   "collapsed_sections": [
    "YAz-fhRRdFaR"
   ],
   "name": "PyTorch_cifar10_tutorial_AIC_2019_Lab2_RobindeGroot.ipynb",
   "provenance": []
  },
  "kernelspec": {
   "display_name": "Python 3",
   "language": "python",
   "name": "python3"
  },
  "language_info": {
   "codemirror_mode": {
    "name": "ipython",
    "version": 3
   },
   "file_extension": ".py",
   "mimetype": "text/x-python",
   "name": "python",
   "nbconvert_exporter": "python",
   "pygments_lexer": "ipython3",
   "version": "3.7.6"
  }
 },
 "nbformat": 4,
 "nbformat_minor": 1
}
